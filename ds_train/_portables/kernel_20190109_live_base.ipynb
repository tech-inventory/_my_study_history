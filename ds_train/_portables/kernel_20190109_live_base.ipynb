{
  "cells": [
    {
      "metadata": {
        "toc": true,
        "_uuid": "5bc9b221d1b100ce002f5bfd841c7644af7b8947"
      },
      "cell_type": "markdown",
      "source": "<h1>Table of Contents<span class=\"tocSkip\"></span></h1>\n<div class=\"toc\"><ul class=\"toc-item\"><li><span><a href=\"#作戦メモ\" data-toc-modified-id=\"作戦メモ-1\"><span class=\"toc-item-num\">1&nbsp;&nbsp;</span>作戦メモ</a></span></li><li><span><a href=\"#前処理\" data-toc-modified-id=\"前処理-2\"><span class=\"toc-item-num\">2&nbsp;&nbsp;</span>前処理</a></span></li><li><span><a href=\"#優秀なトレーニング期間の探索\" data-toc-modified-id=\"優秀なトレーニング期間の探索-3\"><span class=\"toc-item-num\">3&nbsp;&nbsp;</span>優秀なトレーニング期間の探索</a></span></li></ul></div>"
    },
    {
      "metadata": {
        "_uuid": "56d7f23bcd35ff0b5f87809010687e27a9cac1b9"
      },
      "cell_type": "markdown",
      "source": "# 作戦メモ\nトレーニング期間を変えながら、性能が良いモデルを構築できる期間を探し出す。  \nそして、それらの期間ごとにモデルを構築し、最後にアンサンブルする。  \n\nこのノートブックは作戦探索用である。\n提出用ノートブックは別に用意すべし。"
    },
    {
      "metadata": {
        "_cell_guid": "b1076dfc-b9ad-4769-8c92-a6c4dae69d19",
        "_uuid": "8f2839f25d086af736a60e9eeb907d3b93b6e0e5",
        "trusted": true
      },
      "cell_type": "code",
      "source": "import numpy as np\nimport lightgbm as lgb\nimport pandas as pd\nfrom kaggle.competitions import twosigmanews\nimport matplotlib.pyplot as plt\nimport random\nfrom datetime import datetime, date\nfrom xgboost import XGBClassifier\nfrom sklearn import model_selection\nfrom sklearn.metrics import mean_squared_error\nimport time\nfrom joblib import Parallel, delayed\nfrom tqdm import tqdm\nfrom dateutil.parser import parse\nimport gc\n\nimport datetime\nfrom dateutil.relativedelta import relativedelta\nfrom IPython import embed",
      "execution_count": null,
      "outputs": []
    },
    {
      "metadata": {
        "_cell_guid": "79c7e3d0-c299-4dcb-8224-4455121ee9b0",
        "_uuid": "d629ff2d2480ee46fbb7e2d37f6b5fab8052498a",
        "trusted": true
      },
      "cell_type": "code",
      "source": "#データ取得コマンド\nfrom kaggle.competitions import twosigmanews\nenv = twosigmanews.make_env()\nprint('Done!')",
      "execution_count": null,
      "outputs": []
    },
    {
      "metadata": {
        "_uuid": "4ff149df14250f7e68cbde3e3c9f44fdd6956a0f",
        "trusted": true
      },
      "cell_type": "code",
      "source": "market_train_df = env._var07\nnews_train_df = env._var10",
      "execution_count": null,
      "outputs": []
    },
    {
      "metadata": {
        "_uuid": "c1218aa42eaa9785e0bfc223a94458e84bc497e6",
        "trusted": true
      },
      "cell_type": "code",
      "source": "config_model = {\"n_lag\":[3,7,14], # 時系列特徴量計算の周期リスト\n                \n                # 時系列特徴量計算のリスト\n                \"return_features\" : ['returnsClosePrevMktres10','returnsClosePrevRaw10','open','close'],\n                \n                \"validation_term\" : ['2017-01-01', '2018-12-31'],\n                \n                \"model_params\": [{ # パラメータ１\n                                    'task': 'train',\n                                    'boosting_type': 'gbdt',\n                                    'objective': 'binary',\n                                    'learning_rate': 0.05,\n                                    'num_leaves': 2400,\n                                    'min_data_in_leaf': 150,\n                                    'num_iteration': 1000,\n                                    'max_bin': 200,\n                                    'verbose': 1,\n                                    'metric' : 'None'  # カスタム評価関数のみ使う\n                                },\n                                { # パラメータ２\n                                    'task': 'train',\n                                    'boosting_type': 'gbdt',\n                                    'objective': 'binary',\n                                    'learning_rate': 0.048,\n                                    'num_leaves': 2300,\n                                    'min_data_in_leaf': 150,\n                                    'num_iteration': 1000,\n                                    'max_bin': 200,\n                                    'verbose': 1,\n                                    'metric' : 'None'  # カスタム評価関数のみ使う\n                                }]\n               }\n",
      "execution_count": null,
      "outputs": []
    },
    {
      "metadata": {
        "_uuid": "fc010cb11bf68ff3120e84d53066cbf7758dd708"
      },
      "cell_type": "markdown",
      "source": "# 前処理"
    },
    {
      "metadata": {
        "_uuid": "404f9729417c7d54ea31fc693e8a9d6907be1453",
        "trusted": true
      },
      "cell_type": "code",
      "source": "market_train_df['time'] = market_train_df['time'].dt.date",
      "execution_count": null,
      "outputs": []
    },
    {
      "metadata": {
        "_uuid": "06db696df59db8381b4518124a95ddf6c3a18941",
        "trusted": true
      },
      "cell_type": "code",
      "source": "def create_lag(df_code,n_lag, return_features):\n\n    #df_codeの資産コードを重複なしでcodeに入れる\n    code = df_code['assetCode'].unique()\n    \n    # データフレーム高速生成のための辞書\n    _dict_for_df = {\"time\": df_code[\"time\"].values,\n                    \"assetCode\": df_code[\"assetCode\"].values}\n    shift_size = 1\n    for col in return_features:\n        for window in n_lag:\n            rolled = df_code[col].shift(shift_size).rolling(window=window)\n            #移動平均の平均\n            lag_mean = rolled.mean()\n            #最大値\n            lag_max = rolled.max()\n            #最小値\n            lag_min = rolled.min()\n            #標準偏差\n            lag_std = rolled.std()\n            #colの値_lag_windowの値_meanのカラム名でdf_codeに格納される\n            _dict_for_df['%s_lag_%s_mean'%(col,window)] = lag_mean\n            _dict_for_df['%s_lag_%s_max'%(col,window)] = lag_max\n            _dict_for_df['%s_lag_%s_min'%(col,window)] = lag_min\n    df_result = pd.DataFrame.from_dict(_dict_for_df)\n    del df_code\n    return df_result.fillna(-1)\n\n\ndef generate_lag_features(df,n_lag, return_features):\n    all_df = Parallel(n_jobs=-1)(tqdm([delayed(create_lag)(_df, n_lag, return_features) for _code, _df in df.groupby('assetCode')]))\n    new_df = pd.concat(all_df)\n    del df\n    gc.collect()\n    return new_df\n\ndef data_prep(market_train):\n    lbl = {k: v for v, k in enumerate(market_train['assetCode'].unique())}\n    market_train['assetCodeT'] = market_train['assetCode'].map(lbl)\n    market_train = market_train.dropna(axis=0)\n    return market_train\n\ndef mis_impute(data):\n    #カラムを一つずつ引っ張ってくる\n    for i in data.columns:\n        #型が文字列なら空値をotherに置き換え\n        if data[i].dtype == \"object\":\n            data[i] = data[i].fillna(\"other\")\n        #型が数字なら空値は平均値に置き換え\n        elif (data[i].dtype == \"int64\" or data[i].dtype == \"float64\"):\n            data[i] = data[i].fillna(data[i].mean())\n        else:\n            pass\n    return data\n\ndef get_feature_cols(df):\n    \"\"\"\n    特徴量とするカラムを取得する。\n    \"\"\"\n    fcol = [c for c in df.columns if c not in ['assetCode', 'assetCodes', 'assetCodesLen', 'assetName', 'audiences', \n                                             'firstCreated', 'headline', 'headlineTag', 'marketCommentary', 'time_x','provider', \n                                             'returnsOpenNextMktres10', 'sourceId', 'subjects', 'time', 'universe','sourceTimestamp']]\n    return fcol",
      "execution_count": null,
      "outputs": []
    },
    {
      "metadata": {
        "_uuid": "34630df14f3e514becabd95623fa2456c48f7759",
        "trusted": true
      },
      "cell_type": "code",
      "source": "new_df = generate_lag_features(market_train_df,\n                               n_lag=config_model['n_lag'], \n                               return_features=config_model['return_features'])\nmarket_train_df = pd.merge(market_train_df,new_df,how='left',on=['time','assetCode'], copy=False)\nmarket_train_df = mis_impute(market_train_df)\nmarket_train_df = data_prep(market_train_df)\n\n#up = market_train_df['returnsOpenNextMktres10'] >= 0\n\n#universe(これが１以外は訓練データとして使えない)の値をuniverse変数に放り込む\n#でもなんで値？\n#universe = market_train_df['universe'].values\n",
      "execution_count": null,
      "outputs": []
    },
    {
      "metadata": {
        "_uuid": "1e137f7cfbc4794aea86b4e12072e9eb63e6bd53",
        "trusted": true
      },
      "cell_type": "code",
      "source": "# メモリ節約\nfor _ in market_train_df.columns:\n    if market_train_df[_].dtype == np.float64:\n        market_train_df[_] = market_train_df[_].astype(np.float32)\ngc.collect()",
      "execution_count": null,
      "outputs": []
    },
    {
      "metadata": {
        "_uuid": "87bdf700ac0c383d9a9065c1f4c4ec439a8f86c2"
      },
      "cell_type": "markdown",
      "source": "# 優秀なトレーニング期間の探索\n学習期間をスライドさせながら、バリデーション期間における性能を測定し、記録する。  \nそして、優秀な性能を誇る期間をリストアップする。"
    },
    {
      "metadata": {
        "_uuid": "302a5d2900f6c1b5a64d957a736247f068b6c426",
        "trusted": true
      },
      "cell_type": "code",
      "source": "# 各学習期間の性能測定結果を記録する。\n# 各要素は、以下を記録する。\n# \"term\":学習期間, \"sigma_score\":スコア, \"post_process_param\": ポストプロセスパラメータ(シグモイド係数)\nperformance_records = []\n\n# 特徴量カラム\nfeature_cols = get_feature_cols(market_train_df)\n\n# インデックス情報\nidx_validate = market_train_df[(market_train_df['time'] >= parse(config_model['validation_term'][0]).date())\n                               & (market_train_df['time'] <= parse(config_model['validation_term'][1]).date())].index",
      "execution_count": null,
      "outputs": []
    },
    {
      "metadata": {
        "_uuid": "5cf7df4013bae904d9eae00d96da6e345ae254bb",
        "trusted": true
      },
      "cell_type": "code",
      "source": "# バリデーションデータの用意\nX_valid = market_train_df.loc[idx_validate][feature_cols].values\nup_valid = market_train_df.loc[idx_validate]['returnsOpenNextMktres10'] > 0\nvalidation_data = lgb.Dataset(X_valid, label=up_valid.astype(int),free_raw_data=False,\n                             params={\"return\":market_train_df.loc[idx_validate]['returnsOpenNextMktres10'].values, \n                                     \"time\":market_train_df.loc[idx_validate]['time'].values,\n                                     \"universe\": market_train_df.loc[idx_validate]['universe'].values})\ngc.collect()",
      "execution_count": null,
      "outputs": []
    },
    {
      "metadata": {
        "_uuid": "6acf4e49b6675f81f83718455c7104c747f880ed",
        "trusted": true
      },
      "cell_type": "code",
      "source": "pos_training_start = parse('2012-01-01')\ntraining_term_range = relativedelta(months=12)  # 学習期間は1年間\ntraining_term_step = relativedelta(weeks=2)\ngc.collect()",
      "execution_count": null,
      "outputs": []
    },
    {
      "metadata": {
        "_uuid": "5d7d29a5b137c8ee4f93b9dcd9c05c6de24d70c5",
        "trusted": true
      },
      "cell_type": "code",
      "source": "def get_training_data(market_train_df, idx_training, feature_cols):\n    \"\"\"\n    トレーニングデータを取得する\n    \"\"\"\n    return ( market_train_df.loc[idx_training][feature_cols].values,   # X_train\n             market_train_df.loc[idx_training]['returnsOpenNextMktres10'] > 0, # up_train\n           )\n\ndef eval_sigma_score(preds, valid_set):\n    \"\"\"\n    予測とバリデーションセットを受け取り、sigma_scoreを計算する。\n    \"\"\"\n    _df_valid = pd.DataFrame.from_dict({\"time\":valid_set.params['time'],\n                                       \"x_t_i\": (2 * preds - 1) * valid_set.params['universe'] * valid_set.params['return']})\n    x_t = _df_valid.groupby(\"time\").agg({\"x_t_i\":\"sum\"}).values.flatten()\n    #embed()\n    _mean = x_t.mean()\n    _std = x_t.std()\n    return ('sigma_score', np.float32(_mean/_std), True)\n\ndef build_models(model_params, train_data, validation_data):\n    \"\"\"\n    トレーニングデータとバリデーションデータを受け取り、モデルを構築する。\n    \"\"\"\n    models = []\n    #global config_model\n    for _param in model_params:\n        _evals_result = {}\n        _model = lgb.train(_param, train_data,\n                          num_boost_round=200,\n                          valid_sets=validation_data,\n                          early_stopping_rounds=10,\n                          feval=eval_sigma_score,\n                          evals_result=_evals_result)\n        # 最適ブースティング情報を得る\n        _best_boosting_round = _model.best_iteration\n        _best_sigma_score = np.max(_evals_result['valid_0']['sigma_score'])\n        models.append([_model, _best_boosting_round, _best_sigma_score, _evals_result])\n    return models",
      "execution_count": null,
      "outputs": []
    },
    {
      "metadata": {
        "_uuid": "fb17f0ea95f050dc5681452023b00eed540c4b85",
        "trusted": true
      },
      "cell_type": "code",
      "source": "while pos_training_start + training_term_range < parse(config_model['validation_term'][0]):\n    # 探索処理\n    _training_term = [pos_training_start.date(), (pos_training_start + training_term_range).date()]\n    print(\"[Training Term] {} - {}\".format(_training_term[0], _training_term[1]))\n    \n    _idx_training = market_train_df[(market_train_df['time'] >= _training_term[0])\n                                    & (market_train_df['time'] <= _training_term[1])].index\n    _X_train, _up_train = get_training_data(market_train_df, _idx_training, feature_cols)\n    _train_data = lgb.Dataset(_X_train, label=_up_train.astype(int), free_raw_data=False)\n    performance_records.append({\"training_term\":_training_term,\n                                \"results\": build_models(model_params=config_model['model_params'], train_data=_train_data, validation_data=validation_data)})\n    \n    # サマリを表示\n    _latest = performance_records[-1]\n    print(\"=\" * 80)\n    print(\"[Training term] {} - {}\".format(_latest['training_term'][0], _latest['training_term'][1]))\n    for _r in _latest['results']:\n        print(\"Best Sigma Score: {} / boost_rounds = {}\".format(_r[2], _r[1]))\n    print(\"=\" * 80)\n    \n    pos_training_start = pos_training_start + training_term_step\n    ",
      "execution_count": null,
      "outputs": []
    },
    {
      "metadata": {
        "trusted": true,
        "_uuid": "9704dd781a50dd215768bd870cf9e1f1ffc262f4"
      },
      "cell_type": "code",
      "source": "ranking_records = sorted(performance_records, key=lambda x:x['results'][0][2], reverse=True)\nfor _r in ranking_records:\n    print(\"=\" * 80)\n    print(\"[Training term] {} - {}\".format(_r['training_term'][0], _r['training_term'][1]))\n    for _i in _r['results']:\n        print(\"Best Sigma Score: {} / boost_rounds = {}\".format(_i[2], _i[1]))\n    print(\"=\" * 80)\n",
      "execution_count": null,
      "outputs": []
    },
    {
      "metadata": {
        "_uuid": "e141a06f5542e29a72afa8b7cd98fc8eff00bd26"
      },
      "cell_type": "markdown",
      "source": "# アンサンブルモデル構築\nアンサンブルを構成する各モデルの設定を定義する。  \n各アンサンブルモデルを構築したら、ポストプロセスのパラメータもチューニングする。  \nその上で、最後にアンサンブルをして、さらにポストプロセスのパラメータもチューニングする。"
    },
    {
      "metadata": {
        "trusted": true,
        "_uuid": "e828f4cec149e51a88c06be6f62d77cb2e0d5ae9"
      },
      "cell_type": "code",
      "source": "# アンサンブルモデル定義\nensemble_model_config = [\n{\"training_term\":['2012-01-15', '2013-01-15'],\n \"boost_rounds\":[9,15]\n #Best Sigma Score: 0.7019810080528259 / boost_rounds = 9\n #Best Sigma Score: 0.7038402557373047 / boost_rounds = 15\n},\n\n{\"training_term\":['2012-01-29', '2013-01-29'],\n \"boost_rounds\":[37,6]\n #Best Sigma Score: 0.7007758021354675 / boost_rounds = 37\n #Best Sigma Score: 0.6739314198493958 / boost_rounds = 6\n},\n\n{\"training_term\":['2012-01-01', '2013-01-01'],\n \"boost_rounds\": [30,51]\n #Best Sigma Score: 0.6985230445861816 / boost_rounds = 30\n #Best Sigma Score: 0.7033873200416565 / boost_rounds = 51\n},\n\n{\"training_term\":['2012-02-26', '2013-02-26'],\n \"boost_rounds\":[8,6]\n #Best Sigma Score: 0.6970338225364685 / boost_rounds = 8\n #Best Sigma Score: 0.6925708055496216 / boost_rounds = 6\n},\n\n{\"training_term\":['2012-04-08', '2013-04-08'],\n \"boost_rounds\": [11,6]\n #Best Sigma Score: 0.6931887865066528 / boost_rounds = 11\n #Best Sigma Score: 0.6818544268608093 / boost_rounds = 6\n},\n\n{\"training_term\":['2012-03-25', '2013-03-25'],\n \"boost_rounds\":[10,11]\n # Best Sigma Score: 0.6783953309059143 / boost_rounds = 10\n # Best Sigma Score: 0.6836061477661133 / boost_rounds = 11\n},\n\n{\"training_term\": ['2012-03-11', '2013-03-11'],\n \"boost_rounds\": [9,9]\n #Best Sigma Score: 0.6657338738441467 / boost_rounds = 9\n #Best Sigma Score: 0.6603593230247498 / boost_rounds = 9\n},\n\n{\"training_term\": ['2012-04-22', '2013-04-22'],\n \"boost_rounds\": [11,18]\n #Best Sigma Score: 0.6643645167350769 / boost_rounds = 11\n #Best Sigma Score: 0.6672964096069336 / boost_rounds = 18\n},\n\n{\"training_term\": ['2015-09-20', '2016-09-20'],\n \"boost_rounds\": [34,17]\n #Best Sigma Score: 0.6615551710128784 / boost_rounds = 34\n #Best Sigma Score: 0.6718968152999878 / boost_rounds = 17\n},\n\n{\"training_term\": ['2012-05-06', '2013-05-06'],\n \"boost_rounds\": [17,35]\n #Best Sigma Score: 0.6613066792488098 / boost_rounds = 17\n #Best Sigma Score: 0.6757410764694214 / boost_rounds = 35\n},\n\n{\"training_term\": ['2012-12-16', '2013-12-16'],\n \"boost_rounds\":[8,11]\n #Best Sigma Score: 0.6613001823425293 / boost_rounds = 8\n #Best Sigma Score: 0.6535777449607849 / boost_rounds = 11\n},\n\n{\"training_term\": ['2012-05-20', '2013-05-20'],\n \"boost_rounds\" : [11,11]\n #Best Sigma Score: 0.6609295606613159 / boost_rounds = 11\n #Best Sigma Score: 0.6650127172470093 / boost_rounds = 11\n},\n\n{\"training_term\": ['2012-06-03', '2013-06-03'],\n \"boost_rounds\": [24, 17]\n #Best Sigma Score: 0.6582465171813965 / boost_rounds = 24\n #Best Sigma Score: 0.6538072824478149 / boost_rounds = 17\n},\n\n{\"training_term\": ['2012-12-30', '2013-12-30'],\n \"boost_rounds\":[5,5]\n #Best Sigma Score: 0.6574293971061707 / boost_rounds = 5\n #Best Sigma Score: 0.654277503490448 / boost_rounds = 5\n},\n\n{\"training_term\": ['2012-07-01', '2013-07-01'],\n \"boost_rounds\":[19,14]\n #Best Sigma Score: 0.6573091149330139 / boost_rounds = 19\n #Best Sigma Score: 0.6588096022605896 / boost_rounds = 14\n},\n\n{\"training_term\" : ['2012-02-12', '2013-02-12'],\n \"boost_rounds\":[14,13]\n #Best Sigma Score: 0.6557199954986572 / boost_rounds = 14\n #Best Sigma Score: 0.666266918182373 / boost_rounds = 13\n},\n\n{\"training_term\": ['2012-06-17', '2013-06-17'],\n \"boost_rounds\":[10,12]\n #Best Sigma Score: 0.6555286645889282 / boost_rounds = 10\n #Best Sigma Score: 0.6548465490341187 / boost_rounds = 12\n}\n]",
      "execution_count": null,
      "outputs": []
    },
    {
      "metadata": {
        "trusted": true,
        "_uuid": "ca134ccf06b4f9a1eda864d8c43a3c9fe38db0a7"
      },
      "cell_type": "code",
      "source": "def build_models_without_validation(model_params, train_data, boost_rounds):\n    \"\"\"\n    トレーニングデータとブースト回数を指定してモデルを構築する。\n    \"\"\"\n    models = []\n    #global config_model\n    for _param, _boost_round in zip(model_params, boost_rounds):\n        print(\"building model...\")\n        # 注意！ ブースティング回数はデフォルト状態では1000回になっている！\n        _param['num_iteration'] = _boost_round\n        _model = lgb.train(_param, train_data,\n                          num_boost_round=_boost_round)\n        models.append(_model)\n        print(\"model was built.\")\n    return models",
      "execution_count": null,
      "outputs": []
    },
    {
      "metadata": {
        "trusted": true,
        "_uuid": "497b79f35594ce78f7e4d5857073000fb44a7c5a"
      },
      "cell_type": "code",
      "source": "# モデルを格納する\nmodel_house = []\nfor _config in ensemble_model_config:\n    _idx_training = market_train_df[(market_train_df['time'] >= parse(_config['training_term'][0]).date())\n                                    & (market_train_df['time'] <= parse(_config['training_term'][1]).date())].index\n    _X_train, _up_train = get_training_data(market_train_df, _idx_training, feature_cols)\n    _train_data = lgb.Dataset(_X_train, label=_up_train.astype(int), free_raw_data=False)\n    _models = build_models_without_validation(model_params=config_model['model_params'], \n                                              train_data=_train_data,\n                                              boost_rounds=_config['boost_rounds'])\n    for _each_model in _models:\n        model_house.append({\"model\":_each_model, \"post_process_config\":{}})",
      "execution_count": null,
      "outputs": []
    },
    {
      "metadata": {
        "_uuid": "ce63f7e9e18a9521bf8f56f8c1edfa7a5414b1c2"
      },
      "cell_type": "markdown",
      "source": "# アンサンブルモデルの検証"
    },
    {
      "metadata": {
        "trusted": true,
        "scrolled": true,
        "_uuid": "62aba854001fac3017401f8901567c507cde4dcb"
      },
      "cell_type": "code",
      "source": "preds = []\nfor _each_model in model_house:\n    print(\"predicting ...\")\n    preds.append(_each_model['model'].predict(X_valid))\n",
      "execution_count": 36,
      "outputs": [
        {
          "output_type": "stream",
          "text": "predicting ...\npredicting ...\npredicting ...\npredicting ...\npredicting ...\npredicting ...\npredicting ...\npredicting ...\npredicting ...\npredicting ...\npredicting ...\npredicting ...\npredicting ...\npredicting ...\npredicting ...\npredicting ...\npredicting ...\npredicting ...\npredicting ...\npredicting ...\npredicting ...\npredicting ...\npredicting ...\npredicting ...\npredicting ...\npredicting ...\npredicting ...\npredicting ...\npredicting ...\npredicting ...\npredicting ...\npredicting ...\npredicting ...\npredicting ...\n",
          "name": "stdout"
        }
      ]
    },
    {
      "metadata": {
        "trusted": true,
        "_uuid": "cb30af3dbd547e9806d710cccd9b076a251f4756"
      },
      "cell_type": "code",
      "source": "# 上位スコアのものに限定すると...\ntotal_preds = None\nselected_preds = preds[0:5]\nfor _preds in selected_preds:\n    if total_preds is None:\n        total_preds = _preds.copy()\n    else:\n        total_preds += _preds\n\n# 確信度\nconfidence = 2 * (total_preds/len(selected_preds)) - 1",
      "execution_count": 48,
      "outputs": []
    },
    {
      "metadata": {
        "trusted": true,
        "_uuid": "26d7a0f96f236f35b8bd4274844264d79c70a6cd"
      },
      "cell_type": "code",
      "source": "confidence",
      "execution_count": 49,
      "outputs": [
        {
          "output_type": "execute_result",
          "execution_count": 49,
          "data": {
            "text/plain": "array([-0.0574971 , -0.08385243,  0.02016097, ..., -0.03674141,\n        0.12124093,  0.21156686])"
          },
          "metadata": {}
        }
      ]
    },
    {
      "metadata": {
        "trusted": true,
        "_uuid": "89ad99b66c0d989ef98db379b937b1278705b355"
      },
      "cell_type": "code",
      "source": "r_test = validation_data.params['return']\nx_t_i = confidence * validation_data.params['return'] * validation_data.params['universe']\ndata = {'day' : validation_data.params['time'], 'x_t_i' : x_t_i}\ndf = pd.DataFrame(data)\nx_t = df.groupby('day').sum().values.flatten()\nmean = np.mean(x_t)\nstd = np.std(x_t)\nscore_test = mean / std\nprint(score_test)",
      "execution_count": 50,
      "outputs": [
        {
          "output_type": "stream",
          "text": "0.7057063598432859\n",
          "name": "stdout"
        }
      ]
    },
    {
      "metadata": {
        "_uuid": "29b3b3678419929c530be58d5f3e57d09aea55b7"
      },
      "cell_type": "markdown",
      "source": "# sigmoid 処理による性能改善\n## アンサンブル結果全体に対するSigmoid処理の調整結果\nこんな感じ。\n```\n[post-process][sigmoid:400] sig_score=0.7250044728795221\n[post-process][sigmoid:401] sig_score=0.7250023385705368\n[post-process][sigmoid:402] sig_score=0.7250001930146031\n\n```\n\n## 上位10位だけに絞ると\n素の状態で *0.70747* とかになるが、sigmoid処理をしてもブーストしない。\n\n## 上位20位\n```\n[post-process][sigmoid:131] sig_score=0.7273554168453827\n```"
    },
    {
      "metadata": {
        "trusted": true,
        "_uuid": "447008cef2712710131915813ca56f14d7dd25fe"
      },
      "cell_type": "code",
      "source": "preds[0]",
      "execution_count": 37,
      "outputs": [
        {
          "output_type": "execute_result",
          "execution_count": 37,
          "data": {
            "text/plain": "array([0.50327757, 0.48918938, 0.50527056, ..., 0.51525407, 0.5245747 ,\n       0.55407184])"
          },
          "metadata": {}
        }
      ]
    },
    {
      "metadata": {
        "trusted": true,
        "_uuid": "84c5a27e378606e36c58115b93057d954a45396b"
      },
      "cell_type": "code",
      "source": "for _sig_coeff in range(1000,10000,500):\n    confidence_sig = (2/(1 + np.exp(-1*_sig_coeff * confidence))-1.0)\n    x_t_i = confidence_sig * validation_data.params['return'] * validation_data.params['universe']\n    data = {'day' : validation_data.params['time'], 'x_t_i' : x_t_i}\n    df = pd.DataFrame(data)\n    x_t = df.groupby('day').sum().values.flatten()\n    mean = np.mean(x_t)\n    std = np.std(x_t)\n    score_test = mean / std\n    print(\"[post-process][sigmoid:{}] sig_score={}\".format(_sig_coeff, score_test))\n",
      "execution_count": null,
      "outputs": []
    },
    {
      "metadata": {
        "trusted": true,
        "_uuid": "2b01c4657deeec399f1380617c7fc7cc2b04c741"
      },
      "cell_type": "code",
      "source": "# 各アンサンブルモデルに対する調整\nfor _pos in range(len(preds)):\n    print(\"=\"*80)\n    _each_preds = preds[_pos]\n    _confidence = _each_preds * 2 - 1.0\n    for _sig_coeff in range(1,1000):\n        confidence_sig = (2/(1 + np.exp(-1*_sig_coeff * _confidence))-1.0)\n        x_t_i = confidence_sig * validation_data.params['return'] * validation_data.params['universe']\n        data = {'day' : validation_data.params['time'], 'x_t_i' : x_t_i}\n        df = pd.DataFrame(data)\n        x_t = df.groupby('day').sum().values.flatten()\n        mean = np.mean(x_t)\n        std = np.std(x_t)\n        score_test = mean / std\n        print(\"[post-process][sigmoid:{}] sig_score={}\".format(_sig_coeff, score_test))\n",
      "execution_count": 38,
      "outputs": [
        {
          "output_type": "stream",
          "text": "================================================================================\n[post-process][sigmoid:1] sig_score=0.7020700732734485\n[post-process][sigmoid:2] sig_score=0.7023327188104237\n[post-process][sigmoid:3] sig_score=0.7027559004195998\n[post-process][sigmoid:4] sig_score=0.703319743893958\n[post-process][sigmoid:5] sig_score=0.703999854614348\n[post-process][sigmoid:6] sig_score=0.704769778539991\n[post-process][sigmoid:7] sig_score=0.7056031970378857\n[post-process][sigmoid:8] sig_score=0.7064756060089374\n[post-process][sigmoid:9] sig_score=0.7073654032396877\n[post-process][sigmoid:10] sig_score=0.7082544340293557\n[post-process][sigmoid:11] sig_score=0.7091281105171173\n[post-process][sigmoid:12] sig_score=0.7099752364176408\n[post-process][sigmoid:13] sig_score=0.710787655573127\n[post-process][sigmoid:14] sig_score=0.7115598167773362\n[post-process][sigmoid:15] sig_score=0.7122883196619079\n[post-process][sigmoid:16] sig_score=0.7129714825482626\n[post-process][sigmoid:17] sig_score=0.7136089548997948\n[post-process][sigmoid:18] sig_score=0.7142013842283021\n[post-process][sigmoid:19] sig_score=0.7147501390581491\n[post-process][sigmoid:20] sig_score=0.7152570846880877\n[post-process][sigmoid:21] sig_score=0.7157244059824535\n[post-process][sigmoid:22] sig_score=0.7161544704525449\n[post-process][sigmoid:23] sig_score=0.7165497248557627\n[post-process][sigmoid:24] sig_score=0.7169126190300891\n[post-process][sigmoid:25] sig_score=0.7172455514224066\n[post-process][sigmoid:26] sig_score=0.7175508315912794\n[post-process][sigmoid:27] sig_score=0.7178306557689975\n[post-process][sigmoid:28] sig_score=0.7180870923014144\n[post-process][sigmoid:29] sig_score=0.7183220744242937\n[post-process][sigmoid:30] sig_score=0.7185373983762696\n[post-process][sigmoid:31] sig_score=0.7187347252957765\n[post-process][sigmoid:32] sig_score=0.7189155857120398\n[post-process][sigmoid:33] sig_score=0.7190813857300582\n[post-process][sigmoid:34] sig_score=0.7192334142381568\n[post-process][sigmoid:35] sig_score=0.7193728506450084\n[post-process][sigmoid:36] sig_score=0.7195007727906829\n[post-process][sigmoid:37] sig_score=0.7196181647814542\n[post-process][sigmoid:38] sig_score=0.7197259245776572\n[post-process][sigmoid:39] sig_score=0.7198248712234009\n[post-process][sigmoid:40] sig_score=0.7199157516509418\n[post-process][sigmoid:41] sig_score=0.719999247024586\n[post-process][sigmoid:42] sig_score=0.7200759786119463\n[post-process][sigmoid:43] sig_score=0.7201465131864626\n[post-process][sigmoid:44] sig_score=0.7202113679759997\n[post-process][sigmoid:45] sig_score=0.7202710151794142\n[post-process][sigmoid:46] sig_score=0.7203258860772412\n[post-process][sigmoid:47] sig_score=0.72037637476486\n[post-process][sigmoid:48] sig_score=0.7204228415372463\n[post-process][sigmoid:49] sig_score=0.7204656159541734\n[post-process][sigmoid:50] sig_score=0.7205049996137547\n[post-process][sigmoid:51] sig_score=0.7205412686608514\n[post-process][sigmoid:52] sig_score=0.7205746760551917\n[post-process][sigmoid:53] sig_score=0.7206054536222737\n[post-process][sigmoid:54] sig_score=0.7206338139082812\n[post-process][sigmoid:55] sig_score=0.720659951858424\n[post-process][sigmoid:56] sig_score=0.7206840463363706\n[post-process][sigmoid:57] sig_score=0.7207062615007672\n[post-process][sigmoid:58] sig_score=0.7207267480532891\n[post-process][sigmoid:59] sig_score=0.720745644371232\n[post-process][sigmoid:60] sig_score=0.7207630775363147\n[post-process][sigmoid:61] sig_score=0.7207791642701731\n[post-process][sigmoid:62] sig_score=0.7207940117859148\n[post-process][sigmoid:63] sig_score=0.7208077185641277\n[post-process][sigmoid:64] sig_score=0.720820375060831\n[post-process][sigmoid:65] sig_score=0.7208320643540654\n[post-process][sigmoid:66] sig_score=0.7208428627351067\n[post-process][sigmoid:67] sig_score=0.7208528402496349\n[post-process][sigmoid:68] sig_score=0.7208620611936346\n[post-process][sigmoid:69] sig_score=0.7208705845682875\n[post-process][sigmoid:70] sig_score=0.7208784644976671\n[post-process][sigmoid:71] sig_score=0.7208857506126477\n[post-process][sigmoid:72] sig_score=0.7208924884040786\n[post-process][sigmoid:73] sig_score=0.720898719547963\n[post-process][sigmoid:74] sig_score=0.7209044822051003\n[post-process][sigmoid:75] sig_score=0.7209098112973924\n[post-process][sigmoid:76] sig_score=0.7209147387628125\n[post-process][sigmoid:77] sig_score=0.7209192937908153\n[post-process][sigmoid:78] sig_score=0.7209235030398108\n[post-process][sigmoid:79] sig_score=0.7209273908381622\n[post-process][sigmoid:80] sig_score=0.7209309793700296\n[post-process][sigmoid:81] sig_score=0.7209342888472589\n[post-process][sigmoid:82] sig_score=0.72093733766841\n[post-process][sigmoid:83] sig_score=0.7209401425659108\n[post-process][sigmoid:84] sig_score=0.7209427187422486\n[post-process][sigmoid:85] sig_score=0.7209450799960203\n[post-process][sigmoid:86] sig_score=0.7209472388386011\n[post-process][sigmoid:87] sig_score=0.7209492066021248\n[post-process][sigmoid:88] sig_score=0.720950993539409\n[post-process][sigmoid:89] sig_score=0.7209526089164134\n[post-process][sigmoid:90] sig_score=0.7209540610977718\n[post-process][sigmoid:91] sig_score=0.7209553576258872\n[post-process][sigmoid:92] sig_score=0.7209565052940593\n[post-process][sigmoid:93] sig_score=0.7209575102140571\n[post-process][sigmoid:94] sig_score=0.7209583778785399\n[post-process][sigmoid:95] sig_score=0.7209591132186841\n[post-process][sigmoid:96] sig_score=0.7209597206573553\n[post-process][sigmoid:97] sig_score=0.7209602041581376\n[post-process][sigmoid:98] sig_score=0.7209605672705153\n[post-process][sigmoid:99] sig_score=0.7209608131714732\n[post-process][sigmoid:100] sig_score=0.7209609447037708\n[post-process][sigmoid:101] sig_score=0.7209609644111232\n[post-process][sigmoid:102] sig_score=0.7209608745705098\n[post-process][sigmoid:103] sig_score=0.720960677221811\n[post-process][sigmoid:104] sig_score=0.720960374194967\n[post-process][sigmoid:105] sig_score=0.7209599671348332\n[post-process][sigmoid:106] sig_score=0.7209594575238991\n[post-process][sigmoid:107] sig_score=0.7209588467030241\n[post-process][sigmoid:108] sig_score=0.7209581358903351\n[post-process][sigmoid:109] sig_score=0.7209573261984187\n[post-process][sigmoid:110] sig_score=0.7209564186499384\n[post-process][sigmoid:111] sig_score=0.7209554141917847\n[post-process][sigmoid:112] sig_score=0.7209543137078783\n[post-process][sigmoid:113] sig_score=0.72095311803072\n[post-process][sigmoid:114] sig_score=0.7209518279517857\n[post-process][sigmoid:115] sig_score=0.7209504442308574\n[post-process][sigmoid:116] sig_score=0.7209489676043674\n[post-process][sigmoid:117] sig_score=0.7209473987928392\n[post-process][sigmoid:118] sig_score=0.7209457385074908\n[post-process][sigmoid:119] sig_score=0.7209439874560736\n[post-process][sigmoid:120] sig_score=0.7209421463480046\n[post-process][sigmoid:121] sig_score=0.7209402158988515\n[post-process][sigmoid:122] sig_score=0.720938196834225\n[post-process][sigmoid:123] sig_score=0.7209360898931303\n[post-process][sigmoid:124] sig_score=0.7209338958308191\n[post-process][sigmoid:125] sig_score=0.7209316154211922\n[post-process][sigmoid:126] sig_score=0.7209292494587882\n[post-process][sigmoid:127] sig_score=0.7209267987603986\n[post-process][sigmoid:128] sig_score=0.7209242641663416\n[post-process][sigmoid:129] sig_score=0.7209216465414289\n[post-process][sigmoid:130] sig_score=0.7209189467756534\n[post-process][sigmoid:131] sig_score=0.720916165784628\n[post-process][sigmoid:132] sig_score=0.7209133045097964\n[post-process][sigmoid:133] sig_score=0.7209103639184464\n[post-process][sigmoid:134] sig_score=0.7209073450035386\n[post-process][sigmoid:135] sig_score=0.7209042487833793\n[post-process][sigmoid:136] sig_score=0.7209010763011504\n[post-process][sigmoid:137] sig_score=0.7208978286243137\n[post-process][sigmoid:138] sig_score=0.7208945068439097\n[post-process][sigmoid:139] sig_score=0.7208911120737583\n[post-process][sigmoid:140] sig_score=0.7208876454495823\n[post-process][sigmoid:141] sig_score=0.7208841081280569\n[post-process][sigmoid:142] sig_score=0.7208805012858062\n[post-process][sigmoid:143] sig_score=0.7208768261183482\n[post-process][sigmoid:144] sig_score=0.7208730838390013\n[post-process][sigmoid:145] sig_score=0.7208692756777613\n",
          "name": "stdout"
        },
        {
          "output_type": "stream",
          "text": "[post-process][sigmoid:146] sig_score=0.7208654028801557\n[post-process][sigmoid:147] sig_score=0.7208614667060804\n[post-process][sigmoid:148] sig_score=0.7208574684286276\n[post-process][sigmoid:149] sig_score=0.7208534093329083\n[post-process][sigmoid:150] sig_score=0.7208492907148778\n[post-process][sigmoid:151] sig_score=0.7208451138801647\n[post-process][sigmoid:152] sig_score=0.7208408801429091\n[post-process][sigmoid:153] sig_score=0.7208365908246144\n[post-process][sigmoid:154] sig_score=0.7208322472530152\n[post-process][sigmoid:155] sig_score=0.7208278507609646\n[post-process][sigmoid:156] sig_score=0.7208234026853408\n[post-process][sigmoid:157] sig_score=0.7208189043659801\n[post-process][sigmoid:158] sig_score=0.7208143571446325\n[post-process][sigmoid:159] sig_score=0.720809762363947\n[post-process][sigmoid:160] sig_score=0.7208051213664813\n[post-process][sigmoid:161] sig_score=0.720800435493746\n[post-process][sigmoid:162] sig_score=0.7207957060852737\n[post-process][sigmoid:163] sig_score=0.7207909344777234\n[post-process][sigmoid:164] sig_score=0.7207861220040136\n[post-process][sigmoid:165] sig_score=0.7207812699924885\n[post-process][sigmoid:166] sig_score=0.7207763797661159\n[post-process][sigmoid:167] sig_score=0.7207714526417186\n[post-process][sigmoid:168] sig_score=0.720766489929235\n[post-process][sigmoid:169] sig_score=0.720761492931016\n[post-process][sigmoid:170] sig_score=0.7207564629411504\n[post-process][sigmoid:171] sig_score=0.7207514012448232\n[post-process][sigmoid:172] sig_score=0.720746309117706\n[post-process][sigmoid:173] sig_score=0.7207411878253773\n[post-process][sigmoid:174] sig_score=0.7207360386227741\n[post-process][sigmoid:175] sig_score=0.7207308627536729\n[post-process][sigmoid:176] sig_score=0.7207256614501982\n[post-process][sigmoid:177] sig_score=0.7207204359323653\n[post-process][sigmoid:178] sig_score=0.7207151874076448\n[post-process][sigmoid:179] sig_score=0.7207099170705581\n[post-process][sigmoid:180] sig_score=0.7207046261023003\n[post-process][sigmoid:181] sig_score=0.7206993156703867\n[post-process][sigmoid:182] sig_score=0.7206939869283256\n[post-process][sigmoid:183] sig_score=0.7206886410153179\n[post-process][sigmoid:184] sig_score=0.7206832790559775\n[post-process][sigmoid:185] sig_score=0.7206779021600765\n[post-process][sigmoid:186] sig_score=0.7206725114223128\n[post-process][sigmoid:187] sig_score=0.7206671079220999\n[post-process][sigmoid:188] sig_score=0.7206616927233749\n[post-process][sigmoid:189] sig_score=0.7206562668744317\n[post-process][sigmoid:190] sig_score=0.7206508314077693\n[post-process][sigmoid:191] sig_score=0.7206453873399601\n[post-process][sigmoid:192] sig_score=0.7206399356715374\n[post-process][sigmoid:193] sig_score=0.7206344773869001\n[post-process][sigmoid:194] sig_score=0.7206290134542328\n[post-process][sigmoid:195] sig_score=0.7206235448254423\n[post-process][sigmoid:196] sig_score=0.7206180724361103\n[post-process][sigmoid:197] sig_score=0.7206125972054608\n[post-process][sigmoid:198] sig_score=0.7206071200363403\n[post-process][sigmoid:199] sig_score=0.7206016418152117\n[post-process][sigmoid:200] sig_score=0.7205961634121633\n[post-process][sigmoid:201] sig_score=0.720590685680926\n[post-process][sigmoid:202] sig_score=0.7205852094589064\n[post-process][sigmoid:203] sig_score=0.7205797355672265\n[post-process][sigmoid:204] sig_score=0.7205742648107787\n[post-process][sigmoid:205] sig_score=0.7205687979782864\n[post-process][sigmoid:206] sig_score=0.7205633358423778\n[post-process][sigmoid:207] sig_score=0.7205578791596653\n[post-process][sigmoid:208] sig_score=0.7205524286708355\n[post-process][sigmoid:209] sig_score=0.7205469851007476\n[post-process][sigmoid:210] sig_score=0.7205415491585359\n[post-process][sigmoid:211] sig_score=0.7205361215377245\n[post-process][sigmoid:212] sig_score=0.720530702916345\n[post-process][sigmoid:213] sig_score=0.7205252939570606\n[post-process][sigmoid:214] sig_score=0.7205198953072983\n[post-process][sigmoid:215] sig_score=0.7205145075993836\n[post-process][sigmoid:216] sig_score=0.7205091314506837\n[post-process][sigmoid:217] sig_score=0.7205037674637517\n[post-process][sigmoid:218] sig_score=0.7204984162264779\n[post-process][sigmoid:219] sig_score=0.7204930783122445\n[post-process][sigmoid:220] sig_score=0.7204877542800829\n[post-process][sigmoid:221] sig_score=0.7204824446748374\n[post-process][sigmoid:222] sig_score=0.7204771500273268\n[post-process][sigmoid:223] sig_score=0.720471870854515\n[post-process][sigmoid:224] sig_score=0.7204666076596795\n[post-process][sigmoid:225] sig_score=0.720461360932584\n[post-process][sigmoid:226] sig_score=0.7204561311496539\n[post-process][sigmoid:227] sig_score=0.7204509187741523\n[post-process][sigmoid:228] sig_score=0.7204457242563576\n[post-process][sigmoid:229] sig_score=0.7204405480337426\n[post-process][sigmoid:230] sig_score=0.7204353905311575\n[post-process][sigmoid:231] sig_score=0.7204302521610082\n[post-process][sigmoid:232] sig_score=0.7204251333234399\n[post-process][sigmoid:233] sig_score=0.7204200344065224\n[post-process][sigmoid:234] sig_score=0.72041495578643\n[post-process][sigmoid:235] sig_score=0.720409897827626\n[post-process][sigmoid:236] sig_score=0.7204048608830491\n[post-process][sigmoid:237] sig_score=0.7203998452942942\n[post-process][sigmoid:238] sig_score=0.7203948513917979\n[post-process][sigmoid:239] sig_score=0.7203898794950208\n[post-process][sigmoid:240] sig_score=0.7203849299126301\n[post-process][sigmoid:241] sig_score=0.7203800029426848\n[post-process][sigmoid:242] sig_score=0.7203750988728129\n[post-process][sigmoid:243] sig_score=0.7203702179803966\n[post-process][sigmoid:244] sig_score=0.7203653605327499\n[post-process][sigmoid:245] sig_score=0.7203605267872982\n[post-process][sigmoid:246] sig_score=0.7203557169917579\n[post-process][sigmoid:247] sig_score=0.7203509313843112\n[post-process][sigmoid:248] sig_score=0.7203461701937831\n[post-process][sigmoid:249] sig_score=0.7203414336398163\n[post-process][sigmoid:250] sig_score=0.7203367219330435\n[post-process][sigmoid:251] sig_score=0.7203320352752594\n[post-process][sigmoid:252] sig_score=0.7203273738595908\n[post-process][sigmoid:253] sig_score=0.7203227378706665\n[post-process][sigmoid:254] sig_score=0.7203181274847829\n[post-process][sigmoid:255] sig_score=0.7203135428700713\n[post-process][sigmoid:256] sig_score=0.7203089841866588\n[post-process][sigmoid:257] sig_score=0.7203044515868355\n[post-process][sigmoid:258] sig_score=0.7202999452152093\n[post-process][sigmoid:259] sig_score=0.7202954652088687\n[post-process][sigmoid:260] sig_score=0.7202910116975375\n[post-process][sigmoid:261] sig_score=0.7202865848037308\n[post-process][sigmoid:262] sig_score=0.7202821846429082\n[post-process][sigmoid:263] sig_score=0.7202778113236241\n[post-process][sigmoid:264] sig_score=0.7202734649476785\n[post-process][sigmoid:265] sig_score=0.720269145610263\n[post-process][sigmoid:266] sig_score=0.7202648534001077\n[post-process][sigmoid:267] sig_score=0.7202605883996235\n[post-process][sigmoid:268] sig_score=0.7202563506850445\n[post-process][sigmoid:269] sig_score=0.7202521403265681\n[post-process][sigmoid:270] sig_score=0.7202479573884913\n[post-process][sigmoid:271] sig_score=0.7202438019293476\n[post-process][sigmoid:272] sig_score=0.7202396740020403\n[post-process][sigmoid:273] sig_score=0.7202355736539741\n[post-process][sigmoid:274] sig_score=0.7202315009271856\n[post-process][sigmoid:275] sig_score=0.7202274558584698\n[post-process][sigmoid:276] sig_score=0.7202234384795072\n[post-process][sigmoid:277] sig_score=0.7202194488169871\n[post-process][sigmoid:278] sig_score=0.7202154868927296\n[post-process][sigmoid:279] sig_score=0.7202115527238052\n[post-process][sigmoid:280] sig_score=0.7202076463226534\n[post-process][sigmoid:281] sig_score=0.7202037676971981\n[post-process][sigmoid:282] sig_score=0.7201999168509625\n[post-process][sigmoid:283] sig_score=0.7201960937831804\n[post-process][sigmoid:284] sig_score=0.7201922984889075\n[post-process][sigmoid:285] sig_score=0.7201885309591283\n[post-process][sigmoid:286] sig_score=0.720184791180865\n[post-process][sigmoid:287] sig_score=0.7201810791372797\n[post-process][sigmoid:288] sig_score=0.7201773948077788\n[post-process][sigmoid:289] sig_score=0.720173738168113\n",
          "name": "stdout"
        },
        {
          "output_type": "stream",
          "text": "[post-process][sigmoid:290] sig_score=0.7201701091904773\n[post-process][sigmoid:291] sig_score=0.7201665078436084\n[post-process][sigmoid:292] sig_score=0.7201629340928792\n[post-process][sigmoid:293] sig_score=0.7201593879003936\n[post-process][sigmoid:294] sig_score=0.7201558692250785\n[post-process][sigmoid:295] sig_score=0.7201523780227734\n[post-process][sigmoid:296] sig_score=0.7201489142463203\n[post-process][sigmoid:297] sig_score=0.7201454778456491\n[post-process][sigmoid:298] sig_score=0.7201420687678644\n[post-process][sigmoid:299] sig_score=0.7201386869573279\n[post-process][sigmoid:300] sig_score=0.7201353323557408\n[post-process][sigmoid:301] sig_score=0.7201320049022247\n[post-process][sigmoid:302] sig_score=0.7201287045333996\n[post-process][sigmoid:303] sig_score=0.7201254311834614\n[post-process][sigmoid:304] sig_score=0.7201221847842573\n[post-process][sigmoid:305] sig_score=0.7201189652653609\n[post-process][sigmoid:306] sig_score=0.7201157725541434\n[post-process][sigmoid:307] sig_score=0.7201126065758454\n[post-process][sigmoid:308] sig_score=0.720109467253647\n[post-process][sigmoid:309] sig_score=0.7201063545087355\n[post-process][sigmoid:310] sig_score=0.7201032682603719\n[post-process][sigmoid:311] sig_score=0.7201002084259565\n[post-process][sigmoid:312] sig_score=0.7200971749210933\n[post-process][sigmoid:313] sig_score=0.7200941676596521\n[post-process][sigmoid:314] sig_score=0.7200911865538303\n[post-process][sigmoid:315] sig_score=0.720088231514212\n[post-process][sigmoid:316] sig_score=0.720085302449827\n[post-process][sigmoid:317] sig_score=0.7200823992682088\n[post-process][sigmoid:318] sig_score=0.7200795218754502\n[post-process][sigmoid:319] sig_score=0.7200766701762578\n[post-process][sigmoid:320] sig_score=0.7200738440740055\n[post-process][sigmoid:321] sig_score=0.7200710434707888\n[post-process][sigmoid:322] sig_score=0.7200682682674729\n[post-process][sigmoid:323] sig_score=0.7200655183637455\n[post-process][sigmoid:324] sig_score=0.7200627936581648\n[post-process][sigmoid:325] sig_score=0.720060094048207\n[post-process][sigmoid:326] sig_score=0.7200574194303132\n[post-process][sigmoid:327] sig_score=0.7200547696999344\n[post-process][sigmoid:328] sig_score=0.7200521447515784\n[post-process][sigmoid:329] sig_score=0.72004954447885\n[post-process][sigmoid:330] sig_score=0.7200469687744958\n[post-process][sigmoid:331] sig_score=0.7200444175304448\n[post-process][sigmoid:332] sig_score=0.7200418906378491\n[post-process][sigmoid:333] sig_score=0.720039387987123\n[post-process][sigmoid:334] sig_score=0.7200369094679826\n[post-process][sigmoid:335] sig_score=0.7200344549694814\n[post-process][sigmoid:336] sig_score=0.7200320243800492\n[post-process][sigmoid:337] sig_score=0.7200296175875267\n[post-process][sigmoid:338] sig_score=0.7200272344791999\n[post-process][sigmoid:339] sig_score=0.7200248749418355\n[post-process][sigmoid:340] sig_score=0.7200225388617132\n[post-process][sigmoid:341] sig_score=0.7200202261246577\n[post-process][sigmoid:342] sig_score=0.7200179366160706\n[post-process][sigmoid:343] sig_score=0.7200156702209612\n[post-process][sigmoid:344] sig_score=0.7200134268239765\n[post-process][sigmoid:345] sig_score=0.7200112063094296\n[post-process][sigmoid:346] sig_score=0.7200090085613284\n[post-process][sigmoid:347] sig_score=0.7200068334634043\n[post-process][sigmoid:348] sig_score=0.7200046808991369\n[post-process][sigmoid:349] sig_score=0.7200025507517817\n[post-process][sigmoid:350] sig_score=0.7200004429043955\n[post-process][sigmoid:351] sig_score=0.7199983572398605\n[post-process][sigmoid:352] sig_score=0.7199962936409089\n[post-process][sigmoid:353] sig_score=0.7199942519901461\n[post-process][sigmoid:354] sig_score=0.7199922321700737\n[post-process][sigmoid:355] sig_score=0.719990234063111\n[post-process][sigmoid:356] sig_score=0.7199882575516179\n[post-process][sigmoid:357] sig_score=0.719986302517914\n[post-process][sigmoid:358] sig_score=0.7199843688443006\n[post-process][sigmoid:359] sig_score=0.7199824564130797\n[post-process][sigmoid:360] sig_score=0.719980565106573\n[post-process][sigmoid:361] sig_score=0.7199786948071403\n[post-process][sigmoid:362] sig_score=0.7199768453971988\n[post-process][sigmoid:363] sig_score=0.7199750167592399\n[post-process][sigmoid:364] sig_score=0.7199732087758457\n[post-process][sigmoid:365] sig_score=0.7199714213297055\n[post-process][sigmoid:366] sig_score=0.7199696543036335\n[post-process][sigmoid:367] sig_score=0.7199679075805826\n[post-process][sigmoid:368] sig_score=0.7199661810436594\n[post-process][sigmoid:369] sig_score=0.7199644745761402\n[post-process][sigmoid:370] sig_score=0.719962788061484\n[post-process][sigmoid:371] sig_score=0.7199611213833459\n[post-process][sigmoid:372] sig_score=0.7199594744255918\n[post-process][sigmoid:373] sig_score=0.7199578470723091\n[post-process][sigmoid:374] sig_score=0.7199562392078215\n[post-process][sigmoid:375] sig_score=0.7199546507166986\n[post-process][sigmoid:376] sig_score=0.7199530814837691\n[post-process][sigmoid:377] sig_score=0.7199515313941323\n[post-process][sigmoid:378] sig_score=0.7199500003331666\n[post-process][sigmoid:379] sig_score=0.7199484881865424\n[post-process][sigmoid:380] sig_score=0.7199469948402312\n[post-process][sigmoid:381] sig_score=0.7199455201805145\n[post-process][sigmoid:382] sig_score=0.7199440640939961\n[post-process][sigmoid:383] sig_score=0.7199426264676064\n[post-process][sigmoid:384] sig_score=0.7199412071886159\n[post-process][sigmoid:385] sig_score=0.7199398061446406\n[post-process][sigmoid:386] sig_score=0.7199384232236504\n[post-process][sigmoid:387] sig_score=0.719937058313979\n[post-process][sigmoid:388] sig_score=0.719935711304328\n[post-process][sigmoid:389] sig_score=0.719934382083777\n[post-process][sigmoid:390] sig_score=0.7199330705417892\n[post-process][sigmoid:391] sig_score=0.7199317765682176\n[post-process][sigmoid:392] sig_score=0.7199305000533125\n[post-process][sigmoid:393] sig_score=0.7199292408877265\n[post-process][sigmoid:394] sig_score=0.7199279989625214\n[post-process][sigmoid:395] sig_score=0.719926774169172\n[post-process][sigmoid:396] sig_score=0.7199255663995733\n[post-process][sigmoid:397] sig_score=0.7199243755460458\n[post-process][sigmoid:398] sig_score=0.7199232015013374\n[post-process][sigmoid:399] sig_score=0.7199220441586318\n[post-process][sigmoid:400] sig_score=0.7199209034115497\n[post-process][sigmoid:401] sig_score=0.7199197791541556\n[post-process][sigmoid:402] sig_score=0.7199186712809594\n[post-process][sigmoid:403] sig_score=0.7199175796869226\n[post-process][sigmoid:404] sig_score=0.7199165042674592\n[post-process][sigmoid:405] sig_score=0.7199154449184418\n[post-process][sigmoid:406] sig_score=0.7199144015362029\n[post-process][sigmoid:407] sig_score=0.7199133740175382\n[post-process][sigmoid:408] sig_score=0.7199123622597099\n[post-process][sigmoid:409] sig_score=0.7199113661604495\n[post-process][sigmoid:410] sig_score=0.7199103856179595\n[post-process][sigmoid:411] sig_score=0.7199094205309164\n[post-process][sigmoid:412] sig_score=0.7199084707984726\n[post-process][sigmoid:413] sig_score=0.719907536320258\n[post-process][sigmoid:414] sig_score=0.7199066169963828\n[post-process][sigmoid:415] sig_score=0.7199057127274388\n[post-process][sigmoid:416] sig_score=0.7199048234144995\n[post-process][sigmoid:417] sig_score=0.7199039489591246\n[post-process][sigmoid:418] sig_score=0.7199030892633584\n[post-process][sigmoid:419] sig_score=0.7199022442297325\n[post-process][sigmoid:420] sig_score=0.7199014137612658\n[post-process][sigmoid:421] sig_score=0.7199005977614672\n[post-process][sigmoid:422] sig_score=0.719899796134334\n[post-process][sigmoid:423] sig_score=0.7198990087843542\n[post-process][sigmoid:424] sig_score=0.7198982356165063\n[post-process][sigmoid:425] sig_score=0.7198974765362611\n[post-process][sigmoid:426] sig_score=0.7198967314495793\n[post-process][sigmoid:427] sig_score=0.7198960002629147\n[post-process][sigmoid:428] sig_score=0.7198952828832127\n[post-process][sigmoid:429] sig_score=0.7198945792179103\n[post-process][sigmoid:430] sig_score=0.7198938891749368\n[post-process][sigmoid:431] sig_score=0.719893212662713\n[post-process][sigmoid:432] sig_score=0.7198925495901514\n[post-process][sigmoid:433] sig_score=0.7198918998666558\n[post-process][sigmoid:434] sig_score=0.71989126340212\n",
          "name": "stdout"
        },
        {
          "output_type": "stream",
          "text": "[post-process][sigmoid:435] sig_score=0.7198906401069292\n[post-process][sigmoid:436] sig_score=0.7198900298919575\n[post-process][sigmoid:437] sig_score=0.7198894326685684\n[post-process][sigmoid:438] sig_score=0.7198888483486137\n[post-process][sigmoid:439] sig_score=0.7198882768444329\n[post-process][sigmoid:440] sig_score=0.7198877180688518\n[post-process][sigmoid:441] sig_score=0.7198871719351821\n[post-process][sigmoid:442] sig_score=0.7198866383572207\n[post-process][sigmoid:443] sig_score=0.7198861172492483\n[post-process][sigmoid:444] sig_score=0.7198856085260279\n[post-process][sigmoid:445] sig_score=0.7198851121028037\n[post-process][sigmoid:446] sig_score=0.7198846278953009\n[post-process][sigmoid:447] sig_score=0.719884155819724\n[post-process][sigmoid:448] sig_score=0.7198836957927535\n[post-process][sigmoid:449] sig_score=0.7198832477315482\n[post-process][sigmoid:450] sig_score=0.7198828115537407\n[post-process][sigmoid:451] sig_score=0.7198823871774377\n[post-process][sigmoid:452] sig_score=0.7198819745212172\n[post-process][sigmoid:453] sig_score=0.7198815735041281\n[post-process][sigmoid:454] sig_score=0.7198811840456881\n[post-process][sigmoid:455] sig_score=0.7198808060658815\n[post-process][sigmoid:456] sig_score=0.7198804394851593\n[post-process][sigmoid:457] sig_score=0.7198800842244353\n[post-process][sigmoid:458] sig_score=0.7198797402050859\n[post-process][sigmoid:459] sig_score=0.7198794073489475\n[post-process][sigmoid:460] sig_score=0.719879085578316\n[post-process][sigmoid:461] sig_score=0.7198787748159425\n[post-process][sigmoid:462] sig_score=0.7198784749850343\n[post-process][sigmoid:463] sig_score=0.7198781860092514\n[post-process][sigmoid:464] sig_score=0.719877907812704\n[post-process][sigmoid:465] sig_score=0.7198776403199527\n[post-process][sigmoid:466] sig_score=0.7198773834560048\n[post-process][sigmoid:467] sig_score=0.7198771371463127\n[post-process][sigmoid:468] sig_score=0.7198769013167722\n[post-process][sigmoid:469] sig_score=0.7198766758937197\n[post-process][sigmoid:470] sig_score=0.7198764608039323\n[post-process][sigmoid:471] sig_score=0.7198762559746226\n[post-process][sigmoid:472] sig_score=0.719876061333439\n[post-process][sigmoid:473] sig_score=0.7198758768084629\n[post-process][sigmoid:474] sig_score=0.7198757023282065\n[post-process][sigmoid:475] sig_score=0.7198755378216108\n[post-process][sigmoid:476] sig_score=0.7198753832180427\n[post-process][sigmoid:477] sig_score=0.7198752384472946\n[post-process][sigmoid:478] sig_score=0.7198751034395812\n[post-process][sigmoid:479] sig_score=0.7198749781255364\n[post-process][sigmoid:480] sig_score=0.7198748624362129\n[post-process][sigmoid:481] sig_score=0.719874756303079\n[post-process][sigmoid:482] sig_score=0.7198746596580166\n[post-process][sigmoid:483] sig_score=0.7198745724333192\n[post-process][sigmoid:484] sig_score=0.7198744945616892\n[post-process][sigmoid:485] sig_score=0.7198744259762366\n[post-process][sigmoid:486] sig_score=0.7198743666104753\n[post-process][sigmoid:487] sig_score=0.7198743163983222\n[post-process][sigmoid:488] sig_score=0.7198742752740953\n[post-process][sigmoid:489] sig_score=0.7198742431725098\n[post-process][sigmoid:490] sig_score=0.7198742200286772\n[post-process][sigmoid:491] sig_score=0.7198742057781022\n[post-process][sigmoid:492] sig_score=0.7198742003566817\n[post-process][sigmoid:493] sig_score=0.7198742037007018\n[post-process][sigmoid:494] sig_score=0.7198742157468349\n[post-process][sigmoid:495] sig_score=0.7198742364321385\n[post-process][sigmoid:496] sig_score=0.7198742656940532\n[post-process][sigmoid:497] sig_score=0.7198743034703986\n[post-process][sigmoid:498] sig_score=0.719874349699374\n[post-process][sigmoid:499] sig_score=0.7198744043195529\n[post-process][sigmoid:500] sig_score=0.7198744672698834\n[post-process][sigmoid:501] sig_score=0.7198745384896847\n[post-process][sigmoid:502] sig_score=0.7198746179186458\n[post-process][sigmoid:503] sig_score=0.7198747054968219\n[post-process][sigmoid:504] sig_score=0.719874801164633\n[post-process][sigmoid:505] sig_score=0.7198749048628618\n[post-process][sigmoid:506] sig_score=0.7198750165326516\n[post-process][sigmoid:507] sig_score=0.7198751361155031\n[post-process][sigmoid:508] sig_score=0.7198752635532744\n[post-process][sigmoid:509] sig_score=0.7198753987881756\n[post-process][sigmoid:510] sig_score=0.7198755417627696\n[post-process][sigmoid:511] sig_score=0.7198756924199684\n[post-process][sigmoid:512] sig_score=0.7198758507030311\n[post-process][sigmoid:513] sig_score=0.7198760165555619\n[post-process][sigmoid:514] sig_score=0.7198761899215083\n[post-process][sigmoid:515] sig_score=0.7198763707451582\n[post-process][sigmoid:516] sig_score=0.7198765589711382\n[post-process][sigmoid:517] sig_score=0.7198767545444115\n[post-process][sigmoid:518] sig_score=0.7198769574102759\n[post-process][sigmoid:519] sig_score=0.7198771675143613\n[post-process][sigmoid:520] sig_score=0.7198773848026278\n[post-process][sigmoid:521] sig_score=0.7198776092213633\n[post-process][sigmoid:522] sig_score=0.7198778407171825\n[post-process][sigmoid:523] sig_score=0.719878079237023\n[post-process][sigmoid:524] sig_score=0.7198783247281453\n[post-process][sigmoid:525] sig_score=0.7198785771381289\n[post-process][sigmoid:526] sig_score=0.7198788364148709\n[post-process][sigmoid:527] sig_score=0.7198791025065854\n[post-process][sigmoid:528] sig_score=0.7198793753617987\n[post-process][sigmoid:529] sig_score=0.7198796549293495\n[post-process][sigmoid:530] sig_score=0.7198799411583859\n[post-process][sigmoid:531] sig_score=0.719880233998364\n[post-process][sigmoid:532] sig_score=0.7198805333990449\n[post-process][sigmoid:533] sig_score=0.7198808393104942\n[post-process][sigmoid:534] sig_score=0.7198811516830784\n[post-process][sigmoid:535] sig_score=0.7198814704674645\n[post-process][sigmoid:536] sig_score=0.7198817956146162\n[post-process][sigmoid:537] sig_score=0.7198821270757946\n",
          "name": "stdout"
        },
        {
          "output_type": "error",
          "ename": "KeyboardInterrupt",
          "evalue": "",
          "traceback": [
            "\u001b[0;31m---------------------------------------------------------------------------\u001b[0m",
            "\u001b[0;31mKeyboardInterrupt\u001b[0m                         Traceback (most recent call last)",
            "\u001b[0;32m<ipython-input-38-78c5c2603197>\u001b[0m in \u001b[0;36m<module>\u001b[0;34m()\u001b[0m\n\u001b[1;32m      8\u001b[0m         \u001b[0mx_t_i\u001b[0m \u001b[0;34m=\u001b[0m \u001b[0mconfidence_sig\u001b[0m \u001b[0;34m*\u001b[0m \u001b[0mvalidation_data\u001b[0m\u001b[0;34m.\u001b[0m\u001b[0mparams\u001b[0m\u001b[0;34m[\u001b[0m\u001b[0;34m'return'\u001b[0m\u001b[0;34m]\u001b[0m \u001b[0;34m*\u001b[0m \u001b[0mvalidation_data\u001b[0m\u001b[0;34m.\u001b[0m\u001b[0mparams\u001b[0m\u001b[0;34m[\u001b[0m\u001b[0;34m'universe'\u001b[0m\u001b[0;34m]\u001b[0m\u001b[0;34m\u001b[0m\u001b[0m\n\u001b[1;32m      9\u001b[0m         \u001b[0mdata\u001b[0m \u001b[0;34m=\u001b[0m \u001b[0;34m{\u001b[0m\u001b[0;34m'day'\u001b[0m \u001b[0;34m:\u001b[0m \u001b[0mvalidation_data\u001b[0m\u001b[0;34m.\u001b[0m\u001b[0mparams\u001b[0m\u001b[0;34m[\u001b[0m\u001b[0;34m'time'\u001b[0m\u001b[0;34m]\u001b[0m\u001b[0;34m,\u001b[0m \u001b[0;34m'x_t_i'\u001b[0m \u001b[0;34m:\u001b[0m \u001b[0mx_t_i\u001b[0m\u001b[0;34m}\u001b[0m\u001b[0;34m\u001b[0m\u001b[0m\n\u001b[0;32m---> 10\u001b[0;31m         \u001b[0mdf\u001b[0m \u001b[0;34m=\u001b[0m \u001b[0mpd\u001b[0m\u001b[0;34m.\u001b[0m\u001b[0mDataFrame\u001b[0m\u001b[0;34m(\u001b[0m\u001b[0mdata\u001b[0m\u001b[0;34m)\u001b[0m\u001b[0;34m\u001b[0m\u001b[0m\n\u001b[0m\u001b[1;32m     11\u001b[0m         \u001b[0mx_t\u001b[0m \u001b[0;34m=\u001b[0m \u001b[0mdf\u001b[0m\u001b[0;34m.\u001b[0m\u001b[0mgroupby\u001b[0m\u001b[0;34m(\u001b[0m\u001b[0;34m'day'\u001b[0m\u001b[0;34m)\u001b[0m\u001b[0;34m.\u001b[0m\u001b[0msum\u001b[0m\u001b[0;34m(\u001b[0m\u001b[0;34m)\u001b[0m\u001b[0;34m.\u001b[0m\u001b[0mvalues\u001b[0m\u001b[0;34m.\u001b[0m\u001b[0mflatten\u001b[0m\u001b[0;34m(\u001b[0m\u001b[0;34m)\u001b[0m\u001b[0;34m\u001b[0m\u001b[0m\n\u001b[1;32m     12\u001b[0m         \u001b[0mmean\u001b[0m \u001b[0;34m=\u001b[0m \u001b[0mnp\u001b[0m\u001b[0;34m.\u001b[0m\u001b[0mmean\u001b[0m\u001b[0;34m(\u001b[0m\u001b[0mx_t\u001b[0m\u001b[0;34m)\u001b[0m\u001b[0;34m\u001b[0m\u001b[0m\n",
            "\u001b[0;32m/opt/conda/lib/python3.6/site-packages/pandas/core/frame.py\u001b[0m in \u001b[0;36m__init__\u001b[0;34m(self, data, index, columns, dtype, copy)\u001b[0m\n\u001b[1;32m    346\u001b[0m                                  dtype=dtype, copy=copy)\n\u001b[1;32m    347\u001b[0m         \u001b[0;32melif\u001b[0m \u001b[0misinstance\u001b[0m\u001b[0;34m(\u001b[0m\u001b[0mdata\u001b[0m\u001b[0;34m,\u001b[0m \u001b[0mdict\u001b[0m\u001b[0;34m)\u001b[0m\u001b[0;34m:\u001b[0m\u001b[0;34m\u001b[0m\u001b[0m\n\u001b[0;32m--> 348\u001b[0;31m             \u001b[0mmgr\u001b[0m \u001b[0;34m=\u001b[0m \u001b[0mself\u001b[0m\u001b[0;34m.\u001b[0m\u001b[0m_init_dict\u001b[0m\u001b[0;34m(\u001b[0m\u001b[0mdata\u001b[0m\u001b[0;34m,\u001b[0m \u001b[0mindex\u001b[0m\u001b[0;34m,\u001b[0m \u001b[0mcolumns\u001b[0m\u001b[0;34m,\u001b[0m \u001b[0mdtype\u001b[0m\u001b[0;34m=\u001b[0m\u001b[0mdtype\u001b[0m\u001b[0;34m)\u001b[0m\u001b[0;34m\u001b[0m\u001b[0m\n\u001b[0m\u001b[1;32m    349\u001b[0m         \u001b[0;32melif\u001b[0m \u001b[0misinstance\u001b[0m\u001b[0;34m(\u001b[0m\u001b[0mdata\u001b[0m\u001b[0;34m,\u001b[0m \u001b[0mma\u001b[0m\u001b[0;34m.\u001b[0m\u001b[0mMaskedArray\u001b[0m\u001b[0;34m)\u001b[0m\u001b[0;34m:\u001b[0m\u001b[0;34m\u001b[0m\u001b[0m\n\u001b[1;32m    350\u001b[0m             \u001b[0;32mimport\u001b[0m \u001b[0mnumpy\u001b[0m\u001b[0;34m.\u001b[0m\u001b[0mma\u001b[0m\u001b[0;34m.\u001b[0m\u001b[0mmrecords\u001b[0m \u001b[0;32mas\u001b[0m \u001b[0mmrecords\u001b[0m\u001b[0;34m\u001b[0m\u001b[0m\n",
            "\u001b[0;32m/opt/conda/lib/python3.6/site-packages/pandas/core/frame.py\u001b[0m in \u001b[0;36m_init_dict\u001b[0;34m(self, data, index, columns, dtype)\u001b[0m\n\u001b[1;32m    457\u001b[0m             \u001b[0marrays\u001b[0m \u001b[0;34m=\u001b[0m \u001b[0;34m[\u001b[0m\u001b[0mdata\u001b[0m\u001b[0;34m[\u001b[0m\u001b[0mk\u001b[0m\u001b[0;34m]\u001b[0m \u001b[0;32mfor\u001b[0m \u001b[0mk\u001b[0m \u001b[0;32min\u001b[0m \u001b[0mkeys\u001b[0m\u001b[0;34m]\u001b[0m\u001b[0;34m\u001b[0m\u001b[0m\n\u001b[1;32m    458\u001b[0m \u001b[0;34m\u001b[0m\u001b[0m\n\u001b[0;32m--> 459\u001b[0;31m         \u001b[0;32mreturn\u001b[0m \u001b[0m_arrays_to_mgr\u001b[0m\u001b[0;34m(\u001b[0m\u001b[0marrays\u001b[0m\u001b[0;34m,\u001b[0m \u001b[0mdata_names\u001b[0m\u001b[0;34m,\u001b[0m \u001b[0mindex\u001b[0m\u001b[0;34m,\u001b[0m \u001b[0mcolumns\u001b[0m\u001b[0;34m,\u001b[0m \u001b[0mdtype\u001b[0m\u001b[0;34m=\u001b[0m\u001b[0mdtype\u001b[0m\u001b[0;34m)\u001b[0m\u001b[0;34m\u001b[0m\u001b[0m\n\u001b[0m\u001b[1;32m    460\u001b[0m \u001b[0;34m\u001b[0m\u001b[0m\n\u001b[1;32m    461\u001b[0m     \u001b[0;32mdef\u001b[0m \u001b[0m_init_ndarray\u001b[0m\u001b[0;34m(\u001b[0m\u001b[0mself\u001b[0m\u001b[0;34m,\u001b[0m \u001b[0mvalues\u001b[0m\u001b[0;34m,\u001b[0m \u001b[0mindex\u001b[0m\u001b[0;34m,\u001b[0m \u001b[0mcolumns\u001b[0m\u001b[0;34m,\u001b[0m \u001b[0mdtype\u001b[0m\u001b[0;34m=\u001b[0m\u001b[0;32mNone\u001b[0m\u001b[0;34m,\u001b[0m \u001b[0mcopy\u001b[0m\u001b[0;34m=\u001b[0m\u001b[0;32mFalse\u001b[0m\u001b[0;34m)\u001b[0m\u001b[0;34m:\u001b[0m\u001b[0;34m\u001b[0m\u001b[0m\n",
            "\u001b[0;32m/opt/conda/lib/python3.6/site-packages/pandas/core/frame.py\u001b[0m in \u001b[0;36m_arrays_to_mgr\u001b[0;34m(arrays, arr_names, index, columns, dtype)\u001b[0m\n\u001b[1;32m   7362\u001b[0m     \u001b[0maxes\u001b[0m \u001b[0;34m=\u001b[0m \u001b[0;34m[\u001b[0m\u001b[0m_ensure_index\u001b[0m\u001b[0;34m(\u001b[0m\u001b[0mcolumns\u001b[0m\u001b[0;34m)\u001b[0m\u001b[0;34m,\u001b[0m \u001b[0m_ensure_index\u001b[0m\u001b[0;34m(\u001b[0m\u001b[0mindex\u001b[0m\u001b[0;34m)\u001b[0m\u001b[0;34m]\u001b[0m\u001b[0;34m\u001b[0m\u001b[0m\n\u001b[1;32m   7363\u001b[0m \u001b[0;34m\u001b[0m\u001b[0m\n\u001b[0;32m-> 7364\u001b[0;31m     \u001b[0;32mreturn\u001b[0m \u001b[0mcreate_block_manager_from_arrays\u001b[0m\u001b[0;34m(\u001b[0m\u001b[0marrays\u001b[0m\u001b[0;34m,\u001b[0m \u001b[0marr_names\u001b[0m\u001b[0;34m,\u001b[0m \u001b[0maxes\u001b[0m\u001b[0;34m)\u001b[0m\u001b[0;34m\u001b[0m\u001b[0m\n\u001b[0m\u001b[1;32m   7365\u001b[0m \u001b[0;34m\u001b[0m\u001b[0m\n\u001b[1;32m   7366\u001b[0m \u001b[0;34m\u001b[0m\u001b[0m\n",
            "\u001b[0;32m/opt/conda/lib/python3.6/site-packages/pandas/core/internals.py\u001b[0m in \u001b[0;36mcreate_block_manager_from_arrays\u001b[0;34m(arrays, names, axes)\u001b[0m\n\u001b[1;32m   4870\u001b[0m \u001b[0;34m\u001b[0m\u001b[0m\n\u001b[1;32m   4871\u001b[0m     \u001b[0;32mtry\u001b[0m\u001b[0;34m:\u001b[0m\u001b[0;34m\u001b[0m\u001b[0m\n\u001b[0;32m-> 4872\u001b[0;31m         \u001b[0mblocks\u001b[0m \u001b[0;34m=\u001b[0m \u001b[0mform_blocks\u001b[0m\u001b[0;34m(\u001b[0m\u001b[0marrays\u001b[0m\u001b[0;34m,\u001b[0m \u001b[0mnames\u001b[0m\u001b[0;34m,\u001b[0m \u001b[0maxes\u001b[0m\u001b[0;34m)\u001b[0m\u001b[0;34m\u001b[0m\u001b[0m\n\u001b[0m\u001b[1;32m   4873\u001b[0m         \u001b[0mmgr\u001b[0m \u001b[0;34m=\u001b[0m \u001b[0mBlockManager\u001b[0m\u001b[0;34m(\u001b[0m\u001b[0mblocks\u001b[0m\u001b[0;34m,\u001b[0m \u001b[0maxes\u001b[0m\u001b[0;34m)\u001b[0m\u001b[0;34m\u001b[0m\u001b[0m\n\u001b[1;32m   4874\u001b[0m         \u001b[0mmgr\u001b[0m\u001b[0;34m.\u001b[0m\u001b[0m_consolidate_inplace\u001b[0m\u001b[0;34m(\u001b[0m\u001b[0;34m)\u001b[0m\u001b[0;34m\u001b[0m\u001b[0m\n",
            "\u001b[0;32m/opt/conda/lib/python3.6/site-packages/pandas/core/internals.py\u001b[0m in \u001b[0;36mform_blocks\u001b[0;34m(arrays, names, axes)\u001b[0m\n\u001b[1;32m   4936\u001b[0m \u001b[0;34m\u001b[0m\u001b[0m\n\u001b[1;32m   4937\u001b[0m     \u001b[0;32mif\u001b[0m \u001b[0mlen\u001b[0m\u001b[0;34m(\u001b[0m\u001b[0mitems_dict\u001b[0m\u001b[0;34m[\u001b[0m\u001b[0;34m'ObjectBlock'\u001b[0m\u001b[0;34m]\u001b[0m\u001b[0;34m)\u001b[0m \u001b[0;34m>\u001b[0m \u001b[0;36m0\u001b[0m\u001b[0;34m:\u001b[0m\u001b[0;34m\u001b[0m\u001b[0m\n\u001b[0;32m-> 4938\u001b[0;31m         \u001b[0mobject_blocks\u001b[0m \u001b[0;34m=\u001b[0m \u001b[0m_simple_blockify\u001b[0m\u001b[0;34m(\u001b[0m\u001b[0mitems_dict\u001b[0m\u001b[0;34m[\u001b[0m\u001b[0;34m'ObjectBlock'\u001b[0m\u001b[0;34m]\u001b[0m\u001b[0;34m,\u001b[0m \u001b[0mnp\u001b[0m\u001b[0;34m.\u001b[0m\u001b[0mobject_\u001b[0m\u001b[0;34m)\u001b[0m\u001b[0;34m\u001b[0m\u001b[0m\n\u001b[0m\u001b[1;32m   4939\u001b[0m         \u001b[0mblocks\u001b[0m\u001b[0;34m.\u001b[0m\u001b[0mextend\u001b[0m\u001b[0;34m(\u001b[0m\u001b[0mobject_blocks\u001b[0m\u001b[0;34m)\u001b[0m\u001b[0;34m\u001b[0m\u001b[0m\n\u001b[1;32m   4940\u001b[0m \u001b[0;34m\u001b[0m\u001b[0m\n",
            "\u001b[0;32m/opt/conda/lib/python3.6/site-packages/pandas/core/internals.py\u001b[0m in \u001b[0;36m_simple_blockify\u001b[0;34m(tuples, dtype)\u001b[0m\n\u001b[1;32m   4974\u001b[0m     \u001b[0;32mnot\u001b[0m \u001b[0;32mNone\u001b[0m\u001b[0;34m,\u001b[0m \u001b[0mcoerce\u001b[0m \u001b[0mto\u001b[0m \u001b[0mthis\u001b[0m \u001b[0mdtype\u001b[0m\u001b[0;34m\u001b[0m\u001b[0m\n\u001b[1;32m   4975\u001b[0m     \"\"\"\n\u001b[0;32m-> 4976\u001b[0;31m     \u001b[0mvalues\u001b[0m\u001b[0;34m,\u001b[0m \u001b[0mplacement\u001b[0m \u001b[0;34m=\u001b[0m \u001b[0m_stack_arrays\u001b[0m\u001b[0;34m(\u001b[0m\u001b[0mtuples\u001b[0m\u001b[0;34m,\u001b[0m \u001b[0mdtype\u001b[0m\u001b[0;34m)\u001b[0m\u001b[0;34m\u001b[0m\u001b[0m\n\u001b[0m\u001b[1;32m   4977\u001b[0m \u001b[0;34m\u001b[0m\u001b[0m\n\u001b[1;32m   4978\u001b[0m     \u001b[0;31m# CHECK DTYPE?\u001b[0m\u001b[0;34m\u001b[0m\u001b[0;34m\u001b[0m\u001b[0m\n",
            "\u001b[0;32m/opt/conda/lib/python3.6/site-packages/pandas/core/internals.py\u001b[0m in \u001b[0;36m_stack_arrays\u001b[0;34m(tuples, dtype)\u001b[0m\n\u001b[1;32m   5035\u001b[0m     \u001b[0mshape\u001b[0m \u001b[0;34m=\u001b[0m \u001b[0;34m(\u001b[0m\u001b[0mlen\u001b[0m\u001b[0;34m(\u001b[0m\u001b[0marrays\u001b[0m\u001b[0;34m)\u001b[0m\u001b[0;34m,\u001b[0m\u001b[0;34m)\u001b[0m \u001b[0;34m+\u001b[0m \u001b[0m_shape_compat\u001b[0m\u001b[0;34m(\u001b[0m\u001b[0mfirst\u001b[0m\u001b[0;34m)\u001b[0m\u001b[0;34m\u001b[0m\u001b[0m\n\u001b[1;32m   5036\u001b[0m \u001b[0;34m\u001b[0m\u001b[0m\n\u001b[0;32m-> 5037\u001b[0;31m     \u001b[0mstacked\u001b[0m \u001b[0;34m=\u001b[0m \u001b[0mnp\u001b[0m\u001b[0;34m.\u001b[0m\u001b[0mempty\u001b[0m\u001b[0;34m(\u001b[0m\u001b[0mshape\u001b[0m\u001b[0;34m,\u001b[0m \u001b[0mdtype\u001b[0m\u001b[0;34m=\u001b[0m\u001b[0mdtype\u001b[0m\u001b[0;34m)\u001b[0m\u001b[0;34m\u001b[0m\u001b[0m\n\u001b[0m\u001b[1;32m   5038\u001b[0m     \u001b[0;32mfor\u001b[0m \u001b[0mi\u001b[0m\u001b[0;34m,\u001b[0m \u001b[0marr\u001b[0m \u001b[0;32min\u001b[0m \u001b[0menumerate\u001b[0m\u001b[0;34m(\u001b[0m\u001b[0marrays\u001b[0m\u001b[0;34m)\u001b[0m\u001b[0;34m:\u001b[0m\u001b[0;34m\u001b[0m\u001b[0m\n\u001b[1;32m   5039\u001b[0m         \u001b[0mstacked\u001b[0m\u001b[0;34m[\u001b[0m\u001b[0mi\u001b[0m\u001b[0;34m]\u001b[0m \u001b[0;34m=\u001b[0m \u001b[0m_asarray_compat\u001b[0m\u001b[0;34m(\u001b[0m\u001b[0marr\u001b[0m\u001b[0;34m)\u001b[0m\u001b[0;34m\u001b[0m\u001b[0m\n",
            "\u001b[0;31mKeyboardInterrupt\u001b[0m: "
          ]
        }
      ]
    },
    {
      "metadata": {
        "trusted": true,
        "_uuid": "2263dff5b5d6129ce3f0de8961eb4fd089c23381"
      },
      "cell_type": "code",
      "source": "_pos = 30\nprint(\"=\"*80)\n_each_preds = preds[_pos]\n_confidence = _each_preds * 2 - 1.0\nfor _sig_coeff in range(1,1000):\n    confidence_sig = (2/(1 + np.exp(-1*_sig_coeff * _confidence))-1.0)\n    x_t_i = confidence_sig * validation_data.params['return'] * validation_data.params['universe']\n    data = {'day' : validation_data.params['time'], 'x_t_i' : x_t_i}\n    df = pd.DataFrame(data)\n    x_t = df.groupby('day').sum().values.flatten()\n    mean = np.mean(x_t)\n    std = np.std(x_t)\n    score_test = mean / std\n    print(\"[post-process][sigmoid:{}] sig_score={}\".format(_sig_coeff, score_test))\n",
      "execution_count": 39,
      "outputs": [
        {
          "output_type": "stream",
          "text": "================================================================================\n[post-process][sigmoid:1] sig_score=0.6557174251712714\n[post-process][sigmoid:2] sig_score=0.6557089602381052\n[post-process][sigmoid:3] sig_score=0.6556928080465628\n[post-process][sigmoid:4] sig_score=0.6556672038759144\n[post-process][sigmoid:5] sig_score=0.6556314989646533\n[post-process][sigmoid:6] sig_score=0.6555867456444957\n[post-process][sigmoid:7] sig_score=0.6555356386594939\n[post-process][sigmoid:8] sig_score=0.65548199297886\n[post-process][sigmoid:9] sig_score=0.6554300540511769\n[post-process][sigmoid:10] sig_score=0.6553838795550812\n[post-process][sigmoid:11] sig_score=0.6553469120053466\n[post-process][sigmoid:12] sig_score=0.65532175980233\n[post-process][sigmoid:13] sig_score=0.6553101476994224\n[post-process][sigmoid:14] sig_score=0.6553129798757376\n[post-process][sigmoid:15] sig_score=0.6553304635260897\n[post-process][sigmoid:16] sig_score=0.6553622543360768\n[post-process][sigmoid:17] sig_score=0.6554075993142567\n[post-process][sigmoid:18] sig_score=0.6554654637651075\n[post-process][sigmoid:19] sig_score=0.6555346369763408\n[post-process][sigmoid:20] sig_score=0.655613815943655\n[post-process][sigmoid:21] sig_score=0.6557016689912415\n[post-process][sigmoid:22] sig_score=0.6557968822408533\n[post-process][sigmoid:23] sig_score=0.6558981921269161\n[post-process][sigmoid:24] sig_score=0.6560044069516316\n[post-process][sigmoid:25] sig_score=0.6561144200727337\n[post-process][sigmoid:26] sig_score=0.6562272168613826\n[post-process][sigmoid:27] sig_score=0.6563418771335522\n[post-process][sigmoid:28] sig_score=0.6564575743785998\n[post-process][sigmoid:29] sig_score=0.6565735727934431\n[post-process][sigmoid:30] sig_score=0.6566892228778298\n[post-process][sigmoid:31] sig_score=0.6568039561481289\n[post-process][sigmoid:32] sig_score=0.6569172793747294\n[post-process][sigmoid:33] sig_score=0.6570287686325985\n[post-process][sigmoid:34] sig_score=0.6571380633678986\n[post-process][sigmoid:35] sig_score=0.6572448606192255\n[post-process][sigmoid:36] sig_score=0.6573489094846833\n[post-process][sigmoid:37] sig_score=0.6574500058915056\n[post-process][sigmoid:38] sig_score=0.6575479877000295\n[post-process][sigmoid:39] sig_score=0.6576427301560842\n[post-process][sigmoid:40] sig_score=0.6577341416934096\n[post-process][sigmoid:41] sig_score=0.6578221600791757\n[post-process][sigmoid:42] sig_score=0.6579067488899748\n[post-process][sigmoid:43] sig_score=0.6579878943020557\n[post-process][sigmoid:44] sig_score=0.6580656021774505\n[post-process][sigmoid:45] sig_score=0.65813989542661\n[post-process][sigmoid:46] sig_score=0.6582108116278783\n[post-process][sigmoid:47] sig_score=0.6582784008843829\n[post-process][sigmoid:48] sig_score=0.6583427238995065\n[post-process][sigmoid:49] sig_score=0.6584038502529412\n[post-process][sigmoid:50] sig_score=0.6584618568602802\n[post-process][sigmoid:51] sig_score=0.6585168266001447\n[post-process][sigmoid:52] sig_score=0.6585688470939126\n[post-process][sigmoid:53] sig_score=0.6586180096241758\n[post-process][sigmoid:54] sig_score=0.658664408179089\n[post-process][sigmoid:55] sig_score=0.6587081386107742\n[post-process][sigmoid:56] sig_score=0.6587492978968915\n[post-process][sigmoid:57] sig_score=0.6587879834953807\n[post-process][sigmoid:58] sig_score=0.6588242927832155\n[post-process][sigmoid:59] sig_score=0.6588583225707941\n[post-process][sigmoid:60] sig_score=0.6588901686843165\n[post-process][sigmoid:61] sig_score=0.6589199256091639\n[post-process][sigmoid:62] sig_score=0.6589476861879273\n[post-process][sigmoid:63] sig_score=0.6589735413672854\n[post-process][sigmoid:64] sig_score=0.6589975799884776\n[post-process][sigmoid:65] sig_score=0.6590198886165851\n[post-process][sigmoid:66] sig_score=0.6590405514042815\n[post-process][sigmoid:67] sig_score=0.6590596499861228\n[post-process][sigmoid:68] sig_score=0.6590772633998134\n[post-process][sigmoid:69] sig_score=0.6590934680312278\n[post-process][sigmoid:70] sig_score=0.6591083375802785\n[post-process][sigmoid:71] sig_score=0.6591219430450052\n[post-process][sigmoid:72] sig_score=0.6591343527215162\n[post-process][sigmoid:73] sig_score=0.6591456322176575\n[post-process][sigmoid:74] sig_score=0.6591558444784907\n[post-process][sigmoid:75] sig_score=0.6591650498218701\n[post-process][sigmoid:76] sig_score=0.6591733059825725\n[post-process][sigmoid:77] sig_score=0.6591806681636142\n[post-process][sigmoid:78] sig_score=0.6591871890935226\n[post-process][sigmoid:79] sig_score=0.6591929190884727\n[post-process][sigmoid:80] sig_score=0.6591979061183177\n[post-process][sigmoid:81] sig_score=0.659202195875656\n[post-process][sigmoid:82] sig_score=0.659205831847173\n[post-process][sigmoid:83] sig_score=0.6592088553865924\n[post-process][sigmoid:84] sig_score=0.659211305788645\n[post-process][sigmoid:85] sig_score=0.6592132203635463\n[post-process][sigmoid:86] sig_score=0.6592146345115374\n[post-process][sigmoid:87] sig_score=0.659215581797096\n[post-process][sigmoid:88] sig_score=0.6592160940224934\n[post-process][sigmoid:89] sig_score=0.6592162013004041\n[post-process][sigmoid:90] sig_score=0.6592159321253352\n[post-process][sigmoid:91] sig_score=0.6592153134436662\n[post-process][sigmoid:92] sig_score=0.6592143707221317\n[post-process][sigmoid:93] sig_score=0.6592131280146145\n[post-process][sigmoid:94] sig_score=0.6592116080271314\n[post-process][sigmoid:95] sig_score=0.6592098321809317\n[post-process][sigmoid:96] sig_score=0.6592078206736363\n[post-process][sigmoid:97] sig_score=0.6592055925383791\n[post-process][sigmoid:98] sig_score=0.6592031657009151\n[post-process][sigmoid:99] sig_score=0.6592005570346805\n[post-process][sigmoid:100] sig_score=0.6591977824138021\n[post-process][sigmoid:101] sig_score=0.6591948567640682\n[post-process][sigmoid:102] sig_score=0.6591917941118685\n[post-process][sigmoid:103] sig_score=0.6591886076311368\n[post-process][sigmoid:104] sig_score=0.6591853096883262\n[post-process][sigmoid:105] sig_score=0.6591819118854503\n[post-process][sigmoid:106] sig_score=0.6591784251012378\n[post-process][sigmoid:107] sig_score=0.6591748595304439\n[post-process][sigmoid:108] sig_score=0.6591712247213685\n[post-process][sigmoid:109] sig_score=0.6591675296116315\n[post-process][sigmoid:110] sig_score=0.6591637825622622\n[post-process][sigmoid:111] sig_score=0.6591599913901516\n[post-process][sigmoid:112] sig_score=0.6591561633989299\n[post-process][sigmoid:113] sig_score=0.6591523054083216\n[post-process][sigmoid:114] sig_score=0.6591484237820328\n[post-process][sigmoid:115] sig_score=0.6591445244542324\n[post-process][sigmoid:116] sig_score=0.6591406129546767\n[post-process][sigmoid:117] sig_score=0.6591366944325352\n[post-process][sigmoid:118] sig_score=0.6591327736789737\n[post-process][sigmoid:119] sig_score=0.6591288551485415\n[post-process][sigmoid:120] sig_score=0.6591249429794227\n[post-process][sigmoid:121] sig_score=0.6591210410125953\n[post-process][sigmoid:122] sig_score=0.6591171528099501\n[post-process][sigmoid:123] sig_score=0.6591132816714189\n[post-process][sigmoid:124] sig_score=0.6591094306511572\n[post-process][sigmoid:125] sig_score=0.659105602572822\n[post-process][sigmoid:126] sig_score=0.6591018000439983\n[post-process][sigmoid:127] sig_score=0.6590980254698042\n[post-process][sigmoid:128] sig_score=0.6590942810657244\n[post-process][sigmoid:129] sig_score=0.6590905688697061\n[post-process][sigmoid:130] sig_score=0.6590868907535559\n[post-process][sigmoid:131] sig_score=0.6590832484336728\n[post-process][sigmoid:132] sig_score=0.6590796434811533\n[post-process][sigmoid:133] sig_score=0.6590760773312997\n[post-process][sigmoid:134] sig_score=0.659072551292563\n[post-process][sigmoid:135] sig_score=0.6590690665549531\n[post-process][sigmoid:136] sig_score=0.6590656241979412\n[post-process][sigmoid:137] sig_score=0.659062225197885\n[post-process][sigmoid:138] sig_score=0.6590588704350004\n[post-process][sigmoid:139] sig_score=0.6590555606999072\n[post-process][sigmoid:140] sig_score=0.6590522966997692\n[post-process][sigmoid:141] sig_score=0.6590490790640549\n[post-process][sigmoid:142] sig_score=0.6590459083499377\n[post-process][sigmoid:143] sig_score=0.6590427850473567\n[post-process][sigmoid:144] sig_score=0.6590397095837575\n[post-process][sigmoid:145] sig_score=0.6590366823285316\n",
          "name": "stdout"
        },
        {
          "output_type": "stream",
          "text": "[post-process][sigmoid:146] sig_score=0.6590337035971732\n[post-process][sigmoid:147] sig_score=0.6590307736551647\n[post-process][sigmoid:148] sig_score=0.6590278927216136\n[post-process][sigmoid:149] sig_score=0.6590250609726529\n[post-process][sigmoid:150] sig_score=0.6590222785446149\n[post-process][sigmoid:151] sig_score=0.6590195455369997\n[post-process][sigmoid:152] sig_score=0.6590168620152422\n[post-process][sigmoid:153] sig_score=0.6590142280132996\n[post-process][sigmoid:154] sig_score=0.6590116435360592\n[post-process][sigmoid:155] sig_score=0.659009108561587\n[post-process][sigmoid:156] sig_score=0.6590066230432224\n[post-process][sigmoid:157] sig_score=0.659004186911527\n[post-process][sigmoid:158] sig_score=0.6590018000761029\n",
          "name": "stdout"
        },
        {
          "output_type": "error",
          "ename": "KeyboardInterrupt",
          "evalue": "",
          "traceback": [
            "\u001b[0;31m---------------------------------------------------------------------------\u001b[0m",
            "\u001b[0;31mKeyboardInterrupt\u001b[0m                         Traceback (most recent call last)",
            "\u001b[0;32m<ipython-input-39-fa71cf4956bb>\u001b[0m in \u001b[0;36m<module>\u001b[0;34m()\u001b[0m\n\u001b[1;32m      7\u001b[0m     \u001b[0mx_t_i\u001b[0m \u001b[0;34m=\u001b[0m \u001b[0mconfidence_sig\u001b[0m \u001b[0;34m*\u001b[0m \u001b[0mvalidation_data\u001b[0m\u001b[0;34m.\u001b[0m\u001b[0mparams\u001b[0m\u001b[0;34m[\u001b[0m\u001b[0;34m'return'\u001b[0m\u001b[0;34m]\u001b[0m \u001b[0;34m*\u001b[0m \u001b[0mvalidation_data\u001b[0m\u001b[0;34m.\u001b[0m\u001b[0mparams\u001b[0m\u001b[0;34m[\u001b[0m\u001b[0;34m'universe'\u001b[0m\u001b[0;34m]\u001b[0m\u001b[0;34m\u001b[0m\u001b[0m\n\u001b[1;32m      8\u001b[0m     \u001b[0mdata\u001b[0m \u001b[0;34m=\u001b[0m \u001b[0;34m{\u001b[0m\u001b[0;34m'day'\u001b[0m \u001b[0;34m:\u001b[0m \u001b[0mvalidation_data\u001b[0m\u001b[0;34m.\u001b[0m\u001b[0mparams\u001b[0m\u001b[0;34m[\u001b[0m\u001b[0;34m'time'\u001b[0m\u001b[0;34m]\u001b[0m\u001b[0;34m,\u001b[0m \u001b[0;34m'x_t_i'\u001b[0m \u001b[0;34m:\u001b[0m \u001b[0mx_t_i\u001b[0m\u001b[0;34m}\u001b[0m\u001b[0;34m\u001b[0m\u001b[0m\n\u001b[0;32m----> 9\u001b[0;31m     \u001b[0mdf\u001b[0m \u001b[0;34m=\u001b[0m \u001b[0mpd\u001b[0m\u001b[0;34m.\u001b[0m\u001b[0mDataFrame\u001b[0m\u001b[0;34m(\u001b[0m\u001b[0mdata\u001b[0m\u001b[0;34m)\u001b[0m\u001b[0;34m\u001b[0m\u001b[0m\n\u001b[0m\u001b[1;32m     10\u001b[0m     \u001b[0mx_t\u001b[0m \u001b[0;34m=\u001b[0m \u001b[0mdf\u001b[0m\u001b[0;34m.\u001b[0m\u001b[0mgroupby\u001b[0m\u001b[0;34m(\u001b[0m\u001b[0;34m'day'\u001b[0m\u001b[0;34m)\u001b[0m\u001b[0;34m.\u001b[0m\u001b[0msum\u001b[0m\u001b[0;34m(\u001b[0m\u001b[0;34m)\u001b[0m\u001b[0;34m.\u001b[0m\u001b[0mvalues\u001b[0m\u001b[0;34m.\u001b[0m\u001b[0mflatten\u001b[0m\u001b[0;34m(\u001b[0m\u001b[0;34m)\u001b[0m\u001b[0;34m\u001b[0m\u001b[0m\n\u001b[1;32m     11\u001b[0m     \u001b[0mmean\u001b[0m \u001b[0;34m=\u001b[0m \u001b[0mnp\u001b[0m\u001b[0;34m.\u001b[0m\u001b[0mmean\u001b[0m\u001b[0;34m(\u001b[0m\u001b[0mx_t\u001b[0m\u001b[0;34m)\u001b[0m\u001b[0;34m\u001b[0m\u001b[0m\n",
            "\u001b[0;32m/opt/conda/lib/python3.6/site-packages/pandas/core/frame.py\u001b[0m in \u001b[0;36m__init__\u001b[0;34m(self, data, index, columns, dtype, copy)\u001b[0m\n\u001b[1;32m    346\u001b[0m                                  dtype=dtype, copy=copy)\n\u001b[1;32m    347\u001b[0m         \u001b[0;32melif\u001b[0m \u001b[0misinstance\u001b[0m\u001b[0;34m(\u001b[0m\u001b[0mdata\u001b[0m\u001b[0;34m,\u001b[0m \u001b[0mdict\u001b[0m\u001b[0;34m)\u001b[0m\u001b[0;34m:\u001b[0m\u001b[0;34m\u001b[0m\u001b[0m\n\u001b[0;32m--> 348\u001b[0;31m             \u001b[0mmgr\u001b[0m \u001b[0;34m=\u001b[0m \u001b[0mself\u001b[0m\u001b[0;34m.\u001b[0m\u001b[0m_init_dict\u001b[0m\u001b[0;34m(\u001b[0m\u001b[0mdata\u001b[0m\u001b[0;34m,\u001b[0m \u001b[0mindex\u001b[0m\u001b[0;34m,\u001b[0m \u001b[0mcolumns\u001b[0m\u001b[0;34m,\u001b[0m \u001b[0mdtype\u001b[0m\u001b[0;34m=\u001b[0m\u001b[0mdtype\u001b[0m\u001b[0;34m)\u001b[0m\u001b[0;34m\u001b[0m\u001b[0m\n\u001b[0m\u001b[1;32m    349\u001b[0m         \u001b[0;32melif\u001b[0m \u001b[0misinstance\u001b[0m\u001b[0;34m(\u001b[0m\u001b[0mdata\u001b[0m\u001b[0;34m,\u001b[0m \u001b[0mma\u001b[0m\u001b[0;34m.\u001b[0m\u001b[0mMaskedArray\u001b[0m\u001b[0;34m)\u001b[0m\u001b[0;34m:\u001b[0m\u001b[0;34m\u001b[0m\u001b[0m\n\u001b[1;32m    350\u001b[0m             \u001b[0;32mimport\u001b[0m \u001b[0mnumpy\u001b[0m\u001b[0;34m.\u001b[0m\u001b[0mma\u001b[0m\u001b[0;34m.\u001b[0m\u001b[0mmrecords\u001b[0m \u001b[0;32mas\u001b[0m \u001b[0mmrecords\u001b[0m\u001b[0;34m\u001b[0m\u001b[0m\n",
            "\u001b[0;32m/opt/conda/lib/python3.6/site-packages/pandas/core/frame.py\u001b[0m in \u001b[0;36m_init_dict\u001b[0;34m(self, data, index, columns, dtype)\u001b[0m\n\u001b[1;32m    457\u001b[0m             \u001b[0marrays\u001b[0m \u001b[0;34m=\u001b[0m \u001b[0;34m[\u001b[0m\u001b[0mdata\u001b[0m\u001b[0;34m[\u001b[0m\u001b[0mk\u001b[0m\u001b[0;34m]\u001b[0m \u001b[0;32mfor\u001b[0m \u001b[0mk\u001b[0m \u001b[0;32min\u001b[0m \u001b[0mkeys\u001b[0m\u001b[0;34m]\u001b[0m\u001b[0;34m\u001b[0m\u001b[0m\n\u001b[1;32m    458\u001b[0m \u001b[0;34m\u001b[0m\u001b[0m\n\u001b[0;32m--> 459\u001b[0;31m         \u001b[0;32mreturn\u001b[0m \u001b[0m_arrays_to_mgr\u001b[0m\u001b[0;34m(\u001b[0m\u001b[0marrays\u001b[0m\u001b[0;34m,\u001b[0m \u001b[0mdata_names\u001b[0m\u001b[0;34m,\u001b[0m \u001b[0mindex\u001b[0m\u001b[0;34m,\u001b[0m \u001b[0mcolumns\u001b[0m\u001b[0;34m,\u001b[0m \u001b[0mdtype\u001b[0m\u001b[0;34m=\u001b[0m\u001b[0mdtype\u001b[0m\u001b[0;34m)\u001b[0m\u001b[0;34m\u001b[0m\u001b[0m\n\u001b[0m\u001b[1;32m    460\u001b[0m \u001b[0;34m\u001b[0m\u001b[0m\n\u001b[1;32m    461\u001b[0m     \u001b[0;32mdef\u001b[0m \u001b[0m_init_ndarray\u001b[0m\u001b[0;34m(\u001b[0m\u001b[0mself\u001b[0m\u001b[0;34m,\u001b[0m \u001b[0mvalues\u001b[0m\u001b[0;34m,\u001b[0m \u001b[0mindex\u001b[0m\u001b[0;34m,\u001b[0m \u001b[0mcolumns\u001b[0m\u001b[0;34m,\u001b[0m \u001b[0mdtype\u001b[0m\u001b[0;34m=\u001b[0m\u001b[0;32mNone\u001b[0m\u001b[0;34m,\u001b[0m \u001b[0mcopy\u001b[0m\u001b[0;34m=\u001b[0m\u001b[0;32mFalse\u001b[0m\u001b[0;34m)\u001b[0m\u001b[0;34m:\u001b[0m\u001b[0;34m\u001b[0m\u001b[0m\n",
            "\u001b[0;32m/opt/conda/lib/python3.6/site-packages/pandas/core/frame.py\u001b[0m in \u001b[0;36m_arrays_to_mgr\u001b[0;34m(arrays, arr_names, index, columns, dtype)\u001b[0m\n\u001b[1;32m   7357\u001b[0m \u001b[0;34m\u001b[0m\u001b[0m\n\u001b[1;32m   7358\u001b[0m     \u001b[0;31m# don't force copy because getting jammed in an ndarray anyway\u001b[0m\u001b[0;34m\u001b[0m\u001b[0;34m\u001b[0m\u001b[0m\n\u001b[0;32m-> 7359\u001b[0;31m     \u001b[0marrays\u001b[0m \u001b[0;34m=\u001b[0m \u001b[0m_homogenize\u001b[0m\u001b[0;34m(\u001b[0m\u001b[0marrays\u001b[0m\u001b[0;34m,\u001b[0m \u001b[0mindex\u001b[0m\u001b[0;34m,\u001b[0m \u001b[0mdtype\u001b[0m\u001b[0;34m)\u001b[0m\u001b[0;34m\u001b[0m\u001b[0m\n\u001b[0m\u001b[1;32m   7360\u001b[0m \u001b[0;34m\u001b[0m\u001b[0m\n\u001b[1;32m   7361\u001b[0m     \u001b[0;31m# from BlockManager perspective\u001b[0m\u001b[0;34m\u001b[0m\u001b[0;34m\u001b[0m\u001b[0m\n",
            "\u001b[0;32m/opt/conda/lib/python3.6/site-packages/pandas/core/frame.py\u001b[0m in \u001b[0;36m_homogenize\u001b[0;34m(data, index, dtype)\u001b[0m\n\u001b[1;32m   7667\u001b[0m                 \u001b[0mv\u001b[0m \u001b[0;34m=\u001b[0m \u001b[0mlib\u001b[0m\u001b[0;34m.\u001b[0m\u001b[0mfast_multiget\u001b[0m\u001b[0;34m(\u001b[0m\u001b[0mv\u001b[0m\u001b[0;34m,\u001b[0m \u001b[0moindex\u001b[0m\u001b[0;34m.\u001b[0m\u001b[0mvalues\u001b[0m\u001b[0;34m,\u001b[0m \u001b[0mdefault\u001b[0m\u001b[0;34m=\u001b[0m\u001b[0mnp\u001b[0m\u001b[0;34m.\u001b[0m\u001b[0mnan\u001b[0m\u001b[0;34m)\u001b[0m\u001b[0;34m\u001b[0m\u001b[0m\n\u001b[1;32m   7668\u001b[0m             v = _sanitize_array(v, index, dtype=dtype, copy=False,\n\u001b[0;32m-> 7669\u001b[0;31m                                 raise_cast_failure=False)\n\u001b[0m\u001b[1;32m   7670\u001b[0m \u001b[0;34m\u001b[0m\u001b[0m\n\u001b[1;32m   7671\u001b[0m         \u001b[0mhomogenized\u001b[0m\u001b[0;34m.\u001b[0m\u001b[0mappend\u001b[0m\u001b[0;34m(\u001b[0m\u001b[0mv\u001b[0m\u001b[0;34m)\u001b[0m\u001b[0;34m\u001b[0m\u001b[0m\n",
            "\u001b[0;32m/opt/conda/lib/python3.6/site-packages/pandas/core/series.py\u001b[0m in \u001b[0;36m_sanitize_array\u001b[0;34m(data, index, dtype, copy, raise_cast_failure)\u001b[0m\n\u001b[1;32m   4094\u001b[0m \u001b[0;34m\u001b[0m\u001b[0m\n\u001b[1;32m   4095\u001b[0m             \u001b[0;31m# we will try to copy be-definition here\u001b[0m\u001b[0;34m\u001b[0m\u001b[0;34m\u001b[0m\u001b[0m\n\u001b[0;32m-> 4096\u001b[0;31m             \u001b[0msubarr\u001b[0m \u001b[0;34m=\u001b[0m \u001b[0m_try_cast\u001b[0m\u001b[0;34m(\u001b[0m\u001b[0mdata\u001b[0m\u001b[0;34m,\u001b[0m \u001b[0;32mTrue\u001b[0m\u001b[0;34m)\u001b[0m\u001b[0;34m\u001b[0m\u001b[0m\n\u001b[0m\u001b[1;32m   4097\u001b[0m \u001b[0;34m\u001b[0m\u001b[0m\n\u001b[1;32m   4098\u001b[0m     \u001b[0;32melif\u001b[0m \u001b[0misinstance\u001b[0m\u001b[0;34m(\u001b[0m\u001b[0mdata\u001b[0m\u001b[0;34m,\u001b[0m \u001b[0mExtensionArray\u001b[0m\u001b[0;34m)\u001b[0m\u001b[0;34m:\u001b[0m\u001b[0;34m\u001b[0m\u001b[0m\n",
            "\u001b[0;32m/opt/conda/lib/python3.6/site-packages/pandas/core/series.py\u001b[0m in \u001b[0;36m_try_cast\u001b[0;34m(arr, take_fast_path)\u001b[0m\n\u001b[1;32m   4042\u001b[0m \u001b[0;34m\u001b[0m\u001b[0m\n\u001b[1;32m   4043\u001b[0m         \u001b[0;32mtry\u001b[0m\u001b[0;34m:\u001b[0m\u001b[0;34m\u001b[0m\u001b[0m\n\u001b[0;32m-> 4044\u001b[0;31m             \u001b[0msubarr\u001b[0m \u001b[0;34m=\u001b[0m \u001b[0mmaybe_cast_to_datetime\u001b[0m\u001b[0;34m(\u001b[0m\u001b[0marr\u001b[0m\u001b[0;34m,\u001b[0m \u001b[0mdtype\u001b[0m\u001b[0;34m)\u001b[0m\u001b[0;34m\u001b[0m\u001b[0m\n\u001b[0m\u001b[1;32m   4045\u001b[0m             \u001b[0;31m# Take care in creating object arrays (but iterators are not\u001b[0m\u001b[0;34m\u001b[0m\u001b[0;34m\u001b[0m\u001b[0m\n\u001b[1;32m   4046\u001b[0m             \u001b[0;31m# supported):\u001b[0m\u001b[0;34m\u001b[0m\u001b[0;34m\u001b[0m\u001b[0m\n",
            "\u001b[0;32m/opt/conda/lib/python3.6/site-packages/pandas/core/dtypes/cast.py\u001b[0m in \u001b[0;36mmaybe_cast_to_datetime\u001b[0;34m(value, dtype, errors)\u001b[0m\n\u001b[1;32m   1086\u001b[0m         elif not (is_array and not (issubclass(value.dtype.type, np.integer) or\n\u001b[1;32m   1087\u001b[0m                                     value.dtype == np.object_)):\n\u001b[0;32m-> 1088\u001b[0;31m             \u001b[0mvalue\u001b[0m \u001b[0;34m=\u001b[0m \u001b[0mmaybe_infer_to_datetimelike\u001b[0m\u001b[0;34m(\u001b[0m\u001b[0mvalue\u001b[0m\u001b[0;34m)\u001b[0m\u001b[0;34m\u001b[0m\u001b[0m\n\u001b[0m\u001b[1;32m   1089\u001b[0m \u001b[0;34m\u001b[0m\u001b[0m\n\u001b[1;32m   1090\u001b[0m     \u001b[0;32mreturn\u001b[0m \u001b[0mvalue\u001b[0m\u001b[0;34m\u001b[0m\u001b[0m\n",
            "\u001b[0;32m/opt/conda/lib/python3.6/site-packages/pandas/core/dtypes/cast.py\u001b[0m in \u001b[0;36mmaybe_infer_to_datetimelike\u001b[0;34m(value, convert_dates)\u001b[0m\n\u001b[1;32m    943\u001b[0m             \u001b[0;32mreturn\u001b[0m \u001b[0mv\u001b[0m\u001b[0;34m.\u001b[0m\u001b[0mreshape\u001b[0m\u001b[0;34m(\u001b[0m\u001b[0mshape\u001b[0m\u001b[0;34m)\u001b[0m\u001b[0;34m\u001b[0m\u001b[0m\n\u001b[1;32m    944\u001b[0m \u001b[0;34m\u001b[0m\u001b[0m\n\u001b[0;32m--> 945\u001b[0;31m     \u001b[0minferred_type\u001b[0m \u001b[0;34m=\u001b[0m \u001b[0mlib\u001b[0m\u001b[0;34m.\u001b[0m\u001b[0minfer_datetimelike_array\u001b[0m\u001b[0;34m(\u001b[0m\u001b[0m_ensure_object\u001b[0m\u001b[0;34m(\u001b[0m\u001b[0mv\u001b[0m\u001b[0;34m)\u001b[0m\u001b[0;34m)\u001b[0m\u001b[0;34m\u001b[0m\u001b[0m\n\u001b[0m\u001b[1;32m    946\u001b[0m \u001b[0;34m\u001b[0m\u001b[0m\n\u001b[1;32m    947\u001b[0m     \u001b[0;32mif\u001b[0m \u001b[0minferred_type\u001b[0m \u001b[0;34m==\u001b[0m \u001b[0;34m'date'\u001b[0m \u001b[0;32mand\u001b[0m \u001b[0mconvert_dates\u001b[0m\u001b[0;34m:\u001b[0m\u001b[0;34m\u001b[0m\u001b[0m\n",
            "\u001b[0;31mKeyboardInterrupt\u001b[0m: "
          ]
        }
      ]
    },
    {
      "metadata": {
        "_uuid": "6c66369ca2a32b9a86a6aaf98adbaf288bb91b49",
        "collapsed": true,
        "trusted": false
      },
      "cell_type": "code",
      "source": "#1個目のデータと2個目のデータの平均出してる\nconfidence_test = (gbm_1.predict(X_test) + gbm_2.predict(X_test))/2\nconfidence_test",
      "execution_count": null,
      "outputs": []
    },
    {
      "metadata": {
        "_uuid": "55589ca05e8c982439efe1ad9cf19fbf6ceefd4d",
        "collapsed": true,
        "trusted": false
      },
      "cell_type": "code",
      "source": "#予測値の%　割合の算出\nconfidence_test = (confidence_test-confidence_test.min())/(confidence_test.max()-confidence_test.min())\nconfidence_test",
      "execution_count": null,
      "outputs": []
    },
    {
      "metadata": {
        "_uuid": "e5e6db1e2e7963aef26c4ffdc1832f4f0f6f9c0b",
        "collapsed": true,
        "trusted": false
      },
      "cell_type": "code",
      "source": "#%に二乗して-1????\nconfidence_test = confidence_test*2-1\nprint(max(confidence_test),min(confidence_test))\nconfidence_test",
      "execution_count": null,
      "outputs": []
    },
    {
      "metadata": {
        "_uuid": "3dbef3e10363bc9df63292b146cba44311ba3b17",
        "collapsed": true,
        "trusted": false
      },
      "cell_type": "code",
      "source": "# 最終スコアの計算に使用される実際のメトリックの計算\nr_test = r_test.clip(-1,1) # -1～１以外の値を取り除く　彼らはどこから来たのかという\n#学習の推測地と予測前の目的変数とユニバース値をかけてる？\nx_t_i = confidence_test * r_test * u_test\n#日付とスコア値だけのデータフレーム作り\ndata = {'day' : d_test, 'x_t_i' : x_t_i}\ndf = pd.DataFrame(data)\n#日付でグループバイ（集約）　で多次元配列を１次元に直してる\nx_t = df.groupby('day').sum().values.flatten()\n#スコアの平均値\nmean = np.mean(x_t)\n#スコアの標準偏差\nstd = np.std(x_t)\n#変動係数の逆数\nscore_test = mean / std\nprint(score_test)",
      "execution_count": null,
      "outputs": []
    },
    {
      "metadata": {
        "_uuid": "65da0a50ea0df84261ff437dbf934a31242b2ccd",
        "collapsed": true,
        "trusted": false
      },
      "cell_type": "code",
      "source": "import gc\ndel X_train,X_test\ngc.collect()",
      "execution_count": null,
      "outputs": []
    },
    {
      "metadata": {
        "_uuid": "3351f7ef017a67f4ea8563be79230f5bd659d965",
        "collapsed": true,
        "trusted": false
      },
      "cell_type": "code",
      "source": "#prediction\ndays = env.get_prediction_days()\nn_days = 0\nprep_time = 0\nprediction_time = 0\npackaging_time = 0\ntotal_market_obs_df = []\nfor (market_obs_df, news_obs_df, predictions_template_df) in days:\n    n_days +=1\n    if (n_days%50==0):\n        print(n_days,end=' ')\n    t = time.time()\n    market_obs_df['time'] = market_obs_df['time'].dt.date\n    \n    return_features = ['returnsClosePrevMktres10','returnsClosePrevRaw10','open','close']\n    total_market_obs_df.append(market_obs_df)\n    if len(total_market_obs_df)==1:\n        history_df = total_market_obs_df[0]\n    else:\n        history_df = pd.concat(total_market_obs_df[-(np.max(n_lag)+1):])\n    print(history_df)\n    \n    new_df = generate_lag_features(history_df,n_lag=[3,7,14])\n    market_obs_df = pd.merge(market_obs_df,new_df,how='left',on=['time','assetCode'])\n    \n#     return_features = ['open']\n#     new_df = generate_lag_features(market_obs_df,n_lag=[3,7,14])\n#     market_obs_df = pd.merge(market_obs_df,new_df,how='left',on=['time','assetCode'])\n    \n    market_obs_df = mis_impute(market_obs_df)\n    \n    market_obs_df = data_prep(market_obs_df)\n    \n#     market_obs_df = market_obs_df[market_obs_df.assetCode.isin(predictions_template_df.assetCode)]\n    \n    X_live = market_obs_df[fcol].values\n    X_live = 1 - ((maxs - X_live) / rng)\n    prep_time += time.time() - t\n    \n    t = time.time()\n    lp = (gbm_1.predict(X_live) + gbm_2.predict(X_live))/2\n    prediction_time += time.time() -t\n    \n    t = time.time()\n    \n    confidence = lp\n    confidence = (confidence-confidence.min())/(confidence.max()-confidence.min())\n    confidence = confidence * 2 - 1\n    \n    preds = pd.DataFrame({'assetCode':market_obs_df['assetCode'],'confidence':confidence})\n    predictions_template_df = predictions_template_df.merge(preds,how='left').drop('confidenceValue',axis=1).fillna(0).rename(columns={'confidence':'confidenceValue'})\n    env.predict(predictions_template_df)\n    packaging_time += time.time() - t\n    \nenv.write_submission_file()\nsub  = pd.read_csv(\"submission.csv\")",
      "execution_count": null,
      "outputs": []
    },
    {
      "metadata": {
        "_uuid": "f189e556fd74e791c965476b07354fadc0ec1d7c",
        "collapsed": true,
        "trusted": false
      },
      "cell_type": "code",
      "source": "",
      "execution_count": null,
      "outputs": []
    }
  ],
  "metadata": {
    "kernelspec": {
      "display_name": "Python 3",
      "language": "python",
      "name": "python3"
    },
    "language_info": {
      "name": "python",
      "version": "3.6.6",
      "mimetype": "text/x-python",
      "codemirror_mode": {
        "name": "ipython",
        "version": 3
      },
      "pygments_lexer": "ipython3",
      "nbconvert_exporter": "python",
      "file_extension": ".py"
    },
    "toc": {
      "base_numbering": 1,
      "nav_menu": {},
      "number_sections": true,
      "sideBar": true,
      "skip_h1_title": false,
      "title_cell": "Table of Contents",
      "title_sidebar": "Contents",
      "toc_cell": true,
      "toc_position": {},
      "toc_section_display": true,
      "toc_window_display": true
    },
    "varInspector": {
      "cols": {
        "lenName": 16,
        "lenType": 16,
        "lenVar": 40
      },
      "kernels_config": {
        "python": {
          "delete_cmd_postfix": "",
          "delete_cmd_prefix": "del ",
          "library": "var_list.py",
          "varRefreshCmd": "print(var_dic_list())"
        },
        "r": {
          "delete_cmd_postfix": ") ",
          "delete_cmd_prefix": "rm(",
          "library": "var_list.r",
          "varRefreshCmd": "cat(var_dic_list()) "
        }
      },
      "types_to_exclude": [
        "module",
        "function",
        "builtin_function_or_method",
        "instance",
        "_Feature"
      ],
      "window_display": false
    }
  },
  "nbformat": 4,
  "nbformat_minor": 1
}