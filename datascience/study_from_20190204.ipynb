{
 "cells": [
  {
   "cell_type": "markdown",
   "metadata": {
    "toc": true
   },
   "source": [
    "<h1>Table of Contents<span class=\"tocSkip\"></span></h1>\n",
    "<div class=\"toc\"><ul class=\"toc-item\"><li><span><a href=\"#概要\" data-toc-modified-id=\"概要-1\"><span class=\"toc-item-num\">1&nbsp;&nbsp;</span>概要</a></span></li><li><span><a href=\"#機械学習における前処理\" data-toc-modified-id=\"機械学習における前処理-2\"><span class=\"toc-item-num\">2&nbsp;&nbsp;</span>機械学習における前処理</a></span></li><li><span><a href=\"#階層カラムを持つデータフレームの操作方法\" data-toc-modified-id=\"階層カラムを持つデータフレームの操作方法-3\"><span class=\"toc-item-num\">3&nbsp;&nbsp;</span>階層カラムを持つデータフレームの操作方法</a></span></li><li><span><a href=\"#Permutaion-Importance\" data-toc-modified-id=\"Permutaion-Importance-4\"><span class=\"toc-item-num\">4&nbsp;&nbsp;</span>Permutaion Importance</a></span><ul class=\"toc-item\"><li><span><a href=\"#Eli5-パッケージを使う\" data-toc-modified-id=\"Eli5-パッケージを使う-4.1\"><span class=\"toc-item-num\">4.1&nbsp;&nbsp;</span>Eli5 パッケージを使う</a></span></li></ul></li><li><span><a href=\"#良い教材サイト\" data-toc-modified-id=\"良い教材サイト-5\"><span class=\"toc-item-num\">5&nbsp;&nbsp;</span>良い教材サイト</a></span></li><li><span><a href=\"#３群以上における比率の検定\" data-toc-modified-id=\"３群以上における比率の検定-6\"><span class=\"toc-item-num\">6&nbsp;&nbsp;</span>３群以上における比率の検定</a></span><ul class=\"toc-item\"><li><span><a href=\"#フィッシャーの正確確率検定\" data-toc-modified-id=\"フィッシャーの正確確率検定-6.1\"><span class=\"toc-item-num\">6.1&nbsp;&nbsp;</span>フィッシャーの正確確率検定</a></span></li><li><span><a href=\"#ANOVA\" data-toc-modified-id=\"ANOVA-6.2\"><span class=\"toc-item-num\">6.2&nbsp;&nbsp;</span>ANOVA</a></span><ul class=\"toc-item\"><li><span><a href=\"#ANOVAの後の多重比較\" data-toc-modified-id=\"ANOVAの後の多重比較-6.2.1\"><span class=\"toc-item-num\">6.2.1&nbsp;&nbsp;</span>ANOVAの後の多重比較</a></span></li></ul></li></ul></li><li><span><a href=\"#Jupyter-Tips\" data-toc-modified-id=\"Jupyter-Tips-7\"><span class=\"toc-item-num\">7&nbsp;&nbsp;</span>Jupyter Tips</a></span><ul class=\"toc-item\"><li><span><a href=\"#自作モジュール変更や新規インストールしたモジュールを手動反映する\" data-toc-modified-id=\"自作モジュール変更や新規インストールしたモジュールを手動反映する-7.1\"><span class=\"toc-item-num\">7.1&nbsp;&nbsp;</span>自作モジュール変更や新規インストールしたモジュールを手動反映する</a></span></li></ul></li></ul></div>"
   ]
  },
  {
   "cell_type": "markdown",
   "metadata": {},
   "source": [
    "# 概要\n",
    "学習メモである。2019-02-04以降の内容である。\n"
   ]
  },
  {
   "cell_type": "markdown",
   "metadata": {},
   "source": [
    "# 機械学習における前処理\n",
    "\n",
    "おさらいであるが、良いエントリを見つけた。\n",
    "\n",
    "Machine Learning(ML) — Data Preprocessing – Data Driven Investor – Medium\n",
    "https://medium.com/datadriveninvestor/machine-learning-ml-data-preprocessing-5b346766fc48\n",
    "\n",
    "\n",
    "機械学習における前処理は、主には次の５つに分けられる。 \n",
    "* データクリーニング\n",
    "    1. 欠損値を補完する\n",
    "    2. ノイズを含むデータを平滑化する\n",
    "    3. 異常値を識別する、または除去する\n",
    "    4. その他不整合を解決する\n",
    "* データ統合\n",
    "    複数のデータベース、テーブル、ファイルを利用して、データを結合しする。\n",
    "* データ変換\n",
    "    正規化や集約処理をする\n",
    "* データ削減\n",
    "    データ量を減らしつつも、同じか類似した分析結果を得られるようにする。\n",
    "* データ離散化\n",
    "    数値をone-hot形式に変換するなど\n",
    "\n",
    "> Data cleaning: fill in missing values, smooth noisy data, identify or remove outliers, and resolve inconsistencies.  \n",
    "Data integration: using multiple databases, data cubes, or files.  \n",
    "Data transformation: normalization and aggregation.  \n",
    "Data reduction: reducing the volume but producing the same or similar analytical results.  \n",
    "Data discretization: part of data reduction, replacing numerical attributes with nominal ones.  \n"
   ]
  },
  {
   "cell_type": "markdown",
   "metadata": {},
   "source": [
    "# 階層カラムを持つデータフレームの操作方法\n",
    "カラムが階層構造を持つ場合、タプルを用いて各階層のカラムを指定すれば良い。ワイルドカード指定をしたい場合は、カラム指定をスキップすれば良い。  \n",
    "\n",
    "```python\n",
    "# カラムは３階層構造を持っている。第一階層では \"create_time\" と \"receive_time\" を指定し、\n",
    "# 第二階層では \"LMAX_LD\" を指定。\n",
    "df.loc[df.index[0:100],((\"create_time\",\"receive_time\"),\"LMAX_LD\")]\n",
    "```"
   ]
  },
  {
   "cell_type": "markdown",
   "metadata": {},
   "source": [
    "# Permutaion Importance\n",
    "構築したモデルにおいて、どの特徴量が重要なのかを、各特徴量の並び順をランダムにシャッフルしながら求めたもの。  \n",
    "モデルを構築しなおすのではなく、値を入れ替えたもので予測させるので、計算負荷に考慮した手法である。  \n",
    "\n",
    "[Python: 特徴量の重要度を Permutation Importance で計測する - CUBE SUGAR CONTAINER](https://blog.amedama.jp/entry/permutation-importance)  \n",
    "おなじみのiris dataset をランダムフォレストで学習させ、構築したモデルにおける各特徴量の影響度を Permutation Importance として計算。  \n",
    "ランダムに並べ替えると性能悪化が大きい特徴量は ```Petal length```, ```Petal width``` である。  \n",
    "性能悪化のばらつきの幅も大きい。  \n",
    "一方、影響が少ないのは```Sepal length```, ```Sepal width``` で、性能悪化はほぼゼロ。ばらつきも小さい。   \n",
    "![Permutation Importance](https://cdn-ak.f.st-hatena.com/images/fotolife/m/momijiame/20181110/20181110230620.png)\n",
    "\n",
    "\n",
    "Permutation Importance の話題からそれるが、以下のように yield を使うと、イテレーション処理で呼び出すジェネレータを作ることが出来る。  \n",
    "```python\n",
    "def permuted(df):\n",
    "    \"\"\"特定のカラムをシャッフルしたデータフレームを返す\"\"\"\n",
    "    for column_name in df.columns:\n",
    "        permuted_df = df.copy()\n",
    "        permuted_df[column_name] = np.random.permutation(permuted_df[column_name])\n",
    "        yield column_name, permuted_df\n",
    "        \n",
    "# このようなイテレーション処理に使える。\n",
    "for column_name, permuted_X_test in permuted(X_test):\n",
    "    # 処理\n",
    "```\n",
    "\n",
    "## Eli5 パッケージを使う\n",
    "\n",
    "Permutation Importance を計算するための```Eli5```というパッケージがある。  \n",
    "以下のエントリで使い方を紹介している。  \n",
    "[機械学習モデルにおける特徴量の重要度評価Permutation Importanceとeli5について 実装編 | 分析トレイン](https://bunseki-train.com/permutaion_importance_and_eli5_2/)\n",
    "\n",
    "こちらも、お馴染みのワインデータセットをランダムフォレストで学習し、Eli5パッケージを使って Permutation Importance を求めている。  \n",
    "(このような表形式でレンダリングする機能も提供されている。)\n",
    "![Permutation Importance @ Wine](https://bunseki-train.com/wp/wp-content/uploads/2018/09/%E3%82%B9%E3%82%AF%E3%83%AA%E3%83%BC%E3%83%B3%E3%82%B7%E3%83%A7%E3%83%83%E3%83%88-2018-09-22-00.27.24-300x200.png)\n",
    "\n",
    "そして、影響度上位２つの特徴量を散布図にすると、以下のような図が得られた。  \n",
    "![Scatter Plot@Wine](https://bunseki-train.com/wp/wp-content/uploads/2018/09/output_4_0.png)\n",
    "\n",
    "他にも、個々のサンプルにおける特徴量の重要度を計算するAPIも提供されている。  \n",
    "```python\n",
    "# コード例\n",
    "eli5.show_prediction(rf_clf, doc=val_X.iloc[0], feature_names= val_X.columns.tolist(), show_feature_values=True)\n",
    "```\n",
    "![Permutation Importance@each sample](https://bunseki-train.com/wp/wp-content/uploads/2018/09/%E3%82%B9%E3%82%AF%E3%83%AA%E3%83%BC%E3%83%B3%E3%82%B7%E3%83%A7%E3%83%83%E3%83%88-2018-09-22-18.57.46-1024x232.png)"
   ]
  },
  {
   "cell_type": "markdown",
   "metadata": {},
   "source": [
    "# 良い教材サイト\n",
    "\n",
    "以下のサイトのRSSは、定点観測しておくべきだろう。\n",
    "https://towardsdatascience.com/"
   ]
  },
  {
   "cell_type": "markdown",
   "metadata": {},
   "source": [
    "# ３群以上における比率の検定\n",
    "\n",
    "## フィッシャーの正確確率検定\n",
    "2群の比較にしか対応しておらず。"
   ]
  },
  {
   "cell_type": "code",
   "execution_count": 1,
   "metadata": {
    "collapsed": false
   },
   "outputs": [
    {
     "data": {
      "text/plain": [
       "0.034965034965034947"
      ]
     },
     "execution_count": 1,
     "metadata": {},
     "output_type": "execute_result"
    }
   ],
   "source": [
    "import scipy.stats as stats\n",
    "oddsratio, pvalue = stats.fisher_exact([[8, 2], [1, 5]])\n",
    "pvalue"
   ]
  },
  {
   "cell_type": "code",
   "execution_count": 2,
   "metadata": {
    "collapsed": false
   },
   "outputs": [
    {
     "ename": "ValueError",
     "evalue": "The input `table` must be of shape (2, 2).",
     "output_type": "error",
     "traceback": [
      "\u001b[1;31m---------------------------------------------------------------------------\u001b[0m",
      "\u001b[1;31mValueError\u001b[0m                                Traceback (most recent call last)",
      "\u001b[1;32m<ipython-input-2-ad5c70a4b339>\u001b[0m in \u001b[0;36m<module>\u001b[1;34m\u001b[0m\n\u001b[1;32m----> 1\u001b[1;33m \u001b[0moddsratio\u001b[0m\u001b[1;33m,\u001b[0m \u001b[0mpvalue\u001b[0m \u001b[1;33m=\u001b[0m \u001b[0mstats\u001b[0m\u001b[1;33m.\u001b[0m\u001b[0mfisher_exact\u001b[0m\u001b[1;33m(\u001b[0m\u001b[1;33m[\u001b[0m\u001b[1;33m[\u001b[0m\u001b[1;36m8\u001b[0m\u001b[1;33m,\u001b[0m \u001b[1;36m2\u001b[0m\u001b[1;33m,\u001b[0m\u001b[1;36m6\u001b[0m\u001b[1;33m]\u001b[0m\u001b[1;33m,\u001b[0m \u001b[1;33m[\u001b[0m\u001b[1;36m1\u001b[0m\u001b[1;33m,\u001b[0m \u001b[1;36m5\u001b[0m\u001b[1;33m,\u001b[0m\u001b[1;36m3\u001b[0m\u001b[1;33m]\u001b[0m\u001b[1;33m]\u001b[0m\u001b[1;33m)\u001b[0m\u001b[1;33m\u001b[0m\u001b[0m\n\u001b[0m",
      "\u001b[1;32mC:\\Program Files\\Anaconda3\\envs\\kaggle\\lib\\site-packages\\scipy\\stats\\stats.py\u001b[0m in \u001b[0;36mfisher_exact\u001b[1;34m(table, alternative)\u001b[0m\n\u001b[0;32m   3085\u001b[0m     \u001b[0mc\u001b[0m \u001b[1;33m=\u001b[0m \u001b[0mnp\u001b[0m\u001b[1;33m.\u001b[0m\u001b[0masarray\u001b[0m\u001b[1;33m(\u001b[0m\u001b[0mtable\u001b[0m\u001b[1;33m,\u001b[0m \u001b[0mdtype\u001b[0m\u001b[1;33m=\u001b[0m\u001b[0mnp\u001b[0m\u001b[1;33m.\u001b[0m\u001b[0mint64\u001b[0m\u001b[1;33m)\u001b[0m  \u001b[1;31m# int32 is not enough for the algorithm\u001b[0m\u001b[1;33m\u001b[0m\u001b[0m\n\u001b[0;32m   3086\u001b[0m     \u001b[1;32mif\u001b[0m \u001b[1;32mnot\u001b[0m \u001b[0mc\u001b[0m\u001b[1;33m.\u001b[0m\u001b[0mshape\u001b[0m \u001b[1;33m==\u001b[0m \u001b[1;33m(\u001b[0m\u001b[1;36m2\u001b[0m\u001b[1;33m,\u001b[0m \u001b[1;36m2\u001b[0m\u001b[1;33m)\u001b[0m\u001b[1;33m:\u001b[0m\u001b[1;33m\u001b[0m\u001b[0m\n\u001b[1;32m-> 3087\u001b[1;33m         \u001b[1;32mraise\u001b[0m \u001b[0mValueError\u001b[0m\u001b[1;33m(\u001b[0m\u001b[1;34m\"The input `table` must be of shape (2, 2).\"\u001b[0m\u001b[1;33m)\u001b[0m\u001b[1;33m\u001b[0m\u001b[0m\n\u001b[0m\u001b[0;32m   3088\u001b[0m \u001b[1;33m\u001b[0m\u001b[0m\n\u001b[0;32m   3089\u001b[0m     \u001b[1;32mif\u001b[0m \u001b[0mnp\u001b[0m\u001b[1;33m.\u001b[0m\u001b[0many\u001b[0m\u001b[1;33m(\u001b[0m\u001b[0mc\u001b[0m \u001b[1;33m<\u001b[0m \u001b[1;36m0\u001b[0m\u001b[1;33m)\u001b[0m\u001b[1;33m:\u001b[0m\u001b[1;33m\u001b[0m\u001b[0m\n",
      "\u001b[1;31mValueError\u001b[0m: The input `table` must be of shape (2, 2)."
     ]
    }
   ],
   "source": [
    "oddsratio, pvalue = stats.fisher_exact([[8, 2,6], [1, 5,3]])\n"
   ]
  },
  {
   "cell_type": "markdown",
   "metadata": {},
   "source": [
    "## ANOVA\n",
    "ユーザーを3つのグループにわけ、それぞれのある広告に対するクリック率を分散分析にかける。  \n",
    "以下の実験では、p値が 0.09426 > 0.05 であり、いずれの集団間のクリック率に差が無い模様。"
   ]
  },
  {
   "cell_type": "code",
   "execution_count": 5,
   "metadata": {
    "collapsed": false
   },
   "outputs": [
    {
     "name": "stdout",
     "output_type": "stream",
     "text": [
      "group_1 : クリック率 0.0625\n",
      "group_2 : クリック率 0.046052631578947366\n",
      "group_3 : クリック率 0.07407407407407407\n",
      "F_onewayResult(statistic=2.3640770772502058, pvalue=0.094267839828490102)\n"
     ]
    }
   ],
   "source": [
    "# ３つのグループを用意する\n",
    "group_1 = [0] * 450 + [1] * 30   # 480人中30人がクリック\n",
    "group_2 = [0] * 1450 + [1] * 70   # 1520人中70人がクリック\n",
    "group_3 = [0] * 250 + [1] * 20   # 270人中20人がクリック\n",
    "\n",
    "print(\"group_1 : クリック率 {}\".format(sum(group_1)/len(group_1)))\n",
    "print(\"group_2 : クリック率 {}\".format(sum(group_2)/len(group_2)))\n",
    "print(\"group_3 : クリック率 {}\".format(sum(group_3)/len(group_3)))\n",
    "\n",
    "result = stats.f_oneway(group_1, group_2, group_3)\n",
    "print(result)"
   ]
  },
  {
   "cell_type": "markdown",
   "metadata": {},
   "source": [
    "しかし、この分布が正規分布に従っているかどうか不明の場合、ノンパラメトリックANOVAを実施する必要がある。 \n",
    "そこで使うのが クラスカル＝ウォリス検定である。  \n",
    "https://docs.scipy.org/doc/scipy/reference/generated/scipy.stats.kruskal.html  \n",
    "\n",
    "結果は、p=0.0943 > 0.05 であり、３群のクリック率に有意差は見られないということになる。"
   ]
  },
  {
   "cell_type": "code",
   "execution_count": 6,
   "metadata": {
    "collapsed": false
   },
   "outputs": [
    {
     "data": {
      "text/plain": [
       "KruskalResult(statistic=4.7224760396281864, pvalue=0.094303401417893409)"
      ]
     },
     "execution_count": 6,
     "metadata": {},
     "output_type": "execute_result"
    }
   ],
   "source": [
    " stats.kruskal(group_1, group_2, group_3)"
   ]
  },
  {
   "cell_type": "markdown",
   "metadata": {},
   "source": [
    "グループ１のクリック人数が増えると、p値が大きく改善した。  \n",
    "p = ```4.4366171784343485e-11``` < 0.05 "
   ]
  },
  {
   "cell_type": "code",
   "execution_count": 7,
   "metadata": {
    "collapsed": false
   },
   "outputs": [
    {
     "name": "stdout",
     "output_type": "stream",
     "text": [
      "group_1 : クリック率 0.1346153846153846\n",
      "group_2 : クリック率 0.046052631578947366\n",
      "group_3 : クリック率 0.07407407407407407\n",
      "F_onewayResult(statistic=24.086576429269371, pvalue=4.4366171784343485e-11)\n"
     ]
    }
   ],
   "source": [
    "# ３つのグループを用意する\n",
    "group_1 = [0] * 450 + [1] * 70   # 520人中70人がクリック\n",
    "group_2 = [0] * 1450 + [1] * 70   # 1520人中70人がクリック\n",
    "group_3 = [0] * 250 + [1] * 20   # 270人中20人がクリック\n",
    "\n",
    "print(\"group_1 : クリック率 {}\".format(sum(group_1)/len(group_1)))\n",
    "print(\"group_2 : クリック率 {}\".format(sum(group_2)/len(group_2)))\n",
    "print(\"group_3 : クリック率 {}\".format(sum(group_3)/len(group_3)))\n",
    "\n",
    "result = stats.f_oneway(group_1, group_2, group_3)\n",
    "print(result)"
   ]
  },
  {
   "cell_type": "code",
   "execution_count": 13,
   "metadata": {
    "collapsed": false
   },
   "outputs": [
    {
     "name": "stdout",
     "output_type": "stream",
     "text": [
      "group_1 : クリック率 0.07024793388429752\n",
      "group_2 : クリック率 0.046052631578947366\n",
      "group_3 : クリック率 0.07407407407407407\n",
      "F_onewayResult(statistic=3.2241185449912395, pvalue=0.039973044542158963)\n"
     ]
    }
   ],
   "source": [
    "# ３つのグループを用意する\n",
    "group_1 = [0] * 450 + [1] * 34   \n",
    "group_2 = [0] * 1450 + [1] * 70   # 1520人中70人がクリック\n",
    "group_3 = [0] * 250 + [1] * 20   # 270人中20人がクリック\n",
    "\n",
    "print(\"group_1 : クリック率 {}\".format(sum(group_1)/len(group_1)))\n",
    "print(\"group_2 : クリック率 {}\".format(sum(group_2)/len(group_2)))\n",
    "print(\"group_3 : クリック率 {}\".format(sum(group_3)/len(group_3)))\n",
    "\n",
    "result = stats.f_oneway(group_1, group_2, group_3)\n",
    "print(result)"
   ]
  },
  {
   "cell_type": "code",
   "execution_count": 14,
   "metadata": {
    "collapsed": false
   },
   "outputs": [
    {
     "data": {
      "text/plain": [
       "0.039973044542158963"
      ]
     },
     "execution_count": 14,
     "metadata": {},
     "output_type": "execute_result"
    }
   ],
   "source": [
    "result.pvalue"
   ]
  },
  {
   "cell_type": "markdown",
   "metadata": {},
   "source": [
    "### ANOVAの後の多重比較\n",
    "ANOVAを行い、p値が 0.05 以下であれば、比較群の平均値はいずれも同じというわけではない可能性が高いので、\n",
    "どの群とどの群の平均値が異なるのか、多重比較をするのだが、比較する値が違うので理論的には誤りであり、\n",
    "慣例的に行われているに過ぎないという指摘があった。  \n",
    "> ・分散分析の後、どの群間に差があったかを知る検定（多重比較法）  \n",
    "※分散分析→多重比較 という手順は理論的に誤り；扱う統計量が異なるため  \n",
    "　⇒慣習的に行われているのが現状  \n",
    "　⇒様々な方法があるが、明らかに誤りである方法以外のものを選択すれば問題ないはず  \n",
    " http://chishiegg.com/archives/46945828.html\n",
    " \n"
   ]
  },
  {
   "cell_type": "markdown",
   "metadata": {},
   "source": [
    "# Jupyter Tips\n",
    "参考: https://qiita.com/ishizakiiii/items/b98bbf8997f039f40058\n",
    "\n",
    "## 自作モジュール変更や新規インストールしたモジュールを手動反映する\n",
    "```%reload_ext autoreload``` を実行すれば、変更したモジュールの内容をすぐにカーネルに反映できる。  \n"
   ]
  },
  {
   "cell_type": "code",
   "execution_count": null,
   "metadata": {
    "collapsed": true
   },
   "outputs": [],
   "source": []
  }
 ],
 "metadata": {
  "kernelspec": {
   "display_name": "Python [conda env:kaggle]",
   "language": "python",
   "name": "conda-env-kaggle-py"
  },
  "language_info": {
   "codemirror_mode": {
    "name": "ipython",
    "version": 3
   },
   "file_extension": ".py",
   "mimetype": "text/x-python",
   "name": "python",
   "nbconvert_exporter": "python",
   "pygments_lexer": "ipython3",
   "version": "3.5.5"
  },
  "toc": {
   "base_numbering": 1,
   "nav_menu": {},
   "number_sections": true,
   "sideBar": true,
   "skip_h1_title": false,
   "title_cell": "Table of Contents",
   "title_sidebar": "Contents",
   "toc_cell": true,
   "toc_position": {},
   "toc_section_display": true,
   "toc_window_display": true
  },
  "varInspector": {
   "cols": {
    "lenName": 16,
    "lenType": 16,
    "lenVar": 40
   },
   "kernels_config": {
    "python": {
     "delete_cmd_postfix": "",
     "delete_cmd_prefix": "del ",
     "library": "var_list.py",
     "varRefreshCmd": "print(var_dic_list())"
    },
    "r": {
     "delete_cmd_postfix": ") ",
     "delete_cmd_prefix": "rm(",
     "library": "var_list.r",
     "varRefreshCmd": "cat(var_dic_list()) "
    }
   },
   "types_to_exclude": [
    "module",
    "function",
    "builtin_function_or_method",
    "instance",
    "_Feature"
   ],
   "window_display": false
  }
 },
 "nbformat": 4,
 "nbformat_minor": 2
}
