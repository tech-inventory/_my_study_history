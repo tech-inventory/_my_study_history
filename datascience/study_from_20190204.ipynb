{
 "cells": [
  {
   "cell_type": "markdown",
   "metadata": {
    "toc": true
   },
   "source": [
    "<h1>Table of Contents<span class=\"tocSkip\"></span></h1>\n",
    "<div class=\"toc\"><ul class=\"toc-item\"><li><span><a href=\"#概要\" data-toc-modified-id=\"概要-1\"><span class=\"toc-item-num\">1&nbsp;&nbsp;</span>概要</a></span></li><li><span><a href=\"#機械学習における前処理\" data-toc-modified-id=\"機械学習における前処理-2\"><span class=\"toc-item-num\">2&nbsp;&nbsp;</span>機械学習における前処理</a></span></li><li><span><a href=\"#階層カラムを持つデータフレームの操作方法\" data-toc-modified-id=\"階層カラムを持つデータフレームの操作方法-3\"><span class=\"toc-item-num\">3&nbsp;&nbsp;</span>階層カラムを持つデータフレームの操作方法</a></span></li><li><span><a href=\"#Permutaion-Importance\" data-toc-modified-id=\"Permutaion-Importance-4\"><span class=\"toc-item-num\">4&nbsp;&nbsp;</span>Permutaion Importance</a></span><ul class=\"toc-item\"><li><span><a href=\"#Eli5-パッケージを使う\" data-toc-modified-id=\"Eli5-パッケージを使う-4.1\"><span class=\"toc-item-num\">4.1&nbsp;&nbsp;</span>Eli5 パッケージを使う</a></span></li></ul></li><li><span><a href=\"#良い教材サイト\" data-toc-modified-id=\"良い教材サイト-5\"><span class=\"toc-item-num\">5&nbsp;&nbsp;</span>良い教材サイト</a></span></li></ul></div>"
   ]
  },
  {
   "cell_type": "markdown",
   "metadata": {},
   "source": [
    "# 概要\n",
    "学習メモである。2019-02-04以降の内容である。\n"
   ]
  },
  {
   "cell_type": "markdown",
   "metadata": {},
   "source": [
    "# 機械学習における前処理\n",
    "\n",
    "おさらいであるが、良いエントリを見つけた。\n",
    "\n",
    "Machine Learning(ML) — Data Preprocessing – Data Driven Investor – Medium\n",
    "https://medium.com/datadriveninvestor/machine-learning-ml-data-preprocessing-5b346766fc48\n",
    "\n",
    "\n",
    "機械学習における前処理は、主には次の５つに分けられる。 \n",
    "* データクリーニング\n",
    "    1. 欠損値を補完する\n",
    "    2. ノイズを含むデータを平滑化する\n",
    "    3. 異常値を識別する、または除去する\n",
    "    4. その他不整合を解決する\n",
    "* データ統合\n",
    "    複数のデータベース、テーブル、ファイルを利用して、データを結合しする。\n",
    "* データ変換\n",
    "    正規化や集約処理をする\n",
    "* データ削減\n",
    "    データ量を減らしつつも、同じか類似した分析結果を得られるようにする。\n",
    "* データ離散化\n",
    "    数値をone-hot形式に変換するなど\n",
    "\n",
    "> Data cleaning: fill in missing values, smooth noisy data, identify or remove outliers, and resolve inconsistencies.  \n",
    "Data integration: using multiple databases, data cubes, or files.  \n",
    "Data transformation: normalization and aggregation.  \n",
    "Data reduction: reducing the volume but producing the same or similar analytical results.  \n",
    "Data discretization: part of data reduction, replacing numerical attributes with nominal ones.  \n"
   ]
  },
  {
   "cell_type": "markdown",
   "metadata": {},
   "source": [
    "# 階層カラムを持つデータフレームの操作方法\n",
    "カラムが階層構造を持つ場合、タプルを用いて各階層のカラムを指定すれば良い。ワイルドカード指定をしたい場合は、カラム指定をスキップすれば良い。  \n",
    "\n",
    "```python\n",
    "# カラムは３階層構造を持っている。第一階層では \"create_time\" と \"receive_time\" を指定し、\n",
    "# 第二階層では \"LMAX_LD\" を指定。\n",
    "df.loc[df.index[0:100],((\"create_time\",\"receive_time\"),\"LMAX_LD\")]\n",
    "```"
   ]
  },
  {
   "cell_type": "markdown",
   "metadata": {},
   "source": [
    "# Permutaion Importance\n",
    "構築したモデルにおいて、どの特徴量が重要なのかを、各特徴量の並び順をランダムにシャッフルしながら求めたもの。  \n",
    "モデルを構築しなおすのではなく、値を入れ替えたもので予測させるので、計算負荷に考慮した手法である。  \n",
    "\n",
    "[Python: 特徴量の重要度を Permutation Importance で計測する - CUBE SUGAR CONTAINER](https://blog.amedama.jp/entry/permutation-importance)  \n",
    "おなじみのiris dataset をランダムフォレストで学習させ、構築したモデルにおける各特徴量の影響度を Permutation Importance として計算。  \n",
    "ランダムに並べ替えると性能悪化が大きい特徴量は ```Petal length```, ```Petal width``` である。  \n",
    "性能悪化のばらつきの幅も大きい。  \n",
    "一方、影響が少ないのは```Sepal length```, ```Sepal width``` で、性能悪化はほぼゼロ。ばらつきも小さい。   \n",
    "![Permutation Importance](https://cdn-ak.f.st-hatena.com/images/fotolife/m/momijiame/20181110/20181110230620.png)\n",
    "\n",
    "\n",
    "Permutation Importance の話題からそれるが、以下のように yield を使うと、イテレーション処理で呼び出すジェネレータを作ることが出来る。  \n",
    "```python\n",
    "def permuted(df):\n",
    "    \"\"\"特定のカラムをシャッフルしたデータフレームを返す\"\"\"\n",
    "    for column_name in df.columns:\n",
    "        permuted_df = df.copy()\n",
    "        permuted_df[column_name] = np.random.permutation(permuted_df[column_name])\n",
    "        yield column_name, permuted_df\n",
    "        \n",
    "# このようなイテレーション処理に使える。\n",
    "for column_name, permuted_X_test in permuted(X_test):\n",
    "    # 処理\n",
    "```\n",
    "\n",
    "## Eli5 パッケージを使う\n",
    "\n",
    "Permutation Importance を計算するための```Eli5```というパッケージがある。  \n",
    "以下のエントリで使い方を紹介している。  \n",
    "[機械学習モデルにおける特徴量の重要度評価Permutation Importanceとeli5について 実装編 | 分析トレイン](https://bunseki-train.com/permutaion_importance_and_eli5_2/)\n",
    "\n",
    "こちらも、お馴染みのワインデータセットをランダムフォレストで学習し、Eli5パッケージを使って Permutation Importance を求めている。  \n",
    "(このような表形式でレンダリングする機能も提供されている。)\n",
    "![Permutation Importance @ Wine](https://bunseki-train.com/wp/wp-content/uploads/2018/09/%E3%82%B9%E3%82%AF%E3%83%AA%E3%83%BC%E3%83%B3%E3%82%B7%E3%83%A7%E3%83%83%E3%83%88-2018-09-22-00.27.24-300x200.png)\n",
    "\n",
    "そして、影響度上位２つの特徴量を散布図にすると、以下のような図が得られた。  \n",
    "![Scatter Plot@Wine](https://bunseki-train.com/wp/wp-content/uploads/2018/09/output_4_0.png)\n",
    "\n",
    "他にも、個々のサンプルにおける特徴量の重要度を計算するAPIも提供されている。  \n",
    "```python\n",
    "# コード例\n",
    "eli5.show_prediction(rf_clf, doc=val_X.iloc[0], feature_names= val_X.columns.tolist(), show_feature_values=True)\n",
    "```\n",
    "![Permutation Importance@each sample](https://bunseki-train.com/wp/wp-content/uploads/2018/09/%E3%82%B9%E3%82%AF%E3%83%AA%E3%83%BC%E3%83%B3%E3%82%B7%E3%83%A7%E3%83%83%E3%83%88-2018-09-22-18.57.46-1024x232.png)"
   ]
  },
  {
   "cell_type": "markdown",
   "metadata": {},
   "source": [
    "# 良い教材サイト\n",
    "\n",
    "以下のサイトのRSSは、定点観測しておくべきだろう。\n",
    "https://towardsdatascience.com/"
   ]
  },
  {
   "cell_type": "code",
   "execution_count": null,
   "metadata": {
    "collapsed": true
   },
   "outputs": [],
   "source": []
  }
 ],
 "metadata": {
  "kernelspec": {
   "display_name": "Python [default]",
   "language": "python",
   "name": "python3"
  },
  "language_info": {
   "codemirror_mode": {
    "name": "ipython",
    "version": 3
   },
   "file_extension": ".py",
   "mimetype": "text/x-python",
   "name": "python",
   "nbconvert_exporter": "python",
   "pygments_lexer": "ipython3",
   "version": "3.5.5"
  },
  "toc": {
   "base_numbering": 1,
   "nav_menu": {},
   "number_sections": true,
   "sideBar": true,
   "skip_h1_title": false,
   "title_cell": "Table of Contents",
   "title_sidebar": "Contents",
   "toc_cell": true,
   "toc_position": {},
   "toc_section_display": true,
   "toc_window_display": true
  },
  "varInspector": {
   "cols": {
    "lenName": 16,
    "lenType": 16,
    "lenVar": 40
   },
   "kernels_config": {
    "python": {
     "delete_cmd_postfix": "",
     "delete_cmd_prefix": "del ",
     "library": "var_list.py",
     "varRefreshCmd": "print(var_dic_list())"
    },
    "r": {
     "delete_cmd_postfix": ") ",
     "delete_cmd_prefix": "rm(",
     "library": "var_list.r",
     "varRefreshCmd": "cat(var_dic_list()) "
    }
   },
   "types_to_exclude": [
    "module",
    "function",
    "builtin_function_or_method",
    "instance",
    "_Feature"
   ],
   "window_display": false
  }
 },
 "nbformat": 4,
 "nbformat_minor": 2
}
