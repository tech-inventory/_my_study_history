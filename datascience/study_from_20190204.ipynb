{
 "cells": [
  {
   "cell_type": "markdown",
   "metadata": {
    "toc": true
   },
   "source": [
    "<h1>Table of Contents<span class=\"tocSkip\"></span></h1>\n",
    "<div class=\"toc\"><ul class=\"toc-item\"><li><span><a href=\"#概要\" data-toc-modified-id=\"概要-1\"><span class=\"toc-item-num\">1&nbsp;&nbsp;</span>概要</a></span></li><li><span><a href=\"#機械学習における前処理\" data-toc-modified-id=\"機械学習における前処理-2\"><span class=\"toc-item-num\">2&nbsp;&nbsp;</span>機械学習における前処理</a></span></li><li><span><a href=\"#階層カラムを持つデータフレームの操作方法\" data-toc-modified-id=\"階層カラムを持つデータフレームの操作方法-3\"><span class=\"toc-item-num\">3&nbsp;&nbsp;</span>階層カラムを持つデータフレームの操作方法</a></span></li><li><span><a href=\"#Permutaion-Importance\" data-toc-modified-id=\"Permutaion-Importance-4\"><span class=\"toc-item-num\">4&nbsp;&nbsp;</span>Permutaion Importance</a></span><ul class=\"toc-item\"><li><span><a href=\"#Eli5-パッケージを使う\" data-toc-modified-id=\"Eli5-パッケージを使う-4.1\"><span class=\"toc-item-num\">4.1&nbsp;&nbsp;</span>Eli5 パッケージを使う</a></span></li></ul></li><li><span><a href=\"#良い教材サイト\" data-toc-modified-id=\"良い教材サイト-5\"><span class=\"toc-item-num\">5&nbsp;&nbsp;</span>良い教材サイト</a></span></li><li><span><a href=\"#３群以上における比率の検定\" data-toc-modified-id=\"３群以上における比率の検定-6\"><span class=\"toc-item-num\">6&nbsp;&nbsp;</span>３群以上における比率の検定</a></span><ul class=\"toc-item\"><li><span><a href=\"#フィッシャーの正確確率検定\" data-toc-modified-id=\"フィッシャーの正確確率検定-6.1\"><span class=\"toc-item-num\">6.1&nbsp;&nbsp;</span>フィッシャーの正確確率検定</a></span></li><li><span><a href=\"#ANOVA\" data-toc-modified-id=\"ANOVA-6.2\"><span class=\"toc-item-num\">6.2&nbsp;&nbsp;</span>ANOVA</a></span><ul class=\"toc-item\"><li><span><a href=\"#ANOVAの後の多重比較\" data-toc-modified-id=\"ANOVAの後の多重比較-6.2.1\"><span class=\"toc-item-num\">6.2.1&nbsp;&nbsp;</span>ANOVAの後の多重比較</a></span></li><li><span><a href=\"#良い教材サイト\" data-toc-modified-id=\"良い教材サイト-6.2.2\"><span class=\"toc-item-num\">6.2.2&nbsp;&nbsp;</span>良い教材サイト</a></span></li></ul></li></ul></li><li><span><a href=\"#Jupyter-Tips\" data-toc-modified-id=\"Jupyter-Tips-7\"><span class=\"toc-item-num\">7&nbsp;&nbsp;</span>Jupyter Tips</a></span><ul class=\"toc-item\"><li><span><a href=\"#自作モジュール変更や新規インストールしたモジュールを手動反映する\" data-toc-modified-id=\"自作モジュール変更や新規インストールしたモジュールを手動反映する-7.1\"><span class=\"toc-item-num\">7.1&nbsp;&nbsp;</span>自作モジュール変更や新規インストールしたモジュールを手動反映する</a></span></li></ul></li><li><span><a href=\"#日時処理関連:pandas.DatetimeIndex\" data-toc-modified-id=\"日時処理関連:pandas.DatetimeIndex-8\"><span class=\"toc-item-num\">8&nbsp;&nbsp;</span>日時処理関連:pandas.DatetimeIndex</a></span></li><li><span><a href=\"#計算機科学おさらい：アルゴリズム\" data-toc-modified-id=\"計算機科学おさらい：アルゴリズム-9\"><span class=\"toc-item-num\">9&nbsp;&nbsp;</span>計算機科学おさらい：アルゴリズム</a></span><ul class=\"toc-item\"><li><span><a href=\"#ソートアルゴリズム\" data-toc-modified-id=\"ソートアルゴリズム-9.1\"><span class=\"toc-item-num\">9.1&nbsp;&nbsp;</span>ソートアルゴリズム</a></span><ul class=\"toc-item\"><li><span><a href=\"#バブルソート\" data-toc-modified-id=\"バブルソート-9.1.1\"><span class=\"toc-item-num\">9.1.1&nbsp;&nbsp;</span>バブルソート</a></span></li><li><span><a href=\"#選択ソート\" data-toc-modified-id=\"選択ソート-9.1.2\"><span class=\"toc-item-num\">9.1.2&nbsp;&nbsp;</span>選択ソート</a></span></li><li><span><a href=\"#挿入ソート\" data-toc-modified-id=\"挿入ソート-9.1.3\"><span class=\"toc-item-num\">9.1.3&nbsp;&nbsp;</span>挿入ソート</a></span></li><li><span><a href=\"#マージソート\" data-toc-modified-id=\"マージソート-9.1.4\"><span class=\"toc-item-num\">9.1.4&nbsp;&nbsp;</span>マージソート</a></span></li><li><span><a href=\"#クイックソート\" data-toc-modified-id=\"クイックソート-9.1.5\"><span class=\"toc-item-num\">9.1.5&nbsp;&nbsp;</span>クイックソート</a></span></li><li><span><a href=\"#カウントソート\" data-toc-modified-id=\"カウントソート-9.1.6\"><span class=\"toc-item-num\">9.1.6&nbsp;&nbsp;</span>カウントソート</a></span></li></ul></li></ul></li></ul></div>"
   ]
  },
  {
   "cell_type": "markdown",
   "metadata": {},
   "source": [
    "# 概要\n",
    "学習メモである。2019-02-04以降の内容である。\n"
   ]
  },
  {
   "cell_type": "markdown",
   "metadata": {},
   "source": [
    "# 機械学習における前処理\n",
    "\n",
    "おさらいであるが、良いエントリを見つけた。\n",
    "\n",
    "Machine Learning(ML) — Data Preprocessing – Data Driven Investor – Medium\n",
    "https://medium.com/datadriveninvestor/machine-learning-ml-data-preprocessing-5b346766fc48\n",
    "\n",
    "\n",
    "機械学習における前処理は、主には次の５つに分けられる。 \n",
    "* データクリーニング\n",
    "    1. 欠損値を補完する\n",
    "    2. ノイズを含むデータを平滑化する\n",
    "    3. 異常値を識別する、または除去する\n",
    "    4. その他不整合を解決する\n",
    "* データ統合\n",
    "    複数のデータベース、テーブル、ファイルを利用して、データを結合しする。\n",
    "* データ変換\n",
    "    正規化や集約処理をする\n",
    "* データ削減\n",
    "    データ量を減らしつつも、同じか類似した分析結果を得られるようにする。\n",
    "* データ離散化\n",
    "    数値をone-hot形式に変換するなど\n",
    "\n",
    "> Data cleaning: fill in missing values, smooth noisy data, identify or remove outliers, and resolve inconsistencies.  \n",
    "Data integration: using multiple databases, data cubes, or files.  \n",
    "Data transformation: normalization and aggregation.  \n",
    "Data reduction: reducing the volume but producing the same or similar analytical results.  \n",
    "Data discretization: part of data reduction, replacing numerical attributes with nominal ones.  \n"
   ]
  },
  {
   "cell_type": "markdown",
   "metadata": {},
   "source": [
    "# 階層カラムを持つデータフレームの操作方法\n",
    "カラムが階層構造を持つ場合、タプルを用いて各階層のカラムを指定すれば良い。ワイルドカード指定をしたい場合は、カラム指定をスキップすれば良い。  \n",
    "\n",
    "```python\n",
    "# カラムは３階層構造を持っている。第一階層では \"create_time\" と \"receive_time\" を指定し、\n",
    "# 第二階層では \"LMAX_LD\" を指定。\n",
    "df.loc[df.index[0:100],((\"create_time\",\"receive_time\"),\"LMAX_LD\")]\n",
    "```"
   ]
  },
  {
   "cell_type": "markdown",
   "metadata": {},
   "source": [
    "# Permutaion Importance\n",
    "構築したモデルにおいて、どの特徴量が重要なのかを、各特徴量の並び順をランダムにシャッフルしながら求めたもの。  \n",
    "モデルを構築しなおすのではなく、値を入れ替えたもので予測させるので、計算負荷に考慮した手法である。  \n",
    "\n",
    "[Python: 特徴量の重要度を Permutation Importance で計測する - CUBE SUGAR CONTAINER](https://blog.amedama.jp/entry/permutation-importance)  \n",
    "おなじみのiris dataset をランダムフォレストで学習させ、構築したモデルにおける各特徴量の影響度を Permutation Importance として計算。  \n",
    "ランダムに並べ替えると性能悪化が大きい特徴量は ```Petal length```, ```Petal width``` である。  \n",
    "性能悪化のばらつきの幅も大きい。  \n",
    "一方、影響が少ないのは```Sepal length```, ```Sepal width``` で、性能悪化はほぼゼロ。ばらつきも小さい。   \n",
    "![Permutation Importance](https://cdn-ak.f.st-hatena.com/images/fotolife/m/momijiame/20181110/20181110230620.png)\n",
    "\n",
    "\n",
    "Permutation Importance の話題からそれるが、以下のように yield を使うと、イテレーション処理で呼び出すジェネレータを作ることが出来る。  \n",
    "```python\n",
    "def permuted(df):\n",
    "    \"\"\"特定のカラムをシャッフルしたデータフレームを返す\"\"\"\n",
    "    for column_name in df.columns:\n",
    "        permuted_df = df.copy()\n",
    "        permuted_df[column_name] = np.random.permutation(permuted_df[column_name])\n",
    "        yield column_name, permuted_df\n",
    "        \n",
    "# このようなイテレーション処理に使える。\n",
    "for column_name, permuted_X_test in permuted(X_test):\n",
    "    # 処理\n",
    "```\n",
    "\n",
    "## Eli5 パッケージを使う\n",
    "\n",
    "Permutation Importance を計算するための```Eli5```というパッケージがある。  \n",
    "以下のエントリで使い方を紹介している。  \n",
    "[機械学習モデルにおける特徴量の重要度評価Permutation Importanceとeli5について 実装編 | 分析トレイン](https://bunseki-train.com/permutaion_importance_and_eli5_2/)\n",
    "\n",
    "こちらも、お馴染みのワインデータセットをランダムフォレストで学習し、Eli5パッケージを使って Permutation Importance を求めている。  \n",
    "(このような表形式でレンダリングする機能も提供されている。)\n",
    "![Permutation Importance @ Wine](https://bunseki-train.com/wp/wp-content/uploads/2018/09/%E3%82%B9%E3%82%AF%E3%83%AA%E3%83%BC%E3%83%B3%E3%82%B7%E3%83%A7%E3%83%83%E3%83%88-2018-09-22-00.27.24-300x200.png)\n",
    "\n",
    "そして、影響度上位２つの特徴量を散布図にすると、以下のような図が得られた。  \n",
    "![Scatter Plot@Wine](https://bunseki-train.com/wp/wp-content/uploads/2018/09/output_4_0.png)\n",
    "\n",
    "他にも、個々のサンプルにおける特徴量の重要度を計算するAPIも提供されている。  \n",
    "```python\n",
    "# コード例\n",
    "eli5.show_prediction(rf_clf, doc=val_X.iloc[0], feature_names= val_X.columns.tolist(), show_feature_values=True)\n",
    "```\n",
    "![Permutation Importance@each sample](https://bunseki-train.com/wp/wp-content/uploads/2018/09/%E3%82%B9%E3%82%AF%E3%83%AA%E3%83%BC%E3%83%B3%E3%82%B7%E3%83%A7%E3%83%83%E3%83%88-2018-09-22-18.57.46-1024x232.png)"
   ]
  },
  {
   "cell_type": "markdown",
   "metadata": {},
   "source": [
    "# 良い教材サイト\n",
    "\n",
    "以下のサイトのRSSは、定点観測しておくべきだろう。\n",
    "https://towardsdatascience.com/"
   ]
  },
  {
   "cell_type": "markdown",
   "metadata": {},
   "source": [
    "# ３群以上における比率の検定\n",
    "\n",
    "## フィッシャーの正確確率検定\n",
    "2群の比較にしか対応しておらず。"
   ]
  },
  {
   "cell_type": "code",
   "execution_count": 1,
   "metadata": {
    "collapsed": false
   },
   "outputs": [
    {
     "data": {
      "text/plain": [
       "0.034965034965034947"
      ]
     },
     "execution_count": 1,
     "metadata": {},
     "output_type": "execute_result"
    }
   ],
   "source": [
    "import scipy.stats as stats\n",
    "oddsratio, pvalue = stats.fisher_exact([[8, 2], [1, 5]])\n",
    "pvalue"
   ]
  },
  {
   "cell_type": "code",
   "execution_count": 2,
   "metadata": {
    "collapsed": false
   },
   "outputs": [
    {
     "ename": "ValueError",
     "evalue": "The input `table` must be of shape (2, 2).",
     "output_type": "error",
     "traceback": [
      "\u001b[1;31m---------------------------------------------------------------------------\u001b[0m",
      "\u001b[1;31mValueError\u001b[0m                                Traceback (most recent call last)",
      "\u001b[1;32m<ipython-input-2-ad5c70a4b339>\u001b[0m in \u001b[0;36m<module>\u001b[1;34m\u001b[0m\n\u001b[1;32m----> 1\u001b[1;33m \u001b[0moddsratio\u001b[0m\u001b[1;33m,\u001b[0m \u001b[0mpvalue\u001b[0m \u001b[1;33m=\u001b[0m \u001b[0mstats\u001b[0m\u001b[1;33m.\u001b[0m\u001b[0mfisher_exact\u001b[0m\u001b[1;33m(\u001b[0m\u001b[1;33m[\u001b[0m\u001b[1;33m[\u001b[0m\u001b[1;36m8\u001b[0m\u001b[1;33m,\u001b[0m \u001b[1;36m2\u001b[0m\u001b[1;33m,\u001b[0m\u001b[1;36m6\u001b[0m\u001b[1;33m]\u001b[0m\u001b[1;33m,\u001b[0m \u001b[1;33m[\u001b[0m\u001b[1;36m1\u001b[0m\u001b[1;33m,\u001b[0m \u001b[1;36m5\u001b[0m\u001b[1;33m,\u001b[0m\u001b[1;36m3\u001b[0m\u001b[1;33m]\u001b[0m\u001b[1;33m]\u001b[0m\u001b[1;33m)\u001b[0m\u001b[1;33m\u001b[0m\u001b[0m\n\u001b[0m",
      "\u001b[1;32mC:\\Program Files\\Anaconda3\\envs\\kaggle\\lib\\site-packages\\scipy\\stats\\stats.py\u001b[0m in \u001b[0;36mfisher_exact\u001b[1;34m(table, alternative)\u001b[0m\n\u001b[0;32m   3085\u001b[0m     \u001b[0mc\u001b[0m \u001b[1;33m=\u001b[0m \u001b[0mnp\u001b[0m\u001b[1;33m.\u001b[0m\u001b[0masarray\u001b[0m\u001b[1;33m(\u001b[0m\u001b[0mtable\u001b[0m\u001b[1;33m,\u001b[0m \u001b[0mdtype\u001b[0m\u001b[1;33m=\u001b[0m\u001b[0mnp\u001b[0m\u001b[1;33m.\u001b[0m\u001b[0mint64\u001b[0m\u001b[1;33m)\u001b[0m  \u001b[1;31m# int32 is not enough for the algorithm\u001b[0m\u001b[1;33m\u001b[0m\u001b[0m\n\u001b[0;32m   3086\u001b[0m     \u001b[1;32mif\u001b[0m \u001b[1;32mnot\u001b[0m \u001b[0mc\u001b[0m\u001b[1;33m.\u001b[0m\u001b[0mshape\u001b[0m \u001b[1;33m==\u001b[0m \u001b[1;33m(\u001b[0m\u001b[1;36m2\u001b[0m\u001b[1;33m,\u001b[0m \u001b[1;36m2\u001b[0m\u001b[1;33m)\u001b[0m\u001b[1;33m:\u001b[0m\u001b[1;33m\u001b[0m\u001b[0m\n\u001b[1;32m-> 3087\u001b[1;33m         \u001b[1;32mraise\u001b[0m \u001b[0mValueError\u001b[0m\u001b[1;33m(\u001b[0m\u001b[1;34m\"The input `table` must be of shape (2, 2).\"\u001b[0m\u001b[1;33m)\u001b[0m\u001b[1;33m\u001b[0m\u001b[0m\n\u001b[0m\u001b[0;32m   3088\u001b[0m \u001b[1;33m\u001b[0m\u001b[0m\n\u001b[0;32m   3089\u001b[0m     \u001b[1;32mif\u001b[0m \u001b[0mnp\u001b[0m\u001b[1;33m.\u001b[0m\u001b[0many\u001b[0m\u001b[1;33m(\u001b[0m\u001b[0mc\u001b[0m \u001b[1;33m<\u001b[0m \u001b[1;36m0\u001b[0m\u001b[1;33m)\u001b[0m\u001b[1;33m:\u001b[0m\u001b[1;33m\u001b[0m\u001b[0m\n",
      "\u001b[1;31mValueError\u001b[0m: The input `table` must be of shape (2, 2)."
     ]
    }
   ],
   "source": [
    "oddsratio, pvalue = stats.fisher_exact([[8, 2,6], [1, 5,3]])\n"
   ]
  },
  {
   "cell_type": "markdown",
   "metadata": {},
   "source": [
    "## ANOVA\n",
    "ユーザーを3つのグループにわけ、それぞれのある広告に対するクリック率を分散分析にかける。  \n",
    "以下の実験では、p値が 0.09426 > 0.05 であり、いずれの集団間のクリック率に差が無い模様。"
   ]
  },
  {
   "cell_type": "code",
   "execution_count": 5,
   "metadata": {
    "collapsed": false
   },
   "outputs": [
    {
     "name": "stdout",
     "output_type": "stream",
     "text": [
      "group_1 : クリック率 0.0625\n",
      "group_2 : クリック率 0.046052631578947366\n",
      "group_3 : クリック率 0.07407407407407407\n",
      "F_onewayResult(statistic=2.3640770772502058, pvalue=0.094267839828490102)\n"
     ]
    }
   ],
   "source": [
    "# ３つのグループを用意する\n",
    "group_1 = [0] * 450 + [1] * 30   # 480人中30人がクリック\n",
    "group_2 = [0] * 1450 + [1] * 70   # 1520人中70人がクリック\n",
    "group_3 = [0] * 250 + [1] * 20   # 270人中20人がクリック\n",
    "\n",
    "print(\"group_1 : クリック率 {}\".format(sum(group_1)/len(group_1)))\n",
    "print(\"group_2 : クリック率 {}\".format(sum(group_2)/len(group_2)))\n",
    "print(\"group_3 : クリック率 {}\".format(sum(group_3)/len(group_3)))\n",
    "\n",
    "result = stats.f_oneway(group_1, group_2, group_3)\n",
    "print(result)"
   ]
  },
  {
   "cell_type": "markdown",
   "metadata": {},
   "source": [
    "しかし、この分布が正規分布に従っているかどうか不明の場合、ノンパラメトリックANOVAを実施する必要がある。 \n",
    "そこで使うのが クラスカル＝ウォリス検定である。  \n",
    "https://docs.scipy.org/doc/scipy/reference/generated/scipy.stats.kruskal.html  \n",
    "\n",
    "結果は、p=0.0943 > 0.05 であり、３群のクリック率に有意差は見られないということになる。"
   ]
  },
  {
   "cell_type": "code",
   "execution_count": 6,
   "metadata": {
    "collapsed": false
   },
   "outputs": [
    {
     "data": {
      "text/plain": [
       "KruskalResult(statistic=4.7224760396281864, pvalue=0.094303401417893409)"
      ]
     },
     "execution_count": 6,
     "metadata": {},
     "output_type": "execute_result"
    }
   ],
   "source": [
    " stats.kruskal(group_1, group_2, group_3)"
   ]
  },
  {
   "cell_type": "markdown",
   "metadata": {},
   "source": [
    "グループ１のクリック人数が増えると、p値が大きく改善した。  \n",
    "p = ```4.4366171784343485e-11``` < 0.05 "
   ]
  },
  {
   "cell_type": "code",
   "execution_count": 7,
   "metadata": {
    "collapsed": false
   },
   "outputs": [
    {
     "name": "stdout",
     "output_type": "stream",
     "text": [
      "group_1 : クリック率 0.1346153846153846\n",
      "group_2 : クリック率 0.046052631578947366\n",
      "group_3 : クリック率 0.07407407407407407\n",
      "F_onewayResult(statistic=24.086576429269371, pvalue=4.4366171784343485e-11)\n"
     ]
    }
   ],
   "source": [
    "# ３つのグループを用意する\n",
    "group_1 = [0] * 450 + [1] * 70   # 520人中70人がクリック\n",
    "group_2 = [0] * 1450 + [1] * 70   # 1520人中70人がクリック\n",
    "group_3 = [0] * 250 + [1] * 20   # 270人中20人がクリック\n",
    "\n",
    "print(\"group_1 : クリック率 {}\".format(sum(group_1)/len(group_1)))\n",
    "print(\"group_2 : クリック率 {}\".format(sum(group_2)/len(group_2)))\n",
    "print(\"group_3 : クリック率 {}\".format(sum(group_3)/len(group_3)))\n",
    "\n",
    "result = stats.f_oneway(group_1, group_2, group_3)\n",
    "print(result)"
   ]
  },
  {
   "cell_type": "code",
   "execution_count": 13,
   "metadata": {
    "collapsed": false
   },
   "outputs": [
    {
     "name": "stdout",
     "output_type": "stream",
     "text": [
      "group_1 : クリック率 0.07024793388429752\n",
      "group_2 : クリック率 0.046052631578947366\n",
      "group_3 : クリック率 0.07407407407407407\n",
      "F_onewayResult(statistic=3.2241185449912395, pvalue=0.039973044542158963)\n"
     ]
    }
   ],
   "source": [
    "# ３つのグループを用意する\n",
    "group_1 = [0] * 450 + [1] * 34   \n",
    "group_2 = [0] * 1450 + [1] * 70   # 1520人中70人がクリック\n",
    "group_3 = [0] * 250 + [1] * 20   # 270人中20人がクリック\n",
    "\n",
    "print(\"group_1 : クリック率 {}\".format(sum(group_1)/len(group_1)))\n",
    "print(\"group_2 : クリック率 {}\".format(sum(group_2)/len(group_2)))\n",
    "print(\"group_3 : クリック率 {}\".format(sum(group_3)/len(group_3)))\n",
    "\n",
    "result = stats.f_oneway(group_1, group_2, group_3)\n",
    "print(result)"
   ]
  },
  {
   "cell_type": "code",
   "execution_count": 14,
   "metadata": {
    "collapsed": false
   },
   "outputs": [
    {
     "data": {
      "text/plain": [
       "0.039973044542158963"
      ]
     },
     "execution_count": 14,
     "metadata": {},
     "output_type": "execute_result"
    }
   ],
   "source": [
    "result.pvalue"
   ]
  },
  {
   "cell_type": "markdown",
   "metadata": {},
   "source": [
    "### ANOVAの後の多重比較\n",
    "ANOVAを行い、p値が 0.05 以下であれば、比較群の平均値はいずれも同じというわけではない可能性が高いので、\n",
    "どの群とどの群の平均値が異なるのか、多重比較をするのだが、比較する値が違うので理論的には誤りであり、\n",
    "慣例的に行われているに過ぎないという指摘があった。  \n",
    "> ・分散分析の後、どの群間に差があったかを知る検定（多重比較法）  \n",
    "※分散分析→多重比較 という手順は理論的に誤り；扱う統計量が異なるため  \n",
    "　⇒慣習的に行われているのが現状  \n",
    "　⇒様々な方法があるが、明らかに誤りである方法以外のものを選択すれば問題ないはず  \n",
    " http://chishiegg.com/archives/46945828.html\n",
    " \n"
   ]
  },
  {
   "cell_type": "markdown",
   "metadata": {},
   "source": [
    "### 良い教材サイト\n",
    "JupyterNotebookで作成された良質の統計授業コンテンツを見つけた。  \n",
    "以下のページでは、ANOVAを扱っており、体系だっており、サンプルコードもある。  \n",
    "http://lang.sist.chukyo-u.ac.jp/classes/PythonProbStat/Python-statistics6.html"
   ]
  },
  {
   "cell_type": "markdown",
   "metadata": {},
   "source": [
    "# Jupyter Tips\n",
    "参考: https://qiita.com/ishizakiiii/items/b98bbf8997f039f40058\n",
    "\n",
    "## 自作モジュール変更や新規インストールしたモジュールを手動反映する\n",
    "```%reload_ext autoreload``` を実行すれば、変更したモジュールの内容をすぐにカーネルに反映できる。  \n"
   ]
  },
  {
   "cell_type": "markdown",
   "metadata": {},
   "source": [
    "# 日時処理関連:pandas.DatetimeIndex\n",
    "pandas の DatetimeIndex だが、基本単位が**ナノ秒**である。  \n",
    "pandas の DatetimeIndex を datetime オブジェクトにする際には、$10^9$ で割っておく必要がある。  \n",
    "参考:\n",
    "https://stackoverflow.com/questions/15203623/convert-pandas-datetimeindex-to-unix-time  \n",
    "https://stackoverflow.com/questions/3682748/converting-unix-timestamp-string-to-readable-date"
   ]
  },
  {
   "cell_type": "code",
   "execution_count": 15,
   "metadata": {
    "collapsed": false
   },
   "outputs": [
    {
     "name": "stdout",
     "output_type": "stream",
     "text": [
      "Int64Index([1335830400000000000, 1335916800000000000, 1336003200000000000], dtype='int64')\n",
      "Int64Index([1335830400, 1335916800, 1336003200], dtype='int64')\n"
     ]
    }
   ],
   "source": [
    "import numpy as np\n",
    "import pandas as pd\n",
    "from datetime import datetime\n",
    "dates = [datetime(2012, 5, 1), datetime(2012, 5, 2), datetime(2012, 5, 3)]\n",
    "index = pd.DatetimeIndex(dates)\n",
    "print(index.astype(np.int64))\n",
    "print(index.astype(np.int64) // 10**9)\n"
   ]
  },
  {
   "cell_type": "code",
   "execution_count": 35,
   "metadata": {
    "collapsed": false
   },
   "outputs": [
    {
     "data": {
      "text/plain": [
       "datetime.datetime(2012, 5, 2, 0, 0)"
      ]
     },
     "execution_count": 35,
     "metadata": {},
     "output_type": "execute_result"
    }
   ],
   "source": [
    "datetime.utcfromtimestamp(1335916800)"
   ]
  },
  {
   "cell_type": "code",
   "execution_count": 36,
   "metadata": {
    "collapsed": false
   },
   "outputs": [
    {
     "data": {
      "text/plain": [
       "datetime.datetime(2012, 5, 1, 0, 0)"
      ]
     },
     "execution_count": 36,
     "metadata": {},
     "output_type": "execute_result"
    }
   ],
   "source": [
    "dates[0]"
   ]
  },
  {
   "cell_type": "markdown",
   "metadata": {},
   "source": [
    "# 計算機科学おさらい：アルゴリズム\n",
    "## ソートアルゴリズム\n",
    "\n",
    "10000件の配列のソートにかかる時間を比較してみる。"
   ]
  },
  {
   "cell_type": "markdown",
   "metadata": {},
   "source": [
    "### バブルソート\n",
    "単純明快なロジックだが、遅すぎてどうにもならない。  \n",
    "**57.24秒** である。  \n",
    "```所要時間[バブルソート] 57.24291443824768 sec```"
   ]
  },
  {
   "cell_type": "code",
   "execution_count": 37,
   "metadata": {
    "collapsed": true
   },
   "outputs": [],
   "source": [
    "# バブルソート（昇順ソート）\n",
    "def bubble_sort(arr):\n",
    "    change = True\n",
    "    while change:\n",
    "        change = False\n",
    "        for i in range(len(arr) - 1):\n",
    "            if arr[i] > arr[i + 1]:\n",
    "                arr[i], arr[i + 1] = arr[i + 1], arr[i]\n",
    "                change = True\n",
    "    return arr"
   ]
  },
  {
   "cell_type": "code",
   "execution_count": 38,
   "metadata": {
    "collapsed": true
   },
   "outputs": [],
   "source": [
    "a = np.random.randint(0, 10**4, 10**4)"
   ]
  },
  {
   "cell_type": "code",
   "execution_count": 44,
   "metadata": {
    "collapsed": false
   },
   "outputs": [
    {
     "name": "stdout",
     "output_type": "stream",
     "text": [
      "所要時間[バブルソート] 57.24291443824768 sec\n"
     ]
    }
   ],
   "source": [
    "start_time = time.time()\n",
    "a_sorted = bubble_sort(a)\n",
    "elapsed = time.time() - start_time\n",
    "print(\"所要時間[バブルソート] {} sec\".format(elapsed))"
   ]
  },
  {
   "cell_type": "markdown",
   "metadata": {},
   "source": [
    "### 選択ソート\n",
    "カーソル位置とそれ以降の値の最小値を比較し、最小値側を先頭に持ってくる。  \n",
    "バブルソートよりは、結構まし。  \n",
    "**12.07秒**  \n",
    "```所要時間[選択ソート] 12.076618194580078 sec ```"
   ]
  },
  {
   "cell_type": "code",
   "execution_count": 45,
   "metadata": {
    "collapsed": false
   },
   "outputs": [],
   "source": [
    "def sellect_sort(arr):\n",
    "    for ind, ele in enumerate(arr):\n",
    "        min_ind = min(range(ind, len(arr)), key=arr.__getitem__)\n",
    "        arr[ind], arr[min_ind] = arr[min_ind], ele\n",
    "    return arr"
   ]
  },
  {
   "cell_type": "code",
   "execution_count": 46,
   "metadata": {
    "collapsed": false
   },
   "outputs": [
    {
     "name": "stdout",
     "output_type": "stream",
     "text": [
      "所要時間[選択ソート] 12.076618194580078 sec\n"
     ]
    }
   ],
   "source": [
    "start_time = time.time()\n",
    "a_sorted = sellect_sort(a)\n",
    "elapsed = time.time() - start_time\n",
    "print(\"所要時間[選択ソート] {} sec\".format(elapsed))"
   ]
  },
  {
   "cell_type": "markdown",
   "metadata": {},
   "source": [
    "### 挿入ソート\n",
    "```所要時間[挿入ソート] 16.762869596481323 sec\n",
    "```"
   ]
  },
  {
   "cell_type": "code",
   "execution_count": 47,
   "metadata": {
    "collapsed": true
   },
   "outputs": [],
   "source": [
    "def insert_sort(arr):\n",
    "    for i in range(1, len(arr)):\n",
    "        j = i - 1\n",
    "        ele = arr[i]\n",
    "        while arr[j] > ele and j >= 0:\n",
    "            arr[j + 1] = arr[j]\n",
    "            j -= 1\n",
    "        arr[j + 1] = ele\n",
    "    return arr"
   ]
  },
  {
   "cell_type": "code",
   "execution_count": 51,
   "metadata": {
    "collapsed": false
   },
   "outputs": [
    {
     "name": "stdout",
     "output_type": "stream",
     "text": [
      "所要時間[挿入ソート] 16.762869596481323 sec\n"
     ]
    }
   ],
   "source": [
    "a = np.random.randint(0, 10**4, 10**4)\n",
    "start_time = time.time()\n",
    "\n",
    "a_sorted = insert_sort(a)\n",
    "elapsed = time.time() - start_time\n",
    "print(\"所要時間[挿入ソート] {} sec\".format(elapsed))"
   ]
  },
  {
   "cell_type": "markdown",
   "metadata": {},
   "source": [
    "### マージソート\n",
    "劇的に高速化している。分割回数は、$log_N$ 回。  \n",
    "各分割セルにおけるソート回数は、セルサイズに等しい。\n",
    "\n",
    "(1) 末端層のソート回数は、１回 x $\\frac{N}{2}$ 回  \n",
    "(2) その上のソート回数は、3回(=2 x セルサイズ　- 1) x $\\frac{N}{4}$ 回  \n",
    "...  \n",
    "$log_N$ 回繰り返す。\n",
    "オーダーは $O(Nlog_N)$ "
   ]
  },
  {
   "cell_type": "code",
   "execution_count": 52,
   "metadata": {
    "collapsed": true
   },
   "outputs": [],
   "source": [
    "def merge(left, right):\n",
    "    merged = []\n",
    "    l_i, r_i = 0, 0\n",
    "\n",
    "    # ソート済み配列をマージするため、それぞれ左から見ていくだけで良い\n",
    "    while l_i < len(left) and r_i < len(right):\n",
    "        # ここで=をつけることで安定性を保っている\n",
    "        if left[l_i] <= right[r_i]:\n",
    "            merged.append(left[l_i])\n",
    "            l_i += 1\n",
    "        else:\n",
    "            merged.append(right[r_i])\n",
    "            r_i += 1\n",
    "\n",
    "    # 上のwhile文のどちらかがFalseになった場合終了するため、あまりをextendする\n",
    "    if l_i < len(left):\n",
    "        merged.extend(left[l_i:])\n",
    "    if r_i < len(right):\n",
    "        merged.extend(right[r_i:])\n",
    "    return merged\n",
    "\n",
    "\n",
    "def merge_sort(arr):\n",
    "    # 最小単位になったら\n",
    "    if len(arr) <= 1:\n",
    "        return arr\n",
    "    \n",
    "    # 受け取った配列 arr を二つに分ける\n",
    "    mid = len(arr) // 2\n",
    "    # ここで分割を行う\n",
    "    left = arr[:mid]\n",
    "    right = arr[mid:]\n",
    "\n",
    "    # 再帰的に分割を行う\n",
    "    left = merge_sort(left)\n",
    "    right = merge_sort(right)\n",
    "\n",
    "    # returnが返ってきたら、結合を行い、結合したものを次に渡す\n",
    "    return merge(left, right)\n"
   ]
  },
  {
   "cell_type": "code",
   "execution_count": 56,
   "metadata": {
    "collapsed": false
   },
   "outputs": [
    {
     "name": "stdout",
     "output_type": "stream",
     "text": [
      "所要時間[挿入ソート] 0.18601059913635254 sec\n"
     ]
    }
   ],
   "source": [
    "a = np.random.randint(0, 10**4, 10**4)\n",
    "start_time = time.time()\n",
    "\n",
    "a_sorted = np.array(merge_sort(a))\n",
    "elapsed = time.time() - start_time\n",
    "print(\"所要時間[挿入ソート] {} sec\".format(elapsed))"
   ]
  },
  {
   "cell_type": "markdown",
   "metadata": {},
   "source": [
    "### クイックソート\n",
    "非常に速い。  \n",
    "```所要時間[クイックソート] 0.1020057201385498 sec```  \n",
    "\n",
    "閾値より上か下かで、データを二分割してゆく。  \n",
    "末端層まで到達したら、結合処理が始まる。  \n",
    "閾値より上か下かで分割しているため、マージソートのようなチャンク間の比較処理が不要である。  \n",
    "$ ソート済みchunk = subchunk_{lower} + Value_{th} \\times Count_{th} + subchunk_{uppper} $ となる。"
   ]
  },
  {
   "cell_type": "code",
   "execution_count": 62,
   "metadata": {
    "collapsed": false
   },
   "outputs": [],
   "source": [
    "def quick_sort(arr):\n",
    "    left = []\n",
    "    right = []\n",
    "    if len(arr) <= 1:\n",
    "        return arr\n",
    "\n",
    "    # データの状態に左右されないためにrandom.choice()を用いることもある。\n",
    "    # ref = random.choice(arr)\n",
    "    ref = arr[0]\n",
    "    ref_count = 0\n",
    "\n",
    "    for ele in arr:\n",
    "        if ele < ref:\n",
    "            left.append(ele)\n",
    "        elif ele > ref:\n",
    "            right.append(ele)\n",
    "        else:\n",
    "            ref_count += 1\n",
    "    left = quick_sort(left)\n",
    "    right = quick_sort(right)\n",
    "    return left + [ref] * ref_count + right"
   ]
  },
  {
   "cell_type": "code",
   "execution_count": 63,
   "metadata": {
    "collapsed": false
   },
   "outputs": [
    {
     "name": "stdout",
     "output_type": "stream",
     "text": [
      "所要時間[クイックソート] 0.1020057201385498 sec\n"
     ]
    }
   ],
   "source": [
    "a = np.random.randint(0, 10**4, 10**4)\n",
    "start_time = time.time()\n",
    "\n",
    "a_sorted = quick_sort(a)\n",
    "elapsed = time.time() - start_time\n",
    "print(\"所要時間[クイックソート] {} sec\".format(elapsed))"
   ]
  },
  {
   "cell_type": "markdown",
   "metadata": {},
   "source": [
    "### カウントソート\n",
    "クイックソートよりも速い。  \n",
    "```所要時間[クイックソート] 0.02500152587890625 sec```  \n",
    "ただし、以下の実装は整数限定である。"
   ]
  },
  {
   "cell_type": "code",
   "execution_count": 66,
   "metadata": {
    "collapsed": false
   },
   "outputs": [],
   "source": [
    "def count_sort(arr):\n",
    "    max_num = max(arr)\n",
    "    min_num = min(arr)\n",
    "    count = [0] * (max_num - min_num + 1)\n",
    "    for ele in arr:\n",
    "        # 格納インデックス = 最小値からの相対位置\n",
    "        count[ele - min_num] += 1\n",
    "    \n",
    "    # 格納インデックスを使うことで、並べ替え処理が不要になっている。\n",
    "    # ほぼ O(N) で一定か。\n",
    "    \n",
    "    return [ele for ele, cnt in enumerate(count, start=min_num) for __ in range(cnt)]"
   ]
  },
  {
   "cell_type": "code",
   "execution_count": 65,
   "metadata": {
    "collapsed": false
   },
   "outputs": [
    {
     "name": "stdout",
     "output_type": "stream",
     "text": [
      "所要時間[クイックソート] 0.02500152587890625 sec\n"
     ]
    }
   ],
   "source": [
    "a = np.random.randint(0, 10**4, 10**4)\n",
    "start_time = time.time()\n",
    "\n",
    "a_sorted = count_sort(a)\n",
    "elapsed = time.time() - start_time\n",
    "print(\"所要時間[クイックソート] {} sec\".format(elapsed))"
   ]
  },
  {
   "cell_type": "markdown",
   "metadata": {},
   "source": [
    "実数に対応したカウントソートを考える。"
   ]
  },
  {
   "cell_type": "code",
   "execution_count": null,
   "metadata": {
    "collapsed": true
   },
   "outputs": [],
   "source": [
    "def count_sort_real(arr):\n",
    "    max_num = max(arr)\n",
    "    min_num = min(arr)\n",
    "    \n",
    "    # 個数カウント\n",
    "    count = [0] * len(arr)\n",
    "    \n",
    "    # 格納インデックスをどうするか\n",
    "    \n",
    "    for ele in arr:\n",
    "        # 格納インデックス = 最小値からの相対位置\n",
    "        count[ele - min_num] += 1\n",
    "    \n",
    "    # 格納インデックスを使うことで、並べ替え処理が不要になっている。\n",
    "    # ほぼ O(N) で一定か。\n",
    "    \n",
    "    return [ele for ele, cnt in enumerate(count, start=min_num) for __ in range(cnt)]"
   ]
  }
 ],
 "metadata": {
  "kernelspec": {
   "display_name": "Python [conda env:kaggle]",
   "language": "python",
   "name": "conda-env-kaggle-py"
  },
  "language_info": {
   "codemirror_mode": {
    "name": "ipython",
    "version": 3
   },
   "file_extension": ".py",
   "mimetype": "text/x-python",
   "name": "python",
   "nbconvert_exporter": "python",
   "pygments_lexer": "ipython3",
   "version": "3.5.5"
  },
  "toc": {
   "base_numbering": 1,
   "nav_menu": {},
   "number_sections": true,
   "sideBar": true,
   "skip_h1_title": false,
   "title_cell": "Table of Contents",
   "title_sidebar": "Contents",
   "toc_cell": true,
   "toc_position": {},
   "toc_section_display": true,
   "toc_window_display": true
  },
  "varInspector": {
   "cols": {
    "lenName": 16,
    "lenType": 16,
    "lenVar": 40
   },
   "kernels_config": {
    "python": {
     "delete_cmd_postfix": "",
     "delete_cmd_prefix": "del ",
     "library": "var_list.py",
     "varRefreshCmd": "print(var_dic_list())"
    },
    "r": {
     "delete_cmd_postfix": ") ",
     "delete_cmd_prefix": "rm(",
     "library": "var_list.r",
     "varRefreshCmd": "cat(var_dic_list()) "
    }
   },
   "types_to_exclude": [
    "module",
    "function",
    "builtin_function_or_method",
    "instance",
    "_Feature"
   ],
   "window_display": false
  }
 },
 "nbformat": 4,
 "nbformat_minor": 2
}
