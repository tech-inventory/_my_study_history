{
 "cells": [
  {
   "cell_type": "markdown",
   "metadata": {
    "toc": true
   },
   "source": [
    "<h1>Table of Contents<span class=\"tocSkip\"></span></h1>\n",
    "<div class=\"toc\"><ul class=\"toc-item\"><li><span><a href=\"#概要\" data-toc-modified-id=\"概要-1\"><span class=\"toc-item-num\">1&nbsp;&nbsp;</span>概要</a></span></li><li><span><a href=\"#機械学習における前処理\" data-toc-modified-id=\"機械学習における前処理-2\"><span class=\"toc-item-num\">2&nbsp;&nbsp;</span>機械学習における前処理</a></span></li></ul></div>"
   ]
  },
  {
   "cell_type": "markdown",
   "metadata": {},
   "source": [
    "# 概要\n",
    "学習メモである。2019-02-04以降の内容である。\n"
   ]
  },
  {
   "cell_type": "markdown",
   "metadata": {},
   "source": [
    "# 機械学習における前処理\n",
    "\n",
    "おさらいであるが、良いエントリを見つけた。\n",
    "\n",
    "Machine Learning(ML) — Data Preprocessing – Data Driven Investor – Medium\n",
    "https://medium.com/datadriveninvestor/machine-learning-ml-data-preprocessing-5b346766fc48\n",
    "\n",
    "\n",
    "機械学習における前処理は、主には次の５つに分けられる。 \n",
    "* データクリーニング\n",
    "    1. 欠損値を補完する\n",
    "    2. ノイズを含むデータを平滑化する\n",
    "    3. 異常値を識別する、または除去する\n",
    "    4. その他不整合を解決する\n",
    "* データ統合\n",
    "    複数のデータベース、テーブル、ファイルを利用して、データを結合しする。\n",
    "* データ変換\n",
    "    正規化や集約処理をする\n",
    "* データ削減\n",
    "    データ量を減らしつつも、同じか類似した分析結果を得られるようにする。\n",
    "* データ離散化\n",
    "    数値をone-hot形式に変換するなど\n",
    "\n",
    "> Data cleaning: fill in missing values, smooth noisy data, identify or remove outliers, and resolve inconsistencies.  \n",
    "Data integration: using multiple databases, data cubes, or files.  \n",
    "Data transformation: normalization and aggregation.  \n",
    "Data reduction: reducing the volume but producing the same or similar analytical results.  \n",
    "Data discretization: part of data reduction, replacing numerical attributes with nominal ones.  \n"
   ]
  },
  {
   "cell_type": "markdown",
   "metadata": {},
   "source": []
  }
 ],
 "metadata": {
  "kernelspec": {
   "display_name": "Python [default]",
   "language": "python",
   "name": "python3"
  },
  "language_info": {
   "codemirror_mode": {
    "name": "ipython",
    "version": 3
   },
   "file_extension": ".py",
   "mimetype": "text/x-python",
   "name": "python",
   "nbconvert_exporter": "python",
   "pygments_lexer": "ipython3",
   "version": "3.5.5"
  },
  "toc": {
   "base_numbering": 1,
   "nav_menu": {},
   "number_sections": true,
   "sideBar": true,
   "skip_h1_title": false,
   "title_cell": "Table of Contents",
   "title_sidebar": "Contents",
   "toc_cell": true,
   "toc_position": {},
   "toc_section_display": true,
   "toc_window_display": true
  },
  "varInspector": {
   "cols": {
    "lenName": 16,
    "lenType": 16,
    "lenVar": 40
   },
   "kernels_config": {
    "python": {
     "delete_cmd_postfix": "",
     "delete_cmd_prefix": "del ",
     "library": "var_list.py",
     "varRefreshCmd": "print(var_dic_list())"
    },
    "r": {
     "delete_cmd_postfix": ") ",
     "delete_cmd_prefix": "rm(",
     "library": "var_list.r",
     "varRefreshCmd": "cat(var_dic_list()) "
    }
   },
   "types_to_exclude": [
    "module",
    "function",
    "builtin_function_or_method",
    "instance",
    "_Feature"
   ],
   "window_display": false
  }
 },
 "nbformat": 4,
 "nbformat_minor": 2
}
