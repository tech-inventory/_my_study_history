{
 "cells": [
  {
   "cell_type": "markdown",
   "metadata": {
    "toc": true
   },
   "source": [
    "<h1>Table of Contents<span class=\"tocSkip\"></span></h1>\n",
    "<div class=\"toc\"><ul class=\"toc-item\"><li><span><a href=\"#概要\" data-toc-modified-id=\"概要-1\"><span class=\"toc-item-num\">1&nbsp;&nbsp;</span>概要</a></span></li><li><span><a href=\"#snippets-menu\" data-toc-modified-id=\"snippets-menu-2\"><span class=\"toc-item-num\">2&nbsp;&nbsp;</span>snippets menu</a></span><ul class=\"toc-item\"><li><span><a href=\"#カスタムスニペット設定例\" data-toc-modified-id=\"カスタムスニペット設定例-2.1\"><span class=\"toc-item-num\">2.1&nbsp;&nbsp;</span>カスタムスニペット設定例</a></span></li></ul></li><li><span><a href=\"#テーマの変更\" data-toc-modified-id=\"テーマの変更-3\"><span class=\"toc-item-num\">3&nbsp;&nbsp;</span>テーマの変更</a></span><ul class=\"toc-item\"><li><span><a href=\"#テーマを配布している場所\" data-toc-modified-id=\"テーマを配布している場所-3.1\"><span class=\"toc-item-num\">3.1&nbsp;&nbsp;</span>テーマを配布している場所</a></span></li><li><span><a href=\"#テーマの取得方法\" data-toc-modified-id=\"テーマの取得方法-3.2\"><span class=\"toc-item-num\">3.2&nbsp;&nbsp;</span>テーマの取得方法</a></span></li></ul></li><li><span><a href=\"#デバッグ方法\" data-toc-modified-id=\"デバッグ方法-4\"><span class=\"toc-item-num\">4&nbsp;&nbsp;</span>デバッグ方法</a></span><ul class=\"toc-item\"><li><span><a href=\"#IPython.embed-モジュールを使ったデバッグ\" data-toc-modified-id=\"IPython.embed-モジュールを使ったデバッグ-4.1\"><span class=\"toc-item-num\">4.1&nbsp;&nbsp;</span>IPython.embed モジュールを使ったデバッグ</a></span></li><li><span><a href=\"#%debugを使ったデバッグ\" data-toc-modified-id=\"%debugを使ったデバッグ-4.2\"><span class=\"toc-item-num\">4.2&nbsp;&nbsp;</span>%debugを使ったデバッグ</a></span></li><li><span><a href=\"#%tb-を使った直前エラー発生位置情報（トレースバック情報）の取得\" data-toc-modified-id=\"%tb-を使った直前エラー発生位置情報（トレースバック情報）の取得-4.3\"><span class=\"toc-item-num\">4.3&nbsp;&nbsp;</span>%tb を使った直前エラー発生位置情報（トレースバック情報）の取得</a></span></li><li><span><a href=\"#pdb-を使ったデバッグ\" data-toc-modified-id=\"pdb-を使ったデバッグ-4.4\"><span class=\"toc-item-num\">4.4&nbsp;&nbsp;</span>pdb を使ったデバッグ</a></span></li></ul></li><li><span><a href=\"#コマンドの実行\" data-toc-modified-id=\"コマンドの実行-5\"><span class=\"toc-item-num\">5&nbsp;&nbsp;</span>コマンドの実行</a></span><ul class=\"toc-item\"><li><span><a href=\"#pip-を使う場合の注意点\" data-toc-modified-id=\"pip-を使う場合の注意点-5.1\"><span class=\"toc-item-num\">5.1&nbsp;&nbsp;</span>pip を使う場合の注意点</a></span></li><li><span><a href=\"#複数カーネルがある場合の注意点\" data-toc-modified-id=\"複数カーネルがある場合の注意点-5.2\"><span class=\"toc-item-num\">5.2&nbsp;&nbsp;</span>複数カーネルがある場合の注意点</a></span></li></ul></li><li><span><a href=\"#プロファイリング\" data-toc-modified-id=\"プロファイリング-6\"><span class=\"toc-item-num\">6&nbsp;&nbsp;</span>プロファイリング</a></span><ul class=\"toc-item\"><li><span><a href=\"#cProfileモジュールを使う(%prun)\" data-toc-modified-id=\"cProfileモジュールを使う(%prun)-6.1\"><span class=\"toc-item-num\">6.1&nbsp;&nbsp;</span>cProfileモジュールを使う(%prun)</a></span></li><li><span><a href=\"#line_profiler-を使う(%lprun)\" data-toc-modified-id=\"line_profiler-を使う(%lprun)-6.2\"><span class=\"toc-item-num\">6.2&nbsp;&nbsp;</span>line_profiler を使う(%lprun)</a></span><ul class=\"toc-item\"><li><span><a href=\"#[参考エントリ]\" data-toc-modified-id=\"[参考エントリ]-6.2.1\"><span class=\"toc-item-num\">6.2.1&nbsp;&nbsp;</span>[参考エントリ]</a></span></li></ul></li><li><span><a href=\"#line_profiler-を使う(コードから)\" data-toc-modified-id=\"line_profiler-を使う(コードから)-6.3\"><span class=\"toc-item-num\">6.3&nbsp;&nbsp;</span>line_profiler を使う(コードから)</a></span></li></ul></li><li><span><a href=\"#リファレンスを取得する\" data-toc-modified-id=\"リファレンスを取得する-7\"><span class=\"toc-item-num\">7&nbsp;&nbsp;</span>リファレンスを取得する</a></span></li><li><span><a href=\"#Markdown系\" data-toc-modified-id=\"Markdown系-8\"><span class=\"toc-item-num\">8&nbsp;&nbsp;</span>Markdown系</a></span></li><li><span><a href=\"#Jupyter-Notebook-Tips-関連リンク\" data-toc-modified-id=\"Jupyter-Notebook-Tips-関連リンク-9\"><span class=\"toc-item-num\">9&nbsp;&nbsp;</span>Jupyter Notebook Tips 関連リンク</a></span></li></ul></div>"
   ]
  },
  {
   "cell_type": "markdown",
   "metadata": {},
   "source": [
    "# 概要\n",
    "JupyterNotebook における作業の生産性向上につながるTipsをまとめたノートである。"
   ]
  },
  {
   "cell_type": "markdown",
   "metadata": {},
   "source": [
    "# snippets menu\n",
    "nbextension にある \"Snippets Menu\" を使うと、様々なコードスニペットを利用できるようになる。  \n",
    "頻繁に使うものは、設定画面からJSONを編集し、\"MyFavorit\" などに登録しておくと良い。\n",
    "\n",
    "Pythonコードのスニペットに加え、Markdownのスニペットも登録されている。\n",
    "特徴量エンジニアリング処理のスニペット集をカスタムに作ると良いかもしれない。\n",
    "\n",
    "\n",
    "## カスタムスニペット設定例\n",
    "\"My favorites\" > \"default import setting\" を定義している。\n",
    "***\n",
    "```\n",
    "{\n",
    "    \"name\" : \"My favorites\",\n",
    "    \"sub-menu\" : [\n",
    "        {\n",
    "            \"name\" : \"default import setting\",\n",
    "            \"snippet\" : [\"import os\",\n",
    "                         \"import sys\",\n",
    "                         \"import pprint\",\n",
    "                         \"import numpy as np\",\n",
    "                         \"import pandas as pd\",\n",
    "                         \"import matplotlib.pyplot as plt\",\n",
    "                         \"import seaborn as sns\" \n",
    "                           ]\n",
    "          },\n",
    "        {\n",
    "            \"name\" : \"TeX can be written in menu labels $\\\\alpha_W e\\\\int_0 \\\\mu \\\\epsilon$\",\n",
    "            \"snippet\" : [\"another_new_command(2.78)\"]\n",
    "        }\n",
    "    ]\n",
    "}\n",
    "```\n",
    "***\n"
   ]
  },
  {
   "cell_type": "markdown",
   "metadata": {},
   "source": [
    "# テーマの変更\n",
    "IPython.display.display() を使い、スタイルシートを上書きすることでテーマを変更することができる。\n",
    "あらかじめ Jupyter Notebook用のスタイルシートの場所(URL)を把握しておくか、ローカルにキャッシュしておく必要があるだろう。  \n",
    "\n",
    "## テーマを配布している場所\n",
    "\n",
    "* https://github.com/nsonnad/base16-ipython-notebook\n",
    "    * [Python2.x用](https://github.com/nsonnad/base16-ipython-notebook/tree/master/ipython-2/output)\n",
    "    * [Python3.x用](https://github.com/nsonnad/base16-ipython-notebook/tree/master/ipython-3/output)\n",
    "    \n",
    "## テーマの取得方法\n",
    "Linux,Unix.MacOS 環境であれば、wget コマンドで取得すれば良いが、Windows環境の場合は wget コマンドが無いので注意。  \n",
    "以下のエントリなどを参考に、python でウェブドキュメントを取得する必要があるだろう。  \n",
    "https://it-engineer-lab.com/archives/1305\n"
   ]
  },
  {
   "cell_type": "code",
   "execution_count": 1,
   "metadata": {
    "collapsed": false
   },
   "outputs": [
    {
     "data": {
      "text/html": [
       "<style type=\"text/css\">/*This file contains any manual css for this page that needs to override the global styles.\n",
       "This is only required when different pages style the same element differently. This is just\n",
       "a hack to deal with our current css styles and no new styling should be added in this file.*/\n",
       "\n",
       "#ipython-main-app {\n",
       "    position: relative;\n",
       "}\n",
       "#jupyter-main-app {\n",
       "    position: relative;\n",
       "}\n",
       "</style>"
      ],
      "text/plain": [
       "<IPython.core.display.HTML object>"
      ]
     },
     "metadata": {},
     "output_type": "display_data"
    }
   ],
   "source": [
    "import requests\n",
    "from IPython.display import HTML, display_html,display\n",
    "#css_url = \"https://github.com/nsonnad/base16-ipython-notebook/blob/master/ipython-2/output/base16-ocean-dark.css\"\n",
    "\n",
    "# 注意：UIが壊れる！\n",
    "# css_url = \"https://github.com/nsonnad/base16-ipython-notebook/raw/master/ipython-3/output/base16-ocean-dark.css\"\n",
    "\n",
    "# ダークスタイル\n",
    "css_url = \"https://raw.githubusercontent.com/lapis-zero09/jupyter_notebook_tips/master/css/jupyter_notebook/monokai.css\"\n",
    "\n",
    "# Original のCSS\n",
    "css_url = \"https://github.com/lapis-zero09/jupyter_notebook_tips/raw/master/css/jupyter_notebook/jupyter_notebook_org.css\"\n",
    "css_text = requests.get(css_url).text\n",
    "display(HTML('<style type=\"text/css\">{css}</style>'.format(css=css_text)))"
   ]
  },
  {
   "cell_type": "markdown",
   "metadata": {
    "collapsed": true
   },
   "source": [
    "# デバッグ方法\n",
    "IPython.embed モジュールを使う方法と、%debugを使う方法がある。\n",
    "\n",
    "## IPython.embed モジュールを使ったデバッグ\n",
    "コード中の任意の場所で、デバッガを起動できる。\n",
    "デバッガを抜ける際には、\"exit()\" で良い。\n",
    "関数やメソッド内の挙動を調査したいときに重宝するだろう。"
   ]
  },
  {
   "cell_type": "code",
   "execution_count": 2,
   "metadata": {
    "collapsed": false
   },
   "outputs": [
    {
     "name": "stdout",
     "output_type": "stream",
     "text": [
      "Python 3.5.5 | packaged by conda-forge | (default, Jul 24 2018, 01:52:17) [MSC v.1900 64 bit (AMD64)]\n",
      "Type 'copyright', 'credits' or 'license' for more information\n",
      "IPython 7.0.1 -- An enhanced Interactive Python. Type '?' for help.\n",
      "\n"
     ]
    },
    {
     "name": "stderr",
     "output_type": "stream",
     "text": [
      "C:\\Program Files\\Anaconda3\\envs\\kaggle\\lib\\site-packages\\win_unicode_console\\__init__.py:31: RuntimeWarning: sys.stdin.encoding == 'cp932', whereas sys.stdout.encoding == 'UTF-8', readline hook consumer may assume they are the same\n",
      "  readline_hook.enable(use_pyreadline=use_pyreadline)\n"
     ]
    },
    {
     "name": "stdout",
     "output_type": "stream",
     "text": [
      "In [1]: print(a)\n",
      "1\n",
      "\n",
      "In [2]: exit()\n",
      "\n"
     ]
    }
   ],
   "source": [
    "from IPython import embed\n",
    "def some_func():\n",
    "    a = 1\n",
    "    b = 2\n",
    "    c = 3\n",
    "    d = np.arange(1*b + c)\n",
    "    embed()\n",
    "    \n",
    "some_func()"
   ]
  },
  {
   "cell_type": "markdown",
   "metadata": {},
   "source": [
    "## %debugを使ったデバッグ\n",
    "エラーが起きた箇所を特定できていない場合や、インストールしたパッケージ内で発生したエラーなど、エラー発生場所を特定してソースコードを改修しにくい場合に便利だろう。  \n",
    "オープンソースモジュールの内部挙動の理解を深める際の役に立つだろう。  "
   ]
  },
  {
   "cell_type": "code",
   "execution_count": 4,
   "metadata": {
    "collapsed": false
   },
   "outputs": [
    {
     "ename": "Exception",
     "evalue": "",
     "output_type": "error",
     "traceback": [
      "\u001b[1;31m---------------------------------------------------------------------------\u001b[0m",
      "\u001b[1;31mException\u001b[0m                                 Traceback (most recent call last)",
      "\u001b[1;32m<ipython-input-4-486ef8631de0>\u001b[0m in \u001b[0;36m<module>\u001b[1;34m\u001b[0m\n\u001b[0;32m      6\u001b[0m     \u001b[1;32mraise\u001b[0m \u001b[0mException\u001b[0m\u001b[1;33m\u001b[0m\u001b[0m\n\u001b[0;32m      7\u001b[0m \u001b[1;33m\u001b[0m\u001b[0m\n\u001b[1;32m----> 8\u001b[1;33m \u001b[0msome_func_with_bug\u001b[0m\u001b[1;33m(\u001b[0m\u001b[1;33m)\u001b[0m\u001b[1;33m\u001b[0m\u001b[0m\n\u001b[0m",
      "\u001b[1;32m<ipython-input-4-486ef8631de0>\u001b[0m in \u001b[0;36msome_func_with_bug\u001b[1;34m()\u001b[0m\n\u001b[0;32m      4\u001b[0m     \u001b[0mc\u001b[0m \u001b[1;33m=\u001b[0m \u001b[1;36m3\u001b[0m\u001b[1;33m\u001b[0m\u001b[0m\n\u001b[0;32m      5\u001b[0m     \u001b[0md\u001b[0m \u001b[1;33m=\u001b[0m \u001b[0mnp\u001b[0m\u001b[1;33m.\u001b[0m\u001b[0marange\u001b[0m\u001b[1;33m(\u001b[0m\u001b[1;36m1\u001b[0m\u001b[1;33m*\u001b[0m\u001b[0mb\u001b[0m \u001b[1;33m+\u001b[0m \u001b[0mc\u001b[0m\u001b[1;33m)\u001b[0m\u001b[1;33m\u001b[0m\u001b[0m\n\u001b[1;32m----> 6\u001b[1;33m     \u001b[1;32mraise\u001b[0m \u001b[0mException\u001b[0m\u001b[1;33m\u001b[0m\u001b[0m\n\u001b[0m\u001b[0;32m      7\u001b[0m \u001b[1;33m\u001b[0m\u001b[0m\n\u001b[0;32m      8\u001b[0m \u001b[0msome_func_with_bug\u001b[0m\u001b[1;33m(\u001b[0m\u001b[1;33m)\u001b[0m\u001b[1;33m\u001b[0m\u001b[0m\n",
      "\u001b[1;31mException\u001b[0m: "
     ]
    }
   ],
   "source": [
    "def some_func_with_bug():\n",
    "    a = 1\n",
    "    b = 2\n",
    "    c = 3\n",
    "    d = np.arange(1*b + c)\n",
    "    raise Exception\n",
    "    \n",
    "some_func_with_bug()"
   ]
  },
  {
   "cell_type": "code",
   "execution_count": 5,
   "metadata": {
    "collapsed": false
   },
   "outputs": [
    {
     "name": "stdout",
     "output_type": "stream",
     "text": [
      "> <ipython-input-4-486ef8631de0>(6)some_func_with_bug()\n",
      "      4     c = 3\n",
      "      5     d = np.arange(1*b + c)\n",
      "----> 6     raise Exception\n",
      "      7 \n",
      "      8 some_func_with_bug()\n",
      "\n",
      "ipdb> exit()\n"
     ]
    }
   ],
   "source": [
    "%debug"
   ]
  },
  {
   "cell_type": "markdown",
   "metadata": {},
   "source": [
    "## %tb を使った直前エラー発生位置情報（トレースバック情報）の取得\n",
    "%tbを使うと、直前に発生したエラーのトレースバック情報を表示してくれる。  "
   ]
  },
  {
   "cell_type": "code",
   "execution_count": 2,
   "metadata": {
    "collapsed": false
   },
   "outputs": [
    {
     "ename": "NameError",
     "evalue": "name 'var_dic_list' is not defined",
     "output_type": "error",
     "traceback": [
      "\u001b[1;31m---------------------------------------------------------------------------\u001b[0m",
      "\u001b[1;31mNameError\u001b[0m                                 Traceback (most recent call last)",
      "\u001b[1;32m<ipython-input-2-fe42bc865289>\u001b[0m in \u001b[0;36m<module>\u001b[1;34m\u001b[0m\n\u001b[1;32m----> 1\u001b[1;33m \u001b[0mprint\u001b[0m\u001b[1;33m(\u001b[0m\u001b[0mvar_dic_list\u001b[0m\u001b[1;33m(\u001b[0m\u001b[1;33m)\u001b[0m\u001b[1;33m)\u001b[0m\u001b[1;33m\u001b[0m\u001b[0m\n\u001b[0m",
      "\u001b[1;31mNameError\u001b[0m: name 'var_dic_list' is not defined"
     ]
    }
   ],
   "source": [
    "%tb"
   ]
  },
  {
   "cell_type": "markdown",
   "metadata": {},
   "source": [
    "## pdb を使ったデバッグ\n",
    "pdb モジュールを使ったデバッグ方法がある。  \n",
    "これは JupyterNotebook 上だけでなく、コマンドライン上でも役に立つデバッグ方法である。\n",
    "\n",
    "* [pdb公式サイト](https://docs.python.org/ja/3.6/library/pdb.html)\n",
    "\n",
    "|コマンド|説明|\n",
    "|:-------|:--|\n",
    "|h       |ヘルプ|\n",
    "|a       |引数を表示する|\n",
    "|pp      |Pretty Print で変数を表示|\n",
    "|c       |Continute、処理を続行する|\n",
    "\n"
   ]
  },
  {
   "cell_type": "code",
   "execution_count": 4,
   "metadata": {
    "collapsed": false
   },
   "outputs": [
    {
     "name": "stdout",
     "output_type": "stream",
     "text": [
      "> <ipython-input-4-16b832d239cb>(8)some_test_function()\n",
      "-> print(\"count progress: {}\".format(_))\n",
      "(Pdb) h\n",
      "\n",
      "Documented commands (type help <topic>):\n",
      "========================================\n",
      "EOF    c          d        h         list      q        rv       undisplay\n",
      "a      cl         debug    help      ll        quit     s        unt      \n",
      "alias  clear      disable  ignore    longlist  r        source   until    \n",
      "args   commands   display  interact  n         restart  step     up       \n",
      "b      condition  down     j         next      return   tbreak   w        \n",
      "break  cont       enable   jump      p         retval   u        whatis   \n",
      "bt     continue   exit     l         pp        run      unalias  where    \n",
      "\n",
      "Miscellaneous help topics:\n",
      "==========================\n",
      "exec  pdb\n",
      "\n",
      "(Pdb) a\n",
      "a = 2\n",
      "b = 4\n",
      "(Pdb) pp c\n",
      "8\n",
      "(Pdb) c\n",
      "count progress: 0\n",
      "> <ipython-input-4-16b832d239cb>(7)some_test_function()\n",
      "-> pdb.set_trace()\n",
      "(Pdb) c\n",
      "count progress: 2\n",
      "> <ipython-input-4-16b832d239cb>(8)some_test_function()\n",
      "-> print(\"count progress: {}\".format(_))\n",
      "(Pdb) c\n",
      "count progress: 4\n",
      "> <ipython-input-4-16b832d239cb>(7)some_test_function()\n",
      "-> pdb.set_trace()\n",
      "(Pdb) c\n",
      "count progress: 6\n"
     ]
    }
   ],
   "source": [
    "import pdb\n",
    "\n",
    "def some_test_function(a,b):\n",
    "    c = a * b\n",
    "    for _ in range(c):\n",
    "        if _ % a == 0:\n",
    "            pdb.set_trace()\n",
    "            print(\"count progress: {}\".format(_))\n",
    "            \n",
    "some_test_function(2,4)"
   ]
  },
  {
   "cell_type": "markdown",
   "metadata": {},
   "source": [
    "# コマンドの実行\n",
    "Jupyter Notebook 上でコマンドを実行するには以下のように、先頭に\"!\"をつけて、コマンドを記述すれば良い。  \n",
    "> !pip install some_useful_packages\n",
    "\n",
    "## pip を使う場合の注意点\n",
    "conda と pip を併用すると、複雑なモジュールの場合、壊れることがあるので注意が必要。  \n",
    "tensorflow が壊れたことがある。  \n",
    "規模が大きいパッケージやフレームワークは(大きなビルド処理を伴うものなど）、condaでインストールしておこう。  \n",
    "\n",
    "## 複数カーネルがある場合の注意点\n",
    "\"!pip install\" を使ってインストールする場合、パッケージがインストールされるのは**基本環境**だけである！  \n",
    "もし、複数のカーネルを使い分けている場合、\"!pip install\" の実行に先立って、\"!activate (環境名)\" を実行する必要があるだろう。  \n",
    "\n",
    "例:\n",
    "> !activate some_env & conda list  \n",
    "> !activate some_env & conda install some_package"
   ]
  },
  {
   "cell_type": "code",
   "execution_count": null,
   "metadata": {
    "collapsed": false
   },
   "outputs": [],
   "source": [
    "!pip install line_profiler memory_profiler"
   ]
  },
  {
   "cell_type": "code",
   "execution_count": 7,
   "metadata": {
    "collapsed": false
   },
   "outputs": [
    {
     "name": "stdout",
     "output_type": "stream",
     "text": [
      "# packages in environment at C:\\Program Files\\Anaconda3\\envs\\kaggle:\n",
      "#\n",
      "# Name                    Version                   Build  Channel\n",
      "asn1crypto                0.24.0                   py35_0    anaconda\n",
      "backcall                  0.1.0                      py_0    conda-forge\n",
      "blas                      1.0                         mkl    anaconda\n",
      "bleach                    3.0.2                      py_0    conda-forge\n",
      "ca-certificates           2018.03.07                    0    anaconda\n",
      "certifi                   2018.8.24                py35_1    anaconda\n",
      "cffi                      1.11.5           py35h74b6da3_1    anaconda\n",
      "chardet                   3.0.4                    py35_1    anaconda\n",
      "colorama                  0.4.0                      py_0    conda-forge\n",
      "cryptography              1.0.2                    py35_0    anaconda\n",
      "cycler                    0.10.0                     py_1    conda-forge\n",
      "decorator                 4.3.0                      py_0    conda-forge\n",
      "entrypoints               0.2.3                    py35_2    conda-forge\n",
      "freetype                  2.6.3                    vc14_1    conda-forge\n",
      "graphviz                  2.38.0            h6538335_1009    conda-forge\n",
      "icc_rt                    2017.0.4             h97af966_0    anaconda\n",
      "icu                       58.2                 ha66f8fd_1    anaconda\n",
      "idna                      2.0                      py35_0    anaconda\n",
      "intel-openmp              2019.1                      144    anaconda\n",
      "ipykernel                 5.1.0              pyh24bf2e0_0    conda-forge\n",
      "ipython                   7.0.1            py35h39e3cac_0    conda-forge\n",
      "ipython_genutils          0.2.0                      py_1    conda-forge\n",
      "ipywidgets                7.4.2                      py_0    conda-forge\n",
      "jedi                      0.12.1                   py35_0    conda-forge\n",
      "jinja2                    2.10                       py_1    conda-forge\n",
      "jpeg                      9c                hfa6e2cd_1001    conda-forge\n",
      "jsonschema                2.6.0                    py35_2    conda-forge\n",
      "jupyter                   1.0.0                      py_1    conda-forge\n",
      "jupyter_client            5.2.3                      py_1    conda-forge\n",
      "jupyter_console           6.0.0                      py_0    conda-forge\n",
      "jupyter_contrib_core      0.3.3                      py_2    conda-forge\n",
      "jupyter_contrib_nbextensions 0.5.0                    py35_0    conda-forge\n",
      "jupyter_core              4.4.0                      py_0    conda-forge\n",
      "jupyter_highlight_selected_word 0.2.0                    py35_0    conda-forge\n",
      "jupyter_latex_envs        1.4.4                    py35_0    conda-forge\n",
      "jupyter_nbextensions_configurator 0.4.0                    py35_0    conda-forge\n",
      "libiconv                  1.15              hfa6e2cd_1003    conda-forge\n",
      "libpng                    1.6.36            h7602738_1000    conda-forge\n",
      "libsodium                 1.0.16            h2fa13f4_1001    conda-forge\n",
      "libtiff                   4.0.10            h36446d0_1000    conda-forge\n",
      "libxml2                   2.9.3                    vc14_9    conda-forge\n",
      "lightgbm                  2.2.0            py35h6538335_0    conda-forge\n",
      "line_profiler             2.1.2            py35hfa6e2cd_0    anaconda\n",
      "lxml                      3.8.0                    py35_0    anaconda\n",
      "markupsafe                1.0              py35hfa6e2cd_1    conda-forge\n",
      "matplotlib                2.0.2               np113py35_0    anaconda\n",
      "memory_profiler           0.54.0                   py35_0    anaconda\n",
      "mistune                   0.8.3            py35hfa6e2cd_2    conda-forge\n",
      "mkl                       2019.1                      144    anaconda\n",
      "mkl_fft                   1.0.6            py35hdbbee80_0    anaconda\n",
      "mkl_random                1.0.1            py35h77b88f5_1    anaconda\n",
      "nbconvert                 5.3.1                      py_1    conda-forge\n",
      "nbformat                  4.4.0                      py_1    conda-forge\n",
      "notebook                  5.7.0                    py35_0    conda-forge\n",
      "numpy                     1.13.3           py35h5c71026_4    anaconda\n",
      "openssl                   1.1.1                he774522_0    anaconda\n",
      "pandas                    0.23.3                   py35_0    conda-forge\n",
      "pandoc                    2.5                           0    conda-forge\n",
      "pandocfilters             1.4.2                      py_1    conda-forge\n",
      "parso                     0.3.1                      py_0    conda-forge\n",
      "patsy                     0.5.1                      py_0    conda-forge\n",
      "pickleshare               0.7.5                    py35_0    conda-forge\n",
      "pip                       18.0                  py35_1001    conda-forge\n",
      "prometheus_client         0.4.2                      py_0    conda-forge\n",
      "prompt_toolkit            2.0.7                      py_0    conda-forge\n",
      "psutil                    5.4.7            py35hfa6e2cd_0    anaconda\n",
      "pyasn1                    0.1.9                    py35_0    anaconda\n",
      "pycparser                 2.19                     py35_0    anaconda\n",
      "pydotplus                 2.0.2                      py_1    conda-forge\n",
      "pygments                  2.3.0                      py_0    conda-forge\n",
      "pyopenssl                 0.15.1                   py35_2    anaconda\n",
      "pyparsing                 2.3.0                      py_0    conda-forge\n",
      "pyqt                      5.9.2            py35ha878b3d_0    anaconda\n",
      "pysocks                   1.6.8                    py35_0    anaconda\n",
      "python                    3.5.5                he025d50_2    conda-forge\n",
      "python-dateutil           2.7.5                      py_0    conda-forge\n",
      "python-graphviz           0.8.4                    py35_2    conda-forge\n",
      "pytz                      2018.7                     py_0    conda-forge\n",
      "pywinpty                  0.5                      py35_1    conda-forge\n",
      "pyyaml                    3.13             py35hfa6e2cd_1    conda-forge\n",
      "pyzmq                     17.1.2           py35hf576995_0    conda-forge\n",
      "qt                        5.9.7            vc14h73c81de_0  \n",
      "qtconsole                 4.4.3                      py_0    conda-forge\n",
      "requests                  2.14.2                   py35_0    anaconda\n",
      "scikit-learn              0.20.0           py35heebcf9a_1    anaconda\n",
      "scipy                     1.1.0            py35hc28095f_0    anaconda\n",
      "seaborn                   0.9.0                      py_0    conda-forge\n",
      "send2trash                1.5.0                      py_0    conda-forge\n",
      "setuptools                40.4.3                   py35_0    conda-forge\n",
      "simplegeneric             0.8.1                      py_1    conda-forge\n",
      "sip                       4.19.12          py35h6538335_0    anaconda\n",
      "six                       1.11.0                   py35_1    conda-forge\n",
      "sqlite                    3.25.3               he774522_0    anaconda\n",
      "statsmodels               0.9.0            py35h452e1ab_0    anaconda\n",
      "terminado                 0.8.1                    py35_1    conda-forge\n",
      "testpath                  0.3.1                    py35_1    conda-forge\n",
      "tk                        8.5.19                   vc14_0    conda-forge\n",
      "tornado                   5.1.1            py35hfa6e2cd_0    conda-forge\n",
      "traitlets                 4.3.2                    py35_0    conda-forge\n",
      "urllib3                   1.20                     py35_1    conda-forge\n",
      "vc                        14.1                 h21ff451_3    anaconda\n",
      "vs2015_runtime            15.5.2                        3    anaconda\n",
      "wcwidth                   0.1.7                      py_1    conda-forge\n",
      "webencodings              0.5.1                      py_1    conda-forge\n",
      "wheel                     0.32.0                py35_1000    conda-forge\n",
      "widgetsnbextension        3.4.2                    py35_0    conda-forge\n",
      "win_inet_pton             1.0.1                    py35_1    anaconda\n",
      "win_unicode_console       0.5                      py35_0    conda-forge\n",
      "wincertstore              0.2                   py35_1002    conda-forge\n",
      "winpty                    0.4.3                         4    conda-forge\n",
      "yaml                      0.1.7             hfa6e2cd_1001    conda-forge\n",
      "zeromq                    4.2.5             he025d50_1006    conda-forge\n",
      "zlib                      1.2.11            h2fa13f4_1003    conda-forge\n"
     ]
    }
   ],
   "source": [
    "# このように連続実行が必要！\n",
    "!activate kaggle & conda list"
   ]
  },
  {
   "cell_type": "markdown",
   "metadata": {},
   "source": [
    "# プロファイリング\n",
    "cProfile モジュールを使う方法、ラインプロファイラ(line_profiler)、メモリプロファイラ(memory_profiler)を使う方法がある。\n",
    "\n"
   ]
  },
  {
   "cell_type": "markdown",
   "metadata": {},
   "source": [
    "## cProfileモジュールを使う(%prun)\n",
    "マジックコマンド %prun を使う。  \n",
    "Jupyter Notebook上で使うと、専用ダイアログが開き、そこにプロファイリング結果が出力される。  \n",
    "\n",
    "[公式リファレンス](https://ipython.readthedocs.io/en/stable/interactive/magics.html#magic-prun)"
   ]
  },
  {
   "cell_type": "code",
   "execution_count": 8,
   "metadata": {
    "collapsed": true
   },
   "outputs": [],
   "source": [
    "import lightgbm as lgb\n",
    "import numpy as np\n",
    "import matplotlib.pyplot as plt\n",
    "from sklearn import datasets\n",
    "from sklearn.model_selection import train_test_split\n",
    "\n",
    "def test_train_iris():\n",
    "    # アヤメデータセットの読み込み\n",
    "    iris = datasets.load_iris()\n",
    "    X, y = iris.data, iris.target\n",
    "\n",
    "    # LightGBM のハイパーパラメータ\n",
    "    lgbm_params = {\n",
    "        # 3分類なので、以下のように設定する。\n",
    "        'objective': 'multiclass',\n",
    "        'num_class': 3,\n",
    "        'metric': 'multi_logloss',\n",
    "        'learning_rate': 0.07\n",
    "    }\n",
    "\n",
    "    X_train, X_test, y_train, y_test = train_test_split(X, y)\n",
    "\n",
    "    # トレーニングデータセット\n",
    "    _train = lgb.Dataset(X_train, y_train)\n",
    "\n",
    "    # テスト用データセット\n",
    "    _eval = lgb.Dataset(X_test, y_test, reference=_train)\n",
    "\n",
    "    # num_boost_round : ブースティング回数、デフォルト100回\n",
    "    model = lgb.train(lgbm_params, _train, valid_sets=_eval)\n",
    "\n",
    "    # テストデータを予測する\n",
    "    y_pred = model.predict(X_test, num_iteration=model.best_iteration)\n",
    "    y_pred_max = np.argmax(y_pred, axis=1) \n",
    "\n",
    "    # 精度 (Accuracy) を計算する\n",
    "    accuracy = sum(y_test == y_pred_max) / len(y_test)\n",
    "    print(accuracy)\n",
    "    \n"
   ]
  },
  {
   "cell_type": "code",
   "execution_count": 9,
   "metadata": {
    "collapsed": false,
    "scrolled": true
   },
   "outputs": [
    {
     "name": "stdout",
     "output_type": "stream",
     "text": [
      "[1]\tvalid_0's multi_logloss: 1.00538\n",
      "[2]\tvalid_0's multi_logloss: 0.923994\n",
      "[3]\tvalid_0's multi_logloss: 0.851696\n",
      "[4]\tvalid_0's multi_logloss: 0.788215\n",
      "[5]\tvalid_0's multi_logloss: 0.730886\n",
      "[6]\tvalid_0's multi_logloss: 0.679129\n",
      "[7]\tvalid_0's multi_logloss: 0.631989\n",
      "[8]\tvalid_0's multi_logloss: 0.587777\n",
      "[9]\tvalid_0's multi_logloss: 0.549753\n",
      "[10]\tvalid_0's multi_logloss: 0.512774\n",
      "[11]\tvalid_0's multi_logloss: 0.481333\n",
      "[12]\tvalid_0's multi_logloss: 0.449697\n",
      "[13]\tvalid_0's multi_logloss: 0.421986\n",
      "[14]\tvalid_0's multi_logloss: 0.395556\n",
      "[15]\tvalid_0's multi_logloss: 0.372409\n",
      "[16]\tvalid_0's multi_logloss: 0.350065\n",
      "[17]\tvalid_0's multi_logloss: 0.330657\n",
      "[18]\tvalid_0's multi_logloss: 0.312886\n",
      "[19]\tvalid_0's multi_logloss: 0.29564\n",
      "[20]\tvalid_0's multi_logloss: 0.280368\n",
      "[21]\tvalid_0's multi_logloss: 0.265678\n",
      "[22]\tvalid_0's multi_logloss: 0.253043\n",
      "[23]\tvalid_0's multi_logloss: 0.240799\n",
      "[24]\tvalid_0's multi_logloss: 0.228517\n",
      "[25]\tvalid_0's multi_logloss: 0.218657\n",
      "[26]\tvalid_0's multi_logloss: 0.209037\n",
      "[27]\tvalid_0's multi_logloss: 0.199653\n",
      "[28]\tvalid_0's multi_logloss: 0.192043\n",
      "[29]\tvalid_0's multi_logloss: 0.184972\n",
      "[30]\tvalid_0's multi_logloss: 0.178346\n",
      "[31]\tvalid_0's multi_logloss: 0.172846\n",
      "[32]\tvalid_0's multi_logloss: 0.166862\n",
      "[33]\tvalid_0's multi_logloss: 0.162094\n",
      "[34]\tvalid_0's multi_logloss: 0.157836\n",
      "[35]\tvalid_0's multi_logloss: 0.154444\n",
      "[36]\tvalid_0's multi_logloss: 0.151087\n",
      "[37]\tvalid_0's multi_logloss: 0.148278\n",
      "[38]\tvalid_0's multi_logloss: 0.144633\n",
      "[39]\tvalid_0's multi_logloss: 0.140533\n",
      "[40]\tvalid_0's multi_logloss: 0.138827\n",
      "[41]\tvalid_0's multi_logloss: 0.135198\n",
      "[42]\tvalid_0's multi_logloss: 0.13381\n",
      "[43]\tvalid_0's multi_logloss: 0.132523\n",
      "[44]\tvalid_0's multi_logloss: 0.129496\n",
      "[45]\tvalid_0's multi_logloss: 0.128452\n",
      "[46]\tvalid_0's multi_logloss: 0.126508\n",
      "[47]\tvalid_0's multi_logloss: 0.123744\n",
      "[48]\tvalid_0's multi_logloss: 0.123064\n",
      "[49]\tvalid_0's multi_logloss: 0.122279\n",
      "[50]\tvalid_0's multi_logloss: 0.119958\n",
      "[51]\tvalid_0's multi_logloss: 0.119844\n",
      "[52]\tvalid_0's multi_logloss: 0.119754\n",
      "[53]\tvalid_0's multi_logloss: 0.118087\n",
      "[54]\tvalid_0's multi_logloss: 0.116551\n",
      "[55]\tvalid_0's multi_logloss: 0.116699\n",
      "[56]\tvalid_0's multi_logloss: 0.114975\n",
      "[57]\tvalid_0's multi_logloss: 0.115514\n",
      "[58]\tvalid_0's multi_logloss: 0.115916\n",
      "[59]\tvalid_0's multi_logloss: 0.114856\n",
      "[60]\tvalid_0's multi_logloss: 0.114157\n",
      "[61]\tvalid_0's multi_logloss: 0.113286\n",
      "[62]\tvalid_0's multi_logloss: 0.113246\n",
      "[63]\tvalid_0's multi_logloss: 0.112188\n",
      "[64]\tvalid_0's multi_logloss: 0.11305\n",
      "[65]\tvalid_0's multi_logloss: 0.112064\n",
      "[66]\tvalid_0's multi_logloss: 0.112067\n",
      "[67]\tvalid_0's multi_logloss: 0.112704\n",
      "[68]\tvalid_0's multi_logloss: 0.111601\n",
      "[69]\tvalid_0's multi_logloss: 0.112153\n",
      "[70]\tvalid_0's multi_logloss: 0.112765\n",
      "[71]\tvalid_0's multi_logloss: 0.112976\n",
      "[72]\tvalid_0's multi_logloss: 0.113702\n",
      "[73]\tvalid_0's multi_logloss: 0.113967\n",
      "[74]\tvalid_0's multi_logloss: 0.11328\n",
      "[75]\tvalid_0's multi_logloss: 0.113928\n",
      "[76]\tvalid_0's multi_logloss: 0.114255\n",
      "[77]\tvalid_0's multi_logloss: 0.114485\n",
      "[78]\tvalid_0's multi_logloss: 0.11561\n",
      "[79]\tvalid_0's multi_logloss: 0.115843\n",
      "[80]\tvalid_0's multi_logloss: 0.115944\n",
      "[81]\tvalid_0's multi_logloss: 0.116151\n",
      "[82]\tvalid_0's multi_logloss: 0.116939\n",
      "[83]\tvalid_0's multi_logloss: 0.117371\n",
      "[84]\tvalid_0's multi_logloss: 0.117696\n",
      "[85]\tvalid_0's multi_logloss: 0.118431\n",
      "[86]\tvalid_0's multi_logloss: 0.119251\n",
      "[87]\tvalid_0's multi_logloss: 0.1197\n",
      "[88]\tvalid_0's multi_logloss: 0.12005\n",
      "[89]\tvalid_0's multi_logloss: 0.120283\n",
      "[90]\tvalid_0's multi_logloss: 0.121045\n",
      "[91]\tvalid_0's multi_logloss: 0.120475\n",
      "[92]\tvalid_0's multi_logloss: 0.121376\n",
      "[93]\tvalid_0's multi_logloss: 0.1217\n",
      "[94]\tvalid_0's multi_logloss: 0.122955\n",
      "[95]\tvalid_0's multi_logloss: 0.122578\n",
      "[96]\tvalid_0's multi_logloss: 0.122845\n",
      "[97]\tvalid_0's multi_logloss: 0.123341\n",
      "[98]\tvalid_0's multi_logloss: 0.123706\n",
      "[99]\tvalid_0's multi_logloss: 0.123194\n",
      "[100]\tvalid_0's multi_logloss: 0.124194\n",
      "0.973684210526\n",
      " "
     ]
    }
   ],
   "source": [
    "%prun test_train_iris()"
   ]
  },
  {
   "cell_type": "markdown",
   "metadata": {},
   "source": [
    "## line_profiler を使う(%lprun)\n",
    "\n",
    "以下のように [load_ext](https://ipython.readthedocs.io/en/stable/interactive/magics.html#magic-load_ext)を使って、line_profilerの拡張モジュールを読み込むと、マジックコマンド %lprun が使用可能となる。\n",
    "\n",
    "> %load_ext line-profiler  \n",
    "> %lprun -f some_function some_function()\n",
    "\n",
    "%lprun に渡す引数だが、最初に関数名そのもの(引数指定などなし、名前だけ)、続いて関数呼び出しの文を指定する。  \n",
    "すると、行単位のプロファイリング結果が、新しく開いたダイアログ（画面下部）に出力される。\n",
    "\n",
    "\n",
    "### [参考エントリ]\n",
    "* https://qiita.com/hmj-kd/items/8767e5268793202e6725\n",
    "* https://shimolab01.blogspot.com/2017/06/jupyter-lprun.html\n",
    "* line_profiler.LineProfiler クラスの使い方を紹介している。  \n",
    "  https://blog.amedama.jp/entry/2016/08/31/213229"
   ]
  },
  {
   "cell_type": "code",
   "execution_count": 18,
   "metadata": {
    "collapsed": false,
    "scrolled": true
   },
   "outputs": [
    {
     "name": "stdout",
     "output_type": "stream",
     "text": [
      "The line_profiler extension is already loaded. To reload it, use:\n",
      "  %reload_ext line_profiler\n",
      "[1]\tvalid_0's multi_logloss: 1.00745\n",
      "[2]\tvalid_0's multi_logloss: 0.927138\n",
      "[3]\tvalid_0's multi_logloss: 0.855837\n",
      "[4]\tvalid_0's multi_logloss: 0.79216\n",
      "[5]\tvalid_0's multi_logloss: 0.7362\n",
      "[6]\tvalid_0's multi_logloss: 0.686208\n",
      "[7]\tvalid_0's multi_logloss: 0.640134\n",
      "[8]\tvalid_0's multi_logloss: 0.598781\n",
      "[9]\tvalid_0's multi_logloss: 0.558945\n",
      "[10]\tvalid_0's multi_logloss: 0.526176\n",
      "[11]\tvalid_0's multi_logloss: 0.494\n",
      "[12]\tvalid_0's multi_logloss: 0.466743\n",
      "[13]\tvalid_0's multi_logloss: 0.4385\n",
      "[14]\tvalid_0's multi_logloss: 0.414227\n",
      "[15]\tvalid_0's multi_logloss: 0.391547\n",
      "[16]\tvalid_0's multi_logloss: 0.370498\n",
      "[17]\tvalid_0's multi_logloss: 0.353019\n",
      "[18]\tvalid_0's multi_logloss: 0.334122\n",
      "[19]\tvalid_0's multi_logloss: 0.319382\n",
      "[20]\tvalid_0's multi_logloss: 0.304708\n",
      "[21]\tvalid_0's multi_logloss: 0.290723\n",
      "[22]\tvalid_0's multi_logloss: 0.277335\n",
      "[23]\tvalid_0's multi_logloss: 0.266882\n",
      "[24]\tvalid_0's multi_logloss: 0.25486\n",
      "[25]\tvalid_0's multi_logloss: 0.244461\n",
      "[26]\tvalid_0's multi_logloss: 0.235205\n",
      "[27]\tvalid_0's multi_logloss: 0.226514\n",
      "[28]\tvalid_0's multi_logloss: 0.219607\n",
      "[29]\tvalid_0's multi_logloss: 0.211128\n",
      "[30]\tvalid_0's multi_logloss: 0.204109\n",
      "[31]\tvalid_0's multi_logloss: 0.19799\n",
      "[32]\tvalid_0's multi_logloss: 0.192075\n",
      "[33]\tvalid_0's multi_logloss: 0.18782\n",
      "[34]\tvalid_0's multi_logloss: 0.181913\n",
      "[35]\tvalid_0's multi_logloss: 0.177811\n",
      "[36]\tvalid_0's multi_logloss: 0.173697\n",
      "[37]\tvalid_0's multi_logloss: 0.171439\n",
      "[38]\tvalid_0's multi_logloss: 0.168025\n",
      "[39]\tvalid_0's multi_logloss: 0.165222\n",
      "[40]\tvalid_0's multi_logloss: 0.161685\n",
      "[41]\tvalid_0's multi_logloss: 0.160417\n",
      "[42]\tvalid_0's multi_logloss: 0.158516\n",
      "[43]\tvalid_0's multi_logloss: 0.155733\n",
      "[44]\tvalid_0's multi_logloss: 0.154947\n",
      "[45]\tvalid_0's multi_logloss: 0.152881\n",
      "[46]\tvalid_0's multi_logloss: 0.15104\n",
      "[47]\tvalid_0's multi_logloss: 0.148991\n",
      "[48]\tvalid_0's multi_logloss: 0.146395\n",
      "[49]\tvalid_0's multi_logloss: 0.145001\n",
      "[50]\tvalid_0's multi_logloss: 0.143859\n",
      "[51]\tvalid_0's multi_logloss: 0.142713\n",
      "[52]\tvalid_0's multi_logloss: 0.143766\n",
      "[53]\tvalid_0's multi_logloss: 0.143854\n",
      "[54]\tvalid_0's multi_logloss: 0.142947\n",
      "[55]\tvalid_0's multi_logloss: 0.144139\n",
      "[56]\tvalid_0's multi_logloss: 0.144403\n",
      "[57]\tvalid_0's multi_logloss: 0.144696\n",
      "[58]\tvalid_0's multi_logloss: 0.145065\n",
      "[59]\tvalid_0's multi_logloss: 0.144559\n",
      "[60]\tvalid_0's multi_logloss: 0.145917\n",
      "[61]\tvalid_0's multi_logloss: 0.147116\n",
      "[62]\tvalid_0's multi_logloss: 0.147689\n",
      "[63]\tvalid_0's multi_logloss: 0.149431\n",
      "[64]\tvalid_0's multi_logloss: 0.150085\n",
      "[65]\tvalid_0's multi_logloss: 0.150145\n",
      "[66]\tvalid_0's multi_logloss: 0.151225\n",
      "[67]\tvalid_0's multi_logloss: 0.153439\n",
      "[68]\tvalid_0's multi_logloss: 0.154706\n",
      "[69]\tvalid_0's multi_logloss: 0.155864\n",
      "[70]\tvalid_0's multi_logloss: 0.157265\n",
      "[71]\tvalid_0's multi_logloss: 0.156941\n",
      "[72]\tvalid_0's multi_logloss: 0.158488\n",
      "[73]\tvalid_0's multi_logloss: 0.159242\n",
      "[74]\tvalid_0's multi_logloss: 0.160361\n",
      "[75]\tvalid_0's multi_logloss: 0.161645\n",
      "[76]\tvalid_0's multi_logloss: 0.163497\n",
      "[77]\tvalid_0's multi_logloss: 0.164295\n",
      "[78]\tvalid_0's multi_logloss: 0.166069\n",
      "[79]\tvalid_0's multi_logloss: 0.167084\n",
      "[80]\tvalid_0's multi_logloss: 0.168808\n",
      "[81]\tvalid_0's multi_logloss: 0.170489\n",
      "[82]\tvalid_0's multi_logloss: 0.170465\n",
      "[83]\tvalid_0's multi_logloss: 0.172198\n",
      "[84]\tvalid_0's multi_logloss: 0.173067\n",
      "[85]\tvalid_0's multi_logloss: 0.174786\n",
      "[86]\tvalid_0's multi_logloss: 0.175886\n",
      "[87]\tvalid_0's multi_logloss: 0.177641\n",
      "[88]\tvalid_0's multi_logloss: 0.179379\n",
      "[89]\tvalid_0's multi_logloss: 0.180435\n",
      "[90]\tvalid_0's multi_logloss: 0.18213\n",
      "[91]\tvalid_0's multi_logloss: 0.18318\n",
      "[92]\tvalid_0's multi_logloss: 0.18401\n",
      "[93]\tvalid_0's multi_logloss: 0.185225\n",
      "[94]\tvalid_0's multi_logloss: 0.186963\n",
      "[95]\tvalid_0's multi_logloss: 0.188727\n",
      "[96]\tvalid_0's multi_logloss: 0.189574\n",
      "[97]\tvalid_0's multi_logloss: 0.191311\n",
      "[98]\tvalid_0's multi_logloss: 0.193093\n",
      "[99]\tvalid_0's multi_logloss: 0.194081\n",
      "[100]\tvalid_0's multi_logloss: 0.195758\n",
      "0.947368421053\n"
     ]
    }
   ],
   "source": [
    "%load_ext line_profiler\n",
    "%lprun -f test_train_iris test_train_iris() "
   ]
  },
  {
   "cell_type": "markdown",
   "metadata": {},
   "source": [
    "## line_profiler を使う(コードから)\n",
    "\n",
    "line_profilerモジュールを読み込んでから、LineProfiler インスタンスを生成し、  \n",
    "add_function()メソッドで観測対象を登録し、runcall()メソッドで、トリガーとなる関数またはメソッドを実行する。  \n",
    "観測対象が一つだけの場合は、同じ関数またはメソッドを add_function()および runcall() で登録する。  \n",
    "\n",
    "行単位のプロファイリング結果は、 print_stats() メソッドで出力される。\n"
   ]
  },
  {
   "cell_type": "code",
   "execution_count": 12,
   "metadata": {
    "collapsed": false,
    "scrolled": true
   },
   "outputs": [
    {
     "name": "stdout",
     "output_type": "stream",
     "text": [
      "[1]\tvalid_0's multi_logloss: 1.00932\n",
      "[2]\tvalid_0's multi_logloss: 0.930678\n",
      "[3]\tvalid_0's multi_logloss: 0.859255\n",
      "[4]\tvalid_0's multi_logloss: 0.796966\n",
      "[5]\tvalid_0's multi_logloss: 0.738553\n",
      "[6]\tvalid_0's multi_logloss: 0.687062\n",
      "[7]\tvalid_0's multi_logloss: 0.63822\n",
      "[8]\tvalid_0's multi_logloss: 0.594059\n",
      "[9]\tvalid_0's multi_logloss: 0.554809\n",
      "[10]\tvalid_0's multi_logloss: 0.519305\n",
      "[11]\tvalid_0's multi_logloss: 0.48551\n",
      "[12]\tvalid_0's multi_logloss: 0.45477\n",
      "[13]\tvalid_0's multi_logloss: 0.425614\n",
      "[14]\tvalid_0's multi_logloss: 0.399831\n",
      "[15]\tvalid_0's multi_logloss: 0.375945\n",
      "[16]\tvalid_0's multi_logloss: 0.354061\n",
      "[17]\tvalid_0's multi_logloss: 0.33271\n",
      "[18]\tvalid_0's multi_logloss: 0.314407\n",
      "[19]\tvalid_0's multi_logloss: 0.29589\n",
      "[20]\tvalid_0's multi_logloss: 0.279439\n",
      "[21]\tvalid_0's multi_logloss: 0.26408\n",
      "[22]\tvalid_0's multi_logloss: 0.249113\n",
      "[23]\tvalid_0's multi_logloss: 0.237896\n",
      "[24]\tvalid_0's multi_logloss: 0.224053\n",
      "[25]\tvalid_0's multi_logloss: 0.21424\n",
      "[26]\tvalid_0's multi_logloss: 0.201732\n",
      "[27]\tvalid_0's multi_logloss: 0.192016\n",
      "[28]\tvalid_0's multi_logloss: 0.180776\n",
      "[29]\tvalid_0's multi_logloss: 0.173484\n",
      "[30]\tvalid_0's multi_logloss: 0.165369\n",
      "[31]\tvalid_0's multi_logloss: 0.158075\n",
      "[32]\tvalid_0's multi_logloss: 0.151015\n",
      "[33]\tvalid_0's multi_logloss: 0.14452\n",
      "[34]\tvalid_0's multi_logloss: 0.136622\n",
      "[35]\tvalid_0's multi_logloss: 0.13202\n",
      "[36]\tvalid_0's multi_logloss: 0.126265\n",
      "[37]\tvalid_0's multi_logloss: 0.119743\n",
      "[38]\tvalid_0's multi_logloss: 0.115723\n",
      "[39]\tvalid_0's multi_logloss: 0.110969\n",
      "[40]\tvalid_0's multi_logloss: 0.106545\n",
      "[41]\tvalid_0's multi_logloss: 0.100817\n",
      "[42]\tvalid_0's multi_logloss: 0.0978597\n",
      "[43]\tvalid_0's multi_logloss: 0.0932157\n",
      "[44]\tvalid_0's multi_logloss: 0.0908261\n",
      "[45]\tvalid_0's multi_logloss: 0.0867022\n",
      "[46]\tvalid_0's multi_logloss: 0.0825474\n",
      "[47]\tvalid_0's multi_logloss: 0.0798744\n",
      "[48]\tvalid_0's multi_logloss: 0.0780382\n",
      "[49]\tvalid_0's multi_logloss: 0.074923\n",
      "[50]\tvalid_0's multi_logloss: 0.0712055\n",
      "[51]\tvalid_0's multi_logloss: 0.0696819\n",
      "[52]\tvalid_0's multi_logloss: 0.0665574\n",
      "[53]\tvalid_0's multi_logloss: 0.0646501\n",
      "[54]\tvalid_0's multi_logloss: 0.0613045\n",
      "[55]\tvalid_0's multi_logloss: 0.0591678\n",
      "[56]\tvalid_0's multi_logloss: 0.0567934\n",
      "[57]\tvalid_0's multi_logloss: 0.0551716\n",
      "[58]\tvalid_0's multi_logloss: 0.0533285\n",
      "[59]\tvalid_0's multi_logloss: 0.051953\n",
      "[60]\tvalid_0's multi_logloss: 0.0498373\n",
      "[61]\tvalid_0's multi_logloss: 0.0484333\n",
      "[62]\tvalid_0's multi_logloss: 0.0472409\n",
      "[63]\tvalid_0's multi_logloss: 0.0454934\n",
      "[64]\tvalid_0's multi_logloss: 0.0442169\n",
      "[65]\tvalid_0's multi_logloss: 0.0434823\n",
      "[66]\tvalid_0's multi_logloss: 0.0424596\n",
      "[67]\tvalid_0's multi_logloss: 0.0407408\n",
      "[68]\tvalid_0's multi_logloss: 0.0399143\n",
      "[69]\tvalid_0's multi_logloss: 0.0395546\n",
      "[70]\tvalid_0's multi_logloss: 0.0384662\n",
      "[71]\tvalid_0's multi_logloss: 0.0375752\n",
      "[72]\tvalid_0's multi_logloss: 0.0361339\n",
      "[73]\tvalid_0's multi_logloss: 0.0354586\n",
      "[74]\tvalid_0's multi_logloss: 0.0351277\n",
      "[75]\tvalid_0's multi_logloss: 0.0342401\n",
      "[76]\tvalid_0's multi_logloss: 0.0333806\n",
      "[77]\tvalid_0's multi_logloss: 0.0326061\n",
      "[78]\tvalid_0's multi_logloss: 0.0322474\n",
      "[79]\tvalid_0's multi_logloss: 0.0316993\n",
      "[80]\tvalid_0's multi_logloss: 0.0305911\n",
      "[81]\tvalid_0's multi_logloss: 0.0300967\n",
      "[82]\tvalid_0's multi_logloss: 0.0298216\n",
      "[83]\tvalid_0's multi_logloss: 0.0291331\n",
      "[84]\tvalid_0's multi_logloss: 0.0284593\n",
      "[85]\tvalid_0's multi_logloss: 0.0282198\n",
      "[86]\tvalid_0's multi_logloss: 0.0273114\n",
      "[87]\tvalid_0's multi_logloss: 0.0268177\n",
      "[88]\tvalid_0's multi_logloss: 0.0266417\n",
      "[89]\tvalid_0's multi_logloss: 0.0264872\n",
      "[90]\tvalid_0's multi_logloss: 0.025723\n",
      "[91]\tvalid_0's multi_logloss: 0.0254253\n",
      "[92]\tvalid_0's multi_logloss: 0.0250985\n",
      "[93]\tvalid_0's multi_logloss: 0.0244738\n",
      "[94]\tvalid_0's multi_logloss: 0.0243102\n",
      "[95]\tvalid_0's multi_logloss: 0.0240009\n",
      "[96]\tvalid_0's multi_logloss: 0.0236352\n",
      "[97]\tvalid_0's multi_logloss: 0.0229897\n",
      "[98]\tvalid_0's multi_logloss: 0.0228757\n",
      "[99]\tvalid_0's multi_logloss: 0.0229169\n",
      "[100]\tvalid_0's multi_logloss: 0.0223507\n",
      "1.0\n",
      "Timer unit: 4.66523e-07 s\n",
      "\n",
      "Total time: 1.18332 s\n",
      "File: <ipython-input-8-43ad40df5c3d>\n",
      "Function: test_train_iris at line 7\n",
      "\n",
      "Line #      Hits         Time  Per Hit   % Time  Line Contents\n",
      "==============================================================\n",
      "     7                                           def test_train_iris():\n",
      "     8                                               # アヤメデータセットの読み込み\n",
      "     9         1      16149.0  16149.0      0.6      iris = datasets.load_iris()\n",
      "    10         1         46.0     46.0      0.0      X, y = iris.data, iris.target\n",
      "    11                                           \n",
      "    12                                               # LightGBM のハイパーパラメータ\n",
      "    13                                               lgbm_params = {\n",
      "    14                                                   # 3分類なので、以下のように設定する。\n",
      "    15         1          5.0      5.0      0.0          'objective': 'multiclass',\n",
      "    16         1          3.0      3.0      0.0          'num_class': 3,\n",
      "    17         1          3.0      3.0      0.0          'metric': 'multi_logloss',\n",
      "    18         1          4.0      4.0      0.0          'learning_rate': 0.07\n",
      "    19                                               }\n",
      "    20                                           \n",
      "    21         1        785.0    785.0      0.0      X_train, X_test, y_train, y_test = train_test_split(X, y)\n",
      "    22                                           \n",
      "    23                                               # トレーニングデータセット\n",
      "    24         1         52.0     52.0      0.0      _train = lgb.Dataset(X_train, y_train)\n",
      "    25                                           \n",
      "    26                                               # テスト用データセット\n",
      "    27         1         31.0     31.0      0.0      _eval = lgb.Dataset(X_test, y_test, reference=_train)\n",
      "    28                                           \n",
      "    29                                               # num_boost_round : ブースティング回数、デフォルト100回\n",
      "    30         1    2510236.0 2510236.0     99.0      model = lgb.train(lgbm_params, _train, valid_sets=_eval)\n",
      "    31                                           \n",
      "    32                                               # テストデータを予測する\n",
      "    33         1       1775.0   1775.0      0.1      y_pred = model.predict(X_test, num_iteration=model.best_iteration)\n",
      "    34         1         42.0     42.0      0.0      y_pred_max = np.argmax(y_pred, axis=1) \n",
      "    35                                           \n",
      "    36                                               # 精度 (Accuracy) を計算する\n",
      "    37         1        523.0    523.0      0.0      accuracy = sum(y_test == y_pred_max) / len(y_test)\n",
      "    38         1       6817.0   6817.0      0.3      print(accuracy)\n",
      "\n"
     ]
    }
   ],
   "source": [
    "import line_profiler\n",
    "lp = line_profiler.LineProfiler()\n",
    "lp.add_function(test_train_iris)\n",
    "lp.runcall(test_train_iris)\n",
    "lp.print_stats()"
   ]
  },
  {
   "cell_type": "markdown",
   "metadata": {},
   "source": [
    "# リファレンスを取得する\n",
    "Pythonのクラス、メソッド、関数のリファレンスがDoc Stringで埋め込まれている場合、それを取得することができる。  \n",
    "その場でリファレンスを取得することができる。  \n",
    "\n",
    "nbextension の hinterland を導入している場合、カーソル位置にある関数、メソッドのリファレンスを** Shift + Tab ** で見ることができる。  \n",
    "4回連打すると、別ウィンドウでDoc String を表示してくれる。  \n",
    "これはありがたい機能である。\n",
    "\n",
    "また、IPython.display の display_markdown で表示する際には、引数 raw=True を指定すること。  "
   ]
  },
  {
   "cell_type": "code",
   "execution_count": 22,
   "metadata": {
    "collapsed": false,
    "scrolled": false
   },
   "outputs": [
    {
     "data": {
      "text/markdown": [
       "# DocString\n",
       "\n",
       "```\n",
       "\n",
       "        Append rows of `other` to the end of this frame, returning a new\n",
       "        object. Columns not in this frame are added as new columns.\n",
       "\n",
       "        Parameters\n",
       "        ----------\n",
       "        other : DataFrame or Series/dict-like object, or list of these\n",
       "            The data to append.\n",
       "        ignore_index : boolean, default False\n",
       "            If True, do not use the index labels.\n",
       "        verify_integrity : boolean, default False\n",
       "            If True, raise ValueError on creating index with duplicates.\n",
       "        sort : boolean, default None\n",
       "            Sort columns if the columns of `self` and `other` are not aligned.\n",
       "            The default sorting is deprecated and will change to not-sorting\n",
       "            in a future version of pandas. Explicitly pass ``sort=True`` to\n",
       "            silence the warning and sort. Explicitly pass ``sort=False`` to\n",
       "            silence the warning and not sort.\n",
       "\n",
       "            .. versionadded:: 0.23.0\n",
       "\n",
       "        Returns\n",
       "        -------\n",
       "        appended : DataFrame\n",
       "\n",
       "        Notes\n",
       "        -----\n",
       "        If a list of dict/series is passed and the keys are all contained in\n",
       "        the DataFrame's index, the order of the columns in the resulting\n",
       "        DataFrame will be unchanged.\n",
       "\n",
       "        Iteratively appending rows to a DataFrame can be more computationally\n",
       "        intensive than a single concatenate. A better solution is to append\n",
       "        those rows to a list and then concatenate the list with the original\n",
       "        DataFrame all at once.\n",
       "\n",
       "        See also\n",
       "        --------\n",
       "        pandas.concat : General function to concatenate DataFrame, Series\n",
       "            or Panel objects\n",
       "\n",
       "        Examples\n",
       "        --------\n",
       "\n",
       "        >>> df = pd.DataFrame([[1, 2], [3, 4]], columns=list('AB'))\n",
       "        >>> df\n",
       "           A  B\n",
       "        0  1  2\n",
       "        1  3  4\n",
       "        >>> df2 = pd.DataFrame([[5, 6], [7, 8]], columns=list('AB'))\n",
       "        >>> df.append(df2)\n",
       "           A  B\n",
       "        0  1  2\n",
       "        1  3  4\n",
       "        0  5  6\n",
       "        1  7  8\n",
       "\n",
       "        With `ignore_index` set to True:\n",
       "\n",
       "        >>> df.append(df2, ignore_index=True)\n",
       "           A  B\n",
       "        0  1  2\n",
       "        1  3  4\n",
       "        2  5  6\n",
       "        3  7  8\n",
       "\n",
       "        The following, while not recommended methods for generating DataFrames,\n",
       "        show two ways to generate a DataFrame from multiple data sources.\n",
       "\n",
       "        Less efficient:\n",
       "\n",
       "        >>> df = pd.DataFrame(columns=['A'])\n",
       "        >>> for i in range(5):\n",
       "        ...     df = df.append({'A': i}, ignore_index=True)\n",
       "        >>> df\n",
       "           A\n",
       "        0  0\n",
       "        1  1\n",
       "        2  2\n",
       "        3  3\n",
       "        4  4\n",
       "\n",
       "        More efficient:\n",
       "\n",
       "        >>> pd.concat([pd.DataFrame([i], columns=['A']) for i in range(5)],\n",
       "        ...           ignore_index=True)\n",
       "           A\n",
       "        0  0\n",
       "        1  1\n",
       "        2  2\n",
       "        3  3\n",
       "        4  4\n",
       "\n",
       "        \n",
       "```"
      ]
     },
     "metadata": {},
     "output_type": "display_data"
    },
    {
     "data": {
      "text/html": [
       "<hr>"
      ]
     },
     "metadata": {},
     "output_type": "display_data"
    }
   ],
   "source": [
    "import pandas as pd\n",
    "from IPython.display import display, display_pretty, display_markdown, display_html\n",
    "\n",
    "display_markdown(\"# DocString\\n\\n```\\n{}\\n```\".format(pd.DataFrame.append.__doc__), raw=True)\n",
    "display_html('<hr>', raw=True)\n",
    "pd.DataFrame.append()"
   ]
  },
  {
   "cell_type": "markdown",
   "metadata": {},
   "source": [
    "# Markdown系\n",
    "\n",
    "* [Mathjax数式入力チートシート](https://qiita.com/PlanetMeron/items/63ac58898541cbe81ada)"
   ]
  },
  {
   "cell_type": "code",
   "execution_count": null,
   "metadata": {
    "collapsed": true
   },
   "outputs": [],
   "source": []
  },
  {
   "cell_type": "markdown",
   "metadata": {},
   "source": [
    "# Jupyter Notebook Tips 関連リンク\n",
    "* [JupyterNotebook拡張機能一覧](https://qiita.com/simonritchie/items/88161c806197a0b84174)\n",
    "* [JpuyterNotebook拡張機能公式サイト](https://jupyter-contrib-nbextensions.readthedocs.io/en/latest/index.html)\n",
    "* [マジックコマンド公式リファレンス](https://ipython.readthedocs.io/en/stable/interactive/magics.html)"
   ]
  },
  {
   "cell_type": "code",
   "execution_count": null,
   "metadata": {
    "collapsed": true
   },
   "outputs": [],
   "source": []
  }
 ],
 "metadata": {
  "kernelspec": {
   "display_name": "Python [conda env:kaggle]",
   "language": "python",
   "name": "conda-env-kaggle-py"
  },
  "toc": {
   "base_numbering": 1,
   "nav_menu": {},
   "number_sections": true,
   "sideBar": true,
   "skip_h1_title": false,
   "title_cell": "Table of Contents",
   "title_sidebar": "Contents",
   "toc_cell": true,
   "toc_position": {},
   "toc_section_display": true,
   "toc_window_display": true
  },
  "varInspector": {
   "cols": {
    "lenName": 16,
    "lenType": 16,
    "lenVar": 40
   },
   "kernels_config": {
    "python": {
     "delete_cmd_postfix": "",
     "delete_cmd_prefix": "del ",
     "library": "var_list.py",
     "varRefreshCmd": "print(var_dic_list())"
    },
    "r": {
     "delete_cmd_postfix": ") ",
     "delete_cmd_prefix": "rm(",
     "library": "var_list.r",
     "varRefreshCmd": "cat(var_dic_list()) "
    }
   },
   "types_to_exclude": [
    "module",
    "function",
    "builtin_function_or_method",
    "instance",
    "_Feature"
   ],
   "window_display": false
  }
 },
 "nbformat": 4,
 "nbformat_minor": 2
}
