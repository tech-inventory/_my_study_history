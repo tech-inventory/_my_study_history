{
 "cells": [
  {
   "cell_type": "markdown",
   "metadata": {
    "toc": true
   },
   "source": [
    "<h1>Table of Contents<span class=\"tocSkip\"></span></h1>\n",
    "<div class=\"toc\"><ul class=\"toc-item\"><li><span><a href=\"#概要\" data-toc-modified-id=\"概要-1\"><span class=\"toc-item-num\">1&nbsp;&nbsp;</span>概要</a></span></li><li><span><a href=\"#2019-01-04\" data-toc-modified-id=\"2019-01-04-2\"><span class=\"toc-item-num\">2&nbsp;&nbsp;</span>2019-01-04</a></span><ul class=\"toc-item\"><li><span><a href=\"#Two-Sigma:気になったカーネル\" data-toc-modified-id=\"Two-Sigma:気になったカーネル-2.1\"><span class=\"toc-item-num\">2.1&nbsp;&nbsp;</span>Two Sigma:気になったカーネル</a></span><ul class=\"toc-item\"><li><span><a href=\"#Create-Data-Pipeline-and-LGBClassifierCV(score:0.65811)\" data-toc-modified-id=\"Create-Data-Pipeline-and-LGBClassifierCV(score:0.65811)-2.1.1\"><span class=\"toc-item-num\">2.1.1&nbsp;&nbsp;</span>Create Data Pipeline and LGBClassifierCV(score:0.65811)</a></span></li></ul></li></ul></li></ul></div>"
   ]
  },
  {
   "cell_type": "markdown",
   "metadata": {},
   "source": [
    "# 概要\n",
    "Kaggleに関連する調査研究を書き溜めてゆくノートである。"
   ]
  },
  {
   "cell_type": "markdown",
   "metadata": {},
   "source": [
    "# 2019-01-04\n",
    "## Two Sigma:気になったカーネル\n",
    "\n",
    "### Create Data Pipeline and LGBClassifierCV(score:0.65811)\n",
    "以下のカーネルが気になっている。  \n",
    "https://www.kaggle.com/aditya1702/create-data-pipeline-and-lgbclassifiercv  \n",
    "\n",
    "これまで公開されてきたカーネルの要点を消化して、よくまとめているカーネルである。  \n",
    "注目点は、  \n",
    "* きちんとクラスを作っている\n",
    "* 指数平滑移動平均など時系列特徴量(time-lagged-feature)の追加  \n",
    "* パイプライン処理の導入\n",
    "   ```python\n",
    "        data_pipeline = Pipeline([\n",
    "            ('quant_features_generator', AddingQuantFeatures()),\n",
    "            ('news_preprocessor', PreprocessingNews()),\n",
    "            ('news_unstacker', UnstackingNews()),\n",
    "            ('news_grouping', GroupingNewsWithAggregations()),\n",
    "            ('lgb', LGBClassifierCV(cv = 5,\n",
    "                                    perform_random_search = False,\n",
    "                                    perform_bayes_search = False,\n",
    "                                    use_train_test_split = False,\n",
    "                                    use_full_data = True,\n",
    "                                    use_kfold_split = False)\n",
    "            )\n",
    "        ])\n",
    "\n",
    "        data_pipeline.fit([market_train, news_train])\n",
    "    ```\n",
    "\n",
    "* かなり簡素なツリー構造。詳細はこちら。\n",
    "  ```python\n",
    "            self.lgb_optimal_params = {'learning_rate': 0.05, \n",
    "                                       'num_leaves': 12, \n",
    "                                       'n_estimators': 100, \n",
    "                                       'min_child_samples': 70, \n",
    "                                       'colsample_bytree': 0.9, \n",
    "                                       'subsample': 0.9, \n",
    "                                       'reg_alpha': 0.8, \n",
    "                                       'reg_lambda': 0.2, \n",
    "                                       'n_jobs': 3}\n",
    "  \n",
    "  ```\n",
    "    \n",
    "    * num_leaves が 12 とかなり極端に小さな値になっている。\n",
    "\n",
    "* Post-Process で新しいパターンを発見した。  \n",
    "  平均値を引いている。どんな分布になるのだろうか？\n",
    "  ```python\n",
    "          preds = pipeline.predict([market_obs_df, news_obs_df])\n",
    "          preds = (preds - np.mean(preds))\n",
    "  ```"
   ]
  },
  {
   "cell_type": "code",
   "execution_count": null,
   "metadata": {
    "collapsed": true
   },
   "outputs": [],
   "source": []
  }
 ],
 "metadata": {
  "kernelspec": {
   "display_name": "Python 3",
   "language": "python",
   "name": "python3"
  },
  "language_info": {
   "codemirror_mode": {
    "name": "ipython",
    "version": 3
   },
   "file_extension": ".py",
   "mimetype": "text/x-python",
   "name": "python",
   "nbconvert_exporter": "python",
   "pygments_lexer": "ipython3",
   "version": "3.6.6"
  },
  "toc": {
   "base_numbering": 1,
   "nav_menu": {},
   "number_sections": true,
   "sideBar": true,
   "skip_h1_title": false,
   "title_cell": "Table of Contents",
   "title_sidebar": "Contents",
   "toc_cell": true,
   "toc_position": {},
   "toc_section_display": true,
   "toc_window_display": true
  },
  "varInspector": {
   "cols": {
    "lenName": 16,
    "lenType": 16,
    "lenVar": 40
   },
   "kernels_config": {
    "python": {
     "delete_cmd_postfix": "",
     "delete_cmd_prefix": "del ",
     "library": "var_list.py",
     "varRefreshCmd": "print(var_dic_list())"
    },
    "r": {
     "delete_cmd_postfix": ") ",
     "delete_cmd_prefix": "rm(",
     "library": "var_list.r",
     "varRefreshCmd": "cat(var_dic_list()) "
    }
   },
   "types_to_exclude": [
    "module",
    "function",
    "builtin_function_or_method",
    "instance",
    "_Feature"
   ],
   "window_display": false
  }
 },
 "nbformat": 4,
 "nbformat_minor": 2
}
