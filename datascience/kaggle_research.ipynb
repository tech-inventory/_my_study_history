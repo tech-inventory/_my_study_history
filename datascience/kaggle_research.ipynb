{
 "cells": [
  {
   "cell_type": "markdown",
   "metadata": {
    "toc": true
   },
   "source": [
    "<h1>Table of Contents<span class=\"tocSkip\"></span></h1>\n",
    "<div class=\"toc\"><ul class=\"toc-item\"><li><span><a href=\"#概要\" data-toc-modified-id=\"概要-1\"><span class=\"toc-item-num\">1&nbsp;&nbsp;</span>概要</a></span></li><li><span><a href=\"#2019-01-04\" data-toc-modified-id=\"2019-01-04-2\"><span class=\"toc-item-num\">2&nbsp;&nbsp;</span>2019-01-04</a></span><ul class=\"toc-item\"><li><span><a href=\"#Two-Sigma:気になったカーネル\" data-toc-modified-id=\"Two-Sigma:気になったカーネル-2.1\"><span class=\"toc-item-num\">2.1&nbsp;&nbsp;</span>Two Sigma:気になったカーネル</a></span><ul class=\"toc-item\"><li><span><a href=\"#Create-Data-Pipeline-and-LGBClassifierCV(score:0.65811)\" data-toc-modified-id=\"Create-Data-Pipeline-and-LGBClassifierCV(score:0.65811)-2.1.1\"><span class=\"toc-item-num\">2.1.1&nbsp;&nbsp;</span>Create Data Pipeline and LGBClassifierCV(score:0.65811)</a></span></li></ul></li></ul></li><li><span><a href=\"#2019-01-08\" data-toc-modified-id=\"2019-01-08-3\"><span class=\"toc-item-num\">3&nbsp;&nbsp;</span>2019-01-08</a></span><ul class=\"toc-item\"><li><span><a href=\"#Two-Sigma-参考になったカーネル\" data-toc-modified-id=\"Two-Sigma-参考になったカーネル-3.1\"><span class=\"toc-item-num\">3.1&nbsp;&nbsp;</span>Two Sigma 参考になったカーネル</a></span></li><li><span><a href=\"#アイディア\" data-toc-modified-id=\"アイディア-3.2\"><span class=\"toc-item-num\">3.2&nbsp;&nbsp;</span>アイディア</a></span><ul class=\"toc-item\"><li><span><a href=\"#性能が出る期間を探してマルチモデル構築\" data-toc-modified-id=\"性能が出る期間を探してマルチモデル構築-3.2.1\"><span class=\"toc-item-num\">3.2.1&nbsp;&nbsp;</span>性能が出る期間を探してマルチモデル構築</a></span></li></ul></li></ul></li></ul></div>"
   ]
  },
  {
   "cell_type": "markdown",
   "metadata": {},
   "source": [
    "# 概要\n",
    "Kaggleに関連する調査研究を書き溜めてゆくノートである。"
   ]
  },
  {
   "cell_type": "markdown",
   "metadata": {},
   "source": [
    "# 2019-01-04\n",
    "## Two Sigma:気になったカーネル\n",
    "\n",
    "### Create Data Pipeline and LGBClassifierCV(score:0.65811)\n",
    "以下のカーネルが気になっている。  \n",
    "https://www.kaggle.com/aditya1702/create-data-pipeline-and-lgbclassifiercv  \n",
    "\n",
    "これまで公開されてきたカーネルの要点を消化して、よくまとめているカーネルである。  \n",
    "注目点は、  \n",
    "* きちんとクラスを作っている\n",
    "* 指数平滑移動平均など時系列特徴量(time-lagged-feature)の追加  \n",
    "* パイプライン処理の導入\n",
    "   ```python\n",
    "        data_pipeline = Pipeline([\n",
    "            ('quant_features_generator', AddingQuantFeatures()),\n",
    "            ('news_preprocessor', PreprocessingNews()),\n",
    "            ('news_unstacker', UnstackingNews()),\n",
    "            ('news_grouping', GroupingNewsWithAggregations()),\n",
    "            ('lgb', LGBClassifierCV(cv = 5,\n",
    "                                    perform_random_search = False,\n",
    "                                    perform_bayes_search = False,\n",
    "                                    use_train_test_split = False,\n",
    "                                    use_full_data = True,\n",
    "                                    use_kfold_split = False)\n",
    "            )\n",
    "        ])\n",
    "\n",
    "        data_pipeline.fit([market_train, news_train])\n",
    "    ```\n",
    "\n",
    "* かなり簡素なツリー構造。詳細はこちら。\n",
    "  ```python\n",
    "            self.lgb_optimal_params = {'learning_rate': 0.05, \n",
    "                                       'num_leaves': 12, \n",
    "                                       'n_estimators': 100, \n",
    "                                       'min_child_samples': 70, \n",
    "                                       'colsample_bytree': 0.9, \n",
    "                                       'subsample': 0.9, \n",
    "                                       'reg_alpha': 0.8, \n",
    "                                       'reg_lambda': 0.2, \n",
    "                                       'n_jobs': 3}\n",
    "  \n",
    "  ```\n",
    "    \n",
    "    * num_leaves が 12 とかなり極端に小さな値になっている。\n",
    "\n",
    "* Post-Process で新しいパターンを発見した。  \n",
    "  平均値を引いている。どんな分布になるのだろうか？\n",
    "  ```python\n",
    "          preds = pipeline.predict([market_obs_df, news_obs_df])\n",
    "          preds = (preds - np.mean(preds))\n",
    "  ```"
   ]
  },
  {
   "cell_type": "markdown",
   "metadata": {},
   "source": [
    "# 2019-01-08\n",
    "## Two Sigma 参考になったカーネル\n",
    "https://www.kaggle.com/felsal/combined-of-market-data-only-new-beginnig\n",
    "\n",
    "回帰モデルを複数構築して、アンサンブルで予測している。  \n",
    "0.639のスコアを達成している。  \n",
    "\n",
    "## アイディア\n",
    "\n",
    "### 性能が出る期間を探してマルチモデル構築\n",
    "\n",
    "半年～１年の期間を1ヶ月 or 2週間とかスライドさせながら、モデルを構築し、バリデーション期間に対して性能が良いものを探す。  \n",
    "そして、上位10件などをモデルとして採用する。\n",
    "\n",
    "モデルを構築したら、アンサンブルで予測するのである。\n",
    "\n",
    "シグナルを含む期間を見つけても、既存の期間と混ぜるとかえって性能が悪化することがあった。  \n",
    "それならばいっそのことモデルを分けてしまったほうが良いのかもしれない。\n"
   ]
  },
  {
   "cell_type": "code",
   "execution_count": 1,
   "metadata": {
    "collapsed": true
   },
   "outputs": [],
   "source": [
    "preds = []\n",
    "import numpy as np\n",
    "for _ in range(10):\n",
    "    preds.append(np.array(np.random.randint(1,10,100)))"
   ]
  },
  {
   "cell_type": "code",
   "execution_count": 2,
   "metadata": {},
   "outputs": [
    {
     "data": {
      "text/plain": [
       "[array([3, 1, 2, 4, 1, 6, 7, 4, 4, 6, 4, 7, 9, 9, 1, 9, 7, 6, 5, 6, 3, 4, 4,\n",
       "        7, 9, 5, 9, 1, 2, 5, 1, 2, 9, 9, 2, 7, 9, 2, 9, 8, 1, 2, 6, 9, 9, 3,\n",
       "        8, 4, 8, 1, 5, 2, 2, 1, 4, 5, 6, 1, 8, 6, 9, 2, 1, 6, 1, 8, 7, 2, 2,\n",
       "        5, 5, 2, 8, 9, 5, 7, 9, 9, 5, 8, 4, 4, 5, 9, 2, 9, 6, 8, 6, 4, 3, 6,\n",
       "        1, 9, 4, 4, 2, 2, 2, 5]),\n",
       " array([8, 7, 3, 8, 1, 3, 7, 3, 6, 9, 4, 6, 5, 9, 9, 5, 3, 3, 2, 1, 8, 2, 7,\n",
       "        7, 7, 9, 6, 2, 2, 7, 5, 8, 8, 2, 8, 3, 2, 6, 8, 7, 1, 3, 8, 5, 1, 3,\n",
       "        2, 5, 7, 1, 5, 5, 3, 1, 8, 9, 1, 4, 2, 8, 8, 8, 1, 9, 7, 5, 7, 3, 9,\n",
       "        4, 4, 4, 2, 4, 7, 4, 6, 7, 4, 8, 3, 3, 9, 9, 3, 1, 5, 4, 3, 1, 1, 2,\n",
       "        9, 2, 5, 8, 1, 5, 3, 4]),\n",
       " array([3, 3, 4, 9, 3, 9, 6, 9, 2, 6, 6, 6, 8, 9, 6, 2, 2, 8, 5, 6, 2, 5, 2,\n",
       "        6, 5, 2, 6, 1, 5, 3, 4, 2, 1, 3, 3, 8, 4, 9, 5, 9, 3, 4, 8, 5, 1, 7,\n",
       "        8, 1, 3, 8, 6, 6, 6, 5, 2, 9, 4, 1, 1, 1, 9, 7, 7, 9, 4, 8, 6, 8, 9,\n",
       "        4, 4, 3, 8, 6, 6, 6, 2, 7, 5, 2, 5, 8, 7, 7, 2, 8, 5, 6, 9, 9, 3, 3,\n",
       "        4, 6, 7, 4, 9, 1, 9, 2]),\n",
       " array([1, 3, 1, 8, 1, 6, 9, 8, 2, 1, 2, 7, 2, 3, 8, 7, 7, 1, 1, 7, 7, 2, 9,\n",
       "        5, 2, 2, 6, 8, 6, 1, 2, 1, 9, 7, 7, 5, 9, 5, 1, 9, 9, 4, 3, 1, 2, 2,\n",
       "        8, 7, 4, 7, 8, 6, 5, 7, 7, 1, 6, 5, 8, 4, 8, 3, 7, 7, 8, 2, 5, 8, 2,\n",
       "        4, 9, 5, 6, 9, 7, 4, 9, 1, 2, 3, 2, 1, 3, 7, 1, 6, 4, 6, 5, 1, 9, 6,\n",
       "        6, 7, 8, 1, 2, 4, 1, 1]),\n",
       " array([7, 1, 5, 2, 4, 4, 5, 7, 1, 6, 9, 2, 3, 4, 5, 5, 9, 8, 9, 4, 3, 3, 2,\n",
       "        6, 2, 5, 8, 3, 2, 5, 8, 6, 1, 9, 1, 7, 9, 9, 3, 9, 3, 8, 9, 6, 4, 1,\n",
       "        9, 4, 6, 9, 5, 2, 9, 6, 5, 7, 9, 9, 9, 1, 2, 7, 7, 1, 1, 3, 6, 2, 3,\n",
       "        5, 9, 1, 4, 4, 7, 1, 3, 9, 3, 1, 3, 6, 9, 2, 8, 2, 7, 4, 8, 3, 3, 5,\n",
       "        7, 6, 1, 8, 5, 2, 4, 1]),\n",
       " array([8, 4, 3, 2, 5, 1, 7, 7, 3, 4, 7, 3, 4, 2, 6, 3, 1, 5, 6, 9, 3, 4, 7,\n",
       "        4, 2, 9, 7, 8, 9, 7, 9, 3, 2, 1, 8, 9, 8, 4, 7, 7, 5, 5, 5, 1, 8, 5,\n",
       "        2, 7, 4, 8, 7, 4, 9, 1, 5, 4, 4, 4, 9, 2, 9, 2, 5, 3, 9, 5, 7, 2, 6,\n",
       "        5, 8, 2, 3, 4, 6, 1, 5, 5, 3, 3, 4, 8, 6, 9, 2, 7, 6, 3, 9, 9, 5, 3,\n",
       "        3, 1, 9, 3, 8, 3, 4, 1]),\n",
       " array([2, 3, 8, 9, 3, 2, 6, 2, 6, 2, 9, 3, 5, 6, 4, 3, 4, 6, 8, 8, 5, 8, 3,\n",
       "        7, 8, 8, 1, 2, 7, 9, 7, 2, 5, 5, 2, 2, 9, 7, 7, 8, 3, 2, 9, 4, 9, 6,\n",
       "        9, 9, 5, 8, 6, 4, 9, 6, 3, 2, 7, 9, 7, 1, 8, 8, 2, 4, 7, 2, 1, 8, 6,\n",
       "        4, 1, 5, 3, 2, 1, 7, 1, 3, 9, 2, 4, 4, 1, 2, 4, 2, 4, 9, 4, 4, 3, 1,\n",
       "        2, 8, 2, 2, 1, 5, 7, 5]),\n",
       " array([7, 1, 4, 2, 7, 6, 5, 4, 8, 9, 8, 3, 6, 3, 4, 6, 4, 7, 5, 2, 2, 4, 3,\n",
       "        8, 4, 2, 3, 4, 5, 4, 5, 5, 5, 7, 4, 6, 4, 1, 3, 4, 1, 1, 1, 2, 1, 5,\n",
       "        2, 3, 3, 7, 6, 3, 2, 2, 7, 4, 5, 2, 9, 9, 4, 2, 1, 3, 8, 7, 6, 5, 4,\n",
       "        6, 6, 7, 4, 4, 4, 1, 5, 7, 4, 7, 2, 7, 7, 5, 7, 4, 7, 8, 2, 9, 8, 9,\n",
       "        4, 8, 4, 8, 2, 5, 9, 5]),\n",
       " array([6, 3, 7, 8, 9, 8, 6, 9, 4, 6, 6, 4, 6, 1, 5, 8, 3, 6, 7, 1, 5, 2, 1,\n",
       "        5, 6, 3, 1, 8, 6, 7, 9, 6, 5, 7, 7, 9, 1, 3, 3, 2, 1, 6, 8, 9, 6, 7,\n",
       "        8, 5, 3, 7, 9, 3, 5, 1, 1, 6, 7, 5, 5, 2, 4, 6, 4, 9, 7, 9, 6, 3, 6,\n",
       "        3, 7, 9, 9, 3, 3, 1, 7, 4, 8, 7, 6, 8, 5, 9, 2, 5, 5, 7, 8, 6, 8, 6,\n",
       "        3, 3, 1, 6, 6, 8, 4, 3]),\n",
       " array([8, 8, 6, 6, 2, 6, 3, 1, 6, 3, 4, 7, 5, 2, 8, 3, 1, 7, 4, 3, 7, 2, 1,\n",
       "        7, 6, 1, 9, 8, 8, 4, 1, 2, 6, 8, 4, 8, 4, 7, 9, 3, 5, 3, 1, 8, 9, 4,\n",
       "        1, 6, 1, 4, 9, 6, 1, 2, 8, 4, 4, 6, 4, 4, 8, 6, 2, 4, 3, 8, 3, 5, 1,\n",
       "        3, 5, 9, 6, 5, 7, 7, 8, 1, 4, 8, 1, 1, 4, 7, 8, 5, 8, 5, 3, 8, 5, 9,\n",
       "        4, 8, 1, 3, 1, 3, 5, 5])]"
      ]
     },
     "execution_count": 2,
     "metadata": {},
     "output_type": "execute_result"
    }
   ],
   "source": [
    "preds"
   ]
  },
  {
   "cell_type": "code",
   "execution_count": 5,
   "metadata": {},
   "outputs": [],
   "source": [
    "total_preds = None\n",
    "for _preds in preds:\n",
    "    if total_preds is None:\n",
    "        total_preds = _preds\n",
    "    else:\n",
    "        total_preds += _preds"
   ]
  },
  {
   "cell_type": "code",
   "execution_count": 6,
   "metadata": {},
   "outputs": [
    {
     "data": {
      "text/plain": [
       "array([53, 34, 43, 58, 36, 51, 61, 54, 42, 52, 59, 48, 53, 48, 56, 51, 41,\n",
       "       57, 52, 47, 45, 36, 39, 62, 51, 46, 56, 45, 52, 52, 51, 37, 51, 58,\n",
       "       46, 64, 59, 53, 55, 66, 32, 38, 58, 50, 50, 43, 57, 51, 44, 60, 66,\n",
       "       41, 51, 32, 50, 51, 53, 46, 62, 38, 69, 51, 37, 55, 55, 57, 54, 46,\n",
       "       48, 43, 58, 47, 53, 50, 53, 39, 55, 53, 47, 49, 34, 50, 56, 66, 39,\n",
       "       49, 57, 60, 57, 54, 48, 50, 43, 58, 42, 47, 37, 38, 48, 32])"
      ]
     },
     "execution_count": 6,
     "metadata": {},
     "output_type": "execute_result"
    }
   ],
   "source": [
    "total_preds"
   ]
  },
  {
   "cell_type": "code",
   "execution_count": 8,
   "metadata": {},
   "outputs": [
    {
     "data": {
      "text/plain": [
       "array([  9.6,   5.8,   7.6,  10.6,   6.2,   9.2,  11.2,   9.8,   7.4,\n",
       "         9.4,  10.8,   8.6,   9.6,   8.6,  10.2,   9.2,   7.2,  10.4,\n",
       "         9.4,   8.4,   8. ,   6.2,   6.8,  11.4,   9.2,   8.2,  10.2,\n",
       "         8. ,   9.4,   9.4,   9.2,   6.4,   9.2,  10.6,   8.2,  11.8,\n",
       "        10.8,   9.6,  10. ,  12.2,   5.4,   6.6,  10.6,   9. ,   9. ,\n",
       "         7.6,  10.4,   9.2,   7.8,  11. ,  12.2,   7.2,   9.2,   5.4,\n",
       "         9. ,   9.2,   9.6,   8.2,  11.4,   6.6,  12.8,   9.2,   6.4,\n",
       "        10. ,  10. ,  10.4,   9.8,   8.2,   8.6,   7.6,  10.6,   8.4,\n",
       "         9.6,   9. ,   9.6,   6.8,  10. ,   9.6,   8.4,   8.8,   5.8,\n",
       "         9. ,  10.2,  12.2,   6.8,   8.8,  10.4,  11. ,  10.4,   9.8,\n",
       "         8.6,   9. ,   7.6,  10.6,   7.4,   8.4,   6.4,   6.6,   8.6,   5.4])"
      ]
     },
     "execution_count": 8,
     "metadata": {},
     "output_type": "execute_result"
    }
   ],
   "source": [
    "total_preds/10 * 2 -1"
   ]
  },
  {
   "cell_type": "code",
   "execution_count": null,
   "metadata": {
    "collapsed": true
   },
   "outputs": [],
   "source": []
  }
 ],
 "metadata": {
  "kernelspec": {
   "display_name": "Python 3",
   "language": "python",
   "name": "python3"
  },
  "language_info": {
   "codemirror_mode": {
    "name": "ipython",
    "version": 3
   },
   "file_extension": ".py",
   "mimetype": "text/x-python",
   "name": "python",
   "nbconvert_exporter": "python",
   "pygments_lexer": "ipython3",
   "version": "3.6.6"
  },
  "toc": {
   "base_numbering": 1,
   "nav_menu": {},
   "number_sections": true,
   "sideBar": true,
   "skip_h1_title": false,
   "title_cell": "Table of Contents",
   "title_sidebar": "Contents",
   "toc_cell": true,
   "toc_position": {},
   "toc_section_display": true,
   "toc_window_display": true
  },
  "varInspector": {
   "cols": {
    "lenName": 16,
    "lenType": 16,
    "lenVar": 40
   },
   "kernels_config": {
    "python": {
     "delete_cmd_postfix": "",
     "delete_cmd_prefix": "del ",
     "library": "var_list.py",
     "varRefreshCmd": "print(var_dic_list())"
    },
    "r": {
     "delete_cmd_postfix": ") ",
     "delete_cmd_prefix": "rm(",
     "library": "var_list.r",
     "varRefreshCmd": "cat(var_dic_list()) "
    }
   },
   "types_to_exclude": [
    "module",
    "function",
    "builtin_function_or_method",
    "instance",
    "_Feature"
   ],
   "window_display": false
  }
 },
 "nbformat": 4,
 "nbformat_minor": 2
}
