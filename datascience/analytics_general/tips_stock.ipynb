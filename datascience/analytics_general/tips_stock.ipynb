{
 "cells": [
  {
   "cell_type": "markdown",
   "metadata": {
    "toc": true
   },
   "source": [
    "<h1>Table of Contents<span class=\"tocSkip\"></span></h1>\n",
    "<div class=\"toc\"><ul class=\"toc-item\"><li><span><a href=\"#概要\" data-toc-modified-id=\"概要-1\"><span class=\"toc-item-num\">1&nbsp;&nbsp;</span>概要</a></span></li><li><span><a href=\"#pandas\" data-toc-modified-id=\"pandas-2\"><span class=\"toc-item-num\">2&nbsp;&nbsp;</span>pandas</a></span><ul class=\"toc-item\"><li><span><a href=\"#メモリを節約する方法\" data-toc-modified-id=\"メモリを節約する方法-2.1\"><span class=\"toc-item-num\">2.1&nbsp;&nbsp;</span>メモリを節約する方法</a></span><ul class=\"toc-item\"><li><span><a href=\"#dtypes-を指定する\" data-toc-modified-id=\"dtypes-を指定する-2.1.1\"><span class=\"toc-item-num\">2.1.1&nbsp;&nbsp;</span>dtypes を指定する</a></span></li><li><span><a href=\"#元のデータフレームを上書きする\" data-toc-modified-id=\"元のデータフレームを上書きする-2.1.2\"><span class=\"toc-item-num\">2.1.2&nbsp;&nbsp;</span>元のデータフレームを上書きする</a></span></li><li><span><a href=\"#不要になったデータフレームの削除＆手動でガベージコレクタ実行\" data-toc-modified-id=\"不要になったデータフレームの削除＆手動でガベージコレクタ実行-2.1.3\"><span class=\"toc-item-num\">2.1.3&nbsp;&nbsp;</span>不要になったデータフレームの削除＆手動でガベージコレクタ実行</a></span></li></ul></li><li><span><a href=\"#groupby-の集計結果におけるカラム名の変更方法\" data-toc-modified-id=\"groupby-の集計結果におけるカラム名の変更方法-2.2\"><span class=\"toc-item-num\">2.2&nbsp;&nbsp;</span>groupby の集計結果におけるカラム名の変更方法</a></span></li><li><span><a href=\"#rolling-操作\" data-toc-modified-id=\"rolling-操作-2.3\"><span class=\"toc-item-num\">2.3&nbsp;&nbsp;</span>rolling 操作</a></span><ul class=\"toc-item\"><li><span><a href=\"#任意の計算を実施する\" data-toc-modified-id=\"任意の計算を実施する-2.3.1\"><span class=\"toc-item-num\">2.3.1&nbsp;&nbsp;</span>任意の計算を実施する</a></span></li></ul></li><li><span><a href=\"#データフレーム処理のパフォーマンス\" data-toc-modified-id=\"データフレーム処理のパフォーマンス-2.4\"><span class=\"toc-item-num\">2.4&nbsp;&nbsp;</span>データフレーム処理のパフォーマンス</a></span><ul class=\"toc-item\"><li><span><a href=\"#rolling処理\" data-toc-modified-id=\"rolling処理-2.4.1\"><span class=\"toc-item-num\">2.4.1&nbsp;&nbsp;</span>rolling処理</a></span></li></ul></li><li><span><a href=\"#巨大なテーブルを扱う時の工夫\" data-toc-modified-id=\"巨大なテーブルを扱う時の工夫-2.5\"><span class=\"toc-item-num\">2.5&nbsp;&nbsp;</span>巨大なテーブルを扱う時の工夫</a></span><ul class=\"toc-item\"><li><span><a href=\"#merge-するときに-copy=False\" data-toc-modified-id=\"merge-するときに-copy=False-2.5.1\"><span class=\"toc-item-num\">2.5.1&nbsp;&nbsp;</span>merge するときに copy=False</a></span></li></ul></li></ul></li><li><span><a href=\"#メモリ節約関連\" data-toc-modified-id=\"メモリ節約関連-3\"><span class=\"toc-item-num\">3&nbsp;&nbsp;</span>メモリ節約関連</a></span><ul class=\"toc-item\"><li><span><a href=\"#メモリを食っている変数を探す\" data-toc-modified-id=\"メモリを食っている変数を探す-3.1\"><span class=\"toc-item-num\">3.1&nbsp;&nbsp;</span>メモリを食っている変数を探す</a></span></li></ul></li><li><span><a href=\"#並列処理\" data-toc-modified-id=\"並列処理-4\"><span class=\"toc-item-num\">4&nbsp;&nbsp;</span>並列処理</a></span><ul class=\"toc-item\"><li><span><a href=\"#joblib\" data-toc-modified-id=\"joblib-4.1\"><span class=\"toc-item-num\">4.1&nbsp;&nbsp;</span>joblib</a></span></li><li><span><a href=\"#進捗表示をしたいときは-tqdm\" data-toc-modified-id=\"進捗表示をしたいときは-tqdm-4.2\"><span class=\"toc-item-num\">4.2&nbsp;&nbsp;</span>進捗表示をしたいときは tqdm</a></span></li><li><span><a href=\"#joblib-の並列処理でtqdmをちゃんと使う\" data-toc-modified-id=\"joblib-の並列処理でtqdmをちゃんと使う-4.3\"><span class=\"toc-item-num\">4.3&nbsp;&nbsp;</span>joblib の並列処理でtqdmをちゃんと使う</a></span></li></ul></li><li><span><a href=\"#基礎的Tips\" data-toc-modified-id=\"基礎的Tips-5\"><span class=\"toc-item-num\">5&nbsp;&nbsp;</span>基礎的Tips</a></span><ul class=\"toc-item\"><li><span><a href=\"#辞書のソート\" data-toc-modified-id=\"辞書のソート-5.1\"><span class=\"toc-item-num\">5.1&nbsp;&nbsp;</span>辞書のソート</a></span></li></ul></li><li><span><a href=\"#パフォーマンス関連\" data-toc-modified-id=\"パフォーマンス関連-6\"><span class=\"toc-item-num\">6&nbsp;&nbsp;</span>パフォーマンス関連</a></span><ul class=\"toc-item\"><li><span><a href=\"#CPU数を把握する\" data-toc-modified-id=\"CPU数を把握する-6.1\"><span class=\"toc-item-num\">6.1&nbsp;&nbsp;</span>CPU数を把握する</a></span></li><li><span><a href=\"#メモリ消費量を把握する\" data-toc-modified-id=\"メモリ消費量を把握する-6.2\"><span class=\"toc-item-num\">6.2&nbsp;&nbsp;</span>メモリ消費量を把握する</a></span></li></ul></li></ul></div>"
   ]
  },
  {
   "cell_type": "markdown",
   "metadata": {},
   "source": [
    "# 概要\n",
    "Pythonを使ったデータサイエンスにおける様々なTipsを書きためてゆく。"
   ]
  },
  {
   "cell_type": "markdown",
   "metadata": {},
   "source": [
    "# pandas\n",
    "## メモリを節約する方法\n",
    "参考: https://qiita.com/nannoki/items/2a8934de31ad2258439d\n",
    "\n",
    "### dtypes を指定する\n",
    "デフォルトでは、64bitの inr64 or float64 になっているが、扱うデータの範囲に応じて適切なdtypeを指定すれば、最大で1/8までメモリ消費量を節約することができる。"
   ]
  },
  {
   "cell_type": "code",
   "execution_count": 1,
   "metadata": {
    "collapsed": true
   },
   "outputs": [],
   "source": [
    "import numpy as np\n",
    "import pandas as pd\n",
    "\n",
    "df_sample = pd.DataFrame.from_dict({'id':[1001,1002,1003,1004]})"
   ]
  },
  {
   "cell_type": "code",
   "execution_count": 2,
   "metadata": {},
   "outputs": [
    {
     "data": {
      "text/plain": [
       "id    int64\n",
       "dtype: object"
      ]
     },
     "execution_count": 2,
     "metadata": {},
     "output_type": "execute_result"
    }
   ],
   "source": [
    "df_sample.dtypes"
   ]
  },
  {
   "cell_type": "code",
   "execution_count": 3,
   "metadata": {},
   "outputs": [
    {
     "data": {
      "text/plain": [
       "Index    80\n",
       "id       32\n",
       "dtype: int64"
      ]
     },
     "execution_count": 3,
     "metadata": {},
     "output_type": "execute_result"
    }
   ],
   "source": [
    "df_sample.memory_usage()"
   ]
  },
  {
   "cell_type": "code",
   "execution_count": 5,
   "metadata": {
    "collapsed": true
   },
   "outputs": [],
   "source": [
    "df_sample['id'] = df_sample['id'].astype(np.int8)"
   ]
  },
  {
   "cell_type": "code",
   "execution_count": 6,
   "metadata": {},
   "outputs": [
    {
     "data": {
      "text/plain": [
       "Index    80\n",
       "id        4\n",
       "dtype: int64"
      ]
     },
     "execution_count": 6,
     "metadata": {},
     "output_type": "execute_result"
    }
   ],
   "source": [
    "df_sample.memory_usage()"
   ]
  },
  {
   "cell_type": "markdown",
   "metadata": {},
   "source": [
    "### 元のデータフレームを上書きする\n",
    "pandas の操作では基本的にデータフレームのコピーが返される。  \n",
    "よって、変数名を変えて操作の結果を受け取っていると、どんどんメモリが追加で消費される。  \n",
    "対策としては、元のデータフレームを上書きする方法がある。\n",
    "\n",
    "```python\n",
    "# データフレームを直接代入で上書き\n",
    "df1 = df1.iloc[:, 1:]\n",
    "\n",
    "# inplace=True を指定して、上書き\n",
    "df1.fillna(0, inplace=True)\n",
    "\n",
    "```\n",
    "\n",
    "### 不要になったデータフレームの削除＆手動でガベージコレクタ実行\n",
    "不要になったデータフレームは、都度 del で削除しておきたい。  \n",
    "さらに、gc モジュールを使い、del 直後にガベージコレクタを実施しておく。  \n",
    "```python\n",
    "import gc\n",
    "del df_sample\n",
    "gc.collect()\n",
    "```\n",
    "参考: [ガベージコレクタモジュールの公式リファレンス](https://docs.python.jp/3/library/gc.html)\n"
   ]
  },
  {
   "cell_type": "markdown",
   "metadata": {
    "collapsed": true
   },
   "source": [
    "## groupby の集計結果におけるカラム名の変更方法\n",
    "\n",
    "なかなかありそうで見つからない操作。探したところ、いくつか有益なエントリが見つかった。  \n",
    "\n",
    "以下のエントリによると、辞書の辞書を使うことで実現しているようだ。 \n",
    "https://code.i-harness.com/ja/q/129e6cd\n",
    "\n",
    "```python\n",
    "df.groupby(['A', 'B']).agg({'C':{'C_mean': 'mean', 'C_median': 'median'}, \n",
    "                            'D':{'D_max': 'max'}})\n",
    "\n",
    "            D         C          \n",
    "        D_max    C_mean  C_median\n",
    "A B                              \n",
    "w y  0.994078  0.476233  0.476233\n",
    "  z  0.725663  0.502328  0.502328\n",
    "x y  0.753107  0.389045  0.389045\n",
    "  z  0.462677  0.923551  0.923551\n",
    "```\n",
    "  \n",
    "カラムが階層構造になっているので、以下のようにして最上層のカラムを削除すれば良さそうである。  \n",
    "```python\n",
    "df.columns = df.columns.droplevel(0)\n",
    "```\n",
    "\n",
    "集計結果で得られたデータフレームのカラム情報を直接書き換えると言う荒技の紹介。  \n",
    "https://nehan.io/blog/python-data-aggregation/id-29\n",
    "\n"
   ]
  },
  {
   "cell_type": "markdown",
   "metadata": {},
   "source": [
    "## rolling 操作\n",
    "### 任意の計算を実施する\n",
    "\n",
    "apply() メソッドを使うことができる。  \n",
    "apply()で呼び出された側の関数、メソッドの第一引数は rolling window に含まれる値を格納した配列である。  \n",
    "\n",
    "参考：\n",
    "https://qiita.com/ryskiwt/items/ae1dc7c27374b728f131\n",
    "\n",
    "```python\n",
    "import numpy as np\n",
    "\n",
    "# フィルタ係数\n",
    "b = np.ones(5) / 5\n",
    "\n",
    "def f(x):\n",
    "    # x は窓内の値が入った配列\n",
    "    # x[0]が最も古い、x[-1]が最も新しい値\n",
    "\n",
    "    # 集計後の値を return する\n",
    "    return np.sum(b*x)\n",
    "\n",
    "# 適用\n",
    "series.rolling(5, center=True).apply(f)\n",
    "# series.rolling(5, center=True).apply(lambda x : np.sum(b*x)) でもOK\n",
    "```"
   ]
  },
  {
   "cell_type": "markdown",
   "metadata": {},
   "source": [
    "## データフレーム処理のパフォーマンス\n",
    "\n",
    "### rolling処理\n",
    "\n",
    "グループ化して、rolling処理で求めた値をデータフレームにセットする処理だが、非常に遅い。  \n",
    "新しく作ると劇的に速くなる。  \n",
    "索引検索処理で時間がかかっているのだろう。\n",
    "\n",
    "```python\n",
    "codes = market_train_df['assetCode'].unique()\n",
    "_df_pickup = market_train_df.query('assetCode==\"{}\"'.format(codes[10]))\n",
    "\n",
    "col = 'netSentimentPositive'\n",
    "window_size= 14\n",
    "shift_size=1\n",
    "rolled = _df_pickup[col].shift(shift_size).rolling(window=window_size)\n",
    "#移動平均の平均\n",
    "lag_mean = rolled.mean()\n",
    "#最大値\n",
    "lag_max = rolled.max()\n",
    "#最小値\n",
    "lag_min = rolled.min()\n",
    "#標準偏差\n",
    "lag_std = rolled.std()\n",
    "# 値の格納に時間がかかっている。\n",
    "_df_pickup['%s_lag_%s_mean'%(col,window_size)] = lag_mean\n",
    "_df_pickup['%s_lag_%s_max'%(col,window_size)] = lag_max\n",
    "_df_pickup['%s_lag_%s_min'%(col,window_size)] = lag_min\n",
    "\n",
    "# 処理時間\n",
    "800 - 1000msec もかかる！\n",
    "\n",
    "```\n",
    "\n",
    "以下のように新しくデータフレームを作り直すと、劇的に速くなる。  \n",
    "```python\n",
    "# ...(rolling処理までは同じ)\n",
    "_df_tmp = pd.DataFrame.from_dict({\"time\":_df_pickup['time'].values,\n",
    "                                 \"assetCode\":_df_pickup['assetCode'].values,\n",
    "                                 '%s_lag_%s_mean'%(col,window_size):lag_mean,\n",
    "                                 '%s_lag_%s_max'%(col,window_size):lag_max,\n",
    "                                 '%s_lag_%s_min'%(col,window_size):lag_min\n",
    "                                 })\n",
    "\n",
    "# 処理時間 \n",
    "\n",
    "6 - 7msec！  100倍以上速い！\n",
    "\n",
    "```\n"
   ]
  },
  {
   "cell_type": "markdown",
   "metadata": {},
   "source": [
    "## 巨大なテーブルを扱う時の工夫\n",
    "### merge するときに copy=False\n",
    "http://kefism.hatenablog.com/entry/2017/09/24/014327\n",
    "\n",
    "> そもそもこのcopyってなんだかよくわからないのですが、使用メモリの挙動を見ている限りは copy=True とするとデータフレームを結合するときにそのcopyを用意して、それを参照している感じがします。copy=Falseで劇的にメモリ効率が良くなった気がします。\n",
    "\n",
    "pandas の公式サイト([こちら](https://pandas.pydata.org/pandas-docs/stable/generated/pandas.DataFrame.merge.html))でも以下の記述があった。\n",
    "> copy : boolean, default True\n",
    "> If False, do not copy data unnecessarily"
   ]
  },
  {
   "cell_type": "markdown",
   "metadata": {},
   "source": [
    "# メモリ節約関連\n",
    "\n",
    "## メモリを食っている変数を探す\n",
    "\n",
    "参考：\n",
    "https://qiita.com/AnchorBlues/items/46c6d93c60abc7e35ef6\n",
    "\n",
    "以下のコードを実行すると、各変数がどれくらいメモリを食っているのか把握することができる。\n",
    "\n",
    "```python\n",
    "    import types\n",
    "    print(\"{}{: >15}{}{: >10}{}\".format('|','Variable Name','|','  Size','|'))\n",
    "    print(\" -------------------------- \")\n",
    "    for k, v in globals().items():\n",
    "        if hasattr(v, 'size') and not k.startswith('_') and not isinstance(v,types.ModuleType):\n",
    "            print(\"{}{: >15}{}{: >10}{}\".format('|',k,'|',str(v.size),'|'))\n",
    "        elif hasattr(v, '__len__') and not k.startswith('_') and not isinstance(v,types.ModuleType):\n",
    "            print(\"{}{: >15}{}{: >10}{}\".format('|',k,'|',str(len(v)),'|'))\n",
    "            \n",
    "# 実行例\n",
    "\n",
    "|  Variable Name|      Size|\n",
    " -------------------------- \n",
    "|             In|        69|\n",
    "|            Out|        37|\n",
    "|market_train_df|  61881519|\n",
    "|      plot_cols|         9|\n",
    "|     set_sector|        10|\n",
    "|dic_sector_code_name|        10|\n",
    "|return_features|         6|\n",
    "|          n_lag|         3|\n",
    "|              k|         5|\n",
    "|              v|         5|\n",
    "```"
   ]
  },
  {
   "cell_type": "markdown",
   "metadata": {},
   "source": [
    "# 並列処理\n",
    "\n",
    "## joblib\n",
    "大量の計算処理を実行する際、joblibを使って並列実行すると便利である。poolと違い大がかりなメモリコピーが伴うことがないのは利点。  \n",
    "参考：\n",
    "https://qiita.com/Yuhsak/items/1e8533343cf5458e2e08  \n",
    "https://qiita.com/hide1996/items/4276079bf5e16b7de7a7"
   ]
  },
  {
   "cell_type": "code",
   "execution_count": 2,
   "metadata": {},
   "outputs": [
    {
     "name": "stdout",
     "output_type": "stream",
     "text": [
      "2499500025000000\n",
      "11.088634252548218秒かかりました\n"
     ]
    }
   ],
   "source": [
    "from joblib import Parallel, delayed\n",
    "from time import time\n",
    "\n",
    "def process(n):\n",
    "    return sum([i*n for i in range(10000)])\n",
    "\n",
    "start = time()\n",
    "\n",
    "# 繰り返し計算 (並列化)\n",
    "r = Parallel(n_jobs=2)( [delayed(process)(i) for i in range(10000)] )\n",
    "print(sum(r))\n",
    "\n",
    "print('{}秒かかりました'.format(time() - start))"
   ]
  },
  {
   "cell_type": "markdown",
   "metadata": {},
   "source": [
    "## 進捗表示をしたいときは tqdm\n",
    "\n",
    "イテレーティブ・オブジェクトを tqdm で囲めば良い。\n",
    "\n",
    "```python\n",
    "from tqdm import tqdm\n",
    "text = \"\"\n",
    "for char in tqdm([\"a\", \"b\", \"c\", \"d\"]):\n",
    "    text = text + char\n",
    "```\n",
    "参考：\n",
    "https://wonderwall.hatenablog.com/entry/2017/07/23/222856  \n",
    "\n",
    "しかし、parallel 処理にtqdmを使うと、ジョブの割り当てだけで進捗が進んでしまい、あっという間に100％になる。  \n",
    "そして、100％になってから処理が終了するまで待つという有様である。  \n",
    "何か良い方法はないか..."
   ]
  },
  {
   "cell_type": "code",
   "execution_count": 14,
   "metadata": {},
   "outputs": [
    {
     "name": "stderr",
     "output_type": "stream",
     "text": [
      "100%|████████████████████████████████| 10000/10000 [00:00<00:00, 103086.83it/s]\n"
     ]
    },
    {
     "name": "stdout",
     "output_type": "stream",
     "text": [
      "2499500025000000\n",
      "11.307646751403809秒かかりました\n"
     ]
    }
   ],
   "source": [
    "from joblib import Parallel, delayed\n",
    "from time import time\n",
    "from tqdm import tqdm\n",
    "\n",
    "def process(n):\n",
    "    return sum([i*n for i in range(10000)])\n",
    "\n",
    "start = time()\n",
    "\n",
    "# 繰り返し計算 (並列化)\n",
    "r = Parallel(n_jobs=2)( [delayed(process)(i) for i in tqdm(range(10000))] )\n",
    "print(sum(r))\n",
    "\n",
    "print('{}秒かかりました'.format(time() - start))"
   ]
  },
  {
   "cell_type": "markdown",
   "metadata": {},
   "source": [
    "## joblib の並列処理でtqdmをちゃんと使う\n",
    "\n",
    "以下のコードが参考になる。  \n",
    "Parallel のコンストラクタの後に、まず先にtqdmで繰り返し処理を囲み、その中で非同期並列処理を実行すれば良いようだ。  \n",
    "```python\n",
    "def ParallelExecutor(use_bar='tqdm', **joblib_args):\n",
    "    def aprun(bar=use_bar, **tq_args):\n",
    "        def tmp(op_iter):\n",
    "            if str(bar) in all_bar_funcs.keys():\n",
    "                bar_func = all_bar_funcs[str(bar)](tq_args)\n",
    "            else:\n",
    "                raise ValueError(\"Value %s not supported as bar type\"%bar)\n",
    "            return Parallel(**joblib_args)(bar_func(op_iter))\n",
    "        return tmp\n",
    "    return aprun\n",
    "\n",
    "aprun = ParallelExecutor(n_jobs=5)\n",
    "\n",
    "a1 = aprun(total=25)(delayed(func)(i ** 2 + j) for i in range(5) for j in range(5))\n",
    "\n",
    "```\n",
    "\n",
    "参考：\n",
    "https://gist.github.com/MInner/12f9cf961059aed1a60e72c5531a697f\n",
    "\n",
    "以下を実行すると、ちゃんと計算処理が終わってから進捗バーが伸びていることがうかがえる。  \n",
    "計算結果の合計処理も正しく実行されている。  \n",
    "\n",
    "Parallelの戻り値である並列処理メソッドは、繰り返し処理を引数として受け取るようだ。  \n",
    "その繰り返し処理をtqdmで囲んでやれば、正しく進捗バーが表示されると言う訳である。"
   ]
  },
  {
   "cell_type": "code",
   "execution_count": 15,
   "metadata": {},
   "outputs": [
    {
     "name": "stderr",
     "output_type": "stream",
     "text": [
      "100%|███████████████████████████████████| 10000/10000 [00:10<00:00, 966.50it/s]\n"
     ]
    },
    {
     "name": "stdout",
     "output_type": "stream",
     "text": [
      "2499500025000000\n",
      "11.176639318466187秒かかりました\n"
     ]
    }
   ],
   "source": [
    "from joblib import Parallel, delayed\n",
    "from time import time\n",
    "from tqdm import tqdm\n",
    "\n",
    "def process(n):\n",
    "    return sum([i*n for i in range(10000)])\n",
    "\n",
    "start = time()\n",
    "\n",
    "# 繰り返し計算 (並列化)\n",
    "r = Parallel(n_jobs=2)(tqdm([delayed(process)(i) for i in range(10000)]))\n",
    "print(sum(r))\n",
    "\n",
    "print('{}秒かかりました'.format(time() - start))"
   ]
  },
  {
   "cell_type": "markdown",
   "metadata": {},
   "source": [
    "# 基礎的Tips\n",
    "## 辞書のソート\n",
    "https://www.lifewithpython.com/2013/01/python-sort-dicts.html\n"
   ]
  },
  {
   "cell_type": "code",
   "execution_count": 12,
   "metadata": {},
   "outputs": [
    {
     "name": "stdout",
     "output_type": "stream",
     "text": [
      "[('Hokkaido', 12), ('Osaka', 3), ('Tokyo', 10)]\n",
      "[('Osaka', 3), ('Tokyo', 10), ('Hokkaido', 12)]\n",
      "[('Hokkaido', 12), ('Osaka', 3), ('Tokyo', 10)]\n",
      "[('Osaka', 3), ('Tokyo', 10), ('Hokkaido', 12)]\n"
     ]
    }
   ],
   "source": [
    "d = {\n",
    "    'Tokyo': 10,\n",
    "    'Osaka': 3,\n",
    "    'Hokkaido': 12,\n",
    "}\n",
    "\n",
    "# キーでソートする場合\n",
    "print(sorted(d.items(), key=lambda x: x[0]))\n",
    "\n",
    "# 値でソートする場合\n",
    "print(sorted(d.items(), key=lambda x: x[1]))\n",
    "\n",
    "# 値でソートする場合：別解\n",
    "#sorted(d.items(), key=(lambda k, v: v))\n",
    "#print(d)\n",
    "\n",
    "from operator import itemgetter\n",
    "print(sorted(d.items(), key=itemgetter(0)))\n",
    "\n",
    "print(sorted(d.items(), key=itemgetter(1)))\n"
   ]
  },
  {
   "cell_type": "markdown",
   "metadata": {},
   "source": [
    "# パフォーマンス関連\n",
    "\n",
    "## CPU数を把握する\n",
    "コードを稼働させるマシンが搭載するCPU数を取得するには、multiprocessing モジュールの cpu_count()関数を使えば良い。\n",
    "To obtain the number of CPUs installed in the machine running the code, use the cpu_count () function of the multiprocessing module."
   ]
  },
  {
   "cell_type": "code",
   "execution_count": 18,
   "metadata": {},
   "outputs": [
    {
     "name": "stdout",
     "output_type": "stream",
     "text": [
      "4\n"
     ]
    }
   ],
   "source": [
    "import multiprocessing\n",
    "print(multiprocessing.cpu_count())"
   ]
  },
  {
   "cell_type": "markdown",
   "metadata": {},
   "source": [
    "## メモリ消費量を把握する\n",
    "resourceモジュールにある getrusage() 関数を使えば、リソース把握機能を持つインスタンスを取得できる。  \n",
    "ただし、この機能はunix系OS固有のものであり、windows環境では使うことができない！  \n",
    "> resource.getrusage(who)(原文)  \n",
    "この関数は、 who 引数で指定される、現プロセスおよびその子プロセスによって消費されているリソースを記述するオブジェクトを返します。 who 引数は以下に記述される RUSAGE_* 定数のいずれかを使って指定します。\n",
    "\n",
    "以下は、最大常駐ページサイズを取得するコードの例である。\n",
    "\n",
    "```python\n",
    "    # ru_maxrss\t最大常駐ページサイズ\n",
    "    max_rss = getrusage(RUSAGE_SELF).ru_maxrss\n",
    "```\n",
    "\n",
    "[公式サイトリファレンスはこちら](https://docs.python.jp/3/library/resource.html#resource.getrusage)"
   ]
  },
  {
   "cell_type": "code",
   "execution_count": 19,
   "metadata": {},
   "outputs": [
    {
     "ename": "ModuleNotFoundError",
     "evalue": "No module named 'resource'",
     "output_type": "error",
     "traceback": [
      "\u001b[1;31m---------------------------------------------------------------------------\u001b[0m",
      "\u001b[1;31mModuleNotFoundError\u001b[0m                       Traceback (most recent call last)",
      "\u001b[1;32m<ipython-input-19-b209c6a3072e>\u001b[0m in \u001b[0;36m<module>\u001b[1;34m()\u001b[0m\n\u001b[1;32m----> 1\u001b[1;33m \u001b[1;32mfrom\u001b[0m \u001b[0mresource\u001b[0m \u001b[1;32mimport\u001b[0m \u001b[0mgetrusage\u001b[0m\u001b[1;33m,\u001b[0m \u001b[0mRUSAGE_SELF\u001b[0m\u001b[1;33m\u001b[0m\u001b[0m\n\u001b[0m\u001b[0;32m      2\u001b[0m \u001b[0mMAXRSS\u001b[0m \u001b[1;33m=\u001b[0m \u001b[0mgetrusage\u001b[0m\u001b[1;33m(\u001b[0m\u001b[0mRUSAGE_SELF\u001b[0m\u001b[1;33m)\u001b[0m\u001b[1;33m.\u001b[0m\u001b[0mru_maxrss\u001b[0m\u001b[1;33m\u001b[0m\u001b[0m\n\u001b[0;32m      3\u001b[0m \u001b[0mprint\u001b[0m\u001b[1;33m(\u001b[0m\u001b[0mMAXRSS\u001b[0m\u001b[1;33m)\u001b[0m\u001b[1;33m\u001b[0m\u001b[0m\n",
      "\u001b[1;31mModuleNotFoundError\u001b[0m: No module named 'resource'"
     ]
    }
   ],
   "source": [
    "!conda install resource\n",
    "from resource import getrusage, RUSAGE_SELF\n",
    "MAXRSS = getrusage(RUSAGE_SELF).ru_maxrss\n",
    "print(MAXRSS)"
   ]
  },
  {
   "cell_type": "code",
   "execution_count": null,
   "metadata": {
    "collapsed": true
   },
   "outputs": [],
   "source": []
  }
 ],
 "metadata": {
  "kernelspec": {
   "display_name": "Python 3",
   "language": "python",
   "name": "python3"
  },
  "language_info": {
   "codemirror_mode": {
    "name": "ipython",
    "version": 3
   },
   "file_extension": ".py",
   "mimetype": "text/x-python",
   "name": "python",
   "nbconvert_exporter": "python",
   "pygments_lexer": "ipython3",
   "version": "3.6.6"
  },
  "toc": {
   "base_numbering": 1,
   "nav_menu": {},
   "number_sections": true,
   "sideBar": true,
   "skip_h1_title": false,
   "title_cell": "Table of Contents",
   "title_sidebar": "Contents",
   "toc_cell": true,
   "toc_position": {},
   "toc_section_display": true,
   "toc_window_display": true
  },
  "varInspector": {
   "cols": {
    "lenName": 16,
    "lenType": 16,
    "lenVar": 40
   },
   "kernels_config": {
    "python": {
     "delete_cmd_postfix": "",
     "delete_cmd_prefix": "del ",
     "library": "var_list.py",
     "varRefreshCmd": "print(var_dic_list())"
    },
    "r": {
     "delete_cmd_postfix": ") ",
     "delete_cmd_prefix": "rm(",
     "library": "var_list.r",
     "varRefreshCmd": "cat(var_dic_list()) "
    }
   },
   "types_to_exclude": [
    "module",
    "function",
    "builtin_function_or_method",
    "instance",
    "_Feature"
   ],
   "window_display": false
  }
 },
 "nbformat": 4,
 "nbformat_minor": 2
}
