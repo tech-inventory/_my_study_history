{
 "cells": [
  {
   "cell_type": "markdown",
   "metadata": {
    "toc": true
   },
   "source": [
    "<h1>Table of Contents<span class=\"tocSkip\"></span></h1>\n",
    "<div class=\"toc\"><ul class=\"toc-item\"><li><span><a href=\"#概要\" data-toc-modified-id=\"概要-1\"><span class=\"toc-item-num\">1&nbsp;&nbsp;</span>概要</a></span></li><li><span><a href=\"#教材サイト\" data-toc-modified-id=\"教材サイト-2\"><span class=\"toc-item-num\">2&nbsp;&nbsp;</span>教材サイト</a></span><ul class=\"toc-item\"><li><span><a href=\"#検定手法のリストアップ\" data-toc-modified-id=\"検定手法のリストアップ-2.1\"><span class=\"toc-item-num\">2.1&nbsp;&nbsp;</span>検定手法のリストアップ</a></span></li></ul></li><li><span><a href=\"#実験\" data-toc-modified-id=\"実験-3\"><span class=\"toc-item-num\">3&nbsp;&nbsp;</span>実験</a></span></li><li><span><a href=\"#カイ２乗検定\" data-toc-modified-id=\"カイ２乗検定-4\"><span class=\"toc-item-num\">4&nbsp;&nbsp;</span>カイ２乗検定</a></span></li></ul></div>"
   ]
  },
  {
   "cell_type": "markdown",
   "metadata": {},
   "source": [
    "# 概要\n",
    "広告やキャンペーン効果測定の方法についてまとめる。  \n",
    "繰り返し使いまわせるような体系化された内容にしよう。\n",
    "\n",
    "# 教材サイト\n",
    "\n",
    "A/Bテストに用いられれる統計的検定手法（ロジック）のまとめ＆比較 | RCO Ad-Tech Lab Blog  \n",
    "https://www.rco.recruit.co.jp/career/engineer/blog/ab-test-logic/\n",
    "\n",
    "仮説検証とサンプルサイズの基礎 - クックパッド開発者ブログ\n",
    "https://techlife.cookpad.com/entry/2016/09/26/111601\n",
    "\n",
    "\n",
    "長文であるが、統計的仮説検定の盲点について考察している。  \n",
    "観測結果を鵜呑みにしないための視点が記されている。\n",
    "http://id.fnshr.info/2014/12/17/stats-done-wrong-05/\n",
    "\n",
    "\n",
    "## 検定手法のリストアップ\n",
    "\n",
    "1. **二項検定**\n",
    "    クリック数（コンバージョン率）常に使える。\n",
    "    理論的に厳密。フィッシャーの正確確率検定に対して、”戻しの処理”を加えたもの。復元抽出。\n",
    "    \n",
    "2. **カイ二乗検定**  \n",
    "   クリック数（コンバージョン率）のサンプルサイズが大きい場合（＞O(10)）に使える。\n",
    "   二項検定において、分布（二項分布）をサンプルサイズが大きい極限において正規分布で近似（中心極限定理）\n",
    "   \n",
    "3. **フィッシャーの正確確率検定**\n",
    "    クリック数（コンバージョン率）に対して常に使える。\n",
    "    理論的に厳密。二項検定とは違い、抽出したサンプルを戻さないと考える。非復元抽出。\n",
    "    \n",
    "4.  **t検定**  \n",
    "    クリック数（コンバージョン率）や売上等の連続的な数値に使える。  \n",
    "    クリック数の場合：サンプルサイズが大きいこと、  \n",
    "    連続数値の場合：分布が正規分布 or サンプルサイズが大きいことが使用条件になる。\n",
    "    \n",
    "    クリック数の場合：サンプルサイズが大きい極限において正規分布で近似（中心極限定理）  \n",
    "    連続数値の場合：平均値に差があるか否かの検定\n",
    "    \n",
    "5. **ウィルコクソンの順位和検定**  \n",
    "   売上等の連続的な数値に使う。サンプルサイズが大きいことが使用条件で、中央値に差があるか否かの検定に使う。\n",
    "   "
   ]
  },
  {
   "cell_type": "markdown",
   "metadata": {},
   "source": [
    "# 実験\n",
    "以下の条件で実験をする。  \n",
    "\n",
    "* 施策A:改善案\n",
    "    コンバージョンした=454\n",
    "    コンバージョンせず=20,933\n",
    "    \n",
    "* 施策B：現状維持\n",
    "    コンバージョンした=189\n",
    "    コンバージョンせず=10,845"
   ]
  },
  {
   "cell_type": "code",
   "execution_count": 2,
   "metadata": {
    "collapsed": false,
    "scrolled": true
   },
   "outputs": [],
   "source": [
    "from scipy import stats\n",
    "from scipy.stats import t"
   ]
  },
  {
   "cell_type": "code",
   "execution_count": 8,
   "metadata": {
    "collapsed": false
   },
   "outputs": [],
   "source": [
    "sample_a = [1] * 454 + [0] * 20933\n",
    "sample_b = [1] * 189 + [0] * 10845"
   ]
  },
  {
   "cell_type": "code",
   "execution_count": 9,
   "metadata": {
    "collapsed": false
   },
   "outputs": [],
   "source": [
    "mean_a = np.mean(sample_a)\n",
    "std_a = np.std(sample_a, ddof=1)"
   ]
  },
  {
   "cell_type": "code",
   "execution_count": 14,
   "metadata": {
    "collapsed": false
   },
   "outputs": [],
   "source": [
    "# 各ユーザーごとにコンバージョンする/しないは１票とみなすと equql_val=False とすべき。\n",
    "t_value, p_value = stats.ttest_ind(sample_a, sample_b, equal_var=False)\n"
   ]
  },
  {
   "cell_type": "code",
   "execution_count": 13,
   "metadata": {
    "collapsed": false
   },
   "outputs": [
    {
     "name": "stdout",
     "output_type": "stream",
     "text": [
      "p値=0.009499486517327413\n"
     ]
    }
   ],
   "source": [
    "print(\"p値={}\".format(p_value))"
   ]
  },
  {
   "cell_type": "code",
   "execution_count": 29,
   "metadata": {
    "collapsed": false
   },
   "outputs": [
    {
     "data": {
      "text/plain": [
       "3.6206495804123572e-05"
      ]
     },
     "execution_count": 29,
     "metadata": {},
     "output_type": "execute_result"
    }
   ],
   "source": [
    "stats.binom_test(x=454, n=(454+20933), p=(189)/(10845)*1.0, alternative='two-sided')"
   ]
  },
  {
   "cell_type": "code",
   "execution_count": 28,
   "metadata": {
    "collapsed": false
   },
   "outputs": [
    {
     "data": {
      "text/plain": [
       "0.7060653188180405"
      ]
     },
     "execution_count": 28,
     "metadata": {},
     "output_type": "execute_result"
    }
   ],
   "source": [
    "454/(454+189)*1.0"
   ]
  },
  {
   "cell_type": "code",
   "execution_count": 17,
   "metadata": {
    "collapsed": false
   },
   "outputs": [
    {
     "name": "stdout",
     "output_type": "stream",
     "text": [
      "p_a= 0.659665031924\n",
      "conversion_total= 643\n",
      "conversion_a= 454\n",
      "p_value= 0.0125320280817\n"
     ]
    }
   ],
   "source": [
    "import scipy.stats\n",
    "import numpy as np\n",
    "data = np.matrix([ [ 454, 20933 ], [ 189, 10845 ] ])\n",
    "p_a = np.sum(data, axis=1).item((0, 0)) / data.sum()\n",
    "print(\"p_a=\", p_a)\n",
    "conversion_total = np.sum(data, axis=0).item(0, 0)\n",
    "print(\"conversion_total=\", conversion_total)\n",
    "conversion_a  = data.item(0,0)\n",
    "print(\"conversion_a=\", conversion_a)\n",
    "# 確率 p_a の基で、n回試行して、x回 (Aは)yesになった\n",
    "p_value = scipy.stats.binom_test(x=conversion_a, n=conversion_total, p=p_a, alternative=\"two-sided\")\n",
    "print(\"p_value=\", p_value)"
   ]
  },
  {
   "cell_type": "code",
   "execution_count": 25,
   "metadata": {
    "collapsed": false
   },
   "outputs": [
    {
     "data": {
      "text/plain": [
       "454"
      ]
     },
     "execution_count": 25,
     "metadata": {},
     "output_type": "execute_result"
    }
   ],
   "source": [
    "conversion_a"
   ]
  },
  {
   "cell_type": "code",
   "execution_count": 26,
   "metadata": {
    "collapsed": false
   },
   "outputs": [
    {
     "data": {
      "text/plain": [
       "643"
      ]
     },
     "execution_count": 26,
     "metadata": {},
     "output_type": "execute_result"
    }
   ],
   "source": [
    "conversion_total"
   ]
  },
  {
   "cell_type": "code",
   "execution_count": 27,
   "metadata": {
    "collapsed": false
   },
   "outputs": [
    {
     "data": {
      "text/plain": [
       "0.65966503192375314"
      ]
     },
     "execution_count": 27,
     "metadata": {},
     "output_type": "execute_result"
    }
   ],
   "source": [
    "p_a"
   ]
  },
  {
   "cell_type": "markdown",
   "metadata": {},
   "source": [
    "# カイ２乗検定"
   ]
  },
  {
   "cell_type": "code",
   "execution_count": 30,
   "metadata": {
    "collapsed": false
   },
   "outputs": [
    {
     "name": "stdout",
     "output_type": "stream",
     "text": [
      "Test Statistic: 6.291035173658824\n",
      "p-value: 0.012135015711322547\n",
      "Degrees of Freedom: 1\n",
      "\n",
      "[[   424.16461553  20962.83538447]\n",
      " [   218.83538447  10815.16461553]]\n"
     ]
    }
   ],
   "source": [
    "import scipy.stats\n",
    "import numpy as np\n",
    "data = np.matrix([ [ 454, 20933 ], [ 189, 10845 ] ])\n",
    "chi2, p, ddof, expected = scipy.stats.chi2_contingency( data , correction=False)\n",
    "msg = \"Test Statistic: {}\\np-value: {}\\nDegrees of Freedom: {}\\n\"\n",
    "print( msg.format( chi2, p, ddof ) )\n",
    "print( expected )"
   ]
  },
  {
   "cell_type": "code",
   "execution_count": null,
   "metadata": {
    "collapsed": true
   },
   "outputs": [],
   "source": []
  }
 ],
 "metadata": {
  "kernelspec": {
   "display_name": "Python [conda env:kaggle]",
   "language": "python",
   "name": "conda-env-kaggle-py"
  },
  "language_info": {
   "codemirror_mode": {
    "name": "ipython",
    "version": 3
   },
   "file_extension": ".py",
   "mimetype": "text/x-python",
   "name": "python",
   "nbconvert_exporter": "python",
   "pygments_lexer": "ipython3",
   "version": "3.5.5"
  },
  "toc": {
   "base_numbering": 1,
   "nav_menu": {},
   "number_sections": true,
   "sideBar": true,
   "skip_h1_title": false,
   "title_cell": "Table of Contents",
   "title_sidebar": "Contents",
   "toc_cell": true,
   "toc_position": {},
   "toc_section_display": true,
   "toc_window_display": true
  },
  "varInspector": {
   "cols": {
    "lenName": 16,
    "lenType": 16,
    "lenVar": 40
   },
   "kernels_config": {
    "python": {
     "delete_cmd_postfix": "",
     "delete_cmd_prefix": "del ",
     "library": "var_list.py",
     "varRefreshCmd": "print(var_dic_list())"
    },
    "r": {
     "delete_cmd_postfix": ") ",
     "delete_cmd_prefix": "rm(",
     "library": "var_list.r",
     "varRefreshCmd": "cat(var_dic_list()) "
    }
   },
   "types_to_exclude": [
    "module",
    "function",
    "builtin_function_or_method",
    "instance",
    "_Feature"
   ],
   "window_display": false
  }
 },
 "nbformat": 4,
 "nbformat_minor": 2
}
