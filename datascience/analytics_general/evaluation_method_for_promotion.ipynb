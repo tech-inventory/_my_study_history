{
 "cells": [
  {
   "cell_type": "markdown",
   "metadata": {
    "toc": true
   },
   "source": [
    "<h1>Table of Contents<span class=\"tocSkip\"></span></h1>\n",
    "<div class=\"toc\"><ul class=\"toc-item\"><li><span><a href=\"#概要\" data-toc-modified-id=\"概要-1\"><span class=\"toc-item-num\">1&nbsp;&nbsp;</span>概要</a></span></li><li><span><a href=\"#教材サイト\" data-toc-modified-id=\"教材サイト-2\"><span class=\"toc-item-num\">2&nbsp;&nbsp;</span>教材サイト</a></span><ul class=\"toc-item\"><li><span><a href=\"#検定手法のリストアップ\" data-toc-modified-id=\"検定手法のリストアップ-2.1\"><span class=\"toc-item-num\">2.1&nbsp;&nbsp;</span>検定手法のリストアップ</a></span></li></ul></li><li><span><a href=\"#実験\" data-toc-modified-id=\"実験-3\"><span class=\"toc-item-num\">3&nbsp;&nbsp;</span>実験</a></span><ul class=\"toc-item\"><li><span><a href=\"#welchのt検定\" data-toc-modified-id=\"welchのt検定-3.1\"><span class=\"toc-item-num\">3.1&nbsp;&nbsp;</span>welchのt検定</a></span></li></ul></li><li><span><a href=\"#二項検定\" data-toc-modified-id=\"二項検定-4\"><span class=\"toc-item-num\">4&nbsp;&nbsp;</span>二項検定</a></span></li><li><span><a href=\"#カイ２乗検定\" data-toc-modified-id=\"カイ２乗検定-5\"><span class=\"toc-item-num\">5&nbsp;&nbsp;</span>カイ２乗検定</a></span></li><li><span><a href=\"#F検定：分散の検定\" data-toc-modified-id=\"F検定：分散の検定-6\"><span class=\"toc-item-num\">6&nbsp;&nbsp;</span>F検定：分散の検定</a></span><ul class=\"toc-item\"><li><span><a href=\"#サンプル数を増やすとどうなるか\" data-toc-modified-id=\"サンプル数を増やすとどうなるか-6.1\"><span class=\"toc-item-num\">6.1&nbsp;&nbsp;</span>サンプル数を増やすとどうなるか</a></span></li></ul></li><li><span><a href=\"#ノンパラメトリック検定\" data-toc-modified-id=\"ノンパラメトリック検定-7\"><span class=\"toc-item-num\">7&nbsp;&nbsp;</span>ノンパラメトリック検定</a></span><ul class=\"toc-item\"><li><span><a href=\"#Mann-Whitney(マンホイットニー)のU検定\" data-toc-modified-id=\"Mann-Whitney(マンホイットニー)のU検定-7.1\"><span class=\"toc-item-num\">7.1&nbsp;&nbsp;</span>Mann-Whitney(マンホイットニー)のU検定</a></span></li><li><span><a href=\"#Wilcoxon(ウィルコクソン)の符号付順位和検定\" data-toc-modified-id=\"Wilcoxon(ウィルコクソン)の符号付順位和検定-7.2\"><span class=\"toc-item-num\">7.2&nbsp;&nbsp;</span>Wilcoxon(ウィルコクソン)の符号付順位和検定</a></span></li></ul></li><li><span><a href=\"#対応のある二群、独立した二群\" data-toc-modified-id=\"対応のある二群、独立した二群-8\"><span class=\"toc-item-num\">8&nbsp;&nbsp;</span>対応のある二群、独立した二群</a></span><ul class=\"toc-item\"><li><span><a href=\"#独立した二群\" data-toc-modified-id=\"独立した二群-8.1\"><span class=\"toc-item-num\">8.1&nbsp;&nbsp;</span>独立した二群</a></span></li><li><span><a href=\"#対応のある二群\" data-toc-modified-id=\"対応のある二群-8.2\"><span class=\"toc-item-num\">8.2&nbsp;&nbsp;</span>対応のある二群</a></span></li></ul></li></ul></div>"
   ]
  },
  {
   "cell_type": "markdown",
   "metadata": {},
   "source": [
    "# 概要\n",
    "広告やキャンペーン効果測定の方法についてまとめる。  \n",
    "繰り返し使いまわせるような体系化された内容にしよう。\n",
    "\n",
    "# 教材サイト\n",
    "\n",
    "A/Bテストに用いられれる統計的検定手法（ロジック）のまとめ＆比較 | RCO Ad-Tech Lab Blog  \n",
    "https://www.rco.recruit.co.jp/career/engineer/blog/ab-test-logic/\n",
    "\n",
    "仮説検証とサンプルサイズの基礎 - クックパッド開発者ブログ\n",
    "https://techlife.cookpad.com/entry/2016/09/26/111601\n",
    "\n",
    "\n",
    "長文であるが、統計的仮説検定の盲点について考察している。  \n",
    "観測結果を鵜呑みにしないための視点が記されている。\n",
    "http://id.fnshr.info/2014/12/17/stats-done-wrong-05/\n",
    "\n",
    "\n",
    "## 検定手法のリストアップ\n",
    "\n",
    "1. **二項検定**\n",
    "    クリック数（コンバージョン率）常に使える。\n",
    "    理論的に厳密。フィッシャーの正確確率検定に対して、”戻しの処理”を加えたもの。復元抽出。\n",
    "    \n",
    "2. **カイ二乗検定**  \n",
    "   クリック数（コンバージョン率）のサンプルサイズが大きい場合（＞O(10)）に使える。\n",
    "   二項検定において、分布（二項分布）をサンプルサイズが大きい極限において正規分布で近似（中心極限定理）\n",
    "   \n",
    "3. **フィッシャーの正確確率検定**\n",
    "    クリック数（コンバージョン率）に対して常に使える。\n",
    "    理論的に厳密。二項検定とは違い、抽出したサンプルを戻さないと考える。非復元抽出。\n",
    "    \n",
    "4.  **t検定**  \n",
    "    クリック数（コンバージョン率）や売上等の連続的な数値に使える。  \n",
    "    クリック数の場合：サンプルサイズが大きいこと、  \n",
    "    連続数値の場合：分布が正規分布 or サンプルサイズが大きいことが使用条件になる。\n",
    "    \n",
    "    クリック数の場合：サンプルサイズが大きい極限において正規分布で近似（中心極限定理）  \n",
    "    連続数値の場合：平均値に差があるか否かの検定\n",
    "    \n",
    "5. **ウィルコクソンの順位和検定**  \n",
    "   売上等の連続的な数値に使う。サンプルサイズが大きいことが使用条件で、中央値に差があるか否かの検定に使う。\n",
    "   "
   ]
  },
  {
   "cell_type": "markdown",
   "metadata": {},
   "source": [
    "# 実験\n",
    "以下の条件で実験をする。  \n",
    "\n",
    "* 施策A:改善案\n",
    "    コンバージョンした=454\n",
    "    コンバージョンせず=20,933\n",
    "    \n",
    "* 施策B：現状維持\n",
    "    コンバージョンした=189\n",
    "    コンバージョンせず=10,845"
   ]
  },
  {
   "cell_type": "code",
   "execution_count": 2,
   "metadata": {
    "collapsed": false,
    "scrolled": true
   },
   "outputs": [],
   "source": [
    "from scipy import stats\n",
    "from scipy.stats import t"
   ]
  },
  {
   "cell_type": "code",
   "execution_count": 8,
   "metadata": {
    "collapsed": false
   },
   "outputs": [],
   "source": [
    "sample_a = [1] * 454 + [0] * 20933\n",
    "sample_b = [1] * 189 + [0] * 10845"
   ]
  },
  {
   "cell_type": "code",
   "execution_count": 9,
   "metadata": {
    "collapsed": false
   },
   "outputs": [],
   "source": [
    "mean_a = np.mean(sample_a)\n",
    "std_a = np.std(sample_a, ddof=1)"
   ]
  },
  {
   "cell_type": "markdown",
   "metadata": {},
   "source": [
    "## welchのt検定\n",
    "二つの集団が同じ分散を持つことは保障されない。そんなときは、welchのt検定を使うべきである。  \n",
    "```ttest_ind()```関数の引数 ```equal_var=False``` とすれば、welchのt検定を実施する。\n",
    "\n",
    "welchのt検定は、以下の条件が当てはまるときに実施する。  \n",
    ">・2群間の平均値の差を比較する検定  \n",
    "・2群間の平均値が独立であり(データに対応がない)、2群間に等分散性が仮定できない場合に用いる\n",
    "https://qiita.com/suaaa7/items/745ac1ca0a8d6753cf60#welch%E3%82%A6%E3%82%A7%E3%83%AB%E3%83%81%E3%81%AEt%E6%A4%9C%E5%AE%9A\n",
    "\n",
    "https://qiita.com/ynakayama/items/b9ec31a296de48e62863  \n",
    "http://lang.sist.chukyo-u.ac.jp/classes/PythonProbStat/Python-statistics5.html"
   ]
  },
  {
   "cell_type": "code",
   "execution_count": 14,
   "metadata": {
    "collapsed": false
   },
   "outputs": [],
   "source": [
    "# 各ユーザーごとにコンバージョンする/しないは１票とみなすと equql_val=False とすべき。\n",
    "t_value, p_value = stats.ttest_ind(sample_a, sample_b, equal_var=False)\n"
   ]
  },
  {
   "cell_type": "code",
   "execution_count": 13,
   "metadata": {
    "collapsed": false
   },
   "outputs": [
    {
     "name": "stdout",
     "output_type": "stream",
     "text": [
      "p値=0.009499486517327413\n"
     ]
    }
   ],
   "source": [
    "print(\"p値={}\".format(p_value))"
   ]
  },
  {
   "cell_type": "markdown",
   "metadata": {},
   "source": [
    "# 二項検定"
   ]
  },
  {
   "cell_type": "code",
   "execution_count": 29,
   "metadata": {
    "collapsed": false
   },
   "outputs": [
    {
     "data": {
      "text/plain": [
       "3.6206495804123572e-05"
      ]
     },
     "execution_count": 29,
     "metadata": {},
     "output_type": "execute_result"
    }
   ],
   "source": [
    "stats.binom_test(x=454, n=(454+20933), p=(189)/(10845)*1.0, alternative='two-sided')"
   ]
  },
  {
   "cell_type": "code",
   "execution_count": 28,
   "metadata": {
    "collapsed": false
   },
   "outputs": [
    {
     "data": {
      "text/plain": [
       "0.7060653188180405"
      ]
     },
     "execution_count": 28,
     "metadata": {},
     "output_type": "execute_result"
    }
   ],
   "source": [
    "454/(454+189)*1.0"
   ]
  },
  {
   "cell_type": "code",
   "execution_count": 17,
   "metadata": {
    "collapsed": false
   },
   "outputs": [
    {
     "name": "stdout",
     "output_type": "stream",
     "text": [
      "p_a= 0.659665031924\n",
      "conversion_total= 643\n",
      "conversion_a= 454\n",
      "p_value= 0.0125320280817\n"
     ]
    }
   ],
   "source": [
    "import scipy.stats\n",
    "import numpy as np\n",
    "data = np.matrix([ [ 454, 20933 ], [ 189, 10845 ] ])\n",
    "p_a = np.sum(data, axis=1).item((0, 0)) / data.sum()\n",
    "print(\"p_a=\", p_a)\n",
    "conversion_total = np.sum(data, axis=0).item(0, 0)\n",
    "print(\"conversion_total=\", conversion_total)\n",
    "conversion_a  = data.item(0,0)\n",
    "print(\"conversion_a=\", conversion_a)\n",
    "# 確率 p_a の基で、n回試行して、x回 (Aは)yesになった\n",
    "p_value = scipy.stats.binom_test(x=conversion_a, n=conversion_total, p=p_a, alternative=\"two-sided\")\n",
    "print(\"p_value=\", p_value)"
   ]
  },
  {
   "cell_type": "code",
   "execution_count": 25,
   "metadata": {
    "collapsed": false
   },
   "outputs": [
    {
     "data": {
      "text/plain": [
       "454"
      ]
     },
     "execution_count": 25,
     "metadata": {},
     "output_type": "execute_result"
    }
   ],
   "source": [
    "conversion_a"
   ]
  },
  {
   "cell_type": "code",
   "execution_count": 26,
   "metadata": {
    "collapsed": false
   },
   "outputs": [
    {
     "data": {
      "text/plain": [
       "643"
      ]
     },
     "execution_count": 26,
     "metadata": {},
     "output_type": "execute_result"
    }
   ],
   "source": [
    "conversion_total"
   ]
  },
  {
   "cell_type": "code",
   "execution_count": 27,
   "metadata": {
    "collapsed": false
   },
   "outputs": [
    {
     "data": {
      "text/plain": [
       "0.65966503192375314"
      ]
     },
     "execution_count": 27,
     "metadata": {},
     "output_type": "execute_result"
    }
   ],
   "source": [
    "p_a"
   ]
  },
  {
   "cell_type": "markdown",
   "metadata": {},
   "source": [
    "# カイ２乗検定"
   ]
  },
  {
   "cell_type": "code",
   "execution_count": 30,
   "metadata": {
    "collapsed": false
   },
   "outputs": [
    {
     "name": "stdout",
     "output_type": "stream",
     "text": [
      "Test Statistic: 6.291035173658824\n",
      "p-value: 0.012135015711322547\n",
      "Degrees of Freedom: 1\n",
      "\n",
      "[[   424.16461553  20962.83538447]\n",
      " [   218.83538447  10815.16461553]]\n"
     ]
    }
   ],
   "source": [
    "import scipy.stats\n",
    "import numpy as np\n",
    "data = np.matrix([ [ 454, 20933 ], [ 189, 10845 ] ])\n",
    "chi2, p, ddof, expected = scipy.stats.chi2_contingency( data , correction=False)\n",
    "msg = \"Test Statistic: {}\\np-value: {}\\nDegrees of Freedom: {}\\n\"\n",
    "print( msg.format( chi2, p, ddof ) )\n",
    "print( expected )"
   ]
  },
  {
   "cell_type": "markdown",
   "metadata": {},
   "source": [
    "# F検定：分散の検定\n",
    "F検定は、二つの集団の分散が等しいかどうか判定するための検定である。  "
   ]
  },
  {
   "cell_type": "code",
   "execution_count": 36,
   "metadata": {
    "collapsed": false
   },
   "outputs": [
    {
     "name": "stdout",
     "output_type": "stream",
     "text": [
      "Japan:[ 180.7  167.3  167.8  164.6  176.2  157.2  181.5  166.4  172.9  169.5\n",
      "  179.8  158.6  169.1  168.7  177.8  164.4  170.   165.7  171.3  174.5\n",
      "  164.4  177.9  176.4  174.   176.4  166.9  170.3  165.4  169.4  174.2]\n",
      "US:[ 193.   175.1  175.8  171.4  186.9  161.6  194.   173.9  182.6  178.\n",
      "  191.7  163.5  177.4  176.9  189.1  171.2  178.6  173.   180.3  184.7\n",
      "  171.2  189.2  187.2  184.   187.2  174.5  179.   172.5  177.9  184.2]\n"
     ]
    }
   ],
   "source": [
    "# サンプル実装\n",
    "# http://toukei.link/programmingandsoftware/statistics_by_python/ftest_for_homoscedasticity/\n",
    "import numpy as np\n",
    "import scipy \n",
    "import statistics as stat\n",
    "\n",
    "# 日本人男性30人をサンプル\n",
    "np.random.seed(1)\n",
    "Japan = np.round([np.random.normal(171, 6, 30)],1).reshape(30)\n",
    "print(\"Japan:{}\".format(Japan))\n",
    "\n",
    "# アメリカ人男性30人をサンプル\n",
    "np.random.seed(1)\n",
    "US = np.round([np.random.normal(180, 8, 30)],1).reshape(30)\n",
    "print(\"US:{}\".format(US)) "
   ]
  },
  {
   "cell_type": "markdown",
   "metadata": {},
   "source": [
    "標本分散を確認する。  \n",
    "一見すると、JapanとUSの分散の違いは明らかであるように見える。"
   ]
  },
  {
   "cell_type": "code",
   "execution_count": 38,
   "metadata": {
    "collapsed": false
   },
   "outputs": [
    {
     "name": "stdout",
     "output_type": "stream",
     "text": [
      "var(Japan)=37.972195402298865\n",
      "var(US)=67.51889655172411\n"
     ]
    }
   ],
   "source": [
    "# 標本分散\n",
    "print(\"var(Japan)={}\".format(stat.variance(Japan)))\n",
    "print(\"var(US)={}\".format(stat.variance(US)))"
   ]
  },
  {
   "cell_type": "markdown",
   "metadata": {},
   "source": [
    "だが、```scipy.stats.bartlett``` を使い、F検定を実施すると、p値が ```0.126978``` と高い値であり、\n",
    "帰無仮説：JapanとUSの分散は等しいを否定することができないことがわかる。  "
   ]
  },
  {
   "cell_type": "code",
   "execution_count": 39,
   "metadata": {
    "collapsed": false
   },
   "outputs": [
    {
     "data": {
      "text/plain": [
       "BartlettResult(statistic=2.3290558523567992, pvalue=0.1269788727635183)"
      ]
     },
     "execution_count": 39,
     "metadata": {},
     "output_type": "execute_result"
    }
   ],
   "source": [
    "# 等分散性の検定を行う。\n",
    "scipy.stats.bartlett(Japan,US)"
   ]
  },
  {
   "cell_type": "markdown",
   "metadata": {},
   "source": [
    "## サンプル数を増やすとどうなるか\n",
    "先の例では、Japan,USともに30件のサンプルで、等分散検定をしていた。  \n",
    "正規乱数を発生させる際の標準偏差は、Japan=6, US=8 である。  \n",
    "サンプル数を増やすと、案の定、p値は十分小さくなった。  "
   ]
  },
  {
   "cell_type": "code",
   "execution_count": 41,
   "metadata": {
    "collapsed": false
   },
   "outputs": [
    {
     "name": "stdout",
     "output_type": "stream",
     "text": [
      "var(Japan)=34.6923696096096\n",
      "var(US)=61.654450360360364\n"
     ]
    },
    {
     "data": {
      "text/plain": [
       "BartlettResult(statistic=81.426932773949389, pvalue=1.8186256004148035e-19)"
      ]
     },
     "execution_count": 41,
     "metadata": {},
     "output_type": "execute_result"
    }
   ],
   "source": [
    "sample_size = 1000\n",
    "\n",
    "# 日本人男性サンプル\n",
    "np.random.seed(1)\n",
    "Japan = np.round([np.random.normal(171, 6, sample_size)],1).reshape(sample_size)\n",
    "#print(\"Japan:{}\".format(Japan))\n",
    "\n",
    "# アメリカ人男性サンプル\n",
    "np.random.seed(1)\n",
    "US = np.round([np.random.normal(180, 8, sample_size)],1).reshape(sample_size)\n",
    "#print(\"US:{}\".format(US)) \n",
    "\n",
    "# 標本分散\n",
    "print(\"var(Japan)={}\".format(stat.variance(Japan)))\n",
    "print(\"var(US)={}\".format(stat.variance(US)))\n",
    "\n",
    "# 等分散性の検定を行う。\n",
    "scipy.stats.bartlett(Japan,US)"
   ]
  },
  {
   "cell_type": "markdown",
   "metadata": {},
   "source": [
    "生成するサンプル数を変えながら、p値の変化を調べるとしよう。  \n",
    "すると、サンプル数が50件になると、「たまたま分散が一緒になった確率が 5％を切る」ため、分散は同じという仮説を棄却することができるようになる。"
   ]
  },
  {
   "cell_type": "code",
   "execution_count": 59,
   "metadata": {
    "collapsed": false,
    "scrolled": false
   },
   "outputs": [
    {
     "name": "stderr",
     "output_type": "stream",
     "text": [
      "100%|████████████████████████████████████████| 90/90 [00:00<00:00, 1874.81it/s]\n"
     ]
    },
    {
     "data": {
      "text/plain": [
       "<matplotlib.axes._subplots.AxesSubplot at 0xd564a58>"
      ]
     },
     "execution_count": 59,
     "metadata": {},
     "output_type": "execute_result"
    },
    {
     "data": {
      "image/png": "[encoded data removed]",
      "text/plain": [
       "<matplotlib.figure.Figure at 0xd4ce828>"
      ]
     },
     "metadata": {
      "needs_background": "light"
     },
     "output_type": "display_data"
    }
   ],
   "source": [
    "%matplotlib inline\n",
    "import seaborn as sns\n",
    "import pandas as pd\n",
    "from tqdm import tqdm_notebook,tqdm\n",
    "plot_buff = []\n",
    "for _sample_size in tqdm(range(20,200,2)):\n",
    "\n",
    "    # 日本人男性サンプル\n",
    "    np.random.seed(1)\n",
    "    Japan = np.round([np.random.normal(171, 6, _sample_size)],1).reshape(_sample_size)\n",
    "\n",
    "    # アメリカ人男性サンプル\n",
    "    np.random.seed(1)\n",
    "    US = np.round([np.random.normal(180, 8, _sample_size)],1).reshape(_sample_size)\n",
    "\n",
    "    # 等分散性の検定を行う。\n",
    "    _result = scipy.stats.bartlett(Japan,US)\n",
    "    \n",
    "    if False:\n",
    "        print(\"Sample Size:{}\".format(_sample_size))\n",
    "        print(\"p-value={}\".format(_result.pvalue))\n",
    "    \n",
    "    plot_buff.append([_sample_size, _result.pvalue])\n",
    "    \n",
    "df_plot_buff = pd.DataFrame(plot_buff, columns=['sample_size', 'p_value'])\n",
    "sns.lineplot(x='sample_size', y='p_value', data=df_plot_buff)\n"
   ]
  },
  {
   "cell_type": "code",
   "execution_count": 60,
   "metadata": {
    "collapsed": false
   },
   "outputs": [
    {
     "data": {
      "text/plain": [
       "<matplotlib.axes._subplots.AxesSubplot at 0xd584160>"
      ]
     },
     "execution_count": 60,
     "metadata": {},
     "output_type": "execute_result"
    },
    {
     "data": {
      "image/png": "[encoded data removed]",
      "text/plain": [
       "<matplotlib.figure.Figure at 0xd5d52e8>"
      ]
     },
     "metadata": {},
     "output_type": "display_data"
    }
   ],
   "source": [
    "import matplotlib.pyplot as plt\n",
    "# Seaborn のスタイルをセットする。\n",
    "# sns.set() だけでもこぎれいになる。\n",
    "# [参考] https://note.nkmk.me/python-matplotlib-seaborn-basic/\n",
    "sns.set()\n",
    "plt.figure(figsize=(16,8))\n",
    "ax = sns.lineplot(x=[50,50], y=[4.697051e-02, 0], dashes=[(2, 2)], color=\"r\", linestyle=\"--\", alpha=1.0)\n",
    "sns.lineplot(x='sample_size', y='p_value', data=df_plot_buff, ax=ax)  "
   ]
  },
  {
   "cell_type": "code",
   "execution_count": 55,
   "metadata": {
    "collapsed": false
   },
   "outputs": [],
   "source": [
    "%reload_ext autoreload"
   ]
  },
  {
   "cell_type": "markdown",
   "metadata": {},
   "source": [
    "# ノンパラメトリック検定\n",
    "\n",
    "ノンパラメトリック検定とは、正規分布を仮定できないデータに対して適用する検定方法である。  \n",
    "\n",
    "* Mann-Whitney(マンホイットニー)のU検定\n",
    "* Wilcoxon(ウィルコクソン)の符号付順位和検定\n",
    "\n",
    "参考：\n",
    "https://qiita.com/suaaa7/items/745ac1ca0a8d6753cf60"
   ]
  },
  {
   "cell_type": "markdown",
   "metadata": {},
   "source": [
    "## Mann-Whitney(マンホイットニー)のU検定\n",
    "二つの群の「代表値」に違いはない、ということを帰無仮説としている。  \n",
    "以下の場合、p値 = 0.0018253610099931035 < 0.05 なので、帰無仮説は棄却され、二つの群の代表値に違いはないとは言えないということが示された。"
   ]
  },
  {
   "cell_type": "code",
   "execution_count": 61,
   "metadata": {
    "collapsed": false
   },
   "outputs": [
    {
     "data": {
      "text/plain": [
       "MannwhitneyuResult(statistic=91.0, pvalue=0.0018253610099931035)"
      ]
     },
     "execution_count": 61,
     "metadata": {},
     "output_type": "execute_result"
    }
   ],
   "source": [
    "from scipy import stats\n",
    "A = np.array([1.83, 1.50, 1.62, 2.48, 1.68, 1.88, 1.55, 3.06, 1.30, 2.01, 3.11])\n",
    "B = np.array([0.88, 0.65, 0.60, 1.05, 1.06, 1.29, 1.06, 2.14, 1.29])\n",
    "stats.mannwhitneyu(A, B, alternative='two-sided')"
   ]
  },
  {
   "cell_type": "markdown",
   "metadata": {},
   "source": [
    "##  Wilcoxon(ウィルコクソン)の符号付順位和検定\n",
    "こちらも、二つの群の代表値の差を検定する方法である。  \n",
    "サンプル数が少ないと、警告が出る。  \n",
    "とりあえず p値 = 0.0076857940552132629 < 0.05 なので、帰無仮説は棄却され、二つの群の代表値に差があることが示されてはいる。"
   ]
  },
  {
   "cell_type": "code",
   "execution_count": 62,
   "metadata": {
    "collapsed": false
   },
   "outputs": [
    {
     "name": "stderr",
     "output_type": "stream",
     "text": [
      "C:\\Program Files\\Anaconda3\\envs\\kaggle\\lib\\site-packages\\scipy\\stats\\morestats.py:2388: UserWarning: Warning: sample size too small for normal approximation.\n",
      "  warnings.warn(\"Warning: sample size too small for normal approximation.\")\n"
     ]
    },
    {
     "data": {
      "text/plain": [
       "WilcoxonResult(statistic=0.0, pvalue=0.0076857940552132629)"
      ]
     },
     "execution_count": 62,
     "metadata": {},
     "output_type": "execute_result"
    }
   ],
   "source": [
    "A = np.array([1.83, 1.50, 1.62, 2.48, 1.68, 1.88, 1.55, 3.06, 1.30])\n",
    "B = np.array([0.88, 0.65, 0.60, 1.05, 1.06, 1.29, 1.06, 2.14, 1.29])\n",
    "stats.wilcoxon(A, B)"
   ]
  },
  {
   "cell_type": "markdown",
   "metadata": {},
   "source": [
    "# 対応のある二群、独立した二群\n",
    "\n",
    "## 独立した二群\n",
    "グループを分けて、それぞれで回答してもらうなど、対象を分けてからサンプリングする場合、独立していると言える。\n",
    "男女別にある質問に回答してもらう場合など。\n",
    "\n",
    "```scipy.stats.ttest_ind``` を使えば良い。\n",
    "\n",
    "\n",
    "## 対応のある二群\n",
    "同じ人が、複数の質問に回答する場合。  \n",
    "例）授業を受けている学生に対して、「授業は面白いか？」「授業は難しいか？」の二つの質問をする場合。\n",
    "同じ学生が二つの質問に回答している。この場合は対応がある二群となる。\n",
    "\n",
    "```scipy.stats.ttest_rel``` を使えば良い。\n"
   ]
  },
  {
   "cell_type": "code",
   "execution_count": null,
   "metadata": {
    "collapsed": true
   },
   "outputs": [],
   "source": []
  }
 ],
 "metadata": {
  "kernelspec": {
   "display_name": "Python [conda env:kaggle]",
   "language": "python",
   "name": "conda-env-kaggle-py"
  },
  "language_info": {
   "codemirror_mode": {
    "name": "ipython",
    "version": 3
   },
   "file_extension": ".py",
   "mimetype": "text/x-python",
   "name": "python",
   "nbconvert_exporter": "python",
   "pygments_lexer": "ipython3",
   "version": "3.5.5"
  },
  "toc": {
   "base_numbering": 1,
   "nav_menu": {},
   "number_sections": true,
   "sideBar": true,
   "skip_h1_title": false,
   "title_cell": "Table of Contents",
   "title_sidebar": "Contents",
   "toc_cell": true,
   "toc_position": {},
   "toc_section_display": true,
   "toc_window_display": true
  },
  "varInspector": {
   "cols": {
    "lenName": 16,
    "lenType": 16,
    "lenVar": 40
   },
   "kernels_config": {
    "python": {
     "delete_cmd_postfix": "",
     "delete_cmd_prefix": "del ",
     "library": "var_list.py",
     "varRefreshCmd": "print(var_dic_list())"
    },
    "r": {
     "delete_cmd_postfix": ") ",
     "delete_cmd_prefix": "rm(",
     "library": "var_list.r",
     "varRefreshCmd": "cat(var_dic_list()) "
    }
   },
   "types_to_exclude": [
    "module",
    "function",
    "builtin_function_or_method",
    "instance",
    "_Feature"
   ],
   "window_display": false
  }
 },
 "nbformat": 4,
 "nbformat_minor": 2
}
