{
 "cells": [
  {
   "cell_type": "markdown",
   "metadata": {
    "toc": true
   },
   "source": [
    "<h1>Table of Contents<span class=\"tocSkip\"></span></h1>\n",
    "<div class=\"toc\"><ul class=\"toc-item\"><li><span><a href=\"#2019-01-10\" data-toc-modified-id=\"2019-01-10-1\"><span class=\"toc-item-num\">1&nbsp;&nbsp;</span>2019-01-10</a></span><ul class=\"toc-item\"><li><span><a href=\"#画像をembedding-する方法\" data-toc-modified-id=\"画像をembedding-する方法-1.1\"><span class=\"toc-item-num\">1.1&nbsp;&nbsp;</span>画像をembedding する方法</a></span></li><li><span><a href=\"#ファッション画像を深層学習で分析する\" data-toc-modified-id=\"ファッション画像を深層学習で分析する-1.2\"><span class=\"toc-item-num\">1.2&nbsp;&nbsp;</span>ファッション画像を深層学習で分析する</a></span></li><li><span><a href=\"#ちょっとクレバーなbash-history\" data-toc-modified-id=\"ちょっとクレバーなbash-history-1.3\"><span class=\"toc-item-num\">1.3&nbsp;&nbsp;</span>ちょっとクレバーなbash history</a></span></li></ul></li><li><span><a href=\"#2019-01-11\" data-toc-modified-id=\"2019-01-11-2\"><span class=\"toc-item-num\">2&nbsp;&nbsp;</span>2019-01-11</a></span><ul class=\"toc-item\"><li><span><a href=\"#markdown-製作に役立つサイト\" data-toc-modified-id=\"markdown-製作に役立つサイト-2.1\"><span class=\"toc-item-num\">2.1&nbsp;&nbsp;</span>markdown 製作に役立つサイト</a></span></li></ul></li><li><span><a href=\"#2019-01-13\" data-toc-modified-id=\"2019-01-13-3\"><span class=\"toc-item-num\">3&nbsp;&nbsp;</span>2019-01-13</a></span><ul class=\"toc-item\"><li><span><a href=\"#ＩＴ人材不足の実態について\" data-toc-modified-id=\"ＩＴ人材不足の実態について-3.1\"><span class=\"toc-item-num\">3.1&nbsp;&nbsp;</span>ＩＴ人材不足の実態について</a></span><ul class=\"toc-item\"><li><span><a href=\"#課題解決型人材\" data-toc-modified-id=\"課題解決型人材-3.1.1\"><span class=\"toc-item-num\">3.1.1&nbsp;&nbsp;</span>課題解決型人材</a></span></li><li><span><a href=\"#価値創造型人材\" data-toc-modified-id=\"価値創造型人材-3.1.2\"><span class=\"toc-item-num\">3.1.2&nbsp;&nbsp;</span>価値創造型人材</a></span></li><li><span><a href=\"#求められる素養\" data-toc-modified-id=\"求められる素養-3.1.3\"><span class=\"toc-item-num\">3.1.3&nbsp;&nbsp;</span>求められる素養</a></span></li></ul></li></ul></li></ul></div>"
   ]
  },
  {
   "cell_type": "markdown",
   "metadata": {},
   "source": [
    "# 2019-01-10\n",
    "\n",
    "## 画像をembedding する方法\n",
    "2016年の古い情報だが、CNNの隠れ層（全結合層の手前）の値を取り出すことで、画像をembeddingベクトル化することができる模様。  \n",
    "なるべく様々な種類の画像を分類できるようにCNNを構築しておく必要があるだろう。  \n",
    "https://www.slideshare.net/ToshinoriHanya/deep-learning-ohs5\n",
    "\n",
    "\n",
    "## ファッション画像を深層学習で分析する\n",
    "あのZOZOの子会社であろう ZOZO-Technologies という会社が、気合の入ったレポートを提供している。  \n",
    "https://techblog.zozo.com/entry/fashion_machine_learning_paper\n",
    "\n",
    "CNNを通して得られた画像特徴量を加工して、ファッション画像をembeddingベクトル化する傾向がある模様。  \n",
    "全結合層手前の層から、embeddingの元になるベクトルを取り出している模様。  \n",
    "\n",
    "ドメイン（ファッション分野）ごとにモデルを分けると、性能が良くなるという模様。  \n",
    "\n",
    "in-class negative, out-of-class negative\n",
    "in-class negative の分類は難易度が高い。  \n",
    "\n",
    "\n",
    "## ちょっとクレバーなbash history\n",
    "mcfly を使うと、これまでの利用履歴をデータサイエンス的に解析して、コマンド履歴検索をサポートしてくれる。  \n",
    "https://www.ostechnix.com/mcfly-a-replacement-to-ctrlr-bash-history-search-feature/\n",
    "\n",
    "> If you spend a lot of time on CLI mode, you should definitely used or heard about reverse search function in BASH.  \n",
    "The keyboard shortcut to do reverse search in Bash is Ctrl+r.  \n",
    "Using bash reverse search, we can bring up all commands which we used previously executed without having to re-type them every time.  \n",
    "You can, of course, use UP/DOWN arrows to search your bash history. However, Ctrl+r will make this process much easier and faster.  \n",
    "Today, I Stumbled upon a replacement to ‘Ctrl+r’ Bash history search feature. Meet “McFly”, a simple tool written in Rust programming language that replaces the default Ctrl+r Bash history search with an intelligent search engine.  \n",
    "All command suggestions made by McFly are prioritized in real time with a small neural network.\n",
    "\n",
    "![mcflyの利用シーン動画](http://www.ostechnix.com/wp-content/uploads/2018/12/mcfly-demo.gif)\n",
    "\n",
    "\n",
    "* 現在いるディレクトリや、コマンド実行結果の履歴から、検索対象を効果的に絞り込んでくれるのはありがたい。  \n",
    "\n"
   ]
  },
  {
   "cell_type": "markdown",
   "metadata": {},
   "source": [
    "# 2019-01-11\n",
    "\n",
    "## markdown 製作に役立つサイト\n",
    "\n",
    "以下のサイトは、markdown テーブル作成に役立つ。  \n",
    "https://www.tablesgenerator.com/markdown_tables#  "
   ]
  },
  {
   "cell_type": "markdown",
   "metadata": {
    "collapsed": true
   },
   "source": [
    "# 2019-01-13\n",
    "\n",
    "## ＩＴ人材不足の実態について\n",
    "参照 https://paiza.hatenablog.com/entry/2019/01/11/IT%E4%BA%BA%E6%9D%90%E3%80%8C79%E4%B8%87%E4%BA%BA%E3%80%8D%E4%B8%8D%E8%B6%B3%E6%99%82%E4%BB%A3%E3%82%92%E5%89%8D%E3%81%ABIT%E3%82%A8%E3%83%B3%E3%82%B8%E3%83%8B%E3%82%A2%E3%81%8C%E8%80%83%E3%81%88\n",
    "\n",
    "キーワードは、「課題解決型人材」と「価値創造型人材」。\n",
    "\n",
    "### 課題解決型人材\n",
    "\n",
    "要件定義が明確で、確実性を重視し、技術レベルのバラつきが大きいチームでもタスクを分担できて、スケジュールを遵守することを目指し、ウォーターフォール型の開発スタイルを取る。  \n",
    "\n",
    "受託開発を担うSIerの領分であり、技術者はプロジェクトマネージャーになることを目指し、やがて管理業務がメインの仕事に移行するのが標準的なキャリアのテンプレートである。\n",
    "\n",
    "しかし、今後、世の中全体的に「課題解決型事業」が縮小してゆく中、言われたことから外れず確実に遂行することが求められる仕事は減ってゆく可能性が高く、「価値創造型人材」としても活躍できる準備をしておかなければ、早期にキャリアが頭打ちになる恐れがある。  \n",
    "> しかし、将来的に「課題解決型」事業の縮小が見込まれる中では「高い技術力」や「新しい技術への好奇心や適用力」も伸ばして「価値創造型」事業でも活躍できるようにしておかなければ、早期にキャリアが頭打ちになる可能性があります。\n",
    "\n",
    "\n",
    "### 価値創造型人材\n",
    "\n",
    "事業の価値創造を目指した開発に取り組む。新しい事業の立ち上げに貢献できる開発力を持つ人材だろう。  \n",
    "> 昨今は従来とは全く異なる「ビジネスを創出し、新しい仕事や価値を次々に生み出していくこと」を目的にITを活用する企業が非常に多くなってきました。  \n",
    "\n",
    "> 要件が不明確の中、スピード感を重視してアジャイル型の開発でプロジェクトを進める。  \n",
    "技術力はさることながら、「組織やチームの円滑な運営ができる」「価値のある新たなサービスを創造できる」といった能力が求められる。  \n",
    "> 「価値創造型」の事業をメインにしている企業でキャリアアップを考えたときには、技術力があることを前提としたうえで「組織やチームの円滑な運営ができる」「価値のある新たなサービスを創造できる」といったスキルが必要です。  \n",
    "> 例えば、キャリアパスとしてCTO（技術責任者）を目指す場合、組織の技術力を高く保つことや事業に影響があるレベルの技術的課題に対処するといった役割になるため非常に高い技術力と経営視点での決定力が求められます。\n",
    "\n",
    "\n",
    "### 求められる素養\n",
    "\n",
    "* 価値創造型人材に求められる素養\n",
    "    1. 独創性  \n",
    "    2. 新しい技術への好奇心や適応能力\n",
    "    3. 問題を発見する力\n",
    "    4. 課題をデザインする力\n",
    "    \n",
    "* 価値創造型、課題解決型共通の素養\n",
    "    1. 高い技術力\n",
    "    2. 顧客要求への対応力\n",
    "    3. 自発的に動く力\n",
    "    4. IT業務の着実さ、正確さ\n",
    "    5. IT業務の全般的な知識、実務ノウハウ\n",
    "\n",
    "![チャート](https://cdn-ak.f.st-hatena.com/images/fotolife/p/paiza/20190109/20190109130454.png)\n"
   ]
  },
  {
   "cell_type": "code",
   "execution_count": null,
   "metadata": {
    "collapsed": true
   },
   "outputs": [],
   "source": []
  }
 ],
 "metadata": {
  "kernelspec": {
   "display_name": "Python 3",
   "language": "python",
   "name": "python3"
  },
  "language_info": {
   "codemirror_mode": {
    "name": "ipython",
    "version": 3
   },
   "file_extension": ".py",
   "mimetype": "text/x-python",
   "name": "python",
   "nbconvert_exporter": "python",
   "pygments_lexer": "ipython3",
   "version": "3.6.6"
  },
  "toc": {
   "base_numbering": 1,
   "nav_menu": {},
   "number_sections": true,
   "sideBar": true,
   "skip_h1_title": false,
   "title_cell": "Table of Contents",
   "title_sidebar": "Contents",
   "toc_cell": true,
   "toc_position": {},
   "toc_section_display": true,
   "toc_window_display": true
  },
  "varInspector": {
   "cols": {
    "lenName": 16,
    "lenType": 16,
    "lenVar": 40
   },
   "kernels_config": {
    "python": {
     "delete_cmd_postfix": "",
     "delete_cmd_prefix": "del ",
     "library": "var_list.py",
     "varRefreshCmd": "print(var_dic_list())"
    },
    "r": {
     "delete_cmd_postfix": ") ",
     "delete_cmd_prefix": "rm(",
     "library": "var_list.r",
     "varRefreshCmd": "cat(var_dic_list()) "
    }
   },
   "types_to_exclude": [
    "module",
    "function",
    "builtin_function_or_method",
    "instance",
    "_Feature"
   ],
   "window_display": false
  }
 },
 "nbformat": 4,
 "nbformat_minor": 2
}
