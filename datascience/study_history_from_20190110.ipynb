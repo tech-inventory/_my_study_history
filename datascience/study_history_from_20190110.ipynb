{
 "cells": [
  {
   "cell_type": "markdown",
   "metadata": {
    "toc": true
   },
   "source": [
    "<h1>Table of Contents<span class=\"tocSkip\"></span></h1>\n",
    "<div class=\"toc\"><ul class=\"toc-item\"><li><span><a href=\"#2019-01-10\" data-toc-modified-id=\"2019-01-10-1\"><span class=\"toc-item-num\">1&nbsp;&nbsp;</span>2019-01-10</a></span><ul class=\"toc-item\"><li><span><a href=\"#画像をembedding-する方法\" data-toc-modified-id=\"画像をembedding-する方法-1.1\"><span class=\"toc-item-num\">1.1&nbsp;&nbsp;</span>画像をembedding する方法</a></span></li><li><span><a href=\"#ファッション画像を深層学習で分析する\" data-toc-modified-id=\"ファッション画像を深層学習で分析する-1.2\"><span class=\"toc-item-num\">1.2&nbsp;&nbsp;</span>ファッション画像を深層学習で分析する</a></span></li><li><span><a href=\"#ちょっとクレバーなbash-history\" data-toc-modified-id=\"ちょっとクレバーなbash-history-1.3\"><span class=\"toc-item-num\">1.3&nbsp;&nbsp;</span>ちょっとクレバーなbash history</a></span></li></ul></li><li><span><a href=\"#2019-01-11\" data-toc-modified-id=\"2019-01-11-2\"><span class=\"toc-item-num\">2&nbsp;&nbsp;</span>2019-01-11</a></span><ul class=\"toc-item\"><li><span><a href=\"#markdown-製作に役立つサイト\" data-toc-modified-id=\"markdown-製作に役立つサイト-2.1\"><span class=\"toc-item-num\">2.1&nbsp;&nbsp;</span>markdown 製作に役立つサイト</a></span></li></ul></li><li><span><a href=\"#2019-01-21\" data-toc-modified-id=\"2019-01-21-3\"><span class=\"toc-item-num\">3&nbsp;&nbsp;</span>2019-01-21</a></span></li></ul></div>"
   ]
  },
  {
   "cell_type": "markdown",
   "metadata": {},
   "source": [
    "# 2019-01-10\n",
    "\n",
    "## 画像をembedding する方法\n",
    "2016年の古い情報だが、CNNの隠れ層（全結合層の手前）の値を取り出すことで、画像をembeddingベクトル化することができる模様。  \n",
    "なるべく様々な種類の画像を分類できるようにCNNを構築しておく必要があるだろう。  \n",
    "https://www.slideshare.net/ToshinoriHanya/deep-learning-ohs5\n",
    "\n",
    "\n",
    "## ファッション画像を深層学習で分析する\n",
    "あのZOZOの子会社であろう ZOZO-Technologies という会社が、気合の入ったレポートを提供している。  \n",
    "https://techblog.zozo.com/entry/fashion_machine_learning_paper\n",
    "\n",
    "CNNを通して得られた画像特徴量を加工して、ファッション画像をembeddingベクトル化する傾向がある模様。  \n",
    "全結合層手前の層から、embeddingの元になるベクトルを取り出している模様。  \n",
    "\n",
    "ドメイン（ファッション分野）ごとにモデルを分けると、性能が良くなるという模様。  \n",
    "\n",
    "in-class negative, out-of-class negative\n",
    "in-class negative の分類は難易度が高い。  \n",
    "\n",
    "\n",
    "## ちょっとクレバーなbash history\n",
    "mcfly を使うと、これまでの利用履歴をデータサイエンス的に解析して、コマンド履歴検索をサポートしてくれる。  \n",
    "https://www.ostechnix.com/mcfly-a-replacement-to-ctrlr-bash-history-search-feature/\n",
    "\n",
    "> If you spend a lot of time on CLI mode, you should definitely used or heard about reverse search function in BASH.  \n",
    "The keyboard shortcut to do reverse search in Bash is Ctrl+r.  \n",
    "Using bash reverse search, we can bring up all commands which we used previously executed without having to re-type them every time.  \n",
    "You can, of course, use UP/DOWN arrows to search your bash history. However, Ctrl+r will make this process much easier and faster.  \n",
    "Today, I Stumbled upon a replacement to ‘Ctrl+r’ Bash history search feature. Meet “McFly”, a simple tool written in Rust programming language that replaces the default Ctrl+r Bash history search with an intelligent search engine.  \n",
    "All command suggestions made by McFly are prioritized in real time with a small neural network.\n",
    "\n",
    "![mcflyの利用シーン動画](http://www.ostechnix.com/wp-content/uploads/2018/12/mcfly-demo.gif)\n",
    "\n",
    "\n",
    "* 現在いるディレクトリや、コマンド実行結果の履歴から、検索対象を効果的に絞り込んでくれるのはありがたい。  \n",
    "\n"
   ]
  },
  {
   "cell_type": "markdown",
   "metadata": {},
   "source": [
    "# 2019-01-11\n",
    "\n",
    "## markdown 製作に役立つサイト\n",
    "\n",
    "以下のサイトは、markdown テーブル作成に役立つ。  \n",
    "https://www.tablesgenerator.com/markdown_tables#  "
   ]
  },
  {
   "cell_type": "markdown",
   "metadata": {
    "collapsed": true
   },
   "source": [
    "# 2019-01-21\n",
    "\n",
    "featuretoolsで特徴量を自動生成して機械学習モデルの構築を楽に早くする手法 - TECHBIRD ｜ TECHBIRD - プログラミングを楽しく学ぼう\n",
    "http://techbird.site/kazuki_hayakawa-items-162cc36fbbc9440c0645/\n",
    "\n",
    "機械学習モデルと予測結果を解釈する: kaggle講座「Use Cases for Model Insights」をやってみる  \n",
    "https://qiita.com/_qsng/items/7f879ba7033a26a986ee\n"
   ]
  },
  {
   "cell_type": "code",
   "execution_count": null,
   "metadata": {
    "collapsed": true
   },
   "outputs": [],
   "source": []
  }
 ],
 "metadata": {
  "kernelspec": {
   "display_name": "Python [default]",
   "language": "python",
   "name": "python3"
  },
  "language_info": {
   "codemirror_mode": {
    "name": "ipython",
    "version": 3
   },
   "file_extension": ".py",
   "mimetype": "text/x-python",
   "name": "python",
   "nbconvert_exporter": "python",
   "pygments_lexer": "ipython3",
   "version": "3.5.5"
  },
  "toc": {
   "base_numbering": 1,
   "nav_menu": {},
   "number_sections": true,
   "sideBar": true,
   "skip_h1_title": false,
   "title_cell": "Table of Contents",
   "title_sidebar": "Contents",
   "toc_cell": true,
   "toc_position": {},
   "toc_section_display": true,
   "toc_window_display": true
  },
  "varInspector": {
   "cols": {
    "lenName": 16,
    "lenType": 16,
    "lenVar": 40
   },
   "kernels_config": {
    "python": {
     "delete_cmd_postfix": "",
     "delete_cmd_prefix": "del ",
     "library": "var_list.py",
     "varRefreshCmd": "print(var_dic_list())"
    },
    "r": {
     "delete_cmd_postfix": ") ",
     "delete_cmd_prefix": "rm(",
     "library": "var_list.r",
     "varRefreshCmd": "cat(var_dic_list()) "
    }
   },
   "types_to_exclude": [
    "module",
    "function",
    "builtin_function_or_method",
    "instance",
    "_Feature"
   ],
   "window_display": false
  }
 },
 "nbformat": 4,
 "nbformat_minor": 2
}
