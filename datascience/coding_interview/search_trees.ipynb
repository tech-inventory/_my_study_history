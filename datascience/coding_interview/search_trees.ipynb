{
 "cells": [
  {
   "cell_type": "markdown",
   "metadata": {
    "toc": true
   },
   "source": [
    "<h1>Table of Contents<span class=\"tocSkip\"></span></h1>\n",
    "<div class=\"toc\"><ul class=\"toc-item\"><li><span><a href=\"#概要\" data-toc-modified-id=\"概要-1\"><span class=\"toc-item-num\">1&nbsp;&nbsp;</span>概要</a></span></li><li><span><a href=\"#教材サイト\" data-toc-modified-id=\"教材サイト-2\"><span class=\"toc-item-num\">2&nbsp;&nbsp;</span>教材サイト</a></span></li><li><span><a href=\"#二分探索木\" data-toc-modified-id=\"二分探索木-3\"><span class=\"toc-item-num\">3&nbsp;&nbsp;</span>二分探索木</a></span></li></ul></div>"
   ]
  },
  {
   "cell_type": "markdown",
   "metadata": {},
   "source": [
    "# 概要\n",
    "探索木についてのコーディング面接の勉強について、このノートに記す。  \n",
    "シリコンバレーでは、アルゴリズム・データ構造といったコンピュータサイエンスの基礎をみっちりやり込み、面接でも当たり前のように問われる。  \n",
    "このままでは、シリコンバレーのエンジニアに後れを取ってしまうので、今までのおさらいに加え、さまざまなアルゴリズムやデータ構造について、コツコツと勉強してゆく。\n",
    "\n",
    "# 教材サイト\n",
    "pythonによるアルゴリズムとデータ構造を扱っているサイトである。  \n",
    "様々なアルゴリズムとデータ構造の事例が豊富で良くまとまっている。  \n",
    "教材として優れている。ぜひ消化すべきコンテンツである。  \n",
    "http://www.geocities.jp/m_hiroi/light/index.html#python_algo"
   ]
  },
  {
   "cell_type": "markdown",
   "metadata": {},
   "source": [
    "# 二分探索木\n",
    "参考エントリを探す。  \n",
    "https://qiita.com/menon/items/657f67bb2817e25b2222\n",
    "  \n",
    "仕上がっているのはこっちの方か。  \n",
    "https://qiita.com/amb_00/items/ee26260fa186a5c728a0"
   ]
  },
  {
   "cell_type": "code",
   "execution_count": 21,
   "metadata": {
    "collapsed": true
   },
   "outputs": [],
   "source": [
    "class Node:\n",
    "    \"\"\"ノードクラス\"\"\"\n",
    "    def __init__(self, val):\n",
    "        self._value = val\n",
    "        self._count = 1 # 同じvalの数。重複を許すためのもの\n",
    "        self._left = None  # val 以下の数値を持つノード\n",
    "        self._right = None # val より大きい数値を持つノード\n",
    "        \n",
    "        # 分布情報\n",
    "        self._smaller_size = 0 # サブノード以下で val以下の数値を持つノード数\n",
    "        self._bigger_size = 0 # サブノード以下で valより大きい数値を持つノード数\n",
    "        "
   ]
  },
  {
   "cell_type": "code",
   "execution_count": 135,
   "metadata": {
    "collapsed": true
   },
   "outputs": [],
   "source": [
    "class BinTree:\n",
    "    \"\"\"二分探索木\"\"\"\n",
    "    def __init__(self):\n",
    "        # 初期化\n",
    "        self.root = None\n",
    "        \n",
    "    def _insert(self, node, val):\n",
    "        if node is None:\n",
    "            print(\"add node({})\".format(val))\n",
    "            return Node(val)\n",
    "        elif val == node._value:\n",
    "            # 重複を許すので +1\n",
    "            node._count += 1\n",
    "            print(\"add same value: {}\".format(val))\n",
    "            return node\n",
    "        elif val <= node._value:\n",
    "            print(\"{} <= {}@node\".format(val, node._value))\n",
    "            node._smaller_size += 1\n",
    "            print(\"smaller_size:{}\".format(node._smaller_size))\n",
    "            node._left = self._insert(node._left, val)\n",
    "        else:\n",
    "            print(\"{} > {}@node\".format(val, node._value))\n",
    "            node._right = self._insert(node._right, val)\n",
    "            node._bigger_size += 1\n",
    "            print(\"bigger_size:{}\".format(node._bigger_size))\n",
    "        return node\n",
    "    \n",
    "    def insert(self, val):\n",
    "        if self.root is None:\n",
    "            self.root = Node(val)\n",
    "            return self.root\n",
    "        else:\n",
    "            return self._insert(self.root, val)\n",
    "    \n",
    "    def _min(self, node):\n",
    "        # left を辿ってゆく\n",
    "        if node._left is None:\n",
    "            return node._value\n",
    "        return self._min(node._left)\n",
    "    \n",
    "    def min(self):\n",
    "        return self._min(self.root)\n",
    "    \n",
    "    def _max(self, node):\n",
    "        if node._right is None:\n",
    "            return node._value\n",
    "        return self._max(node._right)\n",
    "    \n",
    "    def max(self):\n",
    "        return self._max(self.root)\n",
    "    \n",
    "    def _get_by_pos(self, node, pos):\n",
    "        \"\"\"\n",
    "        指定したノードから見て、小さい順で pos位の値を見つけてくる。\n",
    "        big <-------------> small\n",
    "        node._bigger_size   --- node._count --- node._smaller_size\n",
    "        \n",
    "        \"\"\"\n",
    "        print(\"_get_by_pos: pos={}\".format(pos))\n",
    "        print(\"[{}] bigger:{} this_node:{} smaller:{}\".format(node._value, \n",
    "                                                              node._bigger_size, \n",
    "                                                              node._count, \n",
    "                                                              node._smaller_size))\n",
    "        if pos < node._smaller_size:\n",
    "            # pos が 小さいサブツリーにある場合\n",
    "            return self._get_by_pos(node._left, pos)\n",
    "        elif pos > (node._smaller_size + node._count):\n",
    "            # pos が大きいサブツリーにある場合\n",
    "            # 新たに探す pos は、小さいサブツリーにおける位置なので、相対位置を計算する。\n",
    "            return self._get_by_pos(node._right, pos - (node._smaller_size + node._count))\n",
    "        else:\n",
    "            # pos がこのノードの値に該当する場合\n",
    "            return node._value\n",
    "    \n",
    "    def median(self):\n",
    "        \"\"\"本題である。中央値を求める。平均値ではない。\n",
    "        しかも、重複登録を許して中央値を求めるのである。\n",
    "        [1,2,3,4,5,5,5,5,7,8,9,10]  ---> 5(= (5+5)/2)\n",
    "        [1,2,3,4,5,6,7,8,9] --> 5\n",
    "        \"\"\"\n",
    "        if self.root is None:\n",
    "            # １個も数字を登録していない場合\n",
    "            return None\n",
    "        else:\n",
    "            # まず root の層で、中央値の位置を検討を付ける。\n",
    "            total_count = self.root._count + self.root._smaller_size + self.root._bigger_size\n",
    "            print(\"total_count:{}\".format(total_count))\n",
    "            median_pos = int(total_count * 0.50)\n",
    "            print(\"median_pos:{}\".format(median_pos))\n",
    "            if total_count % 2 == 0:\n",
    "                # 要素数が偶数のとき\n",
    "                # 全体で見て median_pos , (media_pos + 1) の平均値を返す\n",
    "                _left_value = self._get_by_pos(self.root, median_pos)\n",
    "                _right_value = self._get_by_pos(self.root, median_pos + 1)\n",
    "                return (_left_value + _right_value)*0.50\n",
    "            else:\n",
    "                # 要素数が奇数のとき\n",
    "                # 全体でみて median_pos 位の要素を返せば良い\n",
    "                return self._get_by_pos(self.root, median_pos)\n",
    "        \n",
    "        "
   ]
  },
  {
   "cell_type": "code",
   "execution_count": 99,
   "metadata": {},
   "outputs": [
    {
     "data": {
      "text/plain": [
       "1"
      ]
     },
     "execution_count": 99,
     "metadata": {},
     "output_type": "execute_result"
    }
   ],
   "source": [
    "11 % 2"
   ]
  },
  {
   "cell_type": "code",
   "execution_count": 100,
   "metadata": {
    "collapsed": true
   },
   "outputs": [],
   "source": [
    "bt = BinTree()"
   ]
  },
  {
   "cell_type": "code",
   "execution_count": 101,
   "metadata": {},
   "outputs": [
    {
     "data": {
      "text/plain": [
       "<__main__.Node at 0x6480518>"
      ]
     },
     "execution_count": 101,
     "metadata": {},
     "output_type": "execute_result"
    }
   ],
   "source": [
    "bt.insert(10)"
   ]
  },
  {
   "cell_type": "code",
   "execution_count": 75,
   "metadata": {},
   "outputs": [
    {
     "data": {
      "text/plain": [
       "<__main__.Node at 0x611db38>"
      ]
     },
     "execution_count": 75,
     "metadata": {},
     "output_type": "execute_result"
    }
   ],
   "source": [
    "bt.root"
   ]
  },
  {
   "cell_type": "code",
   "execution_count": 76,
   "metadata": {},
   "outputs": [
    {
     "data": {
      "text/plain": [
       "10"
      ]
     },
     "execution_count": 76,
     "metadata": {},
     "output_type": "execute_result"
    }
   ],
   "source": [
    "bt.root._value"
   ]
  },
  {
   "cell_type": "code",
   "execution_count": 77,
   "metadata": {},
   "outputs": [
    {
     "data": {
      "text/plain": [
       "1"
      ]
     },
     "execution_count": 77,
     "metadata": {},
     "output_type": "execute_result"
    }
   ],
   "source": [
    "bt.root._count"
   ]
  },
  {
   "cell_type": "code",
   "execution_count": 92,
   "metadata": {},
   "outputs": [
    {
     "name": "stdout",
     "output_type": "stream",
     "text": [
      "21 > 10@node\n",
      "add node(21)\n",
      "bigger_size:1\n"
     ]
    },
    {
     "data": {
      "text/plain": [
       "<__main__.Node at 0x6484cc0>"
      ]
     },
     "execution_count": 92,
     "metadata": {},
     "output_type": "execute_result"
    }
   ],
   "source": [
    "bt.insert(21)"
   ]
  },
  {
   "cell_type": "code",
   "execution_count": 93,
   "metadata": {},
   "outputs": [
    {
     "data": {
      "text/plain": [
       "1"
      ]
     },
     "execution_count": 93,
     "metadata": {},
     "output_type": "execute_result"
    }
   ],
   "source": [
    "bt.root._bigger_size"
   ]
  },
  {
   "cell_type": "code",
   "execution_count": 95,
   "metadata": {},
   "outputs": [
    {
     "data": {
      "text/plain": [
       "0"
      ]
     },
     "execution_count": 95,
     "metadata": {},
     "output_type": "execute_result"
    }
   ],
   "source": [
    "bt.root._right._bigger_size"
   ]
  },
  {
   "cell_type": "code",
   "execution_count": 63,
   "metadata": {},
   "outputs": [
    {
     "data": {
      "text/plain": [
       "<__main__.Node at 0x6135ac8>"
      ]
     },
     "execution_count": 63,
     "metadata": {},
     "output_type": "execute_result"
    }
   ],
   "source": [
    "bt.root._right"
   ]
  },
  {
   "cell_type": "code",
   "execution_count": 64,
   "metadata": {},
   "outputs": [
    {
     "data": {
      "text/plain": [
       "<__main__.Node at 0x6135470>"
      ]
     },
     "execution_count": 64,
     "metadata": {},
     "output_type": "execute_result"
    }
   ],
   "source": [
    "bt.root"
   ]
  },
  {
   "cell_type": "code",
   "execution_count": 102,
   "metadata": {
    "scrolled": true
   },
   "outputs": [
    {
     "name": "stdout",
     "output_type": "stream",
     "text": [
      "1 <= 10@node\n",
      "smaller_size:1\n",
      "add node(1)\n",
      "2 <= 10@node\n",
      "smaller_size:2\n",
      "2 > 1@node\n",
      "add node(2)\n",
      "bigger_size:1\n",
      "3 <= 10@node\n",
      "smaller_size:3\n",
      "3 > 1@node\n",
      "3 > 2@node\n",
      "add node(3)\n",
      "bigger_size:1\n",
      "bigger_size:2\n",
      "4 <= 10@node\n",
      "smaller_size:4\n",
      "4 > 1@node\n",
      "4 > 2@node\n",
      "4 > 3@node\n",
      "add node(4)\n",
      "bigger_size:1\n",
      "bigger_size:2\n",
      "bigger_size:3\n",
      "5 <= 10@node\n",
      "smaller_size:5\n",
      "5 > 1@node\n",
      "5 > 2@node\n",
      "5 > 3@node\n",
      "5 > 4@node\n",
      "add node(5)\n",
      "bigger_size:1\n",
      "bigger_size:2\n",
      "bigger_size:3\n",
      "bigger_size:4\n",
      "6 <= 10@node\n",
      "smaller_size:6\n",
      "6 > 1@node\n",
      "6 > 2@node\n",
      "6 > 3@node\n",
      "6 > 4@node\n",
      "6 > 5@node\n",
      "add node(6)\n",
      "bigger_size:1\n",
      "bigger_size:2\n",
      "bigger_size:3\n",
      "bigger_size:4\n",
      "bigger_size:5\n",
      "7 <= 10@node\n",
      "smaller_size:7\n",
      "7 > 1@node\n",
      "7 > 2@node\n",
      "7 > 3@node\n",
      "7 > 4@node\n",
      "7 > 5@node\n",
      "7 > 6@node\n",
      "add node(7)\n",
      "bigger_size:1\n",
      "bigger_size:2\n",
      "bigger_size:3\n",
      "bigger_size:4\n",
      "bigger_size:5\n",
      "bigger_size:6\n",
      "8 <= 10@node\n",
      "smaller_size:8\n",
      "8 > 1@node\n",
      "8 > 2@node\n",
      "8 > 3@node\n",
      "8 > 4@node\n",
      "8 > 5@node\n",
      "8 > 6@node\n",
      "8 > 7@node\n",
      "add node(8)\n",
      "bigger_size:1\n",
      "bigger_size:2\n",
      "bigger_size:3\n",
      "bigger_size:4\n",
      "bigger_size:5\n",
      "bigger_size:6\n",
      "bigger_size:7\n",
      "9 <= 10@node\n",
      "smaller_size:9\n",
      "9 > 1@node\n",
      "9 > 2@node\n",
      "9 > 3@node\n",
      "9 > 4@node\n",
      "9 > 5@node\n",
      "9 > 6@node\n",
      "9 > 7@node\n",
      "9 > 8@node\n",
      "add node(9)\n",
      "bigger_size:1\n",
      "bigger_size:2\n",
      "bigger_size:3\n",
      "bigger_size:4\n",
      "bigger_size:5\n",
      "bigger_size:6\n",
      "bigger_size:7\n",
      "bigger_size:8\n",
      "add same value: 10\n",
      "11 > 10@node\n",
      "add node(11)\n",
      "bigger_size:1\n",
      "12 > 10@node\n",
      "12 > 11@node\n",
      "add node(12)\n",
      "bigger_size:1\n",
      "bigger_size:2\n",
      "13 > 10@node\n",
      "13 > 11@node\n",
      "13 > 12@node\n",
      "add node(13)\n",
      "bigger_size:1\n",
      "bigger_size:2\n",
      "bigger_size:3\n",
      "14 > 10@node\n",
      "14 > 11@node\n",
      "14 > 12@node\n",
      "14 > 13@node\n",
      "add node(14)\n",
      "bigger_size:1\n",
      "bigger_size:2\n",
      "bigger_size:3\n",
      "bigger_size:4\n",
      "15 > 10@node\n",
      "15 > 11@node\n",
      "15 > 12@node\n",
      "15 > 13@node\n",
      "15 > 14@node\n",
      "add node(15)\n",
      "bigger_size:1\n",
      "bigger_size:2\n",
      "bigger_size:3\n",
      "bigger_size:4\n",
      "bigger_size:5\n",
      "16 > 10@node\n",
      "16 > 11@node\n",
      "16 > 12@node\n",
      "16 > 13@node\n",
      "16 > 14@node\n",
      "16 > 15@node\n",
      "add node(16)\n",
      "bigger_size:1\n",
      "bigger_size:2\n",
      "bigger_size:3\n",
      "bigger_size:4\n",
      "bigger_size:5\n",
      "bigger_size:6\n",
      "17 > 10@node\n",
      "17 > 11@node\n",
      "17 > 12@node\n",
      "17 > 13@node\n",
      "17 > 14@node\n",
      "17 > 15@node\n",
      "17 > 16@node\n",
      "add node(17)\n",
      "bigger_size:1\n",
      "bigger_size:2\n",
      "bigger_size:3\n",
      "bigger_size:4\n",
      "bigger_size:5\n",
      "bigger_size:6\n",
      "bigger_size:7\n",
      "18 > 10@node\n",
      "18 > 11@node\n",
      "18 > 12@node\n",
      "18 > 13@node\n",
      "18 > 14@node\n",
      "18 > 15@node\n",
      "18 > 16@node\n",
      "18 > 17@node\n",
      "add node(18)\n",
      "bigger_size:1\n",
      "bigger_size:2\n",
      "bigger_size:3\n",
      "bigger_size:4\n",
      "bigger_size:5\n",
      "bigger_size:6\n",
      "bigger_size:7\n",
      "bigger_size:8\n",
      "19 > 10@node\n",
      "19 > 11@node\n",
      "19 > 12@node\n",
      "19 > 13@node\n",
      "19 > 14@node\n",
      "19 > 15@node\n",
      "19 > 16@node\n",
      "19 > 17@node\n",
      "19 > 18@node\n",
      "add node(19)\n",
      "bigger_size:1\n",
      "bigger_size:2\n",
      "bigger_size:3\n",
      "bigger_size:4\n",
      "bigger_size:5\n",
      "bigger_size:6\n",
      "bigger_size:7\n",
      "bigger_size:8\n",
      "bigger_size:9\n"
     ]
    }
   ],
   "source": [
    "for _ in range(1,20):\n",
    "    bt.insert(_)"
   ]
  },
  {
   "cell_type": "code",
   "execution_count": 103,
   "metadata": {},
   "outputs": [
    {
     "data": {
      "text/plain": [
       "10.0"
      ]
     },
     "execution_count": 103,
     "metadata": {},
     "output_type": "execute_result"
    }
   ],
   "source": [
    "bt.median()"
   ]
  },
  {
   "cell_type": "code",
   "execution_count": 136,
   "metadata": {
    "collapsed": true
   },
   "outputs": [],
   "source": [
    "bt = BinTree()"
   ]
  },
  {
   "cell_type": "code",
   "execution_count": 137,
   "metadata": {
    "collapsed": true
   },
   "outputs": [],
   "source": [
    "a = [1,2,3,4,5,6,6,6,7,7,7,7,8,9,10,11]\n",
    "import numpy as np"
   ]
  },
  {
   "cell_type": "code",
   "execution_count": 138,
   "metadata": {},
   "outputs": [
    {
     "data": {
      "text/plain": [
       "6.5"
      ]
     },
     "execution_count": 138,
     "metadata": {},
     "output_type": "execute_result"
    }
   ],
   "source": [
    "np.median(a)"
   ]
  },
  {
   "cell_type": "code",
   "execution_count": 139,
   "metadata": {},
   "outputs": [
    {
     "name": "stdout",
     "output_type": "stream",
     "text": [
      "2 > 1@node\n",
      "add node(2)\n",
      "bigger_size:1\n",
      "3 > 1@node\n",
      "3 > 2@node\n",
      "add node(3)\n",
      "bigger_size:1\n",
      "bigger_size:2\n",
      "4 > 1@node\n",
      "4 > 2@node\n",
      "4 > 3@node\n",
      "add node(4)\n",
      "bigger_size:1\n",
      "bigger_size:2\n",
      "bigger_size:3\n",
      "5 > 1@node\n",
      "5 > 2@node\n",
      "5 > 3@node\n",
      "5 > 4@node\n",
      "add node(5)\n",
      "bigger_size:1\n",
      "bigger_size:2\n",
      "bigger_size:3\n",
      "bigger_size:4\n",
      "6 > 1@node\n",
      "6 > 2@node\n",
      "6 > 3@node\n",
      "6 > 4@node\n",
      "6 > 5@node\n",
      "add node(6)\n",
      "bigger_size:1\n",
      "bigger_size:2\n",
      "bigger_size:3\n",
      "bigger_size:4\n",
      "bigger_size:5\n",
      "6 > 1@node\n",
      "6 > 2@node\n",
      "6 > 3@node\n",
      "6 > 4@node\n",
      "6 > 5@node\n",
      "add same value: 6\n",
      "bigger_size:2\n",
      "bigger_size:3\n",
      "bigger_size:4\n",
      "bigger_size:5\n",
      "bigger_size:6\n",
      "6 > 1@node\n",
      "6 > 2@node\n",
      "6 > 3@node\n",
      "6 > 4@node\n",
      "6 > 5@node\n",
      "add same value: 6\n",
      "bigger_size:3\n",
      "bigger_size:4\n",
      "bigger_size:5\n",
      "bigger_size:6\n",
      "bigger_size:7\n",
      "7 > 1@node\n",
      "7 > 2@node\n",
      "7 > 3@node\n",
      "7 > 4@node\n",
      "7 > 5@node\n",
      "7 > 6@node\n",
      "add node(7)\n",
      "bigger_size:1\n",
      "bigger_size:4\n",
      "bigger_size:5\n",
      "bigger_size:6\n",
      "bigger_size:7\n",
      "bigger_size:8\n",
      "7 > 1@node\n",
      "7 > 2@node\n",
      "7 > 3@node\n",
      "7 > 4@node\n",
      "7 > 5@node\n",
      "7 > 6@node\n",
      "add same value: 7\n",
      "bigger_size:2\n",
      "bigger_size:5\n",
      "bigger_size:6\n",
      "bigger_size:7\n",
      "bigger_size:8\n",
      "bigger_size:9\n",
      "7 > 1@node\n",
      "7 > 2@node\n",
      "7 > 3@node\n",
      "7 > 4@node\n",
      "7 > 5@node\n",
      "7 > 6@node\n",
      "add same value: 7\n",
      "bigger_size:3\n",
      "bigger_size:6\n",
      "bigger_size:7\n",
      "bigger_size:8\n",
      "bigger_size:9\n",
      "bigger_size:10\n",
      "7 > 1@node\n",
      "7 > 2@node\n",
      "7 > 3@node\n",
      "7 > 4@node\n",
      "7 > 5@node\n",
      "7 > 6@node\n",
      "add same value: 7\n",
      "bigger_size:4\n",
      "bigger_size:7\n",
      "bigger_size:8\n",
      "bigger_size:9\n",
      "bigger_size:10\n",
      "bigger_size:11\n",
      "8 > 1@node\n",
      "8 > 2@node\n",
      "8 > 3@node\n",
      "8 > 4@node\n",
      "8 > 5@node\n",
      "8 > 6@node\n",
      "8 > 7@node\n",
      "add node(8)\n",
      "bigger_size:1\n",
      "bigger_size:5\n",
      "bigger_size:8\n",
      "bigger_size:9\n",
      "bigger_size:10\n",
      "bigger_size:11\n",
      "bigger_size:12\n",
      "9 > 1@node\n",
      "9 > 2@node\n",
      "9 > 3@node\n",
      "9 > 4@node\n",
      "9 > 5@node\n",
      "9 > 6@node\n",
      "9 > 7@node\n",
      "9 > 8@node\n",
      "add node(9)\n",
      "bigger_size:1\n",
      "bigger_size:2\n",
      "bigger_size:6\n",
      "bigger_size:9\n",
      "bigger_size:10\n",
      "bigger_size:11\n",
      "bigger_size:12\n",
      "bigger_size:13\n",
      "10 > 1@node\n",
      "10 > 2@node\n",
      "10 > 3@node\n",
      "10 > 4@node\n",
      "10 > 5@node\n",
      "10 > 6@node\n",
      "10 > 7@node\n",
      "10 > 8@node\n",
      "10 > 9@node\n",
      "add node(10)\n",
      "bigger_size:1\n",
      "bigger_size:2\n",
      "bigger_size:3\n",
      "bigger_size:7\n",
      "bigger_size:10\n",
      "bigger_size:11\n",
      "bigger_size:12\n",
      "bigger_size:13\n",
      "bigger_size:14\n",
      "11 > 1@node\n",
      "11 > 2@node\n",
      "11 > 3@node\n",
      "11 > 4@node\n",
      "11 > 5@node\n",
      "11 > 6@node\n",
      "11 > 7@node\n",
      "11 > 8@node\n",
      "11 > 9@node\n",
      "11 > 10@node\n",
      "add node(11)\n",
      "bigger_size:1\n",
      "bigger_size:2\n",
      "bigger_size:3\n",
      "bigger_size:4\n",
      "bigger_size:8\n",
      "bigger_size:11\n",
      "bigger_size:12\n",
      "bigger_size:13\n",
      "bigger_size:14\n",
      "bigger_size:15\n"
     ]
    }
   ],
   "source": [
    "for _ in a:\n",
    "    bt.insert(_)"
   ]
  },
  {
   "cell_type": "code",
   "execution_count": 140,
   "metadata": {},
   "outputs": [
    {
     "name": "stdout",
     "output_type": "stream",
     "text": [
      "total_count:16\n",
      "median_pos:8\n",
      "_get_by_pos: pos=8\n",
      "[1] bigger:15 this_node:1 smaller:0\n",
      "_get_by_pos: pos=7\n",
      "[2] bigger:14 this_node:1 smaller:0\n",
      "_get_by_pos: pos=6\n",
      "[3] bigger:13 this_node:1 smaller:0\n",
      "_get_by_pos: pos=5\n",
      "[4] bigger:12 this_node:1 smaller:0\n",
      "_get_by_pos: pos=4\n",
      "[5] bigger:11 this_node:1 smaller:0\n",
      "_get_by_pos: pos=3\n",
      "[6] bigger:8 this_node:3 smaller:0\n",
      "_get_by_pos: pos=9\n",
      "[1] bigger:15 this_node:1 smaller:0\n",
      "_get_by_pos: pos=8\n",
      "[2] bigger:14 this_node:1 smaller:0\n",
      "_get_by_pos: pos=7\n",
      "[3] bigger:13 this_node:1 smaller:0\n",
      "_get_by_pos: pos=6\n",
      "[4] bigger:12 this_node:1 smaller:0\n",
      "_get_by_pos: pos=5\n",
      "[5] bigger:11 this_node:1 smaller:0\n",
      "_get_by_pos: pos=4\n",
      "[6] bigger:8 this_node:3 smaller:0\n",
      "_get_by_pos: pos=1\n",
      "[7] bigger:4 this_node:4 smaller:0\n",
      "6.5\n"
     ]
    }
   ],
   "source": [
    "print(bt.median())"
   ]
  },
  {
   "cell_type": "code",
   "execution_count": null,
   "metadata": {
    "collapsed": true
   },
   "outputs": [],
   "source": []
  }
 ],
 "metadata": {
  "kernelspec": {
   "display_name": "Python 3",
   "language": "python",
   "name": "python3"
  },
  "language_info": {
   "codemirror_mode": {
    "name": "ipython",
    "version": 3
   },
   "file_extension": ".py",
   "mimetype": "text/x-python",
   "name": "python",
   "nbconvert_exporter": "python",
   "pygments_lexer": "ipython3",
   "version": "3.6.6"
  },
  "toc": {
   "base_numbering": 1,
   "nav_menu": {},
   "number_sections": true,
   "sideBar": true,
   "skip_h1_title": false,
   "title_cell": "Table of Contents",
   "title_sidebar": "Contents",
   "toc_cell": true,
   "toc_position": {},
   "toc_section_display": true,
   "toc_window_display": true
  },
  "varInspector": {
   "cols": {
    "lenName": 16,
    "lenType": 16,
    "lenVar": 40
   },
   "kernels_config": {
    "python": {
     "delete_cmd_postfix": "",
     "delete_cmd_prefix": "del ",
     "library": "var_list.py",
     "varRefreshCmd": "print(var_dic_list())"
    },
    "r": {
     "delete_cmd_postfix": ") ",
     "delete_cmd_prefix": "rm(",
     "library": "var_list.r",
     "varRefreshCmd": "cat(var_dic_list()) "
    }
   },
   "types_to_exclude": [
    "module",
    "function",
    "builtin_function_or_method",
    "instance",
    "_Feature"
   ],
   "window_display": false
  }
 },
 "nbformat": 4,
 "nbformat_minor": 2
}
