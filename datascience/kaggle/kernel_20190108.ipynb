{
 "cells": [
  {
   "cell_type": "markdown",
   "metadata": {
    "_uuid": "5bc9b221d1b100ce002f5bfd841c7644af7b8947",
    "toc": true
   },
   "source": [
    "<h1>Table of Contents<span class=\"tocSkip\"></span></h1>\n",
    "<div class=\"toc\"><ul class=\"toc-item\"><li><span><a href=\"#作戦メモ\" data-toc-modified-id=\"作戦メモ-1\"><span class=\"toc-item-num\">1&nbsp;&nbsp;</span>作戦メモ</a></span></li><li><span><a href=\"#前処理\" data-toc-modified-id=\"前処理-2\"><span class=\"toc-item-num\">2&nbsp;&nbsp;</span>前処理</a></span></li><li><span><a href=\"#優秀なトレーニング期間の探索\" data-toc-modified-id=\"優秀なトレーニング期間の探索-3\"><span class=\"toc-item-num\">3&nbsp;&nbsp;</span>優秀なトレーニング期間の探索</a></span></li></ul></div>"
   ]
  },
  {
   "cell_type": "markdown",
   "metadata": {
    "_uuid": "56d7f23bcd35ff0b5f87809010687e27a9cac1b9"
   },
   "source": [
    "# 作戦メモ\n",
    "トレーニング期間を変えながら、性能が良いモデルを構築できる期間を探し出す。  \n",
    "そして、それらの期間ごとにモデルを構築し、最後にアンサンブルする。  \n",
    "\n",
    "このノートブックは作戦探索用である。\n",
    "提出用ノートブックは別に用意すべし。"
   ]
  },
  {
   "cell_type": "code",
   "execution_count": null,
   "metadata": {
    "_cell_guid": "b1076dfc-b9ad-4769-8c92-a6c4dae69d19",
    "_uuid": "8f2839f25d086af736a60e9eeb907d3b93b6e0e5",
    "collapsed": true
   },
   "outputs": [],
   "source": [
    "import numpy as np\n",
    "import lightgbm as lgb\n",
    "import pandas as pd\n",
    "from kaggle.competitions import twosigmanews\n",
    "import matplotlib.pyplot as plt\n",
    "import random\n",
    "from datetime import datetime, date\n",
    "from xgboost import XGBClassifier\n",
    "from sklearn import model_selection\n",
    "from sklearn.metrics import mean_squared_error\n",
    "import time\n",
    "from joblib import Parallel, delayed\n",
    "from tqdm import tqdm\n",
    "from dateutil.parser import parse\n",
    "import gc\n",
    "\n",
    "import datetime\n",
    "from dateutil.relativedelta import relativedelta\n",
    "from IPython import embed"
   ]
  },
  {
   "cell_type": "code",
   "execution_count": null,
   "metadata": {
    "_cell_guid": "79c7e3d0-c299-4dcb-8224-4455121ee9b0",
    "_uuid": "d629ff2d2480ee46fbb7e2d37f6b5fab8052498a",
    "collapsed": true
   },
   "outputs": [],
   "source": [
    "#データ取得コマンド\n",
    "from kaggle.competitions import twosigmanews\n",
    "env = twosigmanews.make_env()\n",
    "print('Done!')"
   ]
  },
  {
   "cell_type": "code",
   "execution_count": null,
   "metadata": {
    "_uuid": "4ff149df14250f7e68cbde3e3c9f44fdd6956a0f",
    "collapsed": true
   },
   "outputs": [],
   "source": [
    "market_train_df = env._var07\n",
    "news_train_df = env._var10"
   ]
  },
  {
   "cell_type": "code",
   "execution_count": null,
   "metadata": {
    "_uuid": "c1218aa42eaa9785e0bfc223a94458e84bc497e6",
    "collapsed": true
   },
   "outputs": [],
   "source": [
    "config_model = {\"n_lag\":[3,7,14], # 時系列特徴量計算の周期リスト\n",
    "                \n",
    "                # 時系列特徴量計算のリスト\n",
    "                \"return_features\" : ['returnsClosePrevMktres10','returnsClosePrevRaw10','open','close'],\n",
    "                \n",
    "                \"validation_term\" : ['2017-01-01', '2018-12-31'],\n",
    "                \n",
    "                \"model_params\": [{ # パラメータ１\n",
    "                                    'task': 'train',\n",
    "                                    'boosting_type': 'gbdt',\n",
    "                                    'objective': 'binary',\n",
    "                                    'learning_rate': 0.05,\n",
    "                                    'num_leaves': 2400,\n",
    "                                    'min_data_in_leaf': 150,\n",
    "                                    'num_iteration': 1000,\n",
    "                                    'max_bin': 200,\n",
    "                                    'verbose': 1,\n",
    "                                    'metric' : 'None'  # カスタム評価関数のみ使う\n",
    "                                },\n",
    "                                { # パラメータ２\n",
    "                                    'task': 'train',\n",
    "                                    'boosting_type': 'gbdt',\n",
    "                                    'objective': 'binary',\n",
    "                                    'learning_rate': 0.048,\n",
    "                                    'num_leaves': 2300,\n",
    "                                    'min_data_in_leaf': 150,\n",
    "                                    'num_iteration': 1000,\n",
    "                                    'max_bin': 200,\n",
    "                                    'verbose': 1,\n",
    "                                    'metric' : 'None'  # カスタム評価関数のみ使う\n",
    "                                }]\n",
    "               }\n"
   ]
  },
  {
   "cell_type": "markdown",
   "metadata": {
    "_uuid": "fc010cb11bf68ff3120e84d53066cbf7758dd708"
   },
   "source": [
    "# 前処理"
   ]
  },
  {
   "cell_type": "code",
   "execution_count": null,
   "metadata": {
    "_uuid": "404f9729417c7d54ea31fc693e8a9d6907be1453",
    "collapsed": true
   },
   "outputs": [],
   "source": [
    "market_train_df['time'] = market_train_df['time'].dt.date"
   ]
  },
  {
   "cell_type": "code",
   "execution_count": null,
   "metadata": {
    "_uuid": "06db696df59db8381b4518124a95ddf6c3a18941",
    "collapsed": true
   },
   "outputs": [],
   "source": [
    "def create_lag(df_code,n_lag, return_features):\n",
    "\n",
    "    #df_codeの資産コードを重複なしでcodeに入れる\n",
    "    code = df_code['assetCode'].unique()\n",
    "    \n",
    "    # データフレーム高速生成のための辞書\n",
    "    _dict_for_df = {\"time\": df_code[\"time\"].values,\n",
    "                    \"assetCode\": df_code[\"assetCode\"].values}\n",
    "    shift_size = 1\n",
    "    for col in return_features:\n",
    "        for window in n_lag:\n",
    "            rolled = df_code[col].shift(shift_size).rolling(window=window)\n",
    "            #移動平均の平均\n",
    "            lag_mean = rolled.mean()\n",
    "            #最大値\n",
    "            lag_max = rolled.max()\n",
    "            #最小値\n",
    "            lag_min = rolled.min()\n",
    "            #標準偏差\n",
    "            lag_std = rolled.std()\n",
    "            #colの値_lag_windowの値_meanのカラム名でdf_codeに格納される\n",
    "            _dict_for_df['%s_lag_%s_mean'%(col,window)] = lag_mean\n",
    "            _dict_for_df['%s_lag_%s_max'%(col,window)] = lag_max\n",
    "            _dict_for_df['%s_lag_%s_min'%(col,window)] = lag_min\n",
    "    df_result = pd.DataFrame.from_dict(_dict_for_df)\n",
    "    del df_code\n",
    "    return df_result.fillna(-1)\n",
    "\n",
    "\n",
    "def generate_lag_features(df,n_lag, return_features):\n",
    "    all_df = Parallel(n_jobs=-1)(tqdm([delayed(create_lag)(_df, n_lag, return_features) for _code, _df in df.groupby('assetCode')]))\n",
    "    new_df = pd.concat(all_df)\n",
    "    del df\n",
    "    gc.collect()\n",
    "    return new_df\n",
    "\n",
    "def data_prep(market_train):\n",
    "    lbl = {k: v for v, k in enumerate(market_train['assetCode'].unique())}\n",
    "    market_train['assetCodeT'] = market_train['assetCode'].map(lbl)\n",
    "    market_train = market_train.dropna(axis=0)\n",
    "    return market_train\n",
    "\n",
    "def mis_impute(data):\n",
    "    #カラムを一つずつ引っ張ってくる\n",
    "    for i in data.columns:\n",
    "        #型が文字列なら空値をotherに置き換え\n",
    "        if data[i].dtype == \"object\":\n",
    "            data[i] = data[i].fillna(\"other\")\n",
    "        #型が数字なら空値は平均値に置き換え\n",
    "        elif (data[i].dtype == \"int64\" or data[i].dtype == \"float64\"):\n",
    "            data[i] = data[i].fillna(data[i].mean())\n",
    "        else:\n",
    "            pass\n",
    "    return data\n",
    "\n",
    "def get_feature_cols(df):\n",
    "    \"\"\"\n",
    "    特徴量とするカラムを取得する。\n",
    "    \"\"\"\n",
    "    fcol = [c for c in df.columns if c not in ['assetCode', 'assetCodes', 'assetCodesLen', 'assetName', 'audiences', \n",
    "                                             'firstCreated', 'headline', 'headlineTag', 'marketCommentary', 'time_x','provider', \n",
    "                                             'returnsOpenNextMktres10', 'sourceId', 'subjects', 'time', 'universe','sourceTimestamp']]\n",
    "    return fcol"
   ]
  },
  {
   "cell_type": "code",
   "execution_count": null,
   "metadata": {
    "_uuid": "34630df14f3e514becabd95623fa2456c48f7759",
    "collapsed": true
   },
   "outputs": [],
   "source": [
    "new_df = generate_lag_features(market_train_df,\n",
    "                               n_lag=config_model['n_lag'], \n",
    "                               return_features=config_model['return_features'])\n",
    "market_train_df = pd.merge(market_train_df,new_df,how='left',on=['time','assetCode'], copy=False)\n",
    "market_train_df = mis_impute(market_train_df)\n",
    "market_train_df = data_prep(market_train_df)\n",
    "\n",
    "#up = market_train_df['returnsOpenNextMktres10'] >= 0\n",
    "\n",
    "#universe(これが１以外は訓練データとして使えない)の値をuniverse変数に放り込む\n",
    "#でもなんで値？\n",
    "#universe = market_train_df['universe'].values\n"
   ]
  },
  {
   "cell_type": "code",
   "execution_count": null,
   "metadata": {
    "_uuid": "1e137f7cfbc4794aea86b4e12072e9eb63e6bd53",
    "collapsed": true
   },
   "outputs": [],
   "source": [
    "# メモリ節約\n",
    "for _ in market_train_df.columns:\n",
    "    if market_train_df[_].dtype == np.float64:\n",
    "        market_train_df[_] = market_train_df[_].astype(np.float32)\n",
    "gc.collect()"
   ]
  },
  {
   "cell_type": "markdown",
   "metadata": {
    "_uuid": "87bdf700ac0c383d9a9065c1f4c4ec439a8f86c2"
   },
   "source": [
    "# 優秀なトレーニング期間の探索\n",
    "学習期間をスライドさせながら、バリデーション期間における性能を測定し、記録する。  \n",
    "そして、優秀な性能を誇る期間をリストアップする。"
   ]
  },
  {
   "cell_type": "code",
   "execution_count": null,
   "metadata": {
    "_uuid": "302a5d2900f6c1b5a64d957a736247f068b6c426",
    "collapsed": true
   },
   "outputs": [],
   "source": [
    "# 各学習期間の性能測定結果を記録する。\n",
    "# 各要素は、以下を記録する。\n",
    "# \"term\":学習期間, \"sigma_score\":スコア, \"post_process_param\": ポストプロセスパラメータ(シグモイド係数)\n",
    "performance_records = []\n",
    "\n",
    "# 特徴量カラム\n",
    "feature_cols = get_feature_cols(market_train_df)\n",
    "\n",
    "# インデックス情報\n",
    "idx_validate = market_train_df[(market_train_df['time'] >= parse(config_model['validation_term'][0]).date())\n",
    "                               & (market_train_df['time'] <= parse(config_model['validation_term'][1]).date())].index"
   ]
  },
  {
   "cell_type": "code",
   "execution_count": null,
   "metadata": {
    "_uuid": "5cf7df4013bae904d9eae00d96da6e345ae254bb",
    "collapsed": true
   },
   "outputs": [],
   "source": [
    "# バリデーションデータの用意\n",
    "X_valid = market_train_df.loc[idx_validate][feature_cols].values\n",
    "up_valid = market_train_df.loc[idx_validate]['returnsOpenNextMktres10'] > 0\n",
    "validation_data = lgb.Dataset(X_valid, label=up_valid.astype(int),free_raw_data=False,\n",
    "                             params={\"return\":market_train_df.loc[idx_validate]['returnsOpenNextMktres10'].values, \n",
    "                                     \"time\":market_train_df.loc[idx_validate]['time'].values,\n",
    "                                     \"universe\": market_train_df.loc[idx_validate]['universe'].values})\n",
    "gc.collect()"
   ]
  },
  {
   "cell_type": "code",
   "execution_count": 18,
   "metadata": {
    "_uuid": "6acf4e49b6675f81f83718455c7104c747f880ed"
   },
   "outputs": [
    {
     "data": {
      "text/plain": [
       "63"
      ]
     },
     "execution_count": 18,
     "metadata": {},
     "output_type": "execute_result"
    }
   ],
   "source": [
    "pos_training_start = parse('2013-01-01')\n",
    "training_term_range = relativedelta(months=12)  # 学習期間は1年間\n",
    "training_term_step = relativedelta(weeks=2)\n",
    "gc.collect()"
   ]
  },
  {
   "cell_type": "code",
   "execution_count": null,
   "metadata": {
    "_uuid": "5d7d29a5b137c8ee4f93b9dcd9c05c6de24d70c5",
    "collapsed": true
   },
   "outputs": [],
   "source": [
    "def get_training_data(market_train_df, idx_training, feature_cols):\n",
    "    \"\"\"\n",
    "    トレーニングデータを取得する\n",
    "    \"\"\"\n",
    "    return ( market_train_df.loc[idx_training][feature_cols].values,   # X_train\n",
    "             market_train_df.loc[idx_training]['returnsOpenNextMktres10'] > 0, # up_train\n",
    "           )\n",
    "\n",
    "def eval_sigma_score(preds, valid_set):\n",
    "    \"\"\"\n",
    "    予測とバリデーションセットを受け取り、sigma_scoreを計算する。\n",
    "    \"\"\"\n",
    "    _df_valid = pd.DataFrame.from_dict({\"time\":valid_set.params['time'],\n",
    "                                       \"x_t_i\": (2 * preds - 1) * valid_set.params['universe'] * valid_set.params['return']})\n",
    "    x_t = _df_valid.groupby(\"time\").agg({\"x_t_i\":\"sum\"}).values.flatten()\n",
    "    #embed()\n",
    "    _mean = x_t.mean()\n",
    "    _std = x_t.std()\n",
    "    return ('sigma_score', np.float32(_mean/_std), True)\n",
    "\n",
    "def build_models(model_params, train_data, validation_data):\n",
    "    \"\"\"\n",
    "    トレーニングデータとバリデーションデータを受け取り、モデルを構築する。\n",
    "    \"\"\"\n",
    "    models = []\n",
    "    #global config_model\n",
    "    for _param in model_params:\n",
    "        _evals_result = {}\n",
    "        _model = lgb.train(_param, train_data,\n",
    "                          num_boost_round=200,\n",
    "                          valid_sets=validation_data,\n",
    "                          early_stopping_rounds=10,\n",
    "                          feval=eval_sigma_score,\n",
    "                          evals_result=_evals_result)\n",
    "        # 最適ブースティング情報を得る\n",
    "        _best_boosting_round = _model.best_iteration\n",
    "        _best_sigma_score = np.max(_evals_result['valid_0']['sigma_score'])\n",
    "        models.append([_model, _best_boosting_round, _best_sigma_score, _evals_result])\n",
    "    return models"
   ]
  },
  {
   "cell_type": "code",
   "execution_count": null,
   "metadata": {
    "_uuid": "fb17f0ea95f050dc5681452023b00eed540c4b85",
    "collapsed": true
   },
   "outputs": [],
   "source": [
    "while pos_training_start + training_term_range < parse(config_model['validation_term'][0]):\n",
    "    # 探索処理\n",
    "    _training_term = [pos_training_start.date(), (pos_training_start + training_term_range).date()]\n",
    "    print(\"[Training Term] {} - {}\".format(_training_term[0], _training_term[1]))\n",
    "    \n",
    "    _idx_training = market_train_df[(market_train_df['time'] >= _training_term[0])\n",
    "                                    & (market_train_df['time'] <= _training_term[1])].index\n",
    "    _X_train, _up_train = get_training_data(market_train_df, _idx_training, feature_cols)\n",
    "    _train_data = lgb.Dataset(_X_train, label=_up_train.astype(int), free_raw_data=False)\n",
    "    performance_records.append({\"training_term\":_training_term,\n",
    "                                \"results\": build_models(model_params=config_model['model_params'], train_data=_train_data, validation_data=validation_data)})\n",
    "    \n",
    "    # サマリを表示\n",
    "    _latest = performance_records[-1]\n",
    "    print(\"=\" * 80)\n",
    "    print(\"[Training term] {} - {}\".format(_latest['training_term'][0], _latest['training_term'][1]))\n",
    "    for _r in _latest['results']:\n",
    "        print(\"Best Sigma Score: {} / boost_rounds = {}\".format(_r[2], _r[1]))\n",
    "    print(\"=\" * 80)\n",
    "    \n",
    "    pos_training_start = pos_training_start + training_term_step\n",
    "    "
   ]
  },
  {
   "cell_type": "code",
   "execution_count": 14,
   "metadata": {
    "_uuid": "4ee8b51414afeb3024c4973c496308a83ea5e93f"
   },
   "outputs": [
    {
     "data": {
      "text/plain": [
       "53"
      ]
     },
     "execution_count": 14,
     "metadata": {},
     "output_type": "execute_result"
    }
   ],
   "source": [
    "len(performance_records)"
   ]
  },
  {
   "cell_type": "code",
   "execution_count": 16,
   "metadata": {
    "_uuid": "118306550c1311349b1b9644bea3a90074b1e9ce",
    "collapsed": true
   },
   "outputs": [],
   "source": [
    "ranking_records = sorted(performance_records, key=lambda x:x['results'][0][2], reverse=True)"
   ]
  },
  {
   "cell_type": "code",
   "execution_count": 17,
   "metadata": {
    "_uuid": "a43ba1dada88ec8ad9c497d00c2c4121383fb4f1"
   },
   "outputs": [
    {
     "name": "stdout",
     "output_type": "stream",
     "text": [
      "================================================================================\n",
      "[Training term] 2015-09-23 - 2016-09-23\n",
      "Best Sigma Score: 0.6751449704170227 / boost_rounds = 7\n",
      "Best Sigma Score: 0.6798738241195679 / boost_rounds = 26\n",
      "================================================================================\n",
      "================================================================================\n",
      "[Training term] 2015-10-07 - 2016-10-07\n",
      "Best Sigma Score: 0.6460599899291992 / boost_rounds = 10\n",
      "Best Sigma Score: 0.6436297297477722 / boost_rounds = 6\n",
      "================================================================================\n",
      "================================================================================\n",
      "[Training term] 2015-11-04 - 2016-11-04\n",
      "Best Sigma Score: 0.6428794264793396 / boost_rounds = 24\n",
      "Best Sigma Score: 0.6409626007080078 / boost_rounds = 15\n",
      "================================================================================\n",
      "================================================================================\n",
      "[Training term] 2015-09-09 - 2016-09-09\n",
      "Best Sigma Score: 0.6420419216156006 / boost_rounds = 23\n",
      "Best Sigma Score: 0.6378040909767151 / boost_rounds = 11\n",
      "================================================================================\n",
      "================================================================================\n",
      "[Training term] 2015-08-12 - 2016-08-12\n",
      "Best Sigma Score: 0.6351317167282104 / boost_rounds = 9\n",
      "Best Sigma Score: 0.644119918346405 / boost_rounds = 14\n",
      "================================================================================\n",
      "================================================================================\n",
      "[Training term] 2015-08-26 - 2016-08-26\n",
      "Best Sigma Score: 0.6311352252960205 / boost_rounds = 4\n",
      "Best Sigma Score: 0.633804202079773 / boost_rounds = 4\n",
      "================================================================================\n",
      "================================================================================\n",
      "[Training term] 2015-11-18 - 2016-11-18\n",
      "Best Sigma Score: 0.6237589120864868 / boost_rounds = 19\n",
      "Best Sigma Score: 0.6037613153457642 / boost_rounds = 15\n",
      "================================================================================\n",
      "================================================================================\n",
      "[Training term] 2015-10-21 - 2016-10-21\n",
      "Best Sigma Score: 0.6190945506095886 / boost_rounds = 8\n",
      "Best Sigma Score: 0.6247485280036926 / boost_rounds = 8\n",
      "================================================================================\n",
      "================================================================================\n",
      "[Training term] 2015-12-02 - 2016-12-02\n",
      "Best Sigma Score: 0.6118753552436829 / boost_rounds = 13\n",
      "Best Sigma Score: 0.618669331073761 / boost_rounds = 13\n",
      "================================================================================\n",
      "================================================================================\n",
      "[Training term] 2015-06-03 - 2016-06-03\n",
      "Best Sigma Score: 0.6057907342910767 / boost_rounds = 39\n",
      "Best Sigma Score: 0.5954582095146179 / boost_rounds = 17\n",
      "================================================================================\n",
      "================================================================================\n",
      "[Training term] 2015-07-15 - 2016-07-15\n",
      "Best Sigma Score: 0.6053178310394287 / boost_rounds = 9\n",
      "Best Sigma Score: 0.6137462258338928 / boost_rounds = 15\n",
      "================================================================================\n",
      "================================================================================\n",
      "[Training term] 2015-07-29 - 2016-07-29\n",
      "Best Sigma Score: 0.6019759178161621 / boost_rounds = 20\n",
      "Best Sigma Score: 0.5957798957824707 / boost_rounds = 34\n",
      "================================================================================\n",
      "================================================================================\n",
      "[Training term] 2015-07-01 - 2016-07-01\n",
      "Best Sigma Score: 0.6015704870223999 / boost_rounds = 15\n",
      "Best Sigma Score: 0.6121960878372192 / boost_rounds = 29\n",
      "================================================================================\n",
      "================================================================================\n",
      "[Training term] 2015-12-30 - 2016-12-30\n",
      "Best Sigma Score: 0.598108172416687 / boost_rounds = 32\n",
      "Best Sigma Score: 0.5921764373779297 / boost_rounds = 18\n",
      "================================================================================\n",
      "================================================================================\n",
      "[Training term] 2014-01-15 - 2015-01-15\n",
      "Best Sigma Score: 0.5927228927612305 / boost_rounds = 53\n",
      "Best Sigma Score: 0.5980063080787659 / boost_rounds = 82\n",
      "================================================================================\n",
      "================================================================================\n",
      "[Training term] 2015-06-17 - 2016-06-17\n",
      "Best Sigma Score: 0.5925244688987732 / boost_rounds = 35\n",
      "Best Sigma Score: 0.5951048731803894 / boost_rounds = 37\n",
      "================================================================================\n",
      "================================================================================\n",
      "[Training term] 2014-02-12 - 2015-02-12\n",
      "Best Sigma Score: 0.5909671783447266 / boost_rounds = 57\n",
      "Best Sigma Score: 0.5789098143577576 / boost_rounds = 43\n",
      "================================================================================\n",
      "================================================================================\n",
      "[Training term] 2014-01-01 - 2015-01-01\n",
      "Best Sigma Score: 0.5870230197906494 / boost_rounds = 83\n",
      "Best Sigma Score: 0.587682843208313 / boost_rounds = 59\n",
      "================================================================================\n",
      "================================================================================\n",
      "[Training term] 2015-03-25 - 2016-03-25\n",
      "Best Sigma Score: 0.584656298160553 / boost_rounds = 39\n",
      "Best Sigma Score: 0.5717746615409851 / boost_rounds = 50\n",
      "================================================================================\n",
      "================================================================================\n",
      "[Training term] 2015-05-20 - 2016-05-20\n",
      "Best Sigma Score: 0.5837926268577576 / boost_rounds = 42\n",
      "Best Sigma Score: 0.5740008354187012 / boost_rounds = 41\n",
      "================================================================================\n",
      "================================================================================\n",
      "[Training term] 2015-12-16 - 2016-12-16\n",
      "Best Sigma Score: 0.5836209654808044 / boost_rounds = 21\n",
      "Best Sigma Score: 0.5825838446617126 / boost_rounds = 20\n",
      "================================================================================\n",
      "================================================================================\n",
      "[Training term] 2014-01-29 - 2015-01-29\n",
      "Best Sigma Score: 0.5783467888832092 / boost_rounds = 61\n",
      "Best Sigma Score: 0.5909839868545532 / boost_rounds = 44\n",
      "================================================================================\n",
      "================================================================================\n",
      "[Training term] 2014-03-12 - 2015-03-12\n",
      "Best Sigma Score: 0.5640252232551575 / boost_rounds = 40\n",
      "Best Sigma Score: 0.5429503917694092 / boost_rounds = 44\n",
      "================================================================================\n",
      "================================================================================\n",
      "[Training term] 2014-10-22 - 2015-10-22\n",
      "Best Sigma Score: 0.5628145337104797 / boost_rounds = 24\n",
      "Best Sigma Score: 0.5618592500686646 / boost_rounds = 22\n",
      "================================================================================\n",
      "================================================================================\n",
      "[Training term] 2014-02-26 - 2015-02-26\n",
      "Best Sigma Score: 0.5612552762031555 / boost_rounds = 43\n",
      "Best Sigma Score: 0.5627260804176331 / boost_rounds = 36\n",
      "================================================================================\n",
      "================================================================================\n",
      "[Training term] 2015-04-22 - 2016-04-22\n",
      "Best Sigma Score: 0.5612382888793945 / boost_rounds = 21\n",
      "Best Sigma Score: 0.5605983734130859 / boost_rounds = 23\n",
      "================================================================================\n",
      "================================================================================\n",
      "[Training term] 2015-04-08 - 2016-04-08\n",
      "Best Sigma Score: 0.5599093437194824 / boost_rounds = 34\n",
      "Best Sigma Score: 0.5713421106338501 / boost_rounds = 51\n",
      "================================================================================\n",
      "================================================================================\n",
      "[Training term] 2015-03-11 - 2016-03-11\n",
      "Best Sigma Score: 0.5521340370178223 / boost_rounds = 42\n",
      "Best Sigma Score: 0.5423945188522339 / boost_rounds = 35\n",
      "================================================================================\n",
      "================================================================================\n",
      "[Training term] 2014-12-03 - 2015-12-03\n",
      "Best Sigma Score: 0.545139491558075 / boost_rounds = 29\n",
      "Best Sigma Score: 0.5495551824569702 / boost_rounds = 27\n",
      "================================================================================\n",
      "================================================================================\n",
      "[Training term] 2015-05-06 - 2016-05-06\n",
      "Best Sigma Score: 0.5443671941757202 / boost_rounds = 27\n",
      "Best Sigma Score: 0.5352410674095154 / boost_rounds = 34\n",
      "================================================================================\n",
      "================================================================================\n",
      "[Training term] 2014-11-05 - 2015-11-05\n",
      "Best Sigma Score: 0.5440285801887512 / boost_rounds = 24\n",
      "Best Sigma Score: 0.5506449341773987 / boost_rounds = 23\n",
      "================================================================================\n",
      "================================================================================\n",
      "[Training term] 2014-11-19 - 2015-11-19\n",
      "Best Sigma Score: 0.5375454425811768 / boost_rounds = 21\n",
      "Best Sigma Score: 0.5403721332550049 / boost_rounds = 12\n",
      "================================================================================\n",
      "================================================================================\n",
      "[Training term] 2015-02-25 - 2016-02-25\n",
      "Best Sigma Score: 0.5364797711372375 / boost_rounds = 28\n",
      "Best Sigma Score: 0.5321564674377441 / boost_rounds = 30\n",
      "================================================================================\n",
      "================================================================================\n",
      "[Training term] 2014-07-02 - 2015-07-02\n",
      "Best Sigma Score: 0.5301991105079651 / boost_rounds = 27\n",
      "Best Sigma Score: 0.5296639800071716 / boost_rounds = 13\n",
      "================================================================================\n",
      "================================================================================\n",
      "[Training term] 2014-07-30 - 2015-07-30\n",
      "Best Sigma Score: 0.5300810933113098 / boost_rounds = 22\n",
      "Best Sigma Score: 0.5486493706703186 / boost_rounds = 28\n",
      "================================================================================\n",
      "================================================================================\n",
      "[Training term] 2014-07-16 - 2015-07-16\n",
      "Best Sigma Score: 0.5298486351966858 / boost_rounds = 10\n",
      "Best Sigma Score: 0.5241107940673828 / boost_rounds = 31\n",
      "================================================================================\n",
      "================================================================================\n",
      "[Training term] 2015-01-28 - 2016-01-28\n",
      "Best Sigma Score: 0.5267512202262878 / boost_rounds = 45\n",
      "Best Sigma Score: 0.5124695897102356 / boost_rounds = 26\n",
      "================================================================================\n",
      "================================================================================\n",
      "[Training term] 2014-03-26 - 2015-03-26\n",
      "Best Sigma Score: 0.5255794525146484 / boost_rounds = 19\n",
      "Best Sigma Score: 0.5317493677139282 / boost_rounds = 51\n",
      "================================================================================\n",
      "================================================================================\n",
      "[Training term] 2014-04-09 - 2015-04-09\n",
      "Best Sigma Score: 0.5251397490501404 / boost_rounds = 29\n",
      "Best Sigma Score: 0.5100580453872681 / boost_rounds = 16\n",
      "================================================================================\n",
      "================================================================================\n",
      "[Training term] 2015-02-11 - 2016-02-11\n",
      "Best Sigma Score: 0.5160122513771057 / boost_rounds = 42\n",
      "Best Sigma Score: 0.519210159778595 / boost_rounds = 59\n",
      "================================================================================\n",
      "================================================================================\n",
      "[Training term] 2014-12-31 - 2015-12-31\n",
      "Best Sigma Score: 0.5118488073348999 / boost_rounds = 37\n",
      "Best Sigma Score: 0.5205652713775635 / boost_rounds = 43\n",
      "================================================================================\n",
      "================================================================================\n",
      "[Training term] 2014-12-17 - 2015-12-17\n",
      "Best Sigma Score: 0.5113011598587036 / boost_rounds = 29\n",
      "Best Sigma Score: 0.5049962997436523 / boost_rounds = 30\n",
      "================================================================================\n",
      "================================================================================\n",
      "[Training term] 2014-10-08 - 2015-10-08\n",
      "Best Sigma Score: 0.5087923407554626 / boost_rounds = 2\n",
      "Best Sigma Score: 0.5058153867721558 / boost_rounds = 2\n",
      "================================================================================\n",
      "================================================================================\n",
      "[Training term] 2014-08-27 - 2015-08-27\n",
      "Best Sigma Score: 0.5079898834228516 / boost_rounds = 11\n",
      "Best Sigma Score: 0.508928656578064 / boost_rounds = 11\n",
      "================================================================================\n",
      "================================================================================\n",
      "[Training term] 2014-05-07 - 2015-05-07\n",
      "Best Sigma Score: 0.5051636099815369 / boost_rounds = 17\n",
      "Best Sigma Score: 0.5121883153915405 / boost_rounds = 17\n",
      "================================================================================\n",
      "================================================================================\n",
      "[Training term] 2014-06-04 - 2015-06-04\n",
      "Best Sigma Score: 0.5032103657722473 / boost_rounds = 5\n",
      "Best Sigma Score: 0.49950480461120605 / boost_rounds = 5\n",
      "================================================================================\n",
      "================================================================================\n",
      "[Training term] 2014-08-13 - 2015-08-13\n",
      "Best Sigma Score: 0.5016003251075745 / boost_rounds = 11\n",
      "Best Sigma Score: 0.5101835131645203 / boost_rounds = 22\n",
      "================================================================================\n",
      "================================================================================\n",
      "[Training term] 2015-01-14 - 2016-01-14\n",
      "Best Sigma Score: 0.4973706901073456 / boost_rounds = 25\n",
      "Best Sigma Score: 0.5049192905426025 / boost_rounds = 32\n",
      "================================================================================\n",
      "================================================================================\n",
      "[Training term] 2014-05-21 - 2015-05-21\n",
      "Best Sigma Score: 0.4952249228954315 / boost_rounds = 5\n",
      "Best Sigma Score: 0.4986903667449951 / boost_rounds = 6\n",
      "================================================================================\n",
      "================================================================================\n",
      "[Training term] 2014-09-24 - 2015-09-24\n",
      "Best Sigma Score: 0.4912004768848419 / boost_rounds = 6\n",
      "Best Sigma Score: 0.488730788230896 / boost_rounds = 4\n",
      "================================================================================\n",
      "================================================================================\n",
      "[Training term] 2014-09-10 - 2015-09-10\n",
      "Best Sigma Score: 0.4850602149963379 / boost_rounds = 12\n",
      "Best Sigma Score: 0.48180654644966125 / boost_rounds = 20\n",
      "================================================================================\n",
      "================================================================================\n",
      "[Training term] 2014-04-23 - 2015-04-23\n",
      "Best Sigma Score: 0.48258355259895325 / boost_rounds = 27\n",
      "Best Sigma Score: 0.4960194230079651 / boost_rounds = 14\n",
      "================================================================================\n",
      "================================================================================\n",
      "[Training term] 2014-06-18 - 2015-06-18\n",
      "Best Sigma Score: 0.479347288608551 / boost_rounds = 23\n",
      "Best Sigma Score: 0.5020914077758789 / boost_rounds = 23\n",
      "================================================================================\n"
     ]
    }
   ],
   "source": [
    "for _r in ranking_records:\n",
    "    print(\"=\" * 80)\n",
    "    print(\"[Training term] {} - {}\".format(_r['training_term'][0], _r['training_term'][1]))\n",
    "    for _i in _r['results']:\n",
    "        print(\"Best Sigma Score: {} / boost_rounds = {}\".format(_i[2], _i[1]))\n",
    "    print(\"=\" * 80)\n"
   ]
  },
  {
   "cell_type": "code",
   "execution_count": null,
   "metadata": {
    "_uuid": "6c66369ca2a32b9a86a6aaf98adbaf288bb91b49",
    "collapsed": true
   },
   "outputs": [],
   "source": [
    "#1個目のデータと2個目のデータの平均出してる\n",
    "confidence_test = (gbm_1.predict(X_test) + gbm_2.predict(X_test))/2\n",
    "confidence_test"
   ]
  },
  {
   "cell_type": "code",
   "execution_count": null,
   "metadata": {
    "_uuid": "55589ca05e8c982439efe1ad9cf19fbf6ceefd4d",
    "collapsed": true
   },
   "outputs": [],
   "source": [
    "#予測値の%　割合の算出\n",
    "confidence_test = (confidence_test-confidence_test.min())/(confidence_test.max()-confidence_test.min())\n",
    "confidence_test"
   ]
  },
  {
   "cell_type": "code",
   "execution_count": null,
   "metadata": {
    "_uuid": "e5e6db1e2e7963aef26c4ffdc1832f4f0f6f9c0b",
    "collapsed": true
   },
   "outputs": [],
   "source": [
    "#%に二乗して-1????\n",
    "confidence_test = confidence_test*2-1\n",
    "print(max(confidence_test),min(confidence_test))\n",
    "confidence_test"
   ]
  },
  {
   "cell_type": "code",
   "execution_count": null,
   "metadata": {
    "_uuid": "3dbef3e10363bc9df63292b146cba44311ba3b17",
    "collapsed": true
   },
   "outputs": [],
   "source": [
    "# 最終スコアの計算に使用される実際のメトリックの計算\n",
    "r_test = r_test.clip(-1,1) # -1～１以外の値を取り除く　彼らはどこから来たのかという\n",
    "#学習の推測地と予測前の目的変数とユニバース値をかけてる？\n",
    "x_t_i = confidence_test * r_test * u_test\n",
    "#日付とスコア値だけのデータフレーム作り\n",
    "data = {'day' : d_test, 'x_t_i' : x_t_i}\n",
    "df = pd.DataFrame(data)\n",
    "#日付でグループバイ（集約）　で多次元配列を１次元に直してる\n",
    "x_t = df.groupby('day').sum().values.flatten()\n",
    "#スコアの平均値\n",
    "mean = np.mean(x_t)\n",
    "#スコアの標準偏差\n",
    "std = np.std(x_t)\n",
    "#変動係数の逆数\n",
    "score_test = mean / std\n",
    "print(score_test)"
   ]
  },
  {
   "cell_type": "code",
   "execution_count": null,
   "metadata": {
    "_uuid": "65da0a50ea0df84261ff437dbf934a31242b2ccd",
    "collapsed": true
   },
   "outputs": [],
   "source": [
    "import gc\n",
    "del X_train,X_test\n",
    "gc.collect()"
   ]
  },
  {
   "cell_type": "code",
   "execution_count": null,
   "metadata": {
    "_uuid": "3351f7ef017a67f4ea8563be79230f5bd659d965",
    "collapsed": true
   },
   "outputs": [],
   "source": [
    "#prediction\n",
    "days = env.get_prediction_days()\n",
    "n_days = 0\n",
    "prep_time = 0\n",
    "prediction_time = 0\n",
    "packaging_time = 0\n",
    "total_market_obs_df = []\n",
    "for (market_obs_df, news_obs_df, predictions_template_df) in days:\n",
    "    n_days +=1\n",
    "    if (n_days%50==0):\n",
    "        print(n_days,end=' ')\n",
    "    t = time.time()\n",
    "    market_obs_df['time'] = market_obs_df['time'].dt.date\n",
    "    \n",
    "    return_features = ['returnsClosePrevMktres10','returnsClosePrevRaw10','open','close']\n",
    "    total_market_obs_df.append(market_obs_df)\n",
    "    if len(total_market_obs_df)==1:\n",
    "        history_df = total_market_obs_df[0]\n",
    "    else:\n",
    "        history_df = pd.concat(total_market_obs_df[-(np.max(n_lag)+1):])\n",
    "    print(history_df)\n",
    "    \n",
    "    new_df = generate_lag_features(history_df,n_lag=[3,7,14])\n",
    "    market_obs_df = pd.merge(market_obs_df,new_df,how='left',on=['time','assetCode'])\n",
    "    \n",
    "#     return_features = ['open']\n",
    "#     new_df = generate_lag_features(market_obs_df,n_lag=[3,7,14])\n",
    "#     market_obs_df = pd.merge(market_obs_df,new_df,how='left',on=['time','assetCode'])\n",
    "    \n",
    "    market_obs_df = mis_impute(market_obs_df)\n",
    "    \n",
    "    market_obs_df = data_prep(market_obs_df)\n",
    "    \n",
    "#     market_obs_df = market_obs_df[market_obs_df.assetCode.isin(predictions_template_df.assetCode)]\n",
    "    \n",
    "    X_live = market_obs_df[fcol].values\n",
    "    X_live = 1 - ((maxs - X_live) / rng)\n",
    "    prep_time += time.time() - t\n",
    "    \n",
    "    t = time.time()\n",
    "    lp = (gbm_1.predict(X_live) + gbm_2.predict(X_live))/2\n",
    "    prediction_time += time.time() -t\n",
    "    \n",
    "    t = time.time()\n",
    "    \n",
    "    confidence = lp\n",
    "    confidence = (confidence-confidence.min())/(confidence.max()-confidence.min())\n",
    "    confidence = confidence * 2 - 1\n",
    "    \n",
    "    preds = pd.DataFrame({'assetCode':market_obs_df['assetCode'],'confidence':confidence})\n",
    "    predictions_template_df = predictions_template_df.merge(preds,how='left').drop('confidenceValue',axis=1).fillna(0).rename(columns={'confidence':'confidenceValue'})\n",
    "    env.predict(predictions_template_df)\n",
    "    packaging_time += time.time() - t\n",
    "    \n",
    "env.write_submission_file()\n",
    "sub  = pd.read_csv(\"submission.csv\")"
   ]
  },
  {
   "cell_type": "code",
   "execution_count": null,
   "metadata": {
    "_uuid": "f189e556fd74e791c965476b07354fadc0ec1d7c",
    "collapsed": true
   },
   "outputs": [],
   "source": []
  }
 ],
 "metadata": {
  "kernelspec": {
   "display_name": "Python 3",
   "language": "python",
   "name": "python3"
  },
  "language_info": {
   "codemirror_mode": {
    "name": "ipython",
    "version": 3
   },
   "file_extension": ".py",
   "mimetype": "text/x-python",
   "name": "python",
   "nbconvert_exporter": "python",
   "pygments_lexer": "ipython3",
   "version": "3.6.6"
  },
  "toc": {
   "base_numbering": 1,
   "nav_menu": {},
   "number_sections": true,
   "sideBar": true,
   "skip_h1_title": false,
   "title_cell": "Table of Contents",
   "title_sidebar": "Contents",
   "toc_cell": true,
   "toc_position": {},
   "toc_section_display": true,
   "toc_window_display": true
  },
  "varInspector": {
   "cols": {
    "lenName": 16,
    "lenType": 16,
    "lenVar": 40
   },
   "kernels_config": {
    "python": {
     "delete_cmd_postfix": "",
     "delete_cmd_prefix": "del ",
     "library": "var_list.py",
     "varRefreshCmd": "print(var_dic_list())"
    },
    "r": {
     "delete_cmd_postfix": ") ",
     "delete_cmd_prefix": "rm(",
     "library": "var_list.r",
     "varRefreshCmd": "cat(var_dic_list()) "
    }
   },
   "types_to_exclude": [
    "module",
    "function",
    "builtin_function_or_method",
    "instance",
    "_Feature"
   ],
   "window_display": false
  }
 },
 "nbformat": 4,
 "nbformat_minor": 1
}
