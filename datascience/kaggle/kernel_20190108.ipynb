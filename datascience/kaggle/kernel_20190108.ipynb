{
  "cells": [
    {
      "metadata": {
        "toc": true,
        "_uuid": "5bc9b221d1b100ce002f5bfd841c7644af7b8947"
      },
      "cell_type": "markdown",
      "source": "<h1>Table of Contents<span class=\"tocSkip\"></span></h1>\n<div class=\"toc\"><ul class=\"toc-item\"><li><span><a href=\"#作戦メモ\" data-toc-modified-id=\"作戦メモ-1\"><span class=\"toc-item-num\">1&nbsp;&nbsp;</span>作戦メモ</a></span></li><li><span><a href=\"#前処理\" data-toc-modified-id=\"前処理-2\"><span class=\"toc-item-num\">2&nbsp;&nbsp;</span>前処理</a></span></li><li><span><a href=\"#優秀なトレーニング期間の探索\" data-toc-modified-id=\"優秀なトレーニング期間の探索-3\"><span class=\"toc-item-num\">3&nbsp;&nbsp;</span>優秀なトレーニング期間の探索</a></span></li></ul></div>"
    },
    {
      "metadata": {
        "_uuid": "56d7f23bcd35ff0b5f87809010687e27a9cac1b9"
      },
      "cell_type": "markdown",
      "source": "# 作戦メモ\nトレーニング期間を変えながら、性能が良いモデルを構築できる期間を探し出す。  \nそして、それらの期間ごとにモデルを構築し、最後にアンサンブルする。  \n\nこのノートブックは作戦探索用である。\n提出用ノートブックは別に用意すべし。"
    },
    {
      "metadata": {
        "_cell_guid": "b1076dfc-b9ad-4769-8c92-a6c4dae69d19",
        "_uuid": "8f2839f25d086af736a60e9eeb907d3b93b6e0e5",
        "trusted": true
      },
      "cell_type": "code",
      "source": "import numpy as np\nimport lightgbm as lgb\nimport pandas as pd\nfrom kaggle.competitions import twosigmanews\nimport matplotlib.pyplot as plt\nimport random\nfrom datetime import datetime, date\nfrom xgboost import XGBClassifier\nfrom sklearn import model_selection\nfrom sklearn.metrics import mean_squared_error\nimport time\nfrom joblib import Parallel, delayed\nfrom tqdm import tqdm\nfrom dateutil.parser import parse\nimport gc\n\nimport datetime\nfrom dateutil.relativedelta import relativedelta\nfrom IPython import embed",
      "execution_count": 1,
      "outputs": []
    },
    {
      "metadata": {
        "_cell_guid": "79c7e3d0-c299-4dcb-8224-4455121ee9b0",
        "_uuid": "d629ff2d2480ee46fbb7e2d37f6b5fab8052498a",
        "trusted": true
      },
      "cell_type": "code",
      "source": "#データ取得コマンド\nfrom kaggle.competitions import twosigmanews\nenv = twosigmanews.make_env()\nprint('Done!')",
      "execution_count": 2,
      "outputs": [
        {
          "output_type": "stream",
          "text": "Loading the data... This could take a minute.\nDone!\nDone!\n",
          "name": "stdout"
        }
      ]
    },
    {
      "metadata": {
        "_uuid": "4ff149df14250f7e68cbde3e3c9f44fdd6956a0f",
        "trusted": true
      },
      "cell_type": "code",
      "source": "market_train_df = env._var07\nnews_train_df = env._var10",
      "execution_count": 3,
      "outputs": []
    },
    {
      "metadata": {
        "_uuid": "c1218aa42eaa9785e0bfc223a94458e84bc497e6",
        "trusted": true
      },
      "cell_type": "code",
      "source": "config_model = {\"n_lag\":[3,7,14], # 時系列特徴量計算の周期リスト\n                \n                # 時系列特徴量計算のリスト\n                \"return_features\" : ['returnsClosePrevMktres10','returnsClosePrevRaw10','open','close'],\n                \n                \"validation_term\" : ['2017-01-01', '2018-12-31'],\n                \n                \"model_params\": [{ # パラメータ１\n                                    'task': 'train',\n                                    'boosting_type': 'gbdt',\n                                    'objective': 'binary',\n                                    'learning_rate': 0.05,\n                                    'num_leaves': 2400,\n                                    'min_data_in_leaf': 150,\n                                    'num_iteration': 1000,\n                                    'max_bin': 200,\n                                    'verbose': 1,\n                                    'metric' : 'None'  # カスタム評価関数のみ使う\n                                },\n                                { # パラメータ２\n                                    'task': 'train',\n                                    'boosting_type': 'gbdt',\n                                    'objective': 'binary',\n                                    'learning_rate': 0.048,\n                                    'num_leaves': 2300,\n                                    'min_data_in_leaf': 150,\n                                    'num_iteration': 1000,\n                                    'max_bin': 200,\n                                    'verbose': 1,\n                                    'metric' : 'None'  # カスタム評価関数のみ使う\n                                }]\n               }\n",
      "execution_count": 4,
      "outputs": []
    },
    {
      "metadata": {
        "_uuid": "fc010cb11bf68ff3120e84d53066cbf7758dd708"
      },
      "cell_type": "markdown",
      "source": "# 前処理"
    },
    {
      "metadata": {
        "_uuid": "404f9729417c7d54ea31fc693e8a9d6907be1453",
        "trusted": true
      },
      "cell_type": "code",
      "source": "market_train_df['time'] = market_train_df['time'].dt.date",
      "execution_count": 5,
      "outputs": []
    },
    {
      "metadata": {
        "_uuid": "06db696df59db8381b4518124a95ddf6c3a18941",
        "trusted": true
      },
      "cell_type": "code",
      "source": "def create_lag(df_code,n_lag, return_features):\n\n    #df_codeの資産コードを重複なしでcodeに入れる\n    code = df_code['assetCode'].unique()\n    \n    # データフレーム高速生成のための辞書\n    _dict_for_df = {\"time\": df_code[\"time\"].values,\n                    \"assetCode\": df_code[\"assetCode\"].values}\n    shift_size = 1\n    for col in return_features:\n        for window in n_lag:\n            rolled = df_code[col].shift(shift_size).rolling(window=window)\n            #移動平均の平均\n            lag_mean = rolled.mean()\n            #最大値\n            lag_max = rolled.max()\n            #最小値\n            lag_min = rolled.min()\n            #標準偏差\n            lag_std = rolled.std()\n            #colの値_lag_windowの値_meanのカラム名でdf_codeに格納される\n            _dict_for_df['%s_lag_%s_mean'%(col,window)] = lag_mean\n            _dict_for_df['%s_lag_%s_max'%(col,window)] = lag_max\n            _dict_for_df['%s_lag_%s_min'%(col,window)] = lag_min\n    df_result = pd.DataFrame.from_dict(_dict_for_df)\n    del df_code\n    return df_result.fillna(-1)\n\n\ndef generate_lag_features(df,n_lag, return_features):\n    all_df = Parallel(n_jobs=-1)(tqdm([delayed(create_lag)(_df, n_lag, return_features) for _code, _df in df.groupby('assetCode')]))\n    new_df = pd.concat(all_df)\n    del df\n    gc.collect()\n    return new_df\n\ndef data_prep(market_train):\n    lbl = {k: v for v, k in enumerate(market_train['assetCode'].unique())}\n    market_train['assetCodeT'] = market_train['assetCode'].map(lbl)\n    market_train = market_train.dropna(axis=0)\n    return market_train\n\ndef mis_impute(data):\n    #カラムを一つずつ引っ張ってくる\n    for i in data.columns:\n        #型が文字列なら空値をotherに置き換え\n        if data[i].dtype == \"object\":\n            data[i] = data[i].fillna(\"other\")\n        #型が数字なら空値は平均値に置き換え\n        elif (data[i].dtype == \"int64\" or data[i].dtype == \"float64\"):\n            data[i] = data[i].fillna(data[i].mean())\n        else:\n            pass\n    return data\n\ndef get_feature_cols(df):\n    \"\"\"\n    特徴量とするカラムを取得する。\n    \"\"\"\n    fcol = [c for c in df.columns if c not in ['assetCode', 'assetCodes', 'assetCodesLen', 'assetName', 'audiences', \n                                             'firstCreated', 'headline', 'headlineTag', 'marketCommentary', 'time_x','provider', \n                                             'returnsOpenNextMktres10', 'sourceId', 'subjects', 'time', 'universe','sourceTimestamp']]\n    return fcol",
      "execution_count": 6,
      "outputs": []
    },
    {
      "metadata": {
        "_uuid": "34630df14f3e514becabd95623fa2456c48f7759",
        "trusted": true
      },
      "cell_type": "code",
      "source": "new_df = generate_lag_features(market_train_df,\n                               n_lag=config_model['n_lag'], \n                               return_features=config_model['return_features'])\nmarket_train_df = pd.merge(market_train_df,new_df,how='left',on=['time','assetCode'], copy=False)\nmarket_train_df = mis_impute(market_train_df)\nmarket_train_df = data_prep(market_train_df)\n\n#up = market_train_df['returnsOpenNextMktres10'] >= 0\n\n#universe(これが１以外は訓練データとして使えない)の値をuniverse変数に放り込む\n#でもなんで値？\n#universe = market_train_df['universe'].values\n",
      "execution_count": 7,
      "outputs": [
        {
          "output_type": "stream",
          "text": "100%|██████████| 4125/4125 [00:58<00:00, 70.44it/s]\n",
          "name": "stderr"
        }
      ]
    },
    {
      "metadata": {
        "_uuid": "1e137f7cfbc4794aea86b4e12072e9eb63e6bd53",
        "trusted": true
      },
      "cell_type": "code",
      "source": "# メモリ節約\nfor _ in market_train_df.columns:\n    if market_train_df[_].dtype == np.float64:\n        market_train_df[_] = market_train_df[_].astype(np.float32)\ngc.collect()",
      "execution_count": 8,
      "outputs": [
        {
          "output_type": "execute_result",
          "execution_count": 8,
          "data": {
            "text/plain": "14"
          },
          "metadata": {}
        }
      ]
    },
    {
      "metadata": {
        "_uuid": "87bdf700ac0c383d9a9065c1f4c4ec439a8f86c2"
      },
      "cell_type": "markdown",
      "source": "# 優秀なトレーニング期間の探索\n学習期間をスライドさせながら、バリデーション期間における性能を測定し、記録する。  \nそして、優秀な性能を誇る期間をリストアップする。"
    },
    {
      "metadata": {
        "_uuid": "302a5d2900f6c1b5a64d957a736247f068b6c426",
        "trusted": true
      },
      "cell_type": "code",
      "source": "# 各学習期間の性能測定結果を記録する。\n# 各要素は、以下を記録する。\n# \"term\":学習期間, \"sigma_score\":スコア, \"post_process_param\": ポストプロセスパラメータ(シグモイド係数)\nperformance_records = []\n\n# 特徴量カラム\nfeature_cols = get_feature_cols(market_train_df)\n\n# インデックス情報\nidx_validate = market_train_df[(market_train_df['time'] >= parse(config_model['validation_term'][0]).date())\n                               & (market_train_df['time'] <= parse(config_model['validation_term'][1]).date())].index",
      "execution_count": 9,
      "outputs": []
    },
    {
      "metadata": {
        "_uuid": "5cf7df4013bae904d9eae00d96da6e345ae254bb",
        "trusted": true
      },
      "cell_type": "code",
      "source": "# バリデーションデータの用意\nX_valid = market_train_df.loc[idx_validate][feature_cols].values\nup_valid = market_train_df.loc[idx_validate]['returnsOpenNextMktres10'] > 0\nvalidation_data = lgb.Dataset(X_valid, label=up_valid.astype(int),free_raw_data=False,\n                             params={\"return\":market_train_df.loc[idx_validate]['returnsOpenNextMktres10'].values, \n                                     \"time\":market_train_df.loc[idx_validate]['time'].values,\n                                     \"universe\": market_train_df.loc[idx_validate]['universe'].values})\ngc.collect()",
      "execution_count": 10,
      "outputs": [
        {
          "output_type": "execute_result",
          "execution_count": 10,
          "data": {
            "text/plain": "0"
          },
          "metadata": {}
        }
      ]
    },
    {
      "metadata": {
        "_uuid": "6acf4e49b6675f81f83718455c7104c747f880ed",
        "trusted": true
      },
      "cell_type": "code",
      "source": "pos_training_start = parse('2012-01-01')\ntraining_term_range = relativedelta(months=12)  # 学習期間は1年間\ntraining_term_step = relativedelta(weeks=2)\ngc.collect()",
      "execution_count": 11,
      "outputs": [
        {
          "output_type": "execute_result",
          "execution_count": 11,
          "data": {
            "text/plain": "0"
          },
          "metadata": {}
        }
      ]
    },
    {
      "metadata": {
        "_uuid": "5d7d29a5b137c8ee4f93b9dcd9c05c6de24d70c5",
        "trusted": true
      },
      "cell_type": "code",
      "source": "def get_training_data(market_train_df, idx_training, feature_cols):\n    \"\"\"\n    トレーニングデータを取得する\n    \"\"\"\n    return ( market_train_df.loc[idx_training][feature_cols].values,   # X_train\n             market_train_df.loc[idx_training]['returnsOpenNextMktres10'] > 0, # up_train\n           )\n\ndef eval_sigma_score(preds, valid_set):\n    \"\"\"\n    予測とバリデーションセットを受け取り、sigma_scoreを計算する。\n    \"\"\"\n    _df_valid = pd.DataFrame.from_dict({\"time\":valid_set.params['time'],\n                                       \"x_t_i\": (2 * preds - 1) * valid_set.params['universe'] * valid_set.params['return']})\n    x_t = _df_valid.groupby(\"time\").agg({\"x_t_i\":\"sum\"}).values.flatten()\n    #embed()\n    _mean = x_t.mean()\n    _std = x_t.std()\n    return ('sigma_score', np.float32(_mean/_std), True)\n\ndef build_models(model_params, train_data, validation_data):\n    \"\"\"\n    トレーニングデータとバリデーションデータを受け取り、モデルを構築する。\n    \"\"\"\n    models = []\n    #global config_model\n    for _param in model_params:\n        _evals_result = {}\n        _model = lgb.train(_param, train_data,\n                          num_boost_round=200,\n                          valid_sets=validation_data,\n                          early_stopping_rounds=10,\n                          feval=eval_sigma_score,\n                          evals_result=_evals_result)\n        # 最適ブースティング情報を得る\n        _best_boosting_round = _model.best_iteration\n        _best_sigma_score = np.max(_evals_result['valid_0']['sigma_score'])\n        models.append([_model, _best_boosting_round, _best_sigma_score, _evals_result])\n    return models",
      "execution_count": 12,
      "outputs": []
    },
    {
      "metadata": {
        "_uuid": "fb17f0ea95f050dc5681452023b00eed540c4b85",
        "trusted": true
      },
      "cell_type": "code",
      "source": "while pos_training_start + training_term_range < parse(config_model['validation_term'][0]):\n    # 探索処理\n    _training_term = [pos_training_start.date(), (pos_training_start + training_term_range).date()]\n    print(\"[Training Term] {} - {}\".format(_training_term[0], _training_term[1]))\n    \n    _idx_training = market_train_df[(market_train_df['time'] >= _training_term[0])\n                                    & (market_train_df['time'] <= _training_term[1])].index\n    _X_train, _up_train = get_training_data(market_train_df, _idx_training, feature_cols)\n    _train_data = lgb.Dataset(_X_train, label=_up_train.astype(int), free_raw_data=False)\n    performance_records.append({\"training_term\":_training_term,\n                                \"results\": build_models(model_params=config_model['model_params'], train_data=_train_data, validation_data=validation_data)})\n    \n    # サマリを表示\n    _latest = performance_records[-1]\n    print(\"=\" * 80)\n    print(\"[Training term] {} - {}\".format(_latest['training_term'][0], _latest['training_term'][1]))\n    for _r in _latest['results']:\n        print(\"Best Sigma Score: {} / boost_rounds = {}\".format(_r[2], _r[1]))\n    print(\"=\" * 80)\n    \n    pos_training_start = pos_training_start + training_term_step\n    ",
      "execution_count": null,
      "outputs": []
    },
    {
      "metadata": {
        "_uuid": "6c66369ca2a32b9a86a6aaf98adbaf288bb91b49",
        "collapsed": true,
        "trusted": false
      },
      "cell_type": "code",
      "source": "#1個目のデータと2個目のデータの平均出してる\nconfidence_test = (gbm_1.predict(X_test) + gbm_2.predict(X_test))/2\nconfidence_test",
      "execution_count": null,
      "outputs": []
    },
    {
      "metadata": {
        "_uuid": "55589ca05e8c982439efe1ad9cf19fbf6ceefd4d",
        "collapsed": true,
        "trusted": false
      },
      "cell_type": "code",
      "source": "#予測値の%　割合の算出\nconfidence_test = (confidence_test-confidence_test.min())/(confidence_test.max()-confidence_test.min())\nconfidence_test",
      "execution_count": null,
      "outputs": []
    },
    {
      "metadata": {
        "_uuid": "e5e6db1e2e7963aef26c4ffdc1832f4f0f6f9c0b",
        "collapsed": true,
        "trusted": false
      },
      "cell_type": "code",
      "source": "#%に二乗して-1????\nconfidence_test = confidence_test*2-1\nprint(max(confidence_test),min(confidence_test))\nconfidence_test",
      "execution_count": null,
      "outputs": []
    },
    {
      "metadata": {
        "_uuid": "3dbef3e10363bc9df63292b146cba44311ba3b17",
        "collapsed": true,
        "trusted": false
      },
      "cell_type": "code",
      "source": "# 最終スコアの計算に使用される実際のメトリックの計算\nr_test = r_test.clip(-1,1) # -1～１以外の値を取り除く　彼らはどこから来たのかという\n#学習の推測地と予測前の目的変数とユニバース値をかけてる？\nx_t_i = confidence_test * r_test * u_test\n#日付とスコア値だけのデータフレーム作り\ndata = {'day' : d_test, 'x_t_i' : x_t_i}\ndf = pd.DataFrame(data)\n#日付でグループバイ（集約）　で多次元配列を１次元に直してる\nx_t = df.groupby('day').sum().values.flatten()\n#スコアの平均値\nmean = np.mean(x_t)\n#スコアの標準偏差\nstd = np.std(x_t)\n#変動係数の逆数\nscore_test = mean / std\nprint(score_test)",
      "execution_count": null,
      "outputs": []
    },
    {
      "metadata": {
        "_uuid": "65da0a50ea0df84261ff437dbf934a31242b2ccd",
        "collapsed": true,
        "trusted": false
      },
      "cell_type": "code",
      "source": "import gc\ndel X_train,X_test\ngc.collect()",
      "execution_count": null,
      "outputs": []
    },
    {
      "metadata": {
        "_uuid": "3351f7ef017a67f4ea8563be79230f5bd659d965",
        "collapsed": true,
        "trusted": false
      },
      "cell_type": "code",
      "source": "#prediction\ndays = env.get_prediction_days()\nn_days = 0\nprep_time = 0\nprediction_time = 0\npackaging_time = 0\ntotal_market_obs_df = []\nfor (market_obs_df, news_obs_df, predictions_template_df) in days:\n    n_days +=1\n    if (n_days%50==0):\n        print(n_days,end=' ')\n    t = time.time()\n    market_obs_df['time'] = market_obs_df['time'].dt.date\n    \n    return_features = ['returnsClosePrevMktres10','returnsClosePrevRaw10','open','close']\n    total_market_obs_df.append(market_obs_df)\n    if len(total_market_obs_df)==1:\n        history_df = total_market_obs_df[0]\n    else:\n        history_df = pd.concat(total_market_obs_df[-(np.max(n_lag)+1):])\n    print(history_df)\n    \n    new_df = generate_lag_features(history_df,n_lag=[3,7,14])\n    market_obs_df = pd.merge(market_obs_df,new_df,how='left',on=['time','assetCode'])\n    \n#     return_features = ['open']\n#     new_df = generate_lag_features(market_obs_df,n_lag=[3,7,14])\n#     market_obs_df = pd.merge(market_obs_df,new_df,how='left',on=['time','assetCode'])\n    \n    market_obs_df = mis_impute(market_obs_df)\n    \n    market_obs_df = data_prep(market_obs_df)\n    \n#     market_obs_df = market_obs_df[market_obs_df.assetCode.isin(predictions_template_df.assetCode)]\n    \n    X_live = market_obs_df[fcol].values\n    X_live = 1 - ((maxs - X_live) / rng)\n    prep_time += time.time() - t\n    \n    t = time.time()\n    lp = (gbm_1.predict(X_live) + gbm_2.predict(X_live))/2\n    prediction_time += time.time() -t\n    \n    t = time.time()\n    \n    confidence = lp\n    confidence = (confidence-confidence.min())/(confidence.max()-confidence.min())\n    confidence = confidence * 2 - 1\n    \n    preds = pd.DataFrame({'assetCode':market_obs_df['assetCode'],'confidence':confidence})\n    predictions_template_df = predictions_template_df.merge(preds,how='left').drop('confidenceValue',axis=1).fillna(0).rename(columns={'confidence':'confidenceValue'})\n    env.predict(predictions_template_df)\n    packaging_time += time.time() - t\n    \nenv.write_submission_file()\nsub  = pd.read_csv(\"submission.csv\")",
      "execution_count": null,
      "outputs": []
    },
    {
      "metadata": {
        "_uuid": "f189e556fd74e791c965476b07354fadc0ec1d7c",
        "collapsed": true,
        "trusted": false
      },
      "cell_type": "code",
      "source": "",
      "execution_count": null,
      "outputs": []
    }
  ],
  "metadata": {
    "kernelspec": {
      "display_name": "Python 3",
      "language": "python",
      "name": "python3"
    },
    "language_info": {
      "codemirror_mode": {
        "name": "ipython",
        "version": 3
      },
      "file_extension": ".py",
      "mimetype": "text/x-python",
      "name": "python",
      "nbconvert_exporter": "python",
      "pygments_lexer": "ipython3",
      "version": "3.5.5"
    },
    "toc": {
      "base_numbering": 1,
      "nav_menu": {},
      "number_sections": true,
      "sideBar": true,
      "skip_h1_title": false,
      "title_cell": "Table of Contents",
      "title_sidebar": "Contents",
      "toc_cell": true,
      "toc_position": {},
      "toc_section_display": true,
      "toc_window_display": true
    },
    "varInspector": {
      "cols": {
        "lenName": 16,
        "lenType": 16,
        "lenVar": 40
      },
      "kernels_config": {
        "python": {
          "delete_cmd_postfix": "",
          "delete_cmd_prefix": "del ",
          "library": "var_list.py",
          "varRefreshCmd": "print(var_dic_list())"
        },
        "r": {
          "delete_cmd_postfix": ") ",
          "delete_cmd_prefix": "rm(",
          "library": "var_list.r",
          "varRefreshCmd": "cat(var_dic_list()) "
        }
      },
      "types_to_exclude": [
        "module",
        "function",
        "builtin_function_or_method",
        "instance",
        "_Feature"
      ],
      "window_display": false
    }
  },
  "nbformat": 4,
  "nbformat_minor": 1
}