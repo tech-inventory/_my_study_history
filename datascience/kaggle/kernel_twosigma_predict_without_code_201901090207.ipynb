{
  "cells": [
    {
      "metadata": {
        "toc": true,
        "_uuid": "5bc9b221d1b100ce002f5bfd841c7644af7b8947"
      },
      "cell_type": "markdown",
      "source": "<h1>Table of Contents<span class=\"tocSkip\"></span></h1>\n<div class=\"toc\"><ul class=\"toc-item\"><li><span><a href=\"#作戦メモ\" data-toc-modified-id=\"作戦メモ-1\"><span class=\"toc-item-num\">1&nbsp;&nbsp;</span>作戦メモ</a></span></li><li><span><a href=\"#前処理\" data-toc-modified-id=\"前処理-2\"><span class=\"toc-item-num\">2&nbsp;&nbsp;</span>前処理</a></span></li><li><span><a href=\"#優秀なトレーニング期間の探索\" data-toc-modified-id=\"優秀なトレーニング期間の探索-3\"><span class=\"toc-item-num\">3&nbsp;&nbsp;</span>優秀なトレーニング期間の探索</a></span></li></ul></div>"
    },
    {
      "metadata": {
        "_uuid": "56d7f23bcd35ff0b5f87809010687e27a9cac1b9"
      },
      "cell_type": "markdown",
      "source": "# 概要\nアンサンブルモデルで予測する。  \n銘柄コードを使わない。"
    },
    {
      "metadata": {
        "_cell_guid": "b1076dfc-b9ad-4769-8c92-a6c4dae69d19",
        "_uuid": "8f2839f25d086af736a60e9eeb907d3b93b6e0e5",
        "trusted": true
      },
      "cell_type": "code",
      "source": "import numpy as np\nimport lightgbm as lgb\nimport pandas as pd\nfrom kaggle.competitions import twosigmanews\nimport matplotlib.pyplot as plt\nimport random\nfrom datetime import datetime, date\nfrom xgboost import XGBClassifier\nfrom sklearn import model_selection\nfrom sklearn.metrics import mean_squared_error\nimport time\nfrom joblib import Parallel, delayed\nfrom tqdm import tqdm\nfrom dateutil.parser import parse\nimport gc\n\nimport datetime\nfrom dateutil.relativedelta import relativedelta\nfrom IPython import embed",
      "execution_count": 1,
      "outputs": []
    },
    {
      "metadata": {
        "_cell_guid": "79c7e3d0-c299-4dcb-8224-4455121ee9b0",
        "_uuid": "d629ff2d2480ee46fbb7e2d37f6b5fab8052498a",
        "trusted": true
      },
      "cell_type": "code",
      "source": "#データ取得コマンド\nfrom kaggle.competitions import twosigmanews\nenv = twosigmanews.make_env()\nprint('Done!')",
      "execution_count": 2,
      "outputs": [
        {
          "output_type": "stream",
          "text": "Loading the data... This could take a minute.\nDone!\nDone!\n",
          "name": "stdout"
        }
      ]
    },
    {
      "metadata": {
        "_uuid": "4ff149df14250f7e68cbde3e3c9f44fdd6956a0f",
        "trusted": true
      },
      "cell_type": "code",
      "source": "market_train_df = env._var07\nnews_train_df = env._var10",
      "execution_count": 3,
      "outputs": []
    },
    {
      "metadata": {
        "_uuid": "c1218aa42eaa9785e0bfc223a94458e84bc497e6",
        "trusted": true
      },
      "cell_type": "code",
      "source": "config_model = {\"n_lag\":[3,7,14], # 時系列特徴量計算の周期リスト\n                \n                # 時系列特徴量計算のリスト\n                \"return_features\" : ['returnsClosePrevMktres10','returnsClosePrevRaw10','open','close'],\n                \n                \"validation_term\" : ['2017-01-01', '2018-12-31'],\n                \n                \"model_params\": [{ # パラメータ１\n                                    'task': 'train',\n                                    'boosting_type': 'gbdt',\n                                    'objective': 'binary',\n                                    'learning_rate': 0.05,\n                                    'num_leaves': 2400,\n                                    'min_data_in_leaf': 150,\n                                    'num_iteration': 1000,\n                                    'max_bin': 200,\n                                    'verbose': 1,\n                                    'metric' : 'None'  # カスタム評価関数のみ使う\n                                },\n                                { # パラメータ２\n                                    'task': 'train',\n                                    'boosting_type': 'gbdt',\n                                    'objective': 'binary',\n                                    'learning_rate': 0.048,\n                                    'num_leaves': 2300,\n                                    'min_data_in_leaf': 150,\n                                    'num_iteration': 1000,\n                                    'max_bin': 200,\n                                    'verbose': 1,\n                                    'metric' : 'None'  # カスタム評価関数のみ使う\n                                }]\n               }\n",
      "execution_count": 4,
      "outputs": []
    },
    {
      "metadata": {
        "_uuid": "fc010cb11bf68ff3120e84d53066cbf7758dd708"
      },
      "cell_type": "markdown",
      "source": "# 前処理"
    },
    {
      "metadata": {
        "_uuid": "404f9729417c7d54ea31fc693e8a9d6907be1453",
        "trusted": true
      },
      "cell_type": "code",
      "source": "market_train_df['time'] = market_train_df['time'].dt.date",
      "execution_count": 5,
      "outputs": []
    },
    {
      "metadata": {
        "_uuid": "06db696df59db8381b4518124a95ddf6c3a18941",
        "trusted": true
      },
      "cell_type": "code",
      "source": "def create_lag(df_code,n_lag, return_features):\n\n    #df_codeの資産コードを重複なしでcodeに入れる\n    code = df_code['assetCode'].unique()\n    \n    # データフレーム高速生成のための辞書\n    _dict_for_df = {\"time\": df_code[\"time\"].values,\n                    \"assetCode\": df_code[\"assetCode\"].values}\n    shift_size = 1\n    for col in return_features:\n        for window in n_lag:\n            rolled = df_code[col].shift(shift_size).rolling(window=window)\n            #移動平均の平均\n            lag_mean = rolled.mean()\n            #最大値\n            lag_max = rolled.max()\n            #最小値\n            lag_min = rolled.min()\n            #標準偏差\n            lag_std = rolled.std()\n            #colの値_lag_windowの値_meanのカラム名でdf_codeに格納される\n            _dict_for_df['%s_lag_%s_mean'%(col,window)] = lag_mean\n            _dict_for_df['%s_lag_%s_max'%(col,window)] = lag_max\n            _dict_for_df['%s_lag_%s_min'%(col,window)] = lag_min\n    df_result = pd.DataFrame.from_dict(_dict_for_df)\n    del df_code\n    return df_result.fillna(-1)\n\n\ndef generate_lag_features(df,n_lag, return_features):\n    all_df = Parallel(n_jobs=-1)(tqdm([delayed(create_lag)(_df, n_lag, return_features) for _code, _df in df.groupby('assetCode')]))\n    new_df = pd.concat(all_df)\n    del df\n    gc.collect()\n    return new_df\n\ndef data_prep(market_train):\n    lbl = {k: v for v, k in enumerate(market_train['assetCode'].unique())}\n    market_train['assetCodeT'] = market_train['assetCode'].map(lbl)\n    market_train = market_train.dropna(axis=0)\n    return market_train\n\ndef mis_impute(data):\n    #カラムを一つずつ引っ張ってくる\n    for i in data.columns:\n        #型が文字列なら空値をotherに置き換え\n        if data[i].dtype == \"object\":\n            data[i] = data[i].fillna(\"other\")\n        #型が数字なら空値は平均値に置き換え\n        elif (data[i].dtype == \"int64\" or data[i].dtype == \"float64\"):\n            data[i] = data[i].fillna(data[i].mean())\n        else:\n            pass\n    return data\n\ndef get_feature_cols(df):\n    \"\"\"\n    特徴量とするカラムを取得する。\n    \"\"\"\n    fcol = [c for c in df.columns if c not in ['assetCode', 'assetCodes', 'assetCodesLen', 'assetName', 'audiences', \n                                             'firstCreated', 'headline', 'headlineTag', 'marketCommentary', 'time_x','provider', \n                                             'returnsOpenNextMktres10', 'sourceId', 'subjects', 'time', 'universe','sourceTimestamp']]\n    return fcol",
      "execution_count": 6,
      "outputs": []
    },
    {
      "metadata": {
        "_uuid": "34630df14f3e514becabd95623fa2456c48f7759",
        "trusted": true
      },
      "cell_type": "code",
      "source": "new_df = generate_lag_features(market_train_df,\n                               n_lag=config_model['n_lag'], \n                               return_features=config_model['return_features'])\nmarket_train_df = pd.merge(market_train_df,new_df,how='left',on=['time','assetCode'], copy=False)\nmarket_train_df = mis_impute(market_train_df)\n\n# 銘柄コードなしで行ってみよう\n# market_train_df = data_prep(market_train_df)\n\n#up = market_train_df['returnsOpenNextMktres10'] >= 0\n\n#universe(これが１以外は訓練データとして使えない)の値をuniverse変数に放り込む\n#でもなんで値？\n#universe = market_train_df['universe'].values\n",
      "execution_count": 7,
      "outputs": [
        {
          "output_type": "stream",
          "text": "100%|██████████| 4125/4125 [00:58<00:00, 79.08it/s]\n",
          "name": "stderr"
        }
      ]
    },
    {
      "metadata": {
        "_uuid": "1e137f7cfbc4794aea86b4e12072e9eb63e6bd53",
        "trusted": true
      },
      "cell_type": "code",
      "source": "# メモリ節約\nfor _ in market_train_df.columns:\n    if market_train_df[_].dtype == np.float64:\n        market_train_df[_] = market_train_df[_].astype(np.float32)\ngc.collect()",
      "execution_count": 8,
      "outputs": [
        {
          "output_type": "execute_result",
          "execution_count": 8,
          "data": {
            "text/plain": "14"
          },
          "metadata": {}
        }
      ]
    },
    {
      "metadata": {
        "_uuid": "302a5d2900f6c1b5a64d957a736247f068b6c426",
        "trusted": true
      },
      "cell_type": "code",
      "source": "# 特徴量カラム\nfeature_cols = get_feature_cols(market_train_df)\n\n# インデックス情報\nidx_validate = market_train_df[(market_train_df['time'] >= parse(config_model['validation_term'][0]).date())\n                               & (market_train_df['time'] <= parse(config_model['validation_term'][1]).date())].index",
      "execution_count": 9,
      "outputs": []
    },
    {
      "metadata": {
        "_uuid": "5cf7df4013bae904d9eae00d96da6e345ae254bb",
        "trusted": true
      },
      "cell_type": "code",
      "source": "# バリデーションデータの用意\nX_valid = market_train_df.loc[idx_validate][feature_cols].values\nup_valid = market_train_df.loc[idx_validate]['returnsOpenNextMktres10'] > 0\nvalidation_data = lgb.Dataset(X_valid, label=up_valid.astype(int),free_raw_data=False,\n                             params={\"return\":market_train_df.loc[idx_validate]['returnsOpenNextMktres10'].values, \n                                     \"time\":market_train_df.loc[idx_validate]['time'].values,\n                                     \"universe\": market_train_df.loc[idx_validate]['universe'].values})\ngc.collect()",
      "execution_count": 10,
      "outputs": [
        {
          "output_type": "execute_result",
          "execution_count": 10,
          "data": {
            "text/plain": "0"
          },
          "metadata": {}
        }
      ]
    },
    {
      "metadata": {
        "_uuid": "5d7d29a5b137c8ee4f93b9dcd9c05c6de24d70c5",
        "trusted": true
      },
      "cell_type": "code",
      "source": "def get_training_data(market_train_df, idx_training, feature_cols):\n    \"\"\"\n    トレーニングデータを取得する\n    \"\"\"\n    return ( market_train_df.loc[idx_training][feature_cols].values,   # X_train\n             market_train_df.loc[idx_training]['returnsOpenNextMktres10'] > 0, # up_train\n           )\n\ndef eval_sigma_score(preds, valid_set):\n    \"\"\"\n    予測とバリデーションセットを受け取り、sigma_scoreを計算する。\n    \"\"\"\n    _df_valid = pd.DataFrame.from_dict({\"time\":valid_set.params['time'],\n                                       \"x_t_i\": (2 * preds - 1) * valid_set.params['universe'] * valid_set.params['return']})\n    x_t = _df_valid.groupby(\"time\").agg({\"x_t_i\":\"sum\"}).values.flatten()\n    #embed()\n    _mean = x_t.mean()\n    _std = x_t.std()\n    return ('sigma_score', np.float32(_mean/_std), True)\n\ndef build_models(model_params, train_data, validation_data):\n    \"\"\"\n    トレーニングデータとバリデーションデータを受け取り、モデルを構築する。\n    \"\"\"\n    models = []\n    #global config_model\n    for _param in model_params:\n        _evals_result = {}\n        _model = lgb.train(_param, train_data,\n                          num_boost_round=200,\n                          valid_sets=validation_data,\n                          early_stopping_rounds=10,\n                          feval=eval_sigma_score,\n                          evals_result=_evals_result)\n        # 最適ブースティング情報を得る\n        _best_boosting_round = _model.best_iteration\n        _best_sigma_score = np.max(_evals_result['valid_0']['sigma_score'])\n        models.append([_model, _best_boosting_round, _best_sigma_score, _evals_result])\n    return models",
      "execution_count": 11,
      "outputs": []
    },
    {
      "metadata": {
        "trusted": true,
        "_uuid": "d1007c84c274ec0a7180208ca4734232bb48efe2"
      },
      "cell_type": "code",
      "source": "ensemble_model_config = [{'training_term': [datetime.date(2015, 9, 20), datetime.date(2016, 9, 20)],\n  'boost_rounds': [54, 20],\n  'best_score': [0.6928928, 0.6779268]},\n {'training_term': [datetime.date(2012, 4, 22), datetime.date(2013, 4, 22)],\n  'boost_rounds': [17, 11],\n  'best_score': [0.68496335, 0.678296]},\n {'training_term': [datetime.date(2012, 1, 29), datetime.date(2013, 1, 29)],\n  'boost_rounds': [6, 5],\n  'best_score': [0.68295014, 0.6830031]},\n {'training_term': [datetime.date(2015, 10, 4), datetime.date(2016, 10, 4)],\n  'boost_rounds': [25, 15],\n  'best_score': [0.6777176, 0.6654344]},\n {'training_term': [datetime.date(2012, 1, 15), datetime.date(2013, 1, 15)],\n  'boost_rounds': [13, 19],\n  'best_score': [0.6750046, 0.671297]},\n {'training_term': [datetime.date(2012, 5, 6), datetime.date(2013, 5, 6)],\n  'boost_rounds': [14, 13],\n  'best_score': [0.67426574, 0.6646366]},\n {'training_term': [datetime.date(2012, 4, 8), datetime.date(2013, 4, 8)],\n  'boost_rounds': [7, 11],\n  'best_score': [0.6725701, 0.6871941]},\n {'training_term': [datetime.date(2012, 1, 1), datetime.date(2013, 1, 1)],\n  'boost_rounds': [15, 28],\n  'best_score': [0.66854, 0.6764855]},\n {'training_term': [datetime.date(2015, 9, 6), datetime.date(2016, 9, 6)],\n  'boost_rounds': [4, 5],\n  'best_score': [0.6671772, 0.671724]},\n {'training_term': [datetime.date(2012, 6, 17), datetime.date(2013, 6, 17)],\n  'boost_rounds': [11, 18],\n  'best_score': [0.66430104, 0.66094226]},\n {'training_term': [datetime.date(2012, 6, 3), datetime.date(2013, 6, 3)],\n  'boost_rounds': [19, 13],\n  'best_score': [0.6633725, 0.66193634]},\n {'training_term': [datetime.date(2012, 7, 1), datetime.date(2013, 7, 1)],\n  'boost_rounds': [18, 21],\n  'best_score': [0.65886754, 0.668467]},\n {'training_term': [datetime.date(2015, 8, 9), datetime.date(2016, 8, 9)],\n  'boost_rounds': [11, 9],\n  'best_score': [0.65750855, 0.65420794]},\n {'training_term': [datetime.date(2012, 5, 20), datetime.date(2013, 5, 20)],\n  'boost_rounds': [14, 14],\n  'best_score': [0.653869, 0.65629095]},\n {'training_term': [datetime.date(2012, 7, 29), datetime.date(2013, 7, 29)],\n  'boost_rounds': [15, 12],\n  'best_score': [0.6535106, 0.64185745]},\n {'training_term': [datetime.date(2012, 2, 26), datetime.date(2013, 2, 26)],\n  'boost_rounds': [5, 5],\n  'best_score': [0.65312153, 0.65791017]},\n {'training_term': [datetime.date(2015, 10, 18), datetime.date(2016, 10, 18)],\n  'boost_rounds': [13, 23],\n  'best_score': [0.6525164, 0.64032394]},\n {'training_term': [datetime.date(2012, 3, 25), datetime.date(2013, 3, 25)],\n  'boost_rounds': [19, 18],\n  'best_score': [0.6516725, 0.6533877]},\n {'training_term': [datetime.date(2012, 12, 16), datetime.date(2013, 12, 16)],\n  'boost_rounds': [7, 7],\n  'best_score': [0.6513744, 0.6555382]},\n {'training_term': [datetime.date(2012, 7, 15), datetime.date(2013, 7, 15)],\n  'boost_rounds': [19, 17],\n  'best_score': [0.6470148, 0.6473995]},\n {'training_term': [datetime.date(2015, 11, 1), datetime.date(2016, 11, 1)],\n  'boost_rounds': [12, 11],\n  'best_score': [0.64515686, 0.6359645]},\n {'training_term': [datetime.date(2015, 7, 26), datetime.date(2016, 7, 26)],\n  'boost_rounds': [18, 21],\n  'best_score': [0.6446428, 0.63842595]},\n {'training_term': [datetime.date(2012, 2, 12), datetime.date(2013, 2, 12)],\n  'boost_rounds': [8, 6],\n  'best_score': [0.64383376, 0.6332524]},\n {'training_term': [datetime.date(2012, 3, 11), datetime.date(2013, 3, 11)],\n  'boost_rounds': [6, 9],\n  'best_score': [0.64314014, 0.6392905]},\n {'training_term': [datetime.date(2015, 6, 28), datetime.date(2016, 6, 28)],\n  'boost_rounds': [43, 36],\n  'best_score': [0.6405408, 0.6400905]},\n {'training_term': [datetime.date(2012, 12, 30), datetime.date(2013, 12, 30)],\n  'boost_rounds': [4, 6],\n  'best_score': [0.6347531, 0.63354534]},\n {'training_term': [datetime.date(2015, 12, 27), datetime.date(2016, 12, 27)],\n  'boost_rounds': [34, 31],\n  'best_score': [0.63352257, 0.6484244]},\n {'training_term': [datetime.date(2015, 12, 13), datetime.date(2016, 12, 13)],\n  'boost_rounds': [18, 8],\n  'best_score': [0.6331231, 0.62229174]},\n {'training_term': [datetime.date(2012, 12, 2), datetime.date(2013, 12, 2)],\n  'boost_rounds': [10, 8],\n  'best_score': [0.6313182, 0.6301248]},\n {'training_term': [datetime.date(2015, 8, 23), datetime.date(2016, 8, 23)],\n  'boost_rounds': [30, 28],\n  'best_score': [0.63035077, 0.64056605]},\n {'training_term': [datetime.date(2012, 8, 12), datetime.date(2013, 8, 12)],\n  'boost_rounds': [10, 10],\n  'best_score': [0.6293325, 0.62498826]},\n {'training_term': [datetime.date(2015, 5, 31), datetime.date(2016, 5, 31)],\n  'boost_rounds': [44, 51],\n  'best_score': [0.6269503, 0.63117033]},\n {'training_term': [datetime.date(2015, 11, 29), datetime.date(2016, 11, 29)],\n  'boost_rounds': [20, 16],\n  'best_score': [0.62625057, 0.62975204]},\n {'training_term': [datetime.date(2013, 1, 13), datetime.date(2014, 1, 13)],\n  'boost_rounds': [5, 4],\n  'best_score': [0.6258578, 0.6291289]},\n {'training_term': [datetime.date(2015, 7, 12), datetime.date(2016, 7, 12)],\n  'boost_rounds': [17, 47],\n  'best_score': [0.623877, 0.6330257]},\n {'training_term': [datetime.date(2012, 11, 18), datetime.date(2013, 11, 18)],\n  'boost_rounds': [10, 11],\n  'best_score': [0.6178253, 0.6123482]},\n {'training_term': [datetime.date(2015, 5, 17), datetime.date(2016, 5, 17)],\n  'boost_rounds': [55, 45],\n  'best_score': [0.61293584, 0.6016896]},\n {'training_term': [datetime.date(2013, 6, 16), datetime.date(2014, 6, 16)],\n  'boost_rounds': [4, 4],\n  'best_score': [0.6128596, 0.6130355]},\n {'training_term': [datetime.date(2012, 8, 26), datetime.date(2013, 8, 26)],\n  'boost_rounds': [12, 13],\n  'best_score': [0.6124136, 0.6185323]},\n {'training_term': [datetime.date(2013, 3, 24), datetime.date(2014, 3, 24)],\n  'boost_rounds': [8, 10],\n  'best_score': [0.6121072, 0.59619963]},\n {'training_term': [datetime.date(2015, 6, 14), datetime.date(2016, 6, 14)],\n  'boost_rounds': [47, 48],\n  'best_score': [0.6118877, 0.6200411]},\n {'training_term': [datetime.date(2013, 3, 10), datetime.date(2014, 3, 10)],\n  'boost_rounds': [8, 6],\n  'best_score': [0.61071867, 0.60738546]},\n {'training_term': [datetime.date(2013, 2, 24), datetime.date(2014, 2, 24)],\n  'boost_rounds': [6, 5],\n  'best_score': [0.610208, 0.61765623]},\n {'training_term': [datetime.date(2013, 1, 27), datetime.date(2014, 1, 27)],\n  'boost_rounds': [4, 11],\n  'best_score': [0.6099217, 0.6014231]},\n {'training_term': [datetime.date(2015, 3, 22), datetime.date(2016, 3, 22)],\n  'boost_rounds': [62, 41],\n  'best_score': [0.6098511, 0.6036138]},\n {'training_term': [datetime.date(2013, 4, 7), datetime.date(2014, 4, 7)],\n  'boost_rounds': [7, 6],\n  'best_score': [0.60949963, 0.60461646]},\n {'training_term': [datetime.date(2015, 11, 15), datetime.date(2016, 11, 15)],\n  'boost_rounds': [27, 30],\n  'best_score': [0.60828304, 0.6097183]},\n {'training_term': [datetime.date(2013, 9, 22), datetime.date(2014, 9, 22)],\n  'boost_rounds': [56, 60],\n  'best_score': [0.6037325, 0.595017]},\n {'training_term': [datetime.date(2012, 11, 4), datetime.date(2013, 11, 4)],\n  'boost_rounds': [10, 13],\n  'best_score': [0.60157907, 0.59852654]},\n {'training_term': [datetime.date(2013, 5, 5), datetime.date(2014, 5, 5)],\n  'boost_rounds': [3, 3],\n  'best_score': [0.6014604, 0.60113347]},\n {'training_term': [datetime.date(2013, 2, 10), datetime.date(2014, 2, 10)],\n  'boost_rounds': [3, 3],\n  'best_score': [0.5993807, 0.5979791]},\n {'training_term': [datetime.date(2015, 4, 5), datetime.date(2016, 4, 5)],\n  'boost_rounds': [41, 35],\n  'best_score': [0.5988152, 0.60255235]},\n {'training_term': [datetime.date(2013, 12, 15), datetime.date(2014, 12, 15)],\n  'boost_rounds': [63, 26],\n  'best_score': [0.5982619, 0.57175934]},\n {'training_term': [datetime.date(2013, 9, 8), datetime.date(2014, 9, 8)],\n  'boost_rounds': [39, 51],\n  'best_score': [0.5963604, 0.5951404]},\n {'training_term': [datetime.date(2013, 6, 30), datetime.date(2014, 6, 30)],\n  'boost_rounds': [7, 2],\n  'best_score': [0.5962737, 0.5890475]},\n {'training_term': [datetime.date(2014, 2, 9), datetime.date(2015, 2, 9)],\n  'boost_rounds': [63, 66],\n  'best_score': [0.59430116, 0.6014217]},\n {'training_term': [datetime.date(2013, 4, 21), datetime.date(2014, 4, 21)],\n  'boost_rounds': [4, 4],\n  'best_score': [0.59384084, 0.5955595]},\n {'training_term': [datetime.date(2013, 5, 19), datetime.date(2014, 5, 19)],\n  'boost_rounds': [4, 8],\n  'best_score': [0.5924876, 0.5865966]},\n {'training_term': [datetime.date(2013, 6, 2), datetime.date(2014, 6, 2)],\n  'boost_rounds': [8, 7],\n  'best_score': [0.5913741, 0.5913249]},\n {'training_term': [datetime.date(2014, 1, 12), datetime.date(2015, 1, 12)],\n  'boost_rounds': [52, 65],\n  'best_score': [0.5911786, 0.58791107]},\n {'training_term': [datetime.date(2015, 3, 8), datetime.date(2016, 3, 8)],\n  'boost_rounds': [23, 43],\n  'best_score': [0.59101737, 0.58037114]},\n {'training_term': [datetime.date(2013, 12, 29), datetime.date(2014, 12, 29)],\n  'boost_rounds': [52, 100],\n  'best_score': [0.5901284, 0.61013556]},\n {'training_term': [datetime.date(2015, 4, 19), datetime.date(2016, 4, 19)],\n  'boost_rounds': [37, 36],\n  'best_score': [0.5880456, 0.5809668]},\n {'training_term': [datetime.date(2014, 1, 26), datetime.date(2015, 1, 26)],\n  'boost_rounds': [69, 74],\n  'best_score': [0.58759856, 0.5849851]},\n {'training_term': [datetime.date(2013, 10, 6), datetime.date(2014, 10, 6)],\n  'boost_rounds': [36, 95],\n  'best_score': [0.5869878, 0.5938006]},\n {'training_term': [datetime.date(2012, 10, 7), datetime.date(2013, 10, 7)],\n  'boost_rounds': [11, 11],\n  'best_score': [0.5868606, 0.58348805]},\n {'training_term': [datetime.date(2012, 9, 23), datetime.date(2013, 9, 23)],\n  'boost_rounds': [9, 8],\n  'best_score': [0.5846448, 0.58078414]},\n {'training_term': [datetime.date(2012, 10, 21), datetime.date(2013, 10, 21)],\n  'boost_rounds': [13, 11],\n  'best_score': [0.58284897, 0.58650225]},\n {'training_term': [datetime.date(2013, 8, 25), datetime.date(2014, 8, 25)],\n  'boost_rounds': [35, 25],\n  'best_score': [0.5813714, 0.5685478]},\n {'training_term': [datetime.date(2014, 2, 23), datetime.date(2015, 2, 23)],\n  'boost_rounds': [80, 70],\n  'best_score': [0.57958627, 0.5732819]},\n {'training_term': [datetime.date(2015, 5, 3), datetime.date(2016, 5, 3)],\n  'boost_rounds': [49, 61],\n  'best_score': [0.57946604, 0.59161216]},\n {'training_term': [datetime.date(2013, 7, 28), datetime.date(2014, 7, 28)],\n  'boost_rounds': [26, 35],\n  'best_score': [0.579078, 0.58584476]},\n {'training_term': [datetime.date(2012, 9, 9), datetime.date(2013, 9, 9)],\n  'boost_rounds': [10, 12],\n  'best_score': [0.57800627, 0.57726645]},\n {'training_term': [datetime.date(2013, 8, 11), datetime.date(2014, 8, 11)],\n  'boost_rounds': [27, 47],\n  'best_score': [0.5771221, 0.59309345]},\n {'training_term': [datetime.date(2013, 7, 14), datetime.date(2014, 7, 14)],\n  'boost_rounds': [32, 46],\n  'best_score': [0.5752073, 0.59307665]},\n {'training_term': [datetime.date(2014, 11, 2), datetime.date(2015, 11, 2)],\n  'boost_rounds': [29, 44],\n  'best_score': [0.57405484, 0.58030176]},\n {'training_term': [datetime.date(2013, 11, 17), datetime.date(2014, 11, 17)],\n  'boost_rounds': [51, 52],\n  'best_score': [0.5727124, 0.563386]},\n {'training_term': [datetime.date(2013, 10, 20), datetime.date(2014, 10, 20)],\n  'boost_rounds': [77, 32],\n  'best_score': [0.5716642, 0.5728303]},\n {'training_term': [datetime.date(2014, 11, 16), datetime.date(2015, 11, 16)],\n  'boost_rounds': [39, 17],\n  'best_score': [0.5625889, 0.56524223]},\n {'training_term': [datetime.date(2014, 10, 19), datetime.date(2015, 10, 19)],\n  'boost_rounds': [45, 36],\n  'best_score': [0.561651, 0.5637296]},\n {'training_term': [datetime.date(2013, 12, 1), datetime.date(2014, 12, 1)],\n  'boost_rounds': [38, 62],\n  'best_score': [0.55703014, 0.56293327]},\n {'training_term': [datetime.date(2013, 11, 3), datetime.date(2014, 11, 3)],\n  'boost_rounds': [38, 64],\n  'best_score': [0.556944, 0.5671937]},\n {'training_term': [datetime.date(2014, 3, 9), datetime.date(2015, 3, 9)],\n  'boost_rounds': [71, 65],\n  'best_score': [0.5544495, 0.5604444]},\n {'training_term': [datetime.date(2014, 7, 13), datetime.date(2015, 7, 13)],\n  'boost_rounds': [13, 7],\n  'best_score': [0.54902244, 0.5511594]},\n {'training_term': [datetime.date(2014, 11, 30), datetime.date(2015, 11, 30)],\n  'boost_rounds': [30, 26],\n  'best_score': [0.54658854, 0.5499792]},\n {'training_term': [datetime.date(2014, 3, 23), datetime.date(2015, 3, 23)],\n  'boost_rounds': [71, 70],\n  'best_score': [0.54614383, 0.54619175]},\n {'training_term': [datetime.date(2014, 12, 14), datetime.date(2015, 12, 14)],\n  'boost_rounds': [23, 32],\n  'best_score': [0.53938556, 0.53524274]},\n {'training_term': [datetime.date(2015, 2, 8), datetime.date(2016, 2, 8)],\n  'boost_rounds': [47, 30],\n  'best_score': [0.53870577, 0.5300118]},\n {'training_term': [datetime.date(2014, 12, 28), datetime.date(2015, 12, 28)],\n  'boost_rounds': [38, 48],\n  'best_score': [0.5381294, 0.5376713]},\n {'training_term': [datetime.date(2015, 2, 22), datetime.date(2016, 2, 22)],\n  'boost_rounds': [30, 37],\n  'best_score': [0.53273463, 0.53644764]},\n {'training_term': [datetime.date(2015, 1, 11), datetime.date(2016, 1, 11)],\n  'boost_rounds': [29, 44],\n  'best_score': [0.5312279, 0.5324402]},\n {'training_term': [datetime.date(2014, 4, 6), datetime.date(2015, 4, 6)],\n  'boost_rounds': [32, 36],\n  'best_score': [0.5294655, 0.5369457]},\n {'training_term': [datetime.date(2014, 7, 27), datetime.date(2015, 7, 27)],\n  'boost_rounds': [11, 31],\n  'best_score': [0.5289819, 0.5332443]},\n {'training_term': [datetime.date(2015, 1, 25), datetime.date(2016, 1, 25)],\n  'boost_rounds': [31, 30],\n  'best_score': [0.52737236, 0.52900124]},\n {'training_term': [datetime.date(2014, 6, 29), datetime.date(2015, 6, 29)],\n  'boost_rounds': [19, 23],\n  'best_score': [0.52560997, 0.53129196]},\n {'training_term': [datetime.date(2014, 10, 5), datetime.date(2015, 10, 5)],\n  'boost_rounds': [2, 2],\n  'best_score': [0.5219602, 0.5211477]},\n {'training_term': [datetime.date(2014, 8, 10), datetime.date(2015, 8, 10)],\n  'boost_rounds': [27, 29],\n  'best_score': [0.51797974, 0.5159764]},\n {'training_term': [datetime.date(2014, 6, 15), datetime.date(2015, 6, 15)],\n  'boost_rounds': [13, 22],\n  'best_score': [0.5162688, 0.52020633]},\n {'training_term': [datetime.date(2014, 8, 24), datetime.date(2015, 8, 24)],\n  'boost_rounds': [25, 22],\n  'best_score': [0.5154004, 0.5242272]},\n {'training_term': [datetime.date(2014, 6, 1), datetime.date(2015, 6, 1)],\n  'boost_rounds': [18, 9],\n  'best_score': [0.5121738, 0.51498735]},\n {'training_term': [datetime.date(2014, 5, 4), datetime.date(2015, 5, 4)],\n  'boost_rounds': [18, 21],\n  'best_score': [0.50697416, 0.49536395]},\n {'training_term': [datetime.date(2014, 9, 21), datetime.date(2015, 9, 21)],\n  'boost_rounds': [4, 4],\n  'best_score': [0.5065333, 0.5124978]},\n {'training_term': [datetime.date(2014, 4, 20), datetime.date(2015, 4, 20)],\n  'boost_rounds': [27, 74],\n  'best_score': [0.50608236, 0.52521515]},\n {'training_term': [datetime.date(2014, 5, 18), datetime.date(2015, 5, 18)],\n  'boost_rounds': [18, 29],\n  'best_score': [0.5036928, 0.5027692]},\n {'training_term': [datetime.date(2014, 9, 7), datetime.date(2015, 9, 7)],\n  'boost_rounds': [6, 15],\n  'best_score': [0.5001438, 0.50789195]}]",
      "execution_count": 12,
      "outputs": []
    },
    {
      "metadata": {
        "trusted": true,
        "_uuid": "9949c9aadfe30b643b8b56dfcbc932875a668a7c"
      },
      "cell_type": "code",
      "source": "def build_models_without_validation(model_params, train_data, boost_rounds):\n    \"\"\"\n    トレーニングデータとブースト回数を指定してモデルを構築する。\n    \"\"\"\n    models = []\n    #global config_model\n    for _param, _boost_round in zip(model_params, boost_rounds):\n        print(\"building model...\")\n        # 注意！ ブースティング回数はデフォルト状態では1000回になっている！\n        _param['num_iteration'] = _boost_round\n        _model = lgb.train(_param, train_data,\n                          num_boost_round=_boost_round)\n        models.append(_model)\n        print(\"model was built.\")\n    return models",
      "execution_count": 13,
      "outputs": []
    },
    {
      "metadata": {
        "trusted": true,
        "_uuid": "1cffcf7a7b7e6a27097a5e85ec8d350c8dc1f3d8"
      },
      "cell_type": "code",
      "source": "# モデルを格納する\nmodel_house = []\nfor _config in ensemble_model_config[0:10]:\n    _idx_training = market_train_df[(market_train_df['time'] >= _config['training_term'][0])\n                                    & (market_train_df['time'] <= _config['training_term'][1])].index\n    _X_train, _up_train = get_training_data(market_train_df, _idx_training, feature_cols)\n    _train_data = lgb.Dataset(_X_train, label=_up_train.astype(int), free_raw_data=False)\n    _models = build_models_without_validation(model_params=config_model['model_params'], \n                                              train_data=_train_data,\n                                              boost_rounds=_config['boost_rounds'])\n    for _each_model in _models:\n        model_house.append({\"model\":_each_model, \"post_process_config\":{}})",
      "execution_count": 14,
      "outputs": [
        {
          "output_type": "stream",
          "text": "building model...\n",
          "name": "stdout"
        },
        {
          "output_type": "stream",
          "text": "/opt/conda/lib/python3.6/site-packages/lightgbm/engine.py:116: UserWarning: Found `num_iteration` in params. Will use it instead of argument\n  warnings.warn(\"Found `{}` in params. Will use it instead of argument\".format(alias))\n",
          "name": "stderr"
        },
        {
          "output_type": "stream",
          "text": "model was built.\nbuilding model...\nmodel was built.\nbuilding model...\nmodel was built.\nbuilding model...\nmodel was built.\nbuilding model...\nmodel was built.\nbuilding model...\nmodel was built.\nbuilding model...\nmodel was built.\nbuilding model...\nmodel was built.\nbuilding model...\nmodel was built.\nbuilding model...\nmodel was built.\nbuilding model...\nmodel was built.\nbuilding model...\nmodel was built.\nbuilding model...\nmodel was built.\nbuilding model...\nmodel was built.\nbuilding model...\nmodel was built.\nbuilding model...\nmodel was built.\nbuilding model...\nmodel was built.\nbuilding model...\nmodel was built.\nbuilding model...\nmodel was built.\nbuilding model...\nmodel was built.\n",
          "name": "stdout"
        }
      ]
    },
    {
      "metadata": {
        "trusted": true,
        "_uuid": "23347bbaf8004e9a2ff4fd7606eaaab1f5e12f1e"
      },
      "cell_type": "code",
      "source": "preds = []\nfor _each_model in model_house:\n    print(\"predicting ...\")\n    preds.append(_each_model['model'].predict(X_valid))\n",
      "execution_count": 15,
      "outputs": [
        {
          "output_type": "stream",
          "text": "predicting ...\npredicting ...\npredicting ...\npredicting ...\npredicting ...\npredicting ...\npredicting ...\npredicting ...\npredicting ...\npredicting ...\npredicting ...\npredicting ...\npredicting ...\npredicting ...\npredicting ...\npredicting ...\npredicting ...\npredicting ...\npredicting ...\npredicting ...\n",
          "name": "stdout"
        }
      ]
    },
    {
      "metadata": {
        "trusted": true,
        "_uuid": "6855b678064953a8fa8d0d45875087c07db4fbe1"
      },
      "cell_type": "code",
      "source": "# 上位スコアのものに限定すると...\ntotal_preds = None\nselected_preds = preds[0:5]\nfor _preds in selected_preds:\n    if total_preds is None:\n        total_preds = _preds.copy()\n    else:\n        total_preds += _preds\n\n# 確信度\nconfidence = 2 * (total_preds/len(selected_preds)) - 1",
      "execution_count": 16,
      "outputs": []
    },
    {
      "metadata": {
        "trusted": true,
        "_uuid": "69fe5747e1571ddd4987590a495d68b1acac5eef"
      },
      "cell_type": "code",
      "source": "r_test = validation_data.params['return']\nx_t_i = confidence * validation_data.params['return'] * validation_data.params['universe']\ndata = {'day' : validation_data.params['time'], 'x_t_i' : x_t_i}\ndf = pd.DataFrame(data)\nx_t = df.groupby('day').sum().values.flatten()\nmean = np.mean(x_t)\nstd = np.std(x_t)\nscore_test = mean / std\nprint(score_test)",
      "execution_count": 17,
      "outputs": [
        {
          "output_type": "stream",
          "text": "0.6984079240967279\n",
          "name": "stdout"
        }
      ]
    },
    {
      "metadata": {
        "_uuid": "c3524516212ff5abfc7804dd398c7edb5caecf56"
      },
      "cell_type": "markdown",
      "source": "```\n[post-process][sigmoid:60] sig_score=0.73060537509618\n[post-process][sigmoid:61] sig_score=0.7306197948191054\n[post-process][sigmoid:62] sig_score=0.7306298801065034\n[post-process][sigmoid:63] sig_score=0.730635930242216\n```"
    },
    {
      "metadata": {
        "trusted": true,
        "_uuid": "eb3003d751889e273e6c753323d54f0667c77d8e"
      },
      "cell_type": "code",
      "source": "for _sig_coeff in range(1,1000):\n    confidence_sig = (2/(1 + np.exp(-1*_sig_coeff * confidence))-1.0)\n    x_t_i = confidence_sig * validation_data.params['return'] * validation_data.params['universe']\n    data = {'day' : validation_data.params['time'], 'x_t_i' : x_t_i}\n    df = pd.DataFrame(data)\n    x_t = df.groupby('day').sum().values.flatten()\n    mean = np.mean(x_t)\n    std = np.std(x_t)\n    score_test = mean / std\n    print(\"[post-process][sigmoid:{}] sig_score={}\".format(_sig_coeff, score_test))\n",
      "execution_count": 18,
      "outputs": [
        {
          "output_type": "stream",
          "text": "[post-process][sigmoid:1] sig_score=0.6985474674278646\n[post-process][sigmoid:2] sig_score=0.6989569766129292\n[post-process][sigmoid:3] sig_score=0.6996111235571613\n[post-process][sigmoid:4] sig_score=0.7004734859209296\n[post-process][sigmoid:5] sig_score=0.7015025674176618\n[post-process][sigmoid:6] sig_score=0.7026568629760874\n[post-process][sigmoid:7] sig_score=0.7038981871664353\n[post-process][sigmoid:8] sig_score=0.705193370242673\n[post-process][sigmoid:9] sig_score=0.7065147871067222\n[post-process][sigmoid:10] sig_score=0.7078401852473872\n[post-process][sigmoid:11] sig_score=0.7091521527202775\n[post-process][sigmoid:12] sig_score=0.7104374419575148\n[post-process][sigmoid:13] sig_score=0.7116862743653029\n[post-process][sigmoid:14] sig_score=0.712891692082948\n[post-process][sigmoid:15] sig_score=0.7140489873690683\n[post-process][sigmoid:16] sig_score=0.7151552189091867\n[post-process][sigmoid:17] sig_score=0.7162088125561822\n[post-process][sigmoid:18] sig_score=0.717209238125506\n[post-process][sigmoid:19] sig_score=0.7181567515614413\n[post-process][sigmoid:20] sig_score=0.7190521915450565\n[post-process][sigmoid:21] sig_score=0.7198968204464075\n[post-process][sigmoid:22] sig_score=0.720692200825803\n[post-process][sigmoid:23] sig_score=0.7214401001082992\n[post-process][sigmoid:24] sig_score=0.7221424174035604\n[post-process][sigmoid:25] sig_score=0.7228011276330335\n[post-process][sigmoid:26] sig_score=0.7234182391304393\n[post-process][sigmoid:27] sig_score=0.7239957617040684\n[post-process][sigmoid:28] sig_score=0.724535682809406\n[post-process][sigmoid:29] sig_score=0.7250399500028387\n[post-process][sigmoid:30] sig_score=0.725510458256219\n[post-process][sigmoid:31] sig_score=0.7259490410303729\n[post-process][sigmoid:32] sig_score=0.7263574642522426\n[post-process][sigmoid:33] sig_score=0.7267374225310393\n[post-process][sigmoid:34] sig_score=0.7270905370961086\n[post-process][sigmoid:35] sig_score=0.727418355053095\n[post-process][sigmoid:36] sig_score=0.7277223496432046\n[post-process][sigmoid:37] sig_score=0.7280039212588135\n[post-process][sigmoid:38] sig_score=0.7282643990219669\n[post-process][sigmoid:39] sig_score=0.728505042773943\n[post-process][sigmoid:40] sig_score=0.728727045356686\n[post-process][sigmoid:41] sig_score=0.7289315350925745\n[post-process][sigmoid:42] sig_score=0.72911957838926\n[post-process][sigmoid:43] sig_score=0.7292921824123462\n[post-process][sigmoid:44] sig_score=0.7294502977814228\n[post-process][sigmoid:45] sig_score=0.7295948212551081\n[post-process][sigmoid:46] sig_score=0.7297265983788351\n[post-process][sigmoid:47] sig_score=0.7298464260755767\n[post-process][sigmoid:48] sig_score=0.7299550551648425\n[post-process][sigmoid:49] sig_score=0.7300531927994093\n[post-process][sigmoid:50] sig_score=0.7301415048125043\n[post-process][sigmoid:51] sig_score=0.7302206179707686\n[post-process][sigmoid:52] sig_score=0.730291122130391\n[post-process][sigmoid:53] sig_score=0.7303535722954111\n[post-process][sigmoid:54] sig_score=0.7304084905784631\n[post-process][sigmoid:55] sig_score=0.7304563680652061\n[post-process][sigmoid:56] sig_score=0.7304976665844264\n[post-process][sigmoid:57] sig_score=0.7305328203863612\n[post-process][sigmoid:58] sig_score=0.7305622377321921\n[post-process][sigmoid:59] sig_score=0.7305863023979398\n[post-process][sigmoid:60] sig_score=0.73060537509618\n[post-process][sigmoid:61] sig_score=0.7306197948191054\n[post-process][sigmoid:62] sig_score=0.7306298801065034\n[post-process][sigmoid:63] sig_score=0.7306359302422163\n[post-process][sigmoid:64] sig_score=0.7306382263826151\n[post-process][sigmoid:65] sig_score=0.7306370326205416\n[post-process][sigmoid:66] sig_score=0.7306325969880847\n[post-process][sigmoid:67] sig_score=0.7306251524014566\n[post-process][sigmoid:68] sig_score=0.730614917551103\n[post-process][sigmoid:69] sig_score=0.73060209774007\n[post-process][sigmoid:70] sig_score=0.7305868856735137\n[post-process][sigmoid:71] sig_score=0.7305694622021023\n[post-process][sigmoid:72] sig_score=0.7305499970219405\n[post-process][sigmoid:73] sig_score=0.7305286493335039\n[post-process][sigmoid:74] sig_score=0.7305055684619496\n[post-process][sigmoid:75] sig_score=0.7304808944410425\n[post-process][sigmoid:76] sig_score=0.7304547585628135\n[post-process][sigmoid:77] sig_score=0.730427283894957\n[post-process][sigmoid:78] sig_score=0.7303985857678545\n[post-process][sigmoid:79] sig_score=0.730368772233007\n[post-process][sigmoid:80] sig_score=0.7303379444945629\n[post-process][sigmoid:81] sig_score=0.7303061973155227\n[post-process][sigmoid:82] sig_score=0.7302736194001134\n[post-process][sigmoid:83] sig_score=0.7302402937537408\n[post-process][sigmoid:84] sig_score=0.7302062980218388\n[post-process][sigmoid:85] sig_score=0.7301717048088658\n[post-process][sigmoid:86] sig_score=0.7301365819786161\n[post-process][sigmoid:87] sig_score=0.7301009929369461\n[post-process][sigmoid:88] sig_score=0.7300649968979579\n[post-process][sigmoid:89] sig_score=0.7300286491346106\n[post-process][sigmoid:90] sig_score=0.7299920012146754\n[post-process][sigmoid:91] sig_score=0.7299551012228975\n[post-process][sigmoid:92] sig_score=0.7299179939701772\n[post-process][sigmoid:93] sig_score=0.7298807211905287\n[post-process][sigmoid:94] sig_score=0.7298433217265351\n[post-process][sigmoid:95] sig_score=0.7298058317039745\n[post-process][sigmoid:96] sig_score=0.7297682846962484\n[post-process][sigmoid:97] sig_score=0.7297307118792116\n[post-process][sigmoid:98] sig_score=0.7296931421769602\n[post-process][sigmoid:99] sig_score=0.7296556023991106\n[post-process][sigmoid:100] sig_score=0.7296181173700604\n[post-process][sigmoid:101] sig_score=0.7295807100507002\n[post-process][sigmoid:102] sig_score=0.7295434016530157\n[post-process][sigmoid:103] sig_score=0.7295062117479926\n[post-process][sigmoid:104] sig_score=0.7294691583672142\n[post-process][sigmoid:105] sig_score=0.7294322580985141\n[post-process][sigmoid:106] sig_score=0.7293955261760352\n[post-process][sigmoid:107] sig_score=0.7293589765650093\n[post-process][sigmoid:108] sig_score=0.7293226220415754\n[post-process][sigmoid:109] sig_score=0.7292864742679094\n[post-process][sigmoid:110] sig_score=0.7292505438629489\n[post-process][sigmoid:111] sig_score=0.7292148404689582\n[post-process][sigmoid:112] sig_score=0.7291793728141799\n[post-process][sigmoid:113] sig_score=0.7291441487717947\n[post-process][sigmoid:114] sig_score=0.7291091754154041\n[post-process][sigmoid:115] sig_score=0.7290744590712369\n[post-process][sigmoid:116] sig_score=0.7290400053672678\n[post-process][sigmoid:117] sig_score=0.7290058192794235\n[post-process][sigmoid:118] sig_score=0.7289719051750501\n[post-process][sigmoid:119] sig_score=0.7289382668537926\n[post-process][sigmoid:120] sig_score=0.7289049075860404\n[post-process][sigmoid:121] sig_score=0.7288718301490758\n[post-process][sigmoid:122] sig_score=0.728839036861062\n[post-process][sigmoid:123] sig_score=0.7288065296129886\n[post-process][sigmoid:124] sig_score=0.7287743098986991\n[post-process][sigmoid:125] sig_score=0.7287423788431043\n[post-process][sigmoid:126] sig_score=0.7287107372286943\n[post-process][sigmoid:127] sig_score=0.728679385520438\n[post-process][sigmoid:128] sig_score=0.7286483238891691\n[post-process][sigmoid:129] sig_score=0.7286175522335461\n[post-process][sigmoid:130] sig_score=0.7285870702006637\n[post-process][sigmoid:131] sig_score=0.7285568772053991\n[post-process][sigmoid:132] sig_score=0.7285269724485646\n[post-process][sigmoid:133] sig_score=0.7284973549339326\n[post-process][sigmoid:134] sig_score=0.7284680234842028\n[post-process][sigmoid:135] sig_score=0.7284389767559698\n[post-process][sigmoid:136] sig_score=0.7284102132537504\n[post-process][sigmoid:137] sig_score=0.7283817313431271\n[post-process][sigmoid:138] sig_score=0.7283535292630543\n[post-process][sigmoid:139] sig_score=0.7283256051373793\n[post-process][sigmoid:140] sig_score=0.7282979569856267\n[post-process][sigmoid:141] sig_score=0.7282705827330826\n[post-process][sigmoid:142] sig_score=0.7282434802202251\n[post-process][sigmoid:143] sig_score=0.7282166472115364\n[post-process][sigmoid:144] sig_score=0.7281900814037361\n[post-process][sigmoid:145] sig_score=0.7281637804334637\n[post-process][sigmoid:146] sig_score=0.728137741884452\n[post-process][sigmoid:147] sig_score=0.7281119632942115\n[post-process][sigmoid:148] sig_score=0.7280864421602627\n",
          "name": "stdout"
        },
        {
          "output_type": "stream",
          "text": "[post-process][sigmoid:149] sig_score=0.7280611759459388\n[post-process][sigmoid:150] sig_score=0.7280361620857858\n[post-process][sigmoid:151] sig_score=0.7280113979905842\n[post-process][sigmoid:152] sig_score=0.727986881052015\n[post-process][sigmoid:153] sig_score=0.7279626086469908\n[post-process][sigmoid:154] sig_score=0.727938578141672\n[post-process][sigmoid:155] sig_score=0.7279147868951894\n[post-process][sigmoid:156] sig_score=0.7278912322630869\n[post-process][sigmoid:157] sig_score=0.7278679116005075\n[post-process][sigmoid:158] sig_score=0.7278448222651298\n[post-process][sigmoid:159] sig_score=0.7278219616198802\n[post-process][sigmoid:160] sig_score=0.7277993270354262\n[post-process][sigmoid:161] sig_score=0.727776915892469\n[post-process][sigmoid:162] sig_score=0.7277547255838474\n[post-process][sigmoid:163] sig_score=0.7277327535164637\n[post-process][sigmoid:164] sig_score=0.7277109971130423\n[post-process][sigmoid:165] sig_score=0.7276894538137354\n[post-process][sigmoid:166] sig_score=0.7276681210775792\n[post-process][sigmoid:167] sig_score=0.7276469963838164\n[post-process][sigmoid:168] sig_score=0.72762607723309\n[post-process][sigmoid:169] sig_score=0.7276053611485189\n[post-process][sigmoid:170] sig_score=0.7275848456766586\n[post-process][sigmoid:171] sig_score=0.7275645283883629\n[post-process][sigmoid:172] sig_score=0.727544406879544\n[post-process][sigmoid:173] sig_score=0.7275244787718432\n[post-process][sigmoid:174] sig_score=0.7275047417132186\n[post-process][sigmoid:175] sig_score=0.7274851933784512\n[post-process][sigmoid:176] sig_score=0.7274658314695788\n[post-process][sigmoid:177] sig_score=0.7274466537162642\n[post-process][sigmoid:178] sig_score=0.7274276578760949\n[post-process][sigmoid:179] sig_score=0.727408841734827\n[post-process][sigmoid:180] sig_score=0.7273902031065754\n[post-process][sigmoid:181] sig_score=0.7273717398339494\n[post-process][sigmoid:182] sig_score=0.7273534497881461\n[post-process][sigmoid:183] sig_score=0.7273353308689949\n[post-process][sigmoid:184] sig_score=0.7273173810049686\n[post-process][sigmoid:185] sig_score=0.7272995981531498\n[post-process][sigmoid:186] sig_score=0.7272819802991706\n[post-process][sigmoid:187] sig_score=0.7272645254571144\n[post-process][sigmoid:188] sig_score=0.7272472316693943\n[post-process][sigmoid:189] sig_score=0.7272300970066017\n[post-process][sigmoid:190] sig_score=0.7272131195673308\n[post-process][sigmoid:191] sig_score=0.7271962974779835\n[post-process][sigmoid:192] sig_score=0.7271796288925526\n[post-process][sigmoid:193] sig_score=0.727163111992386\n[post-process][sigmoid:194] sig_score=0.7271467449859358\n[post-process][sigmoid:195] sig_score=0.7271305261084932\n[post-process][sigmoid:196] sig_score=0.727114453621907\n[post-process][sigmoid:197] sig_score=0.7270985258142935\n[post-process][sigmoid:198] sig_score=0.7270827409997349\n[post-process][sigmoid:199] sig_score=0.7270670975179668\n[post-process][sigmoid:200] sig_score=0.727051593734059\n[post-process][sigmoid:201] sig_score=0.7270362280380899\n[post-process][sigmoid:202] sig_score=0.7270209988448123\n[post-process][sigmoid:203] sig_score=0.727005904593316\n[post-process][sigmoid:204] sig_score=0.7269909437466857\n[post-process][sigmoid:205] sig_score=0.7269761147916555\n[post-process][sigmoid:206] sig_score=0.726961416238259\n[post-process][sigmoid:207] sig_score=0.7269468466194804\n[post-process][sigmoid:208] sig_score=0.726932404490901\n[post-process][sigmoid:209] sig_score=0.7269180884303472\n[post-process][sigmoid:210] sig_score=0.7269038970375368\n[post-process][sigmoid:211] sig_score=0.7268898289337262\n[post-process][sigmoid:212] sig_score=0.726875882761358\n[post-process][sigmoid:213] sig_score=0.7268620571837099\n[post-process][sigmoid:214] sig_score=0.7268483508845454\n[post-process][sigmoid:215] sig_score=0.7268347625677646\n[post-process][sigmoid:216] sig_score=0.7268212909570606\n[post-process][sigmoid:217] sig_score=0.7268079347955748\n[post-process][sigmoid:218] sig_score=0.7267946928455574\n[post-process][sigmoid:219] sig_score=0.7267815638880302\n[post-process][sigmoid:220] sig_score=0.7267685467224514\n[post-process][sigmoid:221] sig_score=0.7267556401663868\n[post-process][sigmoid:222] sig_score=0.7267428430551811\n[post-process][sigmoid:223] sig_score=0.7267301542416371\n[post-process][sigmoid:224] sig_score=0.7267175725956937\n[post-process][sigmoid:225] sig_score=0.7267050970041131\n[post-process][sigmoid:226] sig_score=0.7266927263701694\n[post-process][sigmoid:227] sig_score=0.7266804596133413\n[post-process][sigmoid:228] sig_score=0.7266682956690107\n[post-process][sigmoid:229] sig_score=0.7266562334881648\n[post-process][sigmoid:230] sig_score=0.7266442720371032\n[post-process][sigmoid:231] sig_score=0.7266324102971484\n[post-process][sigmoid:232] sig_score=0.7266206472643632\n[post-process][sigmoid:233] sig_score=0.726608981949269\n[post-process][sigmoid:234] sig_score=0.7265974133765749\n[post-process][sigmoid:235] sig_score=0.7265859405849033\n[post-process][sigmoid:236] sig_score=0.7265745626265281\n[post-process][sigmoid:237] sig_score=0.7265632785671117\n[post-process][sigmoid:238] sig_score=0.7265520874854499\n[post-process][sigmoid:239] sig_score=0.7265409884732208\n[post-process][sigmoid:240] sig_score=0.7265299806347377\n[post-process][sigmoid:241] sig_score=0.7265190630867064\n[post-process][sigmoid:242] sig_score=0.7265082349579893\n[post-process][sigmoid:243] sig_score=0.7264974953893705\n[post-process][sigmoid:244] sig_score=0.7264868435333285\n[post-process][sigmoid:245] sig_score=0.7264762785538117\n[post-process][sigmoid:246] sig_score=0.7264657996260186\n[post-process][sigmoid:247] sig_score=0.7264554059361843\n[post-process][sigmoid:248] sig_score=0.7264450966813664\n[post-process][sigmoid:249] sig_score=0.7264348710692414\n[post-process][sigmoid:250] sig_score=0.7264247283179002\n[post-process][sigmoid:251] sig_score=0.7264146676556514\n[post-process][sigmoid:252] sig_score=0.7264046883208268\n[post-process][sigmoid:253] sig_score=0.72639478956159\n[post-process][sigmoid:254] sig_score=0.7263849706357525\n[post-process][sigmoid:255] sig_score=0.7263752308105893\n[post-process][sigmoid:256] sig_score=0.726365569362663\n[post-process][sigmoid:257] sig_score=0.7263559855776472\n[post-process][sigmoid:258] sig_score=0.7263464787501572\n[post-process][sigmoid:259] sig_score=0.7263370481835818\n[post-process][sigmoid:260] sig_score=0.7263276931899215\n[post-process][sigmoid:261] sig_score=0.7263184130896263\n[post-process][sigmoid:262] sig_score=0.7263092072114421\n[post-process][sigmoid:263] sig_score=0.7263000748922555\n[post-process][sigmoid:264] sig_score=0.7262910154769455\n[post-process][sigmoid:265] sig_score=0.7262820283182362\n[post-process][sigmoid:266] sig_score=0.7262731127765555\n[post-process][sigmoid:267] sig_score=0.7262642682198925\n[post-process][sigmoid:268] sig_score=0.726255494023664\n[post-process][sigmoid:269] sig_score=0.7262467895705784\n[post-process][sigmoid:270] sig_score=0.7262381542505051\n[post-process][sigmoid:271] sig_score=0.726229587460349\n[post-process][sigmoid:272] sig_score=0.7262210886039228\n[post-process][sigmoid:273] sig_score=0.7262126570918261\n[post-process][sigmoid:274] sig_score=0.7262042923413267\n[post-process][sigmoid:275] sig_score=0.7261959937762427\n[post-process][sigmoid:276] sig_score=0.7261877608268297\n[post-process][sigmoid:277] sig_score=0.7261795929296678\n[post-process][sigmoid:278] sig_score=0.7261714895275546\n[post-process][sigmoid:279] sig_score=0.7261634500693971\n[post-process][sigmoid:280] sig_score=0.7261554740101085\n",
          "name": "stdout"
        },
        {
          "output_type": "error",
          "ename": "KeyboardInterrupt",
          "evalue": "",
          "traceback": [
            "\u001b[0;31m---------------------------------------------------------------------------\u001b[0m",
            "\u001b[0;31mKeyboardInterrupt\u001b[0m                         Traceback (most recent call last)",
            "\u001b[0;32m<ipython-input-18-92773e83258d>\u001b[0m in \u001b[0;36m<module>\u001b[0;34m()\u001b[0m\n\u001b[1;32m      3\u001b[0m     \u001b[0mx_t_i\u001b[0m \u001b[0;34m=\u001b[0m \u001b[0mconfidence_sig\u001b[0m \u001b[0;34m*\u001b[0m \u001b[0mvalidation_data\u001b[0m\u001b[0;34m.\u001b[0m\u001b[0mparams\u001b[0m\u001b[0;34m[\u001b[0m\u001b[0;34m'return'\u001b[0m\u001b[0;34m]\u001b[0m \u001b[0;34m*\u001b[0m \u001b[0mvalidation_data\u001b[0m\u001b[0;34m.\u001b[0m\u001b[0mparams\u001b[0m\u001b[0;34m[\u001b[0m\u001b[0;34m'universe'\u001b[0m\u001b[0;34m]\u001b[0m\u001b[0;34m\u001b[0m\u001b[0m\n\u001b[1;32m      4\u001b[0m     \u001b[0mdata\u001b[0m \u001b[0;34m=\u001b[0m \u001b[0;34m{\u001b[0m\u001b[0;34m'day'\u001b[0m \u001b[0;34m:\u001b[0m \u001b[0mvalidation_data\u001b[0m\u001b[0;34m.\u001b[0m\u001b[0mparams\u001b[0m\u001b[0;34m[\u001b[0m\u001b[0;34m'time'\u001b[0m\u001b[0;34m]\u001b[0m\u001b[0;34m,\u001b[0m \u001b[0;34m'x_t_i'\u001b[0m \u001b[0;34m:\u001b[0m \u001b[0mx_t_i\u001b[0m\u001b[0;34m}\u001b[0m\u001b[0;34m\u001b[0m\u001b[0m\n\u001b[0;32m----> 5\u001b[0;31m     \u001b[0mdf\u001b[0m \u001b[0;34m=\u001b[0m \u001b[0mpd\u001b[0m\u001b[0;34m.\u001b[0m\u001b[0mDataFrame\u001b[0m\u001b[0;34m(\u001b[0m\u001b[0mdata\u001b[0m\u001b[0;34m)\u001b[0m\u001b[0;34m\u001b[0m\u001b[0m\n\u001b[0m\u001b[1;32m      6\u001b[0m     \u001b[0mx_t\u001b[0m \u001b[0;34m=\u001b[0m \u001b[0mdf\u001b[0m\u001b[0;34m.\u001b[0m\u001b[0mgroupby\u001b[0m\u001b[0;34m(\u001b[0m\u001b[0;34m'day'\u001b[0m\u001b[0;34m)\u001b[0m\u001b[0;34m.\u001b[0m\u001b[0msum\u001b[0m\u001b[0;34m(\u001b[0m\u001b[0;34m)\u001b[0m\u001b[0;34m.\u001b[0m\u001b[0mvalues\u001b[0m\u001b[0;34m.\u001b[0m\u001b[0mflatten\u001b[0m\u001b[0;34m(\u001b[0m\u001b[0;34m)\u001b[0m\u001b[0;34m\u001b[0m\u001b[0m\n\u001b[1;32m      7\u001b[0m     \u001b[0mmean\u001b[0m \u001b[0;34m=\u001b[0m \u001b[0mnp\u001b[0m\u001b[0;34m.\u001b[0m\u001b[0mmean\u001b[0m\u001b[0;34m(\u001b[0m\u001b[0mx_t\u001b[0m\u001b[0;34m)\u001b[0m\u001b[0;34m\u001b[0m\u001b[0m\n",
            "\u001b[0;31mKeyboardInterrupt\u001b[0m: "
          ]
        }
      ]
    },
    {
      "metadata": {
        "_uuid": "6c66369ca2a32b9a86a6aaf98adbaf288bb91b49",
        "collapsed": true,
        "trusted": false
      },
      "cell_type": "code",
      "source": "#1個目のデータと2個目のデータの平均出してる\nconfidence_test = (gbm_1.predict(X_test) + gbm_2.predict(X_test))/2\nconfidence_test",
      "execution_count": null,
      "outputs": []
    },
    {
      "metadata": {
        "_uuid": "55589ca05e8c982439efe1ad9cf19fbf6ceefd4d",
        "collapsed": true,
        "trusted": false
      },
      "cell_type": "code",
      "source": "#予測値の%　割合の算出\nconfidence_test = (confidence_test-confidence_test.min())/(confidence_test.max()-confidence_test.min())\nconfidence_test",
      "execution_count": null,
      "outputs": []
    },
    {
      "metadata": {
        "_uuid": "e5e6db1e2e7963aef26c4ffdc1832f4f0f6f9c0b",
        "collapsed": true,
        "trusted": false
      },
      "cell_type": "code",
      "source": "#%に二乗して-1????\nconfidence_test = confidence_test*2-1\nprint(max(confidence_test),min(confidence_test))\nconfidence_test",
      "execution_count": null,
      "outputs": []
    },
    {
      "metadata": {
        "_uuid": "3dbef3e10363bc9df63292b146cba44311ba3b17",
        "collapsed": true,
        "trusted": false
      },
      "cell_type": "code",
      "source": "# 最終スコアの計算に使用される実際のメトリックの計算\nr_test = r_test.clip(-1,1) # -1～１以外の値を取り除く　彼らはどこから来たのかという\n#学習の推測地と予測前の目的変数とユニバース値をかけてる？\nx_t_i = confidence_test * r_test * u_test\n#日付とスコア値だけのデータフレーム作り\ndata = {'day' : d_test, 'x_t_i' : x_t_i}\ndf = pd.DataFrame(data)\n#日付でグループバイ（集約）　で多次元配列を１次元に直してる\nx_t = df.groupby('day').sum().values.flatten()\n#スコアの平均値\nmean = np.mean(x_t)\n#スコアの標準偏差\nstd = np.std(x_t)\n#変動係数の逆数\nscore_test = mean / std\nprint(score_test)",
      "execution_count": null,
      "outputs": []
    },
    {
      "metadata": {
        "_uuid": "65da0a50ea0df84261ff437dbf934a31242b2ccd",
        "collapsed": true,
        "trusted": false
      },
      "cell_type": "code",
      "source": "import gc\ndel X_train,X_test\ngc.collect()",
      "execution_count": null,
      "outputs": []
    },
    {
      "metadata": {
        "_uuid": "3351f7ef017a67f4ea8563be79230f5bd659d965",
        "collapsed": true,
        "trusted": false
      },
      "cell_type": "code",
      "source": "#prediction\ndays = env.get_prediction_days()\nn_days = 0\nprep_time = 0\nprediction_time = 0\npackaging_time = 0\ntotal_market_obs_df = []\nfor (market_obs_df, news_obs_df, predictions_template_df) in days:\n    n_days +=1\n    if (n_days%50==0):\n        print(n_days,end=' ')\n    t = time.time()\n    market_obs_df['time'] = market_obs_df['time'].dt.date\n    \n    return_features = ['returnsClosePrevMktres10','returnsClosePrevRaw10','open','close']\n    total_market_obs_df.append(market_obs_df)\n    if len(total_market_obs_df)==1:\n        history_df = total_market_obs_df[0]\n    else:\n        history_df = pd.concat(total_market_obs_df[-(np.max(n_lag)+1):])\n    print(history_df)\n    \n    new_df = generate_lag_features(history_df,n_lag=[3,7,14])\n    market_obs_df = pd.merge(market_obs_df,new_df,how='left',on=['time','assetCode'])\n    \n#     return_features = ['open']\n#     new_df = generate_lag_features(market_obs_df,n_lag=[3,7,14])\n#     market_obs_df = pd.merge(market_obs_df,new_df,how='left',on=['time','assetCode'])\n    \n    market_obs_df = mis_impute(market_obs_df)\n    \n    market_obs_df = data_prep(market_obs_df)\n    \n#     market_obs_df = market_obs_df[market_obs_df.assetCode.isin(predictions_template_df.assetCode)]\n    \n    X_live = market_obs_df[fcol].values\n    X_live = 1 - ((maxs - X_live) / rng)\n    prep_time += time.time() - t\n    \n    t = time.time()\n    lp = (gbm_1.predict(X_live) + gbm_2.predict(X_live))/2\n    prediction_time += time.time() -t\n    \n    t = time.time()\n    \n    confidence = lp\n    confidence = (confidence-confidence.min())/(confidence.max()-confidence.min())\n    confidence = confidence * 2 - 1\n    \n    preds = pd.DataFrame({'assetCode':market_obs_df['assetCode'],'confidence':confidence})\n    predictions_template_df = predictions_template_df.merge(preds,how='left').drop('confidenceValue',axis=1).fillna(0).rename(columns={'confidence':'confidenceValue'})\n    env.predict(predictions_template_df)\n    packaging_time += time.time() - t\n    \nenv.write_submission_file()\nsub  = pd.read_csv(\"submission.csv\")",
      "execution_count": null,
      "outputs": []
    },
    {
      "metadata": {
        "_uuid": "f189e556fd74e791c965476b07354fadc0ec1d7c",
        "collapsed": true,
        "trusted": false
      },
      "cell_type": "code",
      "source": "",
      "execution_count": null,
      "outputs": []
    }
  ],
  "metadata": {
    "kernelspec": {
      "display_name": "Python 3",
      "language": "python",
      "name": "python3"
    },
    "language_info": {
      "name": "python",
      "version": "3.6.6",
      "mimetype": "text/x-python",
      "codemirror_mode": {
        "name": "ipython",
        "version": 3
      },
      "pygments_lexer": "ipython3",
      "nbconvert_exporter": "python",
      "file_extension": ".py"
    },
    "toc": {
      "base_numbering": 1,
      "nav_menu": {},
      "number_sections": true,
      "sideBar": true,
      "skip_h1_title": false,
      "title_cell": "Table of Contents",
      "title_sidebar": "Contents",
      "toc_cell": true,
      "toc_position": {},
      "toc_section_display": true,
      "toc_window_display": true
    },
    "varInspector": {
      "cols": {
        "lenName": 16,
        "lenType": 16,
        "lenVar": 40
      },
      "kernels_config": {
        "python": {
          "delete_cmd_postfix": "",
          "delete_cmd_prefix": "del ",
          "library": "var_list.py",
          "varRefreshCmd": "print(var_dic_list())"
        },
        "r": {
          "delete_cmd_postfix": ") ",
          "delete_cmd_prefix": "rm(",
          "library": "var_list.r",
          "varRefreshCmd": "cat(var_dic_list()) "
        }
      },
      "types_to_exclude": [
        "module",
        "function",
        "builtin_function_or_method",
        "instance",
        "_Feature"
      ],
      "window_display": false
    }
  },
  "nbformat": 4,
  "nbformat_minor": 1
}