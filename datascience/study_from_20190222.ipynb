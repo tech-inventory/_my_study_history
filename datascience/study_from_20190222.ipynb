{
 "cells": [
  {
   "cell_type": "markdown",
   "metadata": {
    "toc": true
   },
   "source": [
    "<h1>Table of Contents<span class=\"tocSkip\"></span></h1>\n",
    "<div class=\"toc\"><ul class=\"toc-item\"><li><span><a href=\"#2019-02-22\" data-toc-modified-id=\"2019-02-22-1\"><span class=\"toc-item-num\">1&nbsp;&nbsp;</span>2019-02-22</a></span><ul class=\"toc-item\"><li><span><a href=\"#イシュー・アナリシス\" data-toc-modified-id=\"イシュー・アナリシス-1.1\"><span class=\"toc-item-num\">1.1&nbsp;&nbsp;</span>イシュー・アナリシス</a></span></li></ul></li></ul></div>"
   ]
  },
  {
   "cell_type": "markdown",
   "metadata": {},
   "source": [
    "# 2019-02-22\n",
    "## イシュー・アナリシス\n",
    "\n",
    "お題エントリはこちら\n",
    "http://kaz-ataka.hatenablog.com/entry/20081018/1224287687\n",
    "\n",
    "エントリの筆者が米国で研究活動に従事している際に目撃した、「生産性が極めて高い研究者」の特徴が、\n",
    "筆者が外資系戦略コンサルティングで身に着けた手法と共通点が多くて驚いた、という内容である。\n",
    "\n",
    "ロジカルシンキングを自然に身に着けた、試行錯誤を通して独力でその境地に至ったというようだ。\n",
    "\n",
    "* イシューが明確になっている  \n",
    "自分の世界観・展望・視点に基づいた仮説がリストアップされ、体系化されている。  \n",
    "何に対して白黒を付けていけば良いのかが具体的なレベルに落とし込まれている。  \n",
    "```\n",
    "何に対して結論を出してゆくのか＝イシューの項目\n",
    "```\n",
    "であり、そのイシューの項目の質で、問題解決者としての資質が決定されるという。\n",
    "\n",
    "\n",
    "* 仮説ドリブン  \n",
    "プライマリな仮説タイトルの下に、より具体化されたサブ仮説タイトルが数個ぶら下がっている。  \n",
    "各サブ仮説タイトルは、それを支持する裏づけとの対応関係がある。  \n",
    "各サブ仮説は、どうすれば証明されるのか、基準が明確になっている。  \n",
    "\n",
    "\n",
    "* アウトプットドリブン  \n",
    "問題解決のロジックツリーにおいて、その前提が崩れるとロジック全体が崩壊するような重要な仮説から検証してゆく。  \n",
    "大前提となるものから片付けるのである。  \n",
    "実際の結果が出て、それが当初の仮説からずれる事実が見つかったら、それにあわせて仮説タイトルやロジックツリーの見直しに取り組む。  \n",
    "アジャイルに取り組むのであろう。  \n",
    "  \n",
    "    * 各仮説の見切り方  \n",
    "    １～２週間取り組んで、埒が明かない仮説はロジックツリーから取り除く。\n",
    "\n",
    "* メッセージドリブン  \n",
    "裏づけが取れたら、各サブ仮説が意味するものを歯切れの良いテキストで表現する。  \n",
    "「仮説の重要さ」「仮説に取り組んだ理由」「仮説が意味するもの」が明確。\n",
    "\n",
    "\n",
    "ピラミッドストラクチャーというロジック表現がマッチするという。  \n",
    "\n",
    "\n"
   ]
  },
  {
   "cell_type": "code",
   "execution_count": null,
   "metadata": {
    "collapsed": true
   },
   "outputs": [],
   "source": []
  }
 ],
 "metadata": {
  "kernelspec": {
   "display_name": "Python [default]",
   "language": "python",
   "name": "python3"
  },
  "language_info": {
   "codemirror_mode": {
    "name": "ipython",
    "version": 3
   },
   "file_extension": ".py",
   "mimetype": "text/x-python",
   "name": "python",
   "nbconvert_exporter": "python",
   "pygments_lexer": "ipython3",
   "version": "3.5.5"
  },
  "toc": {
   "base_numbering": 1,
   "nav_menu": {},
   "number_sections": true,
   "sideBar": true,
   "skip_h1_title": false,
   "title_cell": "Table of Contents",
   "title_sidebar": "Contents",
   "toc_cell": true,
   "toc_position": {},
   "toc_section_display": true,
   "toc_window_display": true
  },
  "varInspector": {
   "cols": {
    "lenName": 16,
    "lenType": 16,
    "lenVar": 40
   },
   "kernels_config": {
    "python": {
     "delete_cmd_postfix": "",
     "delete_cmd_prefix": "del ",
     "library": "var_list.py",
     "varRefreshCmd": "print(var_dic_list())"
    },
    "r": {
     "delete_cmd_postfix": ") ",
     "delete_cmd_prefix": "rm(",
     "library": "var_list.r",
     "varRefreshCmd": "cat(var_dic_list()) "
    }
   },
   "types_to_exclude": [
    "module",
    "function",
    "builtin_function_or_method",
    "instance",
    "_Feature"
   ],
   "window_display": false
  }
 },
 "nbformat": 4,
 "nbformat_minor": 2
}
