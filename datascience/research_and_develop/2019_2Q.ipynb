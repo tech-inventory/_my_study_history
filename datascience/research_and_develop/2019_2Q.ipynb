{
 "cells": [
  {
   "cell_type": "markdown",
   "metadata": {
    "toc": true
   },
   "source": [
    "<h1>Table of Contents<span class=\"tocSkip\"></span></h1>\n",
    "<div class=\"toc\"><ul class=\"toc-item\"><li><span><a href=\"#概要\" data-toc-modified-id=\"概要-1\"><span class=\"toc-item-num\">1&nbsp;&nbsp;</span>概要</a></span></li><li><span><a href=\"#現在のステータス\" data-toc-modified-id=\"現在のステータス-2\"><span class=\"toc-item-num\">2&nbsp;&nbsp;</span>現在のステータス</a></span></li><li><span><a href=\"#研究開発のネタ\" data-toc-modified-id=\"研究開発のネタ-3\"><span class=\"toc-item-num\">3&nbsp;&nbsp;</span>研究開発のネタ</a></span><ul class=\"toc-item\"><li><span><a href=\"#IoT機器と機械学習のコラボレーション\" data-toc-modified-id=\"IoT機器と機械学習のコラボレーション-3.1\"><span class=\"toc-item-num\">3.1&nbsp;&nbsp;</span>IoT機器と機械学習のコラボレーション</a></span></li></ul></li></ul></div>"
   ]
  },
  {
   "cell_type": "markdown",
   "metadata": {},
   "source": [
    "# 概要\n",
    "2019年2Qの研究開発計画をまとめるノートである。\n",
    "\n",
    "# 現在のステータス\n",
    "研究開発のネタ探しの段階である。  \n",
    "5月中旬には研究テーマを決めて、研究開発に着手したいところである。"
   ]
  },
  {
   "cell_type": "markdown",
   "metadata": {},
   "source": [
    "# 研究開発のネタ\n",
    "\n",
    "\n",
    "\n",
    "## IoT機器と機械学習のコラボレーション\n",
    "\n",
    "* 最新のIoTデバイス上で機械学習を"
   ]
  },
  {
   "cell_type": "code",
   "execution_count": null,
   "metadata": {
    "collapsed": true
   },
   "outputs": [],
   "source": []
  }
 ],
 "metadata": {
  "kernelspec": {
   "display_name": "Python [default]",
   "language": "python",
   "name": "python3"
  },
  "language_info": {
   "codemirror_mode": {
    "name": "ipython",
    "version": 3
   },
   "file_extension": ".py",
   "mimetype": "text/x-python",
   "name": "python",
   "nbconvert_exporter": "python",
   "pygments_lexer": "ipython3",
   "version": "3.5.5"
  },
  "toc": {
   "base_numbering": 1,
   "nav_menu": {},
   "number_sections": true,
   "sideBar": true,
   "skip_h1_title": false,
   "title_cell": "Table of Contents",
   "title_sidebar": "Contents",
   "toc_cell": true,
   "toc_position": {},
   "toc_section_display": true,
   "toc_window_display": true
  },
  "varInspector": {
   "cols": {
    "lenName": 16,
    "lenType": 16,
    "lenVar": 40
   },
   "kernels_config": {
    "python": {
     "delete_cmd_postfix": "",
     "delete_cmd_prefix": "del ",
     "library": "var_list.py",
     "varRefreshCmd": "print(var_dic_list())"
    },
    "r": {
     "delete_cmd_postfix": ") ",
     "delete_cmd_prefix": "rm(",
     "library": "var_list.r",
     "varRefreshCmd": "cat(var_dic_list()) "
    }
   },
   "types_to_exclude": [
    "module",
    "function",
    "builtin_function_or_method",
    "instance",
    "_Feature"
   ],
   "window_display": false
  }
 },
 "nbformat": 4,
 "nbformat_minor": 2
}
